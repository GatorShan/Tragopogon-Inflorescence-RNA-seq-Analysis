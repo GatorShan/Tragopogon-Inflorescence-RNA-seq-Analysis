{
 "cells": [
  {
   "cell_type": "markdown",
   "metadata": {},
   "source": [
    "## 1. Fisher's exact test of the percentage of loci showing nonadditive expression\n",
    "### Short-liguled T. miscellus\n",
    "  - 1,849 loci showed nonadditive expression\n",
    "  - 6,336 loci did not show nonadditive expression\n",
    "\n",
    "### Long-liguled T. miscellus\n",
    "  - 1,344 loci showed nonadditive expression\n",
    "  - 6,944 loci did not show nonadditive expression"
   ]
  },
  {
   "cell_type": "code",
   "execution_count": 1,
   "metadata": {},
   "outputs": [
    {
     "data": {
      "text/html": [
       "<table>\n",
       "<caption>A matrix: 2 × 2 of type dbl</caption>\n",
       "<thead>\n",
       "\t<tr><th></th><th scope=col>Short-liguled Tm</th><th scope=col>Long-liguled Tm</th></tr>\n",
       "</thead>\n",
       "<tbody>\n",
       "\t<tr><th scope=row>Nonadditive</th><td>1849</td><td>1344</td></tr>\n",
       "\t<tr><th scope=row>Did not show nonadditive</th><td>6336</td><td>6944</td></tr>\n",
       "</tbody>\n",
       "</table>\n"
      ],
      "text/latex": [
       "A matrix: 2 × 2 of type dbl\n",
       "\\begin{tabular}{r|ll}\n",
       "  & Short-liguled Tm & Long-liguled Tm\\\\\n",
       "\\hline\n",
       "\tNonadditive & 1849 & 1344\\\\\n",
       "\tDid not show nonadditive & 6336 & 6944\\\\\n",
       "\\end{tabular}\n"
      ],
      "text/markdown": [
       "\n",
       "A matrix: 2 × 2 of type dbl\n",
       "\n",
       "| <!--/--> | Short-liguled Tm | Long-liguled Tm |\n",
       "|---|---|---|\n",
       "| Nonadditive | 1849 | 1344 |\n",
       "| Did not show nonadditive | 6336 | 6944 |\n",
       "\n"
      ],
      "text/plain": [
       "                         Short-liguled Tm Long-liguled Tm\n",
       "Nonadditive              1849             1344           \n",
       "Did not show nonadditive 6336             6944           "
      ]
     },
     "metadata": {},
     "output_type": "display_data"
    },
    {
     "data": {
      "text/plain": [
       "\n",
       "\tFisher's Exact Test for Count Data\n",
       "\n",
       "data:  data\n",
       "p-value < 2.2e-16\n",
       "alternative hypothesis: true odds ratio is not equal to 1\n",
       "95 percent confidence interval:\n",
       " 1.393461 1.631634\n",
       "sample estimates:\n",
       "odds ratio \n",
       "  1.507702 \n"
      ]
     },
     "metadata": {},
     "output_type": "display_data"
    }
   ],
   "source": [
    "data<-matrix(c(1849,6336,1344,6944),ncol=2)\n",
    "colnames(data) <- c(\"Short-liguled Tm\", \"Long-liguled Tm\")\n",
    "rownames(data) <- c(\"Nonadditive\", \"Did not show nonadditive\")\n",
    "data\n",
    "fisher.test(data,alternative=\"two.sided\")"
   ]
  },
  {
   "cell_type": "markdown",
   "metadata": {},
   "source": [
    "## 2. Chi-square goodness-of-fit test of loci showing homeolog expression bias\n",
    "### 2.1 Short-liguled T. miscellus\n",
    "  - 444 loci showed biased homeolog expression toward T. dubius\n",
    "  - 545 loci showed biased homeolog expression toward T. pratensis"
   ]
  },
  {
   "cell_type": "code",
   "execution_count": 2,
   "metadata": {},
   "outputs": [
    {
     "data": {
      "text/plain": [
       "\n",
       "\tChi-squared test for given probabilities\n",
       "\n",
       "data:  obsfreq\n",
       "X-squared = 10.314, df = 1, p-value = 0.00132\n"
      ]
     },
     "metadata": {},
     "output_type": "display_data"
    }
   ],
   "source": [
    "obsfreq <- c(444,545)\n",
    "nullprobs <- c(0.5,0.5)\n",
    "chisq.test(obsfreq,p=nullprobs)"
   ]
  },
  {
   "cell_type": "markdown",
   "metadata": {},
   "source": [
    "### 2.2 Long-liguled T. miscellus\n",
    "  - 416 loci showed biased homeolog expression toward T. dubius\n",
    "  - 515 loci showed biased homeolog expression toward T. pratensis"
   ]
  },
  {
   "cell_type": "code",
   "execution_count": 3,
   "metadata": {},
   "outputs": [
    {
     "data": {
      "text/plain": [
       "\n",
       "\tChi-squared test for given probabilities\n",
       "\n",
       "data:  obsfreq\n",
       "X-squared = 10.527, df = 1, p-value = 0.001176\n"
      ]
     },
     "metadata": {},
     "output_type": "display_data"
    }
   ],
   "source": [
    "obsfreq <- c(416,515)\n",
    "nullprobs <- c(0.5,0.5)\n",
    "chisq.test(obsfreq,p=nullprobs)"
   ]
  },
  {
   "cell_type": "markdown",
   "metadata": {},
   "source": [
    "## 3. Chi-square goodness-of-fit test of loci showing expression level dominance (ELD)\n",
    "### 3.1 Short-liguled T. miscellus\n",
    "  - 506 loci showed ELD toward T. dubius\n",
    "  - 590 loci showed ELD toward T. pratensis"
   ]
  },
  {
   "cell_type": "code",
   "execution_count": 4,
   "metadata": {},
   "outputs": [
    {
     "data": {
      "text/plain": [
       "\n",
       "\tChi-squared test for given probabilities\n",
       "\n",
       "data:  obsfreq\n",
       "X-squared = 6.438, df = 1, p-value = 0.01117\n"
      ]
     },
     "metadata": {},
     "output_type": "display_data"
    }
   ],
   "source": [
    "obsfreq <- c(506,590)\n",
    "nullprobs <- c(0.5,0.5)\n",
    "chisq.test(obsfreq,p=nullprobs)"
   ]
  },
  {
   "cell_type": "markdown",
   "metadata": {},
   "source": [
    "### 3.2 Long-liguled T. miscellus\n",
    "  - 394 loci showed ELD toward T. dubius\n",
    "  - 519 loci showed ELD toward T. pratensis"
   ]
  },
  {
   "cell_type": "code",
   "execution_count": 5,
   "metadata": {},
   "outputs": [
    {
     "data": {
      "text/plain": [
       "\n",
       "\tChi-squared test for given probabilities\n",
       "\n",
       "data:  obsfreq\n",
       "X-squared = 17.114, df = 1, p-value = 3.52e-05\n"
      ]
     },
     "metadata": {},
     "output_type": "display_data"
    }
   ],
   "source": [
    "obsfreq <- c(394,519)\n",
    "nullprobs <- c(0.5,0.5)\n",
    "chisq.test(obsfreq,p=nullprobs)"
   ]
  },
  {
   "cell_type": "markdown",
   "metadata": {},
   "source": [
    "## 4. Fisher's exact test of the percentage of loci showing parental legacy\n",
    "### Short-liguled T. miscellus\n",
    "  - 3,353 loci showed parental legacy\n",
    "  - 1,531 loci did NOT show paretal legacy\n",
    "\n",
    "### Long-liguled T. miscellus\n",
    "  - 3,402 loci showed parental legacy\n",
    "  - 1,509 loci did NOT show parental legacy"
   ]
  },
  {
   "cell_type": "code",
   "execution_count": 6,
   "metadata": {},
   "outputs": [
    {
     "data": {
      "text/html": [
       "<table>\n",
       "<caption>A matrix: 2 × 2 of type dbl</caption>\n",
       "<thead>\n",
       "\t<tr><th></th><th scope=col>Short-liguled Tm</th><th scope=col>Long-liguled Tm</th></tr>\n",
       "</thead>\n",
       "<tbody>\n",
       "\t<tr><th scope=row>Parental legacy</th><td>3353</td><td>3402</td></tr>\n",
       "\t<tr><th scope=row>NOT parental legacy</th><td>1531</td><td>1509</td></tr>\n",
       "</tbody>\n",
       "</table>\n"
      ],
      "text/latex": [
       "A matrix: 2 × 2 of type dbl\n",
       "\\begin{tabular}{r|ll}\n",
       "  & Short-liguled Tm & Long-liguled Tm\\\\\n",
       "\\hline\n",
       "\tParental legacy & 3353 & 3402\\\\\n",
       "\tNOT parental legacy & 1531 & 1509\\\\\n",
       "\\end{tabular}\n"
      ],
      "text/markdown": [
       "\n",
       "A matrix: 2 × 2 of type dbl\n",
       "\n",
       "| <!--/--> | Short-liguled Tm | Long-liguled Tm |\n",
       "|---|---|---|\n",
       "| Parental legacy | 3353 | 3402 |\n",
       "| NOT parental legacy | 1531 | 1509 |\n",
       "\n"
      ],
      "text/plain": [
       "                    Short-liguled Tm Long-liguled Tm\n",
       "Parental legacy     3353             3402           \n",
       "NOT parental legacy 1531             1509           "
      ]
     },
     "metadata": {},
     "output_type": "display_data"
    },
    {
     "data": {
      "text/plain": [
       "\n",
       "\tFisher's Exact Test for Count Data\n",
       "\n",
       "data:  data\n",
       "p-value = 0.5124\n",
       "alternative hypothesis: true odds ratio is not equal to 1\n",
       "95 percent confidence interval:\n",
       " 0.8908979 1.0592828\n",
       "sample estimates:\n",
       "odds ratio \n",
       " 0.9714272 \n"
      ]
     },
     "metadata": {},
     "output_type": "display_data"
    }
   ],
   "source": [
    "data<-matrix(c(3353,1531,3402,1509),ncol=2)\n",
    "colnames(data) <- c(\"Short-liguled Tm\", \"Long-liguled Tm\")\n",
    "rownames(data) <- c(\"Parental legacy\", \"NOT parental legacy\")\n",
    "data\n",
    "fisher.test(data,alternative=\"two.sided\")"
   ]
  },
  {
   "cell_type": "markdown",
   "metadata": {},
   "source": [
    "## 5. Fisher's exact test of the percentage of loci showing absence of homeolog expression bias\n",
    "### Short-liguled T. miscellus\n",
    "  - 703 loci showed absence of homeolog expression bias\n",
    "  - 4,181 loci did NOT show absence of homeolog expression bias\n",
    "\n",
    "### Long-liguled T. miscellus\n",
    "  - 729 loci showed absence of homeolog expression bias\n",
    "  - 4,182 loci did NOT show absence of homeolog expression bias"
   ]
  },
  {
   "cell_type": "code",
   "execution_count": 7,
   "metadata": {},
   "outputs": [
    {
     "data": {
      "text/html": [
       "<table>\n",
       "<caption>A matrix: 2 × 2 of type dbl</caption>\n",
       "<thead>\n",
       "\t<tr><th></th><th scope=col>Short-liguled Tm</th><th scope=col>Long-liguled Tm</th></tr>\n",
       "</thead>\n",
       "<tbody>\n",
       "\t<tr><th scope=row>Absence of homeolog expression bias</th><td> 703</td><td> 729</td></tr>\n",
       "\t<tr><th scope=row>NOT absence of homeolog expression bias</th><td>4181</td><td>4182</td></tr>\n",
       "</tbody>\n",
       "</table>\n"
      ],
      "text/latex": [
       "A matrix: 2 × 2 of type dbl\n",
       "\\begin{tabular}{r|ll}\n",
       "  & Short-liguled Tm & Long-liguled Tm\\\\\n",
       "\\hline\n",
       "\tAbsence of homeolog expression bias &  703 &  729\\\\\n",
       "\tNOT absence of homeolog expression bias & 4181 & 4182\\\\\n",
       "\\end{tabular}\n"
      ],
      "text/markdown": [
       "\n",
       "A matrix: 2 × 2 of type dbl\n",
       "\n",
       "| <!--/--> | Short-liguled Tm | Long-liguled Tm |\n",
       "|---|---|---|\n",
       "| Absence of homeolog expression bias |  703 |  729 |\n",
       "| NOT absence of homeolog expression bias | 4181 | 4182 |\n",
       "\n"
      ],
      "text/plain": [
       "                                        Short-liguled Tm Long-liguled Tm\n",
       "Absence of homeolog expression bias      703              729           \n",
       "NOT absence of homeolog expression bias 4181             4182           "
      ]
     },
     "metadata": {},
     "output_type": "display_data"
    },
    {
     "data": {
      "text/plain": [
       "\n",
       "\tFisher's Exact Test for Count Data\n",
       "\n",
       "data:  data\n",
       "p-value = 0.5294\n",
       "alternative hypothesis: true odds ratio is not equal to 1\n",
       "95 percent confidence interval:\n",
       " 0.860822 1.080776\n",
       "sample estimates:\n",
       "odds ratio \n",
       " 0.9645576 \n"
      ]
     },
     "metadata": {},
     "output_type": "display_data"
    }
   ],
   "source": [
    "data<-matrix(c(703,4181,729,4182),ncol=2)\n",
    "colnames(data) <- c(\"Short-liguled Tm\", \"Long-liguled Tm\")\n",
    "rownames(data) <- c(\"Absence of homeolog expression bias\", \"NOT absence of homeolog expression bias\")\n",
    "data\n",
    "fisher.test(data,alternative=\"two.sided\")"
   ]
  },
  {
   "cell_type": "markdown",
   "metadata": {},
   "source": [
    "## 6. Fisher's exact test of the percentage of loci showing novel homeolog expression bias\n",
    "### Short-liguled T. miscellus\n",
    "  - 828 loci showed novel homeolog expression bias\n",
    "  - 4,056 loci did NOT show novel homeolog expression bias\n",
    "\n",
    "### Long-liguled T. miscellus\n",
    "  - 780 loci showed novel homeolog expression bias\n",
    "  - 4,131 loci did NOT show novel homeolog expression bias"
   ]
  },
  {
   "cell_type": "code",
   "execution_count": 8,
   "metadata": {},
   "outputs": [
    {
     "data": {
      "text/html": [
       "<table>\n",
       "<caption>A matrix: 2 × 2 of type dbl</caption>\n",
       "<thead>\n",
       "\t<tr><th></th><th scope=col>Short-liguled Tm</th><th scope=col>Long-liguled Tm</th></tr>\n",
       "</thead>\n",
       "<tbody>\n",
       "\t<tr><th scope=row>Novel homeolog expression bias</th><td> 828</td><td> 780</td></tr>\n",
       "\t<tr><th scope=row>NOT novel homeolog expression bias</th><td>4056</td><td>4131</td></tr>\n",
       "</tbody>\n",
       "</table>\n"
      ],
      "text/latex": [
       "A matrix: 2 × 2 of type dbl\n",
       "\\begin{tabular}{r|ll}\n",
       "  & Short-liguled Tm & Long-liguled Tm\\\\\n",
       "\\hline\n",
       "\tNovel homeolog expression bias &  828 &  780\\\\\n",
       "\tNOT novel homeolog expression bias & 4056 & 4131\\\\\n",
       "\\end{tabular}\n"
      ],
      "text/markdown": [
       "\n",
       "A matrix: 2 × 2 of type dbl\n",
       "\n",
       "| <!--/--> | Short-liguled Tm | Long-liguled Tm |\n",
       "|---|---|---|\n",
       "| Novel homeolog expression bias |  828 |  780 |\n",
       "| NOT novel homeolog expression bias | 4056 | 4131 |\n",
       "\n"
      ],
      "text/plain": [
       "                                   Short-liguled Tm Long-liguled Tm\n",
       "Novel homeolog expression bias      828              780           \n",
       "NOT novel homeolog expression bias 4056             4131           "
      ]
     },
     "metadata": {},
     "output_type": "display_data"
    },
    {
     "data": {
      "text/plain": [
       "\n",
       "\tFisher's Exact Test for Count Data\n",
       "\n",
       "data:  data\n",
       "p-value = 0.1561\n",
       "alternative hypothesis: true odds ratio is not equal to 1\n",
       "95 percent confidence interval:\n",
       " 0.9700776 1.2050256\n",
       "sample estimates:\n",
       "odds ratio \n",
       "  1.081145 \n"
      ]
     },
     "metadata": {},
     "output_type": "display_data"
    }
   ],
   "source": [
    "data<-matrix(c(828,4056,780,4131),ncol=2)\n",
    "colnames(data) <- c(\"Short-liguled Tm\", \"Long-liguled Tm\")\n",
    "rownames(data) <- c(\"Novel homeolog expression bias\", \"NOT novel homeolog expression bias\")\n",
    "data\n",
    "fisher.test(data,alternative=\"two.sided\")"
   ]
  },
  {
   "cell_type": "markdown",
   "metadata": {},
   "source": [
    "## 7. Fisher's exact test of the percentage of loci showing unbiased homeolog expression\n",
    "### Short-liguled T. miscellus\n",
    "  - 3,895 loci showed unbiased homeolog expression\n",
    "  - 989 loci showed biased homeolog expression\n",
    "\n",
    "### Long-liguled T. miscellus\n",
    "  - 3,980 loci showed unbiased homeolog expression\n",
    "  - 931 loci showed biased homeolog expression"
   ]
  },
  {
   "cell_type": "code",
   "execution_count": 9,
   "metadata": {},
   "outputs": [
    {
     "data": {
      "text/html": [
       "<table>\n",
       "<caption>A matrix: 2 × 2 of type dbl</caption>\n",
       "<thead>\n",
       "\t<tr><th></th><th scope=col>Short-liguled Tm</th><th scope=col>Long-liguled Tm</th></tr>\n",
       "</thead>\n",
       "<tbody>\n",
       "\t<tr><th scope=row>Unbiased homeolog expression</th><td>3895</td><td>3980</td></tr>\n",
       "\t<tr><th scope=row>Biased homeolog expression</th><td> 989</td><td> 931</td></tr>\n",
       "</tbody>\n",
       "</table>\n"
      ],
      "text/latex": [
       "A matrix: 2 × 2 of type dbl\n",
       "\\begin{tabular}{r|ll}\n",
       "  & Short-liguled Tm & Long-liguled Tm\\\\\n",
       "\\hline\n",
       "\tUnbiased homeolog expression & 3895 & 3980\\\\\n",
       "\tBiased homeolog expression &  989 &  931\\\\\n",
       "\\end{tabular}\n"
      ],
      "text/markdown": [
       "\n",
       "A matrix: 2 × 2 of type dbl\n",
       "\n",
       "| <!--/--> | Short-liguled Tm | Long-liguled Tm |\n",
       "|---|---|---|\n",
       "| Unbiased homeolog expression | 3895 | 3980 |\n",
       "| Biased homeolog expression |  989 |  931 |\n",
       "\n"
      ],
      "text/plain": [
       "                             Short-liguled Tm Long-liguled Tm\n",
       "Unbiased homeolog expression 3895             3980           \n",
       "Biased homeolog expression    989              931           "
      ]
     },
     "metadata": {},
     "output_type": "display_data"
    },
    {
     "data": {
      "text/plain": [
       "\n",
       "\tFisher's Exact Test for Count Data\n",
       "\n",
       "data:  data\n",
       "p-value = 0.1089\n",
       "alternative hypothesis: true odds ratio is not equal to 1\n",
       "95 percent confidence interval:\n",
       " 0.8326455 1.0192550\n",
       "sample estimates:\n",
       "odds ratio \n",
       " 0.9212634 \n"
      ]
     },
     "metadata": {},
     "output_type": "display_data"
    }
   ],
   "source": [
    "data<-matrix(c(3895,989,3980,931),ncol=2)\n",
    "colnames(data) <- c(\"Short-liguled Tm\", \"Long-liguled Tm\")\n",
    "rownames(data) <- c(\"Unbiased homeolog expression\", \"Biased homeolog expression\")\n",
    "data\n",
    "fisher.test(data,alternative=\"two.sided\")"
   ]
  },
  {
   "cell_type": "markdown",
   "metadata": {},
   "source": [
    "## 8. Fisher's exact test of the percentage of loci biased to T. dubius (Tdu)\n",
    "### Short-liguled T. miscellus\n",
    "  - 444 loci showed bias to Tdu\n",
    "  - 4,440 loci did NOT bias to Tdu\n",
    "\n",
    "### Long-liguled T. miscellus\n",
    "  - 416 loci showed bias to Tdu\n",
    "  - 4,495 loci did NOT bias to Tdu"
   ]
  },
  {
   "cell_type": "code",
   "execution_count": 10,
   "metadata": {},
   "outputs": [
    {
     "data": {
      "text/html": [
       "<table>\n",
       "<caption>A matrix: 2 × 2 of type dbl</caption>\n",
       "<thead>\n",
       "\t<tr><th></th><th scope=col>Short-liguled Tm</th><th scope=col>Long-liguled Tm</th></tr>\n",
       "</thead>\n",
       "<tbody>\n",
       "\t<tr><th scope=row>Bias to Tdu</th><td> 444</td><td> 416</td></tr>\n",
       "\t<tr><th scope=row>Not bias to Tdu</th><td>4440</td><td>4495</td></tr>\n",
       "</tbody>\n",
       "</table>\n"
      ],
      "text/latex": [
       "A matrix: 2 × 2 of type dbl\n",
       "\\begin{tabular}{r|ll}\n",
       "  & Short-liguled Tm & Long-liguled Tm\\\\\n",
       "\\hline\n",
       "\tBias to Tdu &  444 &  416\\\\\n",
       "\tNot bias to Tdu & 4440 & 4495\\\\\n",
       "\\end{tabular}\n"
      ],
      "text/markdown": [
       "\n",
       "A matrix: 2 × 2 of type dbl\n",
       "\n",
       "| <!--/--> | Short-liguled Tm | Long-liguled Tm |\n",
       "|---|---|---|\n",
       "| Bias to Tdu |  444 |  416 |\n",
       "| Not bias to Tdu | 4440 | 4495 |\n",
       "\n"
      ],
      "text/plain": [
       "                Short-liguled Tm Long-liguled Tm\n",
       "Bias to Tdu      444              416           \n",
       "Not bias to Tdu 4440             4495           "
      ]
     },
     "metadata": {},
     "output_type": "display_data"
    },
    {
     "data": {
      "text/plain": [
       "\n",
       "\tFisher's Exact Test for Count Data\n",
       "\n",
       "data:  data\n",
       "p-value = 0.2842\n",
       "alternative hypothesis: true odds ratio is not equal to 1\n",
       "95 percent confidence interval:\n",
       " 0.9370426 1.2461811\n",
       "sample estimates:\n",
       "odds ratio \n",
       "  1.080498 \n"
      ]
     },
     "metadata": {},
     "output_type": "display_data"
    }
   ],
   "source": [
    "data<-matrix(c(444,4440,416,4495),ncol=2)\n",
    "colnames(data) <- c(\"Short-liguled Tm\", \"Long-liguled Tm\")\n",
    "rownames(data) <- c(\"Bias to Tdu\", \"Not bias to Tdu\")\n",
    "data\n",
    "fisher.test(data,alternative=\"two.sided\")"
   ]
  },
  {
   "cell_type": "markdown",
   "metadata": {},
   "source": [
    "## 9. Fisher's exact test of the percentage of loci biased to T. pratensis (Tpr)\n",
    "### Short-liguled T. miscellus\n",
    "  - 545 loci showed bias to Tpr\n",
    "  - 4,339 loci did NOT bias to Tpr\n",
    "\n",
    "### Long-liguled T. miscellus\n",
    "  - 515 loci showed bias to Tpr\n",
    "  - 4,396 loci did NOT bias to Tpr"
   ]
  },
  {
   "cell_type": "code",
   "execution_count": 11,
   "metadata": {},
   "outputs": [
    {
     "data": {
      "text/html": [
       "<table>\n",
       "<caption>A matrix: 2 × 2 of type dbl</caption>\n",
       "<thead>\n",
       "\t<tr><th></th><th scope=col>Short-liguled Tm</th><th scope=col>Long-liguled Tm</th></tr>\n",
       "</thead>\n",
       "<tbody>\n",
       "\t<tr><th scope=row>Bias to Tpr</th><td> 545</td><td> 515</td></tr>\n",
       "\t<tr><th scope=row>Not bias to Tpr</th><td>4339</td><td>4396</td></tr>\n",
       "</tbody>\n",
       "</table>\n"
      ],
      "text/latex": [
       "A matrix: 2 × 2 of type dbl\n",
       "\\begin{tabular}{r|ll}\n",
       "  & Short-liguled Tm & Long-liguled Tm\\\\\n",
       "\\hline\n",
       "\tBias to Tpr &  545 &  515\\\\\n",
       "\tNot bias to Tpr & 4339 & 4396\\\\\n",
       "\\end{tabular}\n"
      ],
      "text/markdown": [
       "\n",
       "A matrix: 2 × 2 of type dbl\n",
       "\n",
       "| <!--/--> | Short-liguled Tm | Long-liguled Tm |\n",
       "|---|---|---|\n",
       "| Bias to Tpr |  545 |  515 |\n",
       "| Not bias to Tpr | 4339 | 4396 |\n",
       "\n"
      ],
      "text/plain": [
       "                Short-liguled Tm Long-liguled Tm\n",
       "Bias to Tpr      545              515           \n",
       "Not bias to Tpr 4339             4396           "
      ]
     },
     "metadata": {},
     "output_type": "display_data"
    },
    {
     "data": {
      "text/plain": [
       "\n",
       "\tFisher's Exact Test for Count Data\n",
       "\n",
       "data:  data\n",
       "p-value = 0.298\n",
       "alternative hypothesis: true odds ratio is not equal to 1\n",
       "95 percent confidence interval:\n",
       " 0.9418254 1.2205988\n",
       "sample estimates:\n",
       "odds ratio \n",
       "  1.072118 \n"
      ]
     },
     "metadata": {},
     "output_type": "display_data"
    }
   ],
   "source": [
    "data<-matrix(c(545,4339,515,4396),ncol=2)\n",
    "colnames(data) <- c(\"Short-liguled Tm\", \"Long-liguled Tm\")\n",
    "rownames(data) <- c(\"Bias to Tpr\", \"Not bias to Tpr\")\n",
    "data\n",
    "fisher.test(data,alternative=\"two.sided\")"
   ]
  },
  {
   "cell_type": "code",
   "execution_count": null,
   "metadata": {},
   "outputs": [],
   "source": []
  }
 ],
 "metadata": {
  "kernelspec": {
   "display_name": "R 3.6 (full)",
   "language": "R",
   "name": "ir-ufrc-3.6"
  },
  "language_info": {
   "codemirror_mode": "r",
   "file_extension": ".r",
   "mimetype": "text/x-r-source",
   "name": "R",
   "pygments_lexer": "r",
   "version": "3.6.3"
  }
 },
 "nbformat": 4,
 "nbformat_minor": 4
}
