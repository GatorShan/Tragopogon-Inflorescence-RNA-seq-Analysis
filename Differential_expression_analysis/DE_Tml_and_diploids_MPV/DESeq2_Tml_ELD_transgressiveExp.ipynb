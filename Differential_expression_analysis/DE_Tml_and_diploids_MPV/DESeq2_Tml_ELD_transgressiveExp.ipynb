{
 "cells": [
  {
   "cell_type": "markdown",
   "metadata": {},
   "source": [
    "## This script is used for expression-level dominant (ELD) and transgressive expression analysis in long-liguled T. miscellus (Tml)"
   ]
  },
  {
   "cell_type": "code",
   "execution_count": 1,
   "metadata": {},
   "outputs": [],
   "source": [
    "import pandas as pd\n",
    "import os"
   ]
  },
  {
   "cell_type": "code",
   "execution_count": 2,
   "metadata": {},
   "outputs": [],
   "source": [
    "os.chdir(\"/ufrc/soltis/shan158538/TragFL_NewAnalysis/OutPut/DE_analysis/Additive_expression_Tml/\")"
   ]
  },
  {
   "cell_type": "markdown",
   "metadata": {},
   "source": [
    "### 1. Transgressive expression analysis"
   ]
  },
  {
   "cell_type": "code",
   "execution_count": 3,
   "metadata": {},
   "outputs": [],
   "source": [
    "## Input files\n",
    "nonAdditive = pd.read_table(\"DESeq2_Tml_nonAdditive_loci.txt\", sep = \"\\t\")\n",
    "DE_Tml_higher_than_Tdu = pd.read_table(\"DESeq2_DE_loci_Tml_higher_than_Tdu.txt\", sep = \"\\t\")\n",
    "DE_Tml_higher_than_Tpr = pd.read_table(\"DESeq2_DE_loci_Tml_higher_than_Tpr.txt\", sep = \"\\t\")\n",
    "\n",
    "DE_Tdu_higher_than_Tml = pd.read_table(\"DESeq2_DE_loci_Tdu_higher_than_Tml.txt\", sep = \"\\t\")\n",
    "DE_Tpr_higher_than_Tml = pd.read_table(\"DESeq2_DE_loci_Tpr_higher_than_Tml.txt\", sep = \"\\t\")"
   ]
  },
  {
   "cell_type": "code",
   "execution_count": 4,
   "metadata": {},
   "outputs": [
    {
     "data": {
      "text/html": [
       "<div>\n",
       "<style scoped>\n",
       "    .dataframe tbody tr th:only-of-type {\n",
       "        vertical-align: middle;\n",
       "    }\n",
       "\n",
       "    .dataframe tbody tr th {\n",
       "        vertical-align: top;\n",
       "    }\n",
       "\n",
       "    .dataframe thead th {\n",
       "        text-align: right;\n",
       "    }\n",
       "</style>\n",
       "<table border=\"1\" class=\"dataframe\">\n",
       "  <thead>\n",
       "    <tr style=\"text-align: right;\">\n",
       "      <th></th>\n",
       "      <th>baseMean</th>\n",
       "      <th>log2FoldChange</th>\n",
       "      <th>lfcSE</th>\n",
       "      <th>stat</th>\n",
       "      <th>pvalue</th>\n",
       "      <th>padj</th>\n",
       "    </tr>\n",
       "  </thead>\n",
       "  <tbody>\n",
       "    <tr>\n",
       "      <th>Tpr_TRINITY_DN1451_c0_g1|Tdu_TRINITY_DN16990_c3_g1</th>\n",
       "      <td>103.883699</td>\n",
       "      <td>-0.679009</td>\n",
       "      <td>0.224905</td>\n",
       "      <td>-3.019089</td>\n",
       "      <td>0.002535</td>\n",
       "      <td>0.028670</td>\n",
       "    </tr>\n",
       "    <tr>\n",
       "      <th>Tpr_TRINITY_DN12798_c2_g2|Tdu_TRINITY_DN24179_c2_g3</th>\n",
       "      <td>53.687590</td>\n",
       "      <td>0.832442</td>\n",
       "      <td>0.276233</td>\n",
       "      <td>3.013550</td>\n",
       "      <td>0.002582</td>\n",
       "      <td>0.029052</td>\n",
       "    </tr>\n",
       "    <tr>\n",
       "      <th>Tpr_TRINITY_DN11712_c1_g8|Tdu_TRINITY_DN19492_c0_g1</th>\n",
       "      <td>439.879994</td>\n",
       "      <td>-0.978814</td>\n",
       "      <td>0.200368</td>\n",
       "      <td>-4.885075</td>\n",
       "      <td>0.000001</td>\n",
       "      <td>0.000084</td>\n",
       "    </tr>\n",
       "    <tr>\n",
       "      <th>Tpr_TRINITY_DN14614_c1_g6|Tdu_TRINITY_DN1401_c0_g1</th>\n",
       "      <td>71.441805</td>\n",
       "      <td>-1.254308</td>\n",
       "      <td>0.371474</td>\n",
       "      <td>-3.376567</td>\n",
       "      <td>0.000734</td>\n",
       "      <td>0.012264</td>\n",
       "    </tr>\n",
       "    <tr>\n",
       "      <th>Tpr_TRINITY_DN13868_c2_g1|Tdu_TRINITY_DN24297_c1_g3</th>\n",
       "      <td>16.868174</td>\n",
       "      <td>1.321291</td>\n",
       "      <td>0.452335</td>\n",
       "      <td>2.921043</td>\n",
       "      <td>0.003489</td>\n",
       "      <td>0.035224</td>\n",
       "    </tr>\n",
       "  </tbody>\n",
       "</table>\n",
       "</div>"
      ],
      "text/plain": [
       "                                                      baseMean    ...         padj\n",
       "Tpr_TRINITY_DN1451_c0_g1|Tdu_TRINITY_DN16990_c3_g1  103.883699    ...     0.028670\n",
       "Tpr_TRINITY_DN12798_c2_g2|Tdu_TRINITY_DN24179_c...   53.687590    ...     0.029052\n",
       "Tpr_TRINITY_DN11712_c1_g8|Tdu_TRINITY_DN19492_c...  439.879994    ...     0.000084\n",
       "Tpr_TRINITY_DN14614_c1_g6|Tdu_TRINITY_DN1401_c0_g1   71.441805    ...     0.012264\n",
       "Tpr_TRINITY_DN13868_c2_g1|Tdu_TRINITY_DN24297_c...   16.868174    ...     0.035224\n",
       "\n",
       "[5 rows x 6 columns]"
      ]
     },
     "execution_count": 4,
     "metadata": {},
     "output_type": "execute_result"
    }
   ],
   "source": [
    "nonAdditive.head()"
   ]
  },
  {
   "cell_type": "code",
   "execution_count": 5,
   "metadata": {},
   "outputs": [],
   "source": [
    "## Intersections\n",
    "## Tml higher than both Tdu and Tpr\n",
    "nonAdditive_Tml_higher_than_Tdu = pd.merge(nonAdditive, \n",
    "                                           DE_Tml_higher_than_Tdu, how='inner', \n",
    "                                           left_index=True, right_index=True)\n",
    "nonAdditive_Tml_higher_than_Tdu_and_Tpr = pd.merge(nonAdditive_Tml_higher_than_Tdu, \n",
    "                                                   DE_Tml_higher_than_Tpr, \n",
    "                                                   how='inner', left_index=True, right_index=True)"
   ]
  },
  {
   "cell_type": "code",
   "execution_count": 6,
   "metadata": {},
   "outputs": [
    {
     "data": {
      "text/plain": [
       "(180, 18)"
      ]
     },
     "execution_count": 6,
     "metadata": {},
     "output_type": "execute_result"
    }
   ],
   "source": [
    "nonAdditive_Tml_higher_than_Tdu_and_Tpr.shape"
   ]
  },
  {
   "cell_type": "code",
   "execution_count": 7,
   "metadata": {},
   "outputs": [],
   "source": [
    "## Intersections\n",
    "## Tml lower than both Tdu and Tpr\n",
    "nonAdditive_Tml_lower_than_Tdu = pd.merge(nonAdditive, \n",
    "                                          DE_Tdu_higher_than_Tml, how='inner', \n",
    "                                          left_index=True, right_index=True)\n",
    "nonAdditive_Tml_lower_than_Tdu_and_Tpr = pd.merge(nonAdditive_Tml_lower_than_Tdu, \n",
    "                                                  DE_Tpr_higher_than_Tml, \n",
    "                                                  how='inner', left_index=True, right_index=True)"
   ]
  },
  {
   "cell_type": "code",
   "execution_count": 8,
   "metadata": {},
   "outputs": [
    {
     "data": {
      "text/plain": [
       "(247, 18)"
      ]
     },
     "execution_count": 8,
     "metadata": {},
     "output_type": "execute_result"
    }
   ],
   "source": [
    "nonAdditive_Tml_lower_than_Tdu_and_Tpr.shape"
   ]
  },
  {
   "cell_type": "code",
   "execution_count": 9,
   "metadata": {},
   "outputs": [],
   "source": [
    "## Write out\n",
    "nonAdditive_Tml_higher_than_Tdu_and_Tpr.to_csv(\"Tml_transgressive_higher.txt\", columns=[], header=False)\n",
    "nonAdditive_Tml_lower_than_Tdu_and_Tpr.to_csv(\"Tml_transgressive_lower.txt\", columns=[], header=False)"
   ]
  },
  {
   "cell_type": "markdown",
   "metadata": {},
   "source": [
    "**180** loci are transgressively higher expressed in Tml\n",
    "\n",
    "**247** loci are transgressively lower expressed in Tml"
   ]
  },
  {
   "cell_type": "markdown",
   "metadata": {},
   "source": [
    "### 2. Expression-level dominant"
   ]
  },
  {
   "cell_type": "code",
   "execution_count": 10,
   "metadata": {},
   "outputs": [],
   "source": [
    "## Inputfiles\n",
    "DE_Tdu_higher_than_Tpr = pd.read_table(\"DESeq2_DE_loci_Tdu_higher.txt\", sep = \"\\t\")\n",
    "DE_Tpr_higher_than_Tdu = pd.read_table(\"DESeq2_DE_loci_Tpr_higher.txt\", sep = \"\\t\")\n",
    "Tml_same_as_Tdu = pd.read_table(\"DESeq2_noneDE_loci_Tml_Tdu.txt\", sep = \"\\t\")\n",
    "Tml_same_as_Tpr = pd.read_table(\"DESeq2_noneDE_loci_Tml_Tpr.txt\", sep = \"\\t\")"
   ]
  },
  {
   "cell_type": "code",
   "execution_count": 11,
   "metadata": {},
   "outputs": [],
   "source": [
    "## Intersections\n",
    "## Expression-level dominant of Tdu\n",
    "nonAdditive_ELDofTdu = pd.merge(nonAdditive, Tml_same_as_Tdu, how='inner', left_index=True, right_index=True)\n",
    "nonAdditive_ELDofTdu_TduHigher = pd.merge(nonAdditive_ELDofTdu, DE_Tdu_higher_than_Tpr, how='inner', left_index=True, right_index=True)\n",
    "nonAdditive_ELDofTdu_TprHigher = pd.merge(nonAdditive_ELDofTdu, DE_Tpr_higher_than_Tdu, how='inner', left_index=True, right_index=True)"
   ]
  },
  {
   "cell_type": "code",
   "execution_count": 12,
   "metadata": {},
   "outputs": [
    {
     "data": {
      "text/plain": [
       "(62, 18)"
      ]
     },
     "execution_count": 12,
     "metadata": {},
     "output_type": "execute_result"
    }
   ],
   "source": [
    "nonAdditive_ELDofTdu_TduHigher.shape"
   ]
  },
  {
   "cell_type": "code",
   "execution_count": 13,
   "metadata": {},
   "outputs": [
    {
     "data": {
      "text/plain": [
       "(45, 18)"
      ]
     },
     "execution_count": 13,
     "metadata": {},
     "output_type": "execute_result"
    }
   ],
   "source": [
    "nonAdditive_ELDofTdu_TprHigher.shape"
   ]
  },
  {
   "cell_type": "code",
   "execution_count": 14,
   "metadata": {},
   "outputs": [],
   "source": [
    "## Intersections\n",
    "## Expression-level dominant of Tpr\n",
    "nonAdditive_ELDofTpr = pd.merge(nonAdditive, Tml_same_as_Tpr, how='inner', left_index=True, right_index=True)\n",
    "nonAdditive_ELDofTpr_TduHigher = pd.merge(nonAdditive_ELDofTpr, DE_Tdu_higher_than_Tpr, how='inner', left_index=True, right_index=True)\n",
    "nonAdditive_ELDofTpr_TprHigher = pd.merge(nonAdditive_ELDofTpr, DE_Tpr_higher_than_Tdu, how='inner', left_index=True, right_index=True)"
   ]
  },
  {
   "cell_type": "code",
   "execution_count": 15,
   "metadata": {},
   "outputs": [
    {
     "data": {
      "text/plain": [
       "(58, 18)"
      ]
     },
     "execution_count": 15,
     "metadata": {},
     "output_type": "execute_result"
    }
   ],
   "source": [
    "nonAdditive_ELDofTpr_TduHigher.shape"
   ]
  },
  {
   "cell_type": "code",
   "execution_count": 16,
   "metadata": {},
   "outputs": [
    {
     "data": {
      "text/plain": [
       "(61, 18)"
      ]
     },
     "execution_count": 16,
     "metadata": {},
     "output_type": "execute_result"
    }
   ],
   "source": [
    "nonAdditive_ELDofTpr_TprHigher.shape"
   ]
  },
  {
   "cell_type": "code",
   "execution_count": 17,
   "metadata": {},
   "outputs": [],
   "source": [
    "## Write out\n",
    "nonAdditive_ELDofTdu_TduHigher.to_csv(\"Tml_ELDofTdu_TduHigher.txt\", columns=[], header=False)\n",
    "nonAdditive_ELDofTdu_TprHigher.to_csv(\"Tml_ELDofTdu_TprHigher.txt\", columns=[], header=False)\n",
    "\n",
    "nonAdditive_ELDofTpr_TduHigher.to_csv(\"Tml_ELDofTpr_TduHigher.txt\", columns=[], header=False)\n",
    "nonAdditive_ELDofTpr_TprHigher.to_csv(\"Tml_ELDofTpr_TprHigher.txt\", columns=[], header=False)"
   ]
  },
  {
   "cell_type": "markdown",
   "metadata": {},
   "source": [
    "**62** loci showed ELD of Tdu with higher expression in Tdu than Tpr\n",
    "\n",
    "**45** loci showed ELD of Tdu with higher expression in Tpr than Tdu\n",
    "\n",
    "**58** loci showed ELD of Tpr with higher expression in Tdu than Tpr\n",
    "\n",
    "**61** loci showed ELD of Tpr with higher expression in Tpr than Tdu"
   ]
  },
  {
   "cell_type": "code",
   "execution_count": null,
   "metadata": {},
   "outputs": [],
   "source": []
  }
 ],
 "metadata": {
  "kernelspec": {
   "display_name": "Python 3.6. (full)",
   "language": "python",
   "name": "python3-3.6-ufrc"
  },
  "language_info": {
   "codemirror_mode": {
    "name": "ipython",
    "version": 3
   },
   "file_extension": ".py",
   "mimetype": "text/x-python",
   "name": "python",
   "nbconvert_exporter": "python",
   "pygments_lexer": "ipython3",
   "version": "3.6.5"
  }
 },
 "nbformat": 4,
 "nbformat_minor": 4
}
