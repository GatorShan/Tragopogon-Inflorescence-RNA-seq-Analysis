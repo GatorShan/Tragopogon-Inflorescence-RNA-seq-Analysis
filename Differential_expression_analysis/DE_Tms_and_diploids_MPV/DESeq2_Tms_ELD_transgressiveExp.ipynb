{
 "cells": [
  {
   "cell_type": "markdown",
   "metadata": {},
   "source": [
    "## This script is used for expression-level dominant (ELD) and transgressive expression analysis in short-liguled T. miscellus (Tms)"
   ]
  },
  {
   "cell_type": "code",
   "execution_count": 1,
   "metadata": {},
   "outputs": [],
   "source": [
    "import pandas as pd\n",
    "import os"
   ]
  },
  {
   "cell_type": "code",
   "execution_count": 2,
   "metadata": {},
   "outputs": [],
   "source": [
    "os.chdir(\"/ufrc/soltis/shan158538/TragFL_NewAnalysis/OutPut/DE_analysis/Additive_expression_Tms/\")"
   ]
  },
  {
   "cell_type": "markdown",
   "metadata": {},
   "source": [
    "### 1. Transgressive expression analysis"
   ]
  },
  {
   "cell_type": "code",
   "execution_count": 3,
   "metadata": {},
   "outputs": [],
   "source": [
    "## Input files\n",
    "nonAdditive = pd.read_table(\"DESeq2_Tms_nonAdditive_loci.txt\", sep = \"\\t\")\n",
    "DE_Tms_higher_than_Tdu = pd.read_table(\"DESeq2_DE_loci_Tms_higher_than_Tdu.txt\", sep = \"\\t\")\n",
    "DE_Tms_higher_than_Tpr = pd.read_table(\"DESeq2_DE_loci_Tms_higher_than_Tpr.txt\", sep = \"\\t\")\n",
    "\n",
    "DE_Tdu_higher_than_Tms = pd.read_table(\"DESeq2_DE_loci_Tdu_higher_than_Tms.txt\", sep = \"\\t\")\n",
    "DE_Tpr_higher_than_Tms = pd.read_table(\"DESeq2_DE_loci_Tpr_higher_than_Tms.txt\", sep = \"\\t\")"
   ]
  },
  {
   "cell_type": "code",
   "execution_count": 4,
   "metadata": {},
   "outputs": [
    {
     "data": {
      "text/html": [
       "<div>\n",
       "<style scoped>\n",
       "    .dataframe tbody tr th:only-of-type {\n",
       "        vertical-align: middle;\n",
       "    }\n",
       "\n",
       "    .dataframe tbody tr th {\n",
       "        vertical-align: top;\n",
       "    }\n",
       "\n",
       "    .dataframe thead th {\n",
       "        text-align: right;\n",
       "    }\n",
       "</style>\n",
       "<table border=\"1\" class=\"dataframe\">\n",
       "  <thead>\n",
       "    <tr style=\"text-align: right;\">\n",
       "      <th></th>\n",
       "      <th>baseMean</th>\n",
       "      <th>log2FoldChange</th>\n",
       "      <th>lfcSE</th>\n",
       "      <th>stat</th>\n",
       "      <th>pvalue</th>\n",
       "      <th>padj</th>\n",
       "    </tr>\n",
       "  </thead>\n",
       "  <tbody>\n",
       "    <tr>\n",
       "      <th>Tpr_TRINITY_DN1451_c0_g1|Tdu_TRINITY_DN16990_c3_g1</th>\n",
       "      <td>100.236819</td>\n",
       "      <td>-0.763688</td>\n",
       "      <td>0.193003</td>\n",
       "      <td>-3.956875</td>\n",
       "      <td>0.000076</td>\n",
       "      <td>0.001337</td>\n",
       "    </tr>\n",
       "    <tr>\n",
       "      <th>Tpr_TRINITY_DN10853_c1_g4|Tdu_TRINITY_DN21860_c3_g3</th>\n",
       "      <td>750.334395</td>\n",
       "      <td>-0.479181</td>\n",
       "      <td>0.138326</td>\n",
       "      <td>-3.464133</td>\n",
       "      <td>0.000532</td>\n",
       "      <td>0.006242</td>\n",
       "    </tr>\n",
       "    <tr>\n",
       "      <th>Tpr_TRINITY_DN12798_c2_g2|Tdu_TRINITY_DN24179_c2_g3</th>\n",
       "      <td>58.686028</td>\n",
       "      <td>0.962326</td>\n",
       "      <td>0.245485</td>\n",
       "      <td>3.920107</td>\n",
       "      <td>0.000089</td>\n",
       "      <td>0.001516</td>\n",
       "    </tr>\n",
       "    <tr>\n",
       "      <th>Tpr_TRINITY_DN8521_c0_g1|Tdu_TRINITY_DN16367_c0_g1</th>\n",
       "      <td>4.080691</td>\n",
       "      <td>1.373128</td>\n",
       "      <td>0.519888</td>\n",
       "      <td>2.641200</td>\n",
       "      <td>0.008261</td>\n",
       "      <td>0.048222</td>\n",
       "    </tr>\n",
       "    <tr>\n",
       "      <th>Tpr_TRINITY_DN11678_c3_g2|Tdu_TRINITY_DN24143_c2_g2</th>\n",
       "      <td>57.367802</td>\n",
       "      <td>1.781473</td>\n",
       "      <td>0.431114</td>\n",
       "      <td>4.132252</td>\n",
       "      <td>0.000036</td>\n",
       "      <td>0.000751</td>\n",
       "    </tr>\n",
       "  </tbody>\n",
       "</table>\n",
       "</div>"
      ],
      "text/plain": [
       "                                                      baseMean    ...         padj\n",
       "Tpr_TRINITY_DN1451_c0_g1|Tdu_TRINITY_DN16990_c3_g1  100.236819    ...     0.001337\n",
       "Tpr_TRINITY_DN10853_c1_g4|Tdu_TRINITY_DN21860_c...  750.334395    ...     0.006242\n",
       "Tpr_TRINITY_DN12798_c2_g2|Tdu_TRINITY_DN24179_c...   58.686028    ...     0.001516\n",
       "Tpr_TRINITY_DN8521_c0_g1|Tdu_TRINITY_DN16367_c0_g1    4.080691    ...     0.048222\n",
       "Tpr_TRINITY_DN11678_c3_g2|Tdu_TRINITY_DN24143_c...   57.367802    ...     0.000751\n",
       "\n",
       "[5 rows x 6 columns]"
      ]
     },
     "execution_count": 4,
     "metadata": {},
     "output_type": "execute_result"
    }
   ],
   "source": [
    "nonAdditive.head()"
   ]
  },
  {
   "cell_type": "code",
   "execution_count": 11,
   "metadata": {},
   "outputs": [],
   "source": [
    "## Intersections\n",
    "## Tms higher than both Tdu and Tpr\n",
    "nonAdditive_Tms_higher_than_Tdu = pd.merge(nonAdditive, \n",
    "                                           DE_Tms_higher_than_Tdu, how='inner', \n",
    "                                           left_index=True, right_index=True)\n",
    "nonAdditive_Tms_higher_than_Tdu_and_Tpr = pd.merge(nonAdditive_Tms_higher_than_Tdu, \n",
    "                                                   DE_Tms_higher_than_Tpr, \n",
    "                                                   how='inner', left_index=True, right_index=True)"
   ]
  },
  {
   "cell_type": "code",
   "execution_count": 12,
   "metadata": {},
   "outputs": [
    {
     "data": {
      "text/plain": [
       "(273, 18)"
      ]
     },
     "execution_count": 12,
     "metadata": {},
     "output_type": "execute_result"
    }
   ],
   "source": [
    "nonAdditive_Tms_higher_than_Tdu_and_Tpr.shape"
   ]
  },
  {
   "cell_type": "code",
   "execution_count": 13,
   "metadata": {},
   "outputs": [],
   "source": [
    "## Intersections\n",
    "## Tms lower than both Tdu and Tpr\n",
    "nonAdditive_Tms_lower_than_Tdu = pd.merge(nonAdditive, \n",
    "                                          DE_Tdu_higher_than_Tms, how='inner', \n",
    "                                          left_index=True, right_index=True)\n",
    "nonAdditive_Tms_lower_than_Tdu_and_Tpr = pd.merge(nonAdditive_Tms_lower_than_Tdu, \n",
    "                                                  DE_Tpr_higher_than_Tms, \n",
    "                                                  how='inner', left_index=True, right_index=True)"
   ]
  },
  {
   "cell_type": "code",
   "execution_count": 14,
   "metadata": {},
   "outputs": [
    {
     "data": {
      "text/plain": [
       "(480, 18)"
      ]
     },
     "execution_count": 14,
     "metadata": {},
     "output_type": "execute_result"
    }
   ],
   "source": [
    "nonAdditive_Tms_lower_than_Tdu_and_Tpr.shape"
   ]
  },
  {
   "cell_type": "code",
   "execution_count": 15,
   "metadata": {},
   "outputs": [],
   "source": [
    "## Write out\n",
    "nonAdditive_Tms_higher_than_Tdu_and_Tpr.to_csv(\"Tms_transgressive_higher.txt\", columns=[], header=False)\n",
    "nonAdditive_Tms_lower_than_Tdu_and_Tpr.to_csv(\"Tms_transgressive_lower.txt\", columns=[], header=False)"
   ]
  },
  {
   "cell_type": "markdown",
   "metadata": {},
   "source": [
    "**273** loci are transgressively higher expressed in Tms\n",
    "\n",
    "**480** loci are transgressively lower expressed in Tms"
   ]
  },
  {
   "cell_type": "markdown",
   "metadata": {},
   "source": [
    "### 2. Expression-level dominant"
   ]
  },
  {
   "cell_type": "code",
   "execution_count": 16,
   "metadata": {},
   "outputs": [],
   "source": [
    "## Inputfiles\n",
    "DE_Tdu_higher_than_Tpr = pd.read_table(\"DESeq2_DE_loci_Tdu_higher.txt\", sep = \"\\t\")\n",
    "DE_Tpr_higher_than_Tdu = pd.read_table(\"DESeq2_DE_loci_Tpr_higher.txt\", sep = \"\\t\")\n",
    "Tms_same_as_Tdu = pd.read_table(\"DESeq2_noneDE_loci_Tms_Tdu.txt\", sep = \"\\t\")\n",
    "Tms_same_as_Tpr = pd.read_table(\"DESeq2_noneDE_loci_Tms_Tpr.txt\", sep = \"\\t\")"
   ]
  },
  {
   "cell_type": "code",
   "execution_count": 17,
   "metadata": {},
   "outputs": [],
   "source": [
    "## Intersections\n",
    "## Expression-level dominant of Tdu\n",
    "nonAdditive_ELDofTdu = pd.merge(nonAdditive, Tms_same_as_Tdu, how='inner', left_index=True, right_index=True)\n",
    "nonAdditive_ELDofTdu_TduHigher = pd.merge(nonAdditive_ELDofTdu, DE_Tdu_higher_than_Tpr, how='inner', left_index=True, right_index=True)\n",
    "nonAdditive_ELDofTdu_TprHigher = pd.merge(nonAdditive_ELDofTdu, DE_Tpr_higher_than_Tdu, how='inner', left_index=True, right_index=True)"
   ]
  },
  {
   "cell_type": "code",
   "execution_count": 18,
   "metadata": {},
   "outputs": [
    {
     "data": {
      "text/plain": [
       "(88, 18)"
      ]
     },
     "execution_count": 18,
     "metadata": {},
     "output_type": "execute_result"
    }
   ],
   "source": [
    "nonAdditive_ELDofTdu_TduHigher.shape"
   ]
  },
  {
   "cell_type": "code",
   "execution_count": 19,
   "metadata": {},
   "outputs": [
    {
     "data": {
      "text/plain": [
       "(92, 18)"
      ]
     },
     "execution_count": 19,
     "metadata": {},
     "output_type": "execute_result"
    }
   ],
   "source": [
    "nonAdditive_ELDofTdu_TprHigher.shape"
   ]
  },
  {
   "cell_type": "code",
   "execution_count": 20,
   "metadata": {},
   "outputs": [],
   "source": [
    "## Intersections\n",
    "## Expression-level dominant of Tpr\n",
    "nonAdditive_ELDofTpr = pd.merge(nonAdditive, Tms_same_as_Tpr, how='inner', left_index=True, right_index=True)\n",
    "nonAdditive_ELDofTpr_TduHigher = pd.merge(nonAdditive_ELDofTpr, DE_Tdu_higher_than_Tpr, how='inner', left_index=True, right_index=True)\n",
    "nonAdditive_ELDofTpr_TprHigher = pd.merge(nonAdditive_ELDofTpr, DE_Tpr_higher_than_Tdu, how='inner', left_index=True, right_index=True)"
   ]
  },
  {
   "cell_type": "code",
   "execution_count": 21,
   "metadata": {},
   "outputs": [
    {
     "data": {
      "text/plain": [
       "(72, 18)"
      ]
     },
     "execution_count": 21,
     "metadata": {},
     "output_type": "execute_result"
    }
   ],
   "source": [
    "nonAdditive_ELDofTpr_TduHigher.shape"
   ]
  },
  {
   "cell_type": "code",
   "execution_count": 22,
   "metadata": {},
   "outputs": [
    {
     "data": {
      "text/plain": [
       "(85, 18)"
      ]
     },
     "execution_count": 22,
     "metadata": {},
     "output_type": "execute_result"
    }
   ],
   "source": [
    "nonAdditive_ELDofTpr_TprHigher.shape"
   ]
  },
  {
   "cell_type": "code",
   "execution_count": 23,
   "metadata": {},
   "outputs": [],
   "source": [
    "## Write out\n",
    "nonAdditive_ELDofTdu_TduHigher.to_csv(\"Tms_ELDofTdu_TduHigher.txt\", columns=[], header=False)\n",
    "nonAdditive_ELDofTdu_TprHigher.to_csv(\"Tms_ELDofTdu_TprHigher.txt\", columns=[], header=False)\n",
    "\n",
    "nonAdditive_ELDofTpr_TduHigher.to_csv(\"Tms_ELDofTpr_TduHigher.txt\", columns=[], header=False)\n",
    "nonAdditive_ELDofTpr_TprHigher.to_csv(\"Tms_ELDofTpr_TprHigher.txt\", columns=[], header=False)"
   ]
  },
  {
   "cell_type": "markdown",
   "metadata": {},
   "source": [
    "**88** loci showed ELD of Tdu with higher expression in Tdu than Tpr\n",
    "\n",
    "**92** loci showed ELD of Tdu with higher expression in Tpr than Tdu\n",
    "\n",
    "**72** loci showed ELD of Tpr with higher expression in Tdu than Tpr\n",
    "\n",
    "**85** loci showed ELD of Tpr with higher expression in Tpr than Tdu"
   ]
  },
  {
   "cell_type": "code",
   "execution_count": null,
   "metadata": {},
   "outputs": [],
   "source": []
  }
 ],
 "metadata": {
  "kernelspec": {
   "display_name": "Python 3.6. (full)",
   "language": "python",
   "name": "python3-3.6-ufrc"
  },
  "language_info": {
   "codemirror_mode": {
    "name": "ipython",
    "version": 3
   },
   "file_extension": ".py",
   "mimetype": "text/x-python",
   "name": "python",
   "nbconvert_exporter": "python",
   "pygments_lexer": "ipython3",
   "version": "3.6.5"
  }
 },
 "nbformat": 4,
 "nbformat_minor": 4
}
