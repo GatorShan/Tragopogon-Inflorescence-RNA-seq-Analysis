{
 "cells": [
  {
   "cell_type": "code",
   "execution_count": 1,
   "metadata": {},
   "outputs": [],
   "source": [
    "import pandas as pd\n",
    "import os\n",
    "import glob"
   ]
  },
  {
   "cell_type": "code",
   "execution_count": 2,
   "metadata": {},
   "outputs": [],
   "source": [
    "os.chdir(\"/ufrc/soltis/shan158538/TragFL_NewAnalysis/OutPut/DE_analysis/DE_Tdu_Tpr/\")"
   ]
  },
  {
   "cell_type": "code",
   "execution_count": 3,
   "metadata": {},
   "outputs": [],
   "source": [
    "FileList = glob.glob(\"both_counts_Tdu*.csv\")"
   ]
  },
  {
   "cell_type": "code",
   "execution_count": 4,
   "metadata": {},
   "outputs": [],
   "source": [
    "FileList = sorted(FileList)"
   ]
  },
  {
   "cell_type": "code",
   "execution_count": 5,
   "metadata": {},
   "outputs": [
    {
     "data": {
      "text/plain": [
       "['both_counts_Tdu_1_2_Tdu_Tpr.csv',\n",
       " 'both_counts_Tdu_2_2_Tdu_Tpr.csv',\n",
       " 'both_counts_Tdu_3_2_Tdu_Tpr.csv',\n",
       " 'both_counts_Tdu_4_2_Tdu_Tpr.csv',\n",
       " 'both_counts_Tdu_5_2_Tdu_Tpr.csv',\n",
       " 'both_counts_Tdu_6_2_Tdu_Tpr.csv']"
      ]
     },
     "execution_count": 5,
     "metadata": {},
     "output_type": "execute_result"
    }
   ],
   "source": [
    "FileList"
   ]
  },
  {
   "cell_type": "code",
   "execution_count": 6,
   "metadata": {},
   "outputs": [],
   "source": [
    "col_name = \"_\".join(FileList[0].split(\"_\")[2:4])"
   ]
  },
  {
   "cell_type": "code",
   "execution_count": 7,
   "metadata": {},
   "outputs": [
    {
     "data": {
      "text/plain": [
       "'Tdu_1'"
      ]
     },
     "execution_count": 7,
     "metadata": {},
     "output_type": "execute_result"
    }
   ],
   "source": [
    "col_name"
   ]
  },
  {
   "cell_type": "code",
   "execution_count": 8,
   "metadata": {},
   "outputs": [],
   "source": [
    "df = pd.read_csv(FileList[0])"
   ]
  },
  {
   "cell_type": "code",
   "execution_count": 9,
   "metadata": {},
   "outputs": [
    {
     "data": {
      "text/html": [
       "<div>\n",
       "<style scoped>\n",
       "    .dataframe tbody tr th:only-of-type {\n",
       "        vertical-align: middle;\n",
       "    }\n",
       "\n",
       "    .dataframe tbody tr th {\n",
       "        vertical-align: top;\n",
       "    }\n",
       "\n",
       "    .dataframe thead th {\n",
       "        text-align: right;\n",
       "    }\n",
       "</style>\n",
       "<table border=\"1\" class=\"dataframe\">\n",
       "  <thead>\n",
       "    <tr style=\"text-align: right;\">\n",
       "      <th></th>\n",
       "      <th>FUSION_ID</th>\n",
       "      <th>Count</th>\n",
       "    </tr>\n",
       "  </thead>\n",
       "  <tbody>\n",
       "    <tr>\n",
       "      <th>0</th>\n",
       "      <td>Tpr_TRINITY_DN11257_c2_g1|Tdu_TRINITY_DN16696_...</td>\n",
       "      <td>92</td>\n",
       "    </tr>\n",
       "    <tr>\n",
       "      <th>1</th>\n",
       "      <td>Tpr_TRINITY_DN10844_c2_g7|Tdu_TRINITY_DN25328_...</td>\n",
       "      <td>157</td>\n",
       "    </tr>\n",
       "    <tr>\n",
       "      <th>2</th>\n",
       "      <td>Tpr_TRINITY_DN15383_c4_g16|Tdu_TRINITY_DN14160...</td>\n",
       "      <td>36</td>\n",
       "    </tr>\n",
       "    <tr>\n",
       "      <th>3</th>\n",
       "      <td>Tpr_TRINITY_DN1451_c0_g1|Tdu_TRINITY_DN16990_c...</td>\n",
       "      <td>96</td>\n",
       "    </tr>\n",
       "    <tr>\n",
       "      <th>4</th>\n",
       "      <td>Tpr_TRINITY_DN10853_c1_g4|Tdu_TRINITY_DN21860_...</td>\n",
       "      <td>773</td>\n",
       "    </tr>\n",
       "  </tbody>\n",
       "</table>\n",
       "</div>"
      ],
      "text/plain": [
       "                                           FUSION_ID  Count\n",
       "0  Tpr_TRINITY_DN11257_c2_g1|Tdu_TRINITY_DN16696_...     92\n",
       "1  Tpr_TRINITY_DN10844_c2_g7|Tdu_TRINITY_DN25328_...    157\n",
       "2  Tpr_TRINITY_DN15383_c4_g16|Tdu_TRINITY_DN14160...     36\n",
       "3  Tpr_TRINITY_DN1451_c0_g1|Tdu_TRINITY_DN16990_c...     96\n",
       "4  Tpr_TRINITY_DN10853_c1_g4|Tdu_TRINITY_DN21860_...    773"
      ]
     },
     "execution_count": 9,
     "metadata": {},
     "output_type": "execute_result"
    }
   ],
   "source": [
    "df.head()"
   ]
  },
  {
   "cell_type": "code",
   "execution_count": 10,
   "metadata": {},
   "outputs": [],
   "source": [
    "df.rename(columns={\"FUSION_ID\":\"FUSION_ID\",\"Count\":col_name}, inplace=True)"
   ]
  },
  {
   "cell_type": "code",
   "execution_count": 11,
   "metadata": {},
   "outputs": [
    {
     "data": {
      "text/html": [
       "<div>\n",
       "<style scoped>\n",
       "    .dataframe tbody tr th:only-of-type {\n",
       "        vertical-align: middle;\n",
       "    }\n",
       "\n",
       "    .dataframe tbody tr th {\n",
       "        vertical-align: top;\n",
       "    }\n",
       "\n",
       "    .dataframe thead th {\n",
       "        text-align: right;\n",
       "    }\n",
       "</style>\n",
       "<table border=\"1\" class=\"dataframe\">\n",
       "  <thead>\n",
       "    <tr style=\"text-align: right;\">\n",
       "      <th></th>\n",
       "      <th>FUSION_ID</th>\n",
       "      <th>Tdu_1</th>\n",
       "    </tr>\n",
       "  </thead>\n",
       "  <tbody>\n",
       "    <tr>\n",
       "      <th>0</th>\n",
       "      <td>Tpr_TRINITY_DN11257_c2_g1|Tdu_TRINITY_DN16696_...</td>\n",
       "      <td>92</td>\n",
       "    </tr>\n",
       "    <tr>\n",
       "      <th>1</th>\n",
       "      <td>Tpr_TRINITY_DN10844_c2_g7|Tdu_TRINITY_DN25328_...</td>\n",
       "      <td>157</td>\n",
       "    </tr>\n",
       "    <tr>\n",
       "      <th>2</th>\n",
       "      <td>Tpr_TRINITY_DN15383_c4_g16|Tdu_TRINITY_DN14160...</td>\n",
       "      <td>36</td>\n",
       "    </tr>\n",
       "    <tr>\n",
       "      <th>3</th>\n",
       "      <td>Tpr_TRINITY_DN1451_c0_g1|Tdu_TRINITY_DN16990_c...</td>\n",
       "      <td>96</td>\n",
       "    </tr>\n",
       "    <tr>\n",
       "      <th>4</th>\n",
       "      <td>Tpr_TRINITY_DN10853_c1_g4|Tdu_TRINITY_DN21860_...</td>\n",
       "      <td>773</td>\n",
       "    </tr>\n",
       "  </tbody>\n",
       "</table>\n",
       "</div>"
      ],
      "text/plain": [
       "                                           FUSION_ID  Tdu_1\n",
       "0  Tpr_TRINITY_DN11257_c2_g1|Tdu_TRINITY_DN16696_...     92\n",
       "1  Tpr_TRINITY_DN10844_c2_g7|Tdu_TRINITY_DN25328_...    157\n",
       "2  Tpr_TRINITY_DN15383_c4_g16|Tdu_TRINITY_DN14160...     36\n",
       "3  Tpr_TRINITY_DN1451_c0_g1|Tdu_TRINITY_DN16990_c...     96\n",
       "4  Tpr_TRINITY_DN10853_c1_g4|Tdu_TRINITY_DN21860_...    773"
      ]
     },
     "execution_count": 11,
     "metadata": {},
     "output_type": "execute_result"
    }
   ],
   "source": [
    "df.head()"
   ]
  },
  {
   "cell_type": "code",
   "execution_count": 12,
   "metadata": {},
   "outputs": [],
   "source": [
    "for file in FileList[1:]:\n",
    "    col_name = \"_\".join(file.split(\"_\")[2:4])\n",
    "    temp_df = pd.read_csv(file)\n",
    "    temp_df.rename(columns={\"FUSION_ID\":\"FUSION_ID\",\"Count\":col_name}, inplace=True)\n",
    "    df = pd.merge(df, temp_df)"
   ]
  },
  {
   "cell_type": "code",
   "execution_count": 13,
   "metadata": {},
   "outputs": [
    {
     "data": {
      "text/html": [
       "<div>\n",
       "<style scoped>\n",
       "    .dataframe tbody tr th:only-of-type {\n",
       "        vertical-align: middle;\n",
       "    }\n",
       "\n",
       "    .dataframe tbody tr th {\n",
       "        vertical-align: top;\n",
       "    }\n",
       "\n",
       "    .dataframe thead th {\n",
       "        text-align: right;\n",
       "    }\n",
       "</style>\n",
       "<table border=\"1\" class=\"dataframe\">\n",
       "  <thead>\n",
       "    <tr style=\"text-align: right;\">\n",
       "      <th></th>\n",
       "      <th>FUSION_ID</th>\n",
       "      <th>Tdu_1</th>\n",
       "      <th>Tdu_2</th>\n",
       "      <th>Tdu_3</th>\n",
       "      <th>Tdu_4</th>\n",
       "      <th>Tdu_5</th>\n",
       "      <th>Tdu_6</th>\n",
       "    </tr>\n",
       "  </thead>\n",
       "  <tbody>\n",
       "    <tr>\n",
       "      <th>0</th>\n",
       "      <td>Tpr_TRINITY_DN11257_c2_g1|Tdu_TRINITY_DN16696_...</td>\n",
       "      <td>92</td>\n",
       "      <td>109</td>\n",
       "      <td>123</td>\n",
       "      <td>106</td>\n",
       "      <td>116</td>\n",
       "      <td>121</td>\n",
       "    </tr>\n",
       "    <tr>\n",
       "      <th>1</th>\n",
       "      <td>Tpr_TRINITY_DN10844_c2_g7|Tdu_TRINITY_DN25328_...</td>\n",
       "      <td>157</td>\n",
       "      <td>218</td>\n",
       "      <td>281</td>\n",
       "      <td>177</td>\n",
       "      <td>169</td>\n",
       "      <td>238</td>\n",
       "    </tr>\n",
       "    <tr>\n",
       "      <th>2</th>\n",
       "      <td>Tpr_TRINITY_DN15383_c4_g16|Tdu_TRINITY_DN14160...</td>\n",
       "      <td>36</td>\n",
       "      <td>64</td>\n",
       "      <td>58</td>\n",
       "      <td>43</td>\n",
       "      <td>36</td>\n",
       "      <td>47</td>\n",
       "    </tr>\n",
       "    <tr>\n",
       "      <th>3</th>\n",
       "      <td>Tpr_TRINITY_DN1451_c0_g1|Tdu_TRINITY_DN16990_c...</td>\n",
       "      <td>96</td>\n",
       "      <td>140</td>\n",
       "      <td>142</td>\n",
       "      <td>80</td>\n",
       "      <td>126</td>\n",
       "      <td>108</td>\n",
       "    </tr>\n",
       "    <tr>\n",
       "      <th>4</th>\n",
       "      <td>Tpr_TRINITY_DN10853_c1_g4|Tdu_TRINITY_DN21860_...</td>\n",
       "      <td>773</td>\n",
       "      <td>1099</td>\n",
       "      <td>976</td>\n",
       "      <td>809</td>\n",
       "      <td>1113</td>\n",
       "      <td>918</td>\n",
       "    </tr>\n",
       "  </tbody>\n",
       "</table>\n",
       "</div>"
      ],
      "text/plain": [
       "                                           FUSION_ID  Tdu_1  ...    Tdu_5  Tdu_6\n",
       "0  Tpr_TRINITY_DN11257_c2_g1|Tdu_TRINITY_DN16696_...     92  ...      116    121\n",
       "1  Tpr_TRINITY_DN10844_c2_g7|Tdu_TRINITY_DN25328_...    157  ...      169    238\n",
       "2  Tpr_TRINITY_DN15383_c4_g16|Tdu_TRINITY_DN14160...     36  ...       36     47\n",
       "3  Tpr_TRINITY_DN1451_c0_g1|Tdu_TRINITY_DN16990_c...     96  ...      126    108\n",
       "4  Tpr_TRINITY_DN10853_c1_g4|Tdu_TRINITY_DN21860_...    773  ...     1113    918\n",
       "\n",
       "[5 rows x 7 columns]"
      ]
     },
     "execution_count": 13,
     "metadata": {},
     "output_type": "execute_result"
    }
   ],
   "source": [
    "df.head()"
   ]
  },
  {
   "cell_type": "code",
   "execution_count": 14,
   "metadata": {},
   "outputs": [],
   "source": [
    "df.to_csv(\"DESeq2_count_matrix_Tdu.csv\", index=False)"
   ]
  },
  {
   "cell_type": "code",
   "execution_count": null,
   "metadata": {},
   "outputs": [],
   "source": []
  }
 ],
 "metadata": {
  "kernelspec": {
   "display_name": "Python 3.6. (full)",
   "language": "python",
   "name": "python3-3.6-ufrc"
  },
  "language_info": {
   "codemirror_mode": {
    "name": "ipython",
    "version": 3
   },
   "file_extension": ".py",
   "mimetype": "text/x-python",
   "name": "python",
   "nbconvert_exporter": "python",
   "pygments_lexer": "ipython3",
   "version": "3.6.5"
  }
 },
 "nbformat": 4,
 "nbformat_minor": 4
}
