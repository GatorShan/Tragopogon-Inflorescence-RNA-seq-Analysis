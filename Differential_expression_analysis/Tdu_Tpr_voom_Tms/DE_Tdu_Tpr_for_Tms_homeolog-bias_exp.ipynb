{
 "cells": [
  {
   "cell_type": "markdown",
   "metadata": {},
   "source": [
    "# First, we are trying to find orthologs do NOT have homeolog-specific expression"
   ]
  },
  {
   "cell_type": "code",
   "execution_count": 1,
   "metadata": {},
   "outputs": [],
   "source": [
    "import pandas as pd\n",
    "import sys\n",
    "import os\n",
    "import glob"
   ]
  },
  {
   "cell_type": "code",
   "execution_count": 2,
   "metadata": {},
   "outputs": [],
   "source": [
    "os.chdir(\"/ufrc/soltis/shan158538/TragFL_NewAnalysis/OutPut/Polyploid_alignment/empirical_bayesian_hybrids_output/\")"
   ]
  },
  {
   "cell_type": "code",
   "execution_count": 3,
   "metadata": {},
   "outputs": [],
   "source": [
    "AllOrthologs = pd.read_table(\"bayes_flag_sig_Tms_for_UR.csv\", sep = \",\")"
   ]
  },
  {
   "cell_type": "code",
   "execution_count": 4,
   "metadata": {},
   "outputs": [
    {
     "data": {
      "text/html": [
       "<div>\n",
       "<style scoped>\n",
       "    .dataframe tbody tr th:only-of-type {\n",
       "        vertical-align: middle;\n",
       "    }\n",
       "\n",
       "    .dataframe tbody tr th {\n",
       "        vertical-align: top;\n",
       "    }\n",
       "\n",
       "    .dataframe thead th {\n",
       "        text-align: right;\n",
       "    }\n",
       "</style>\n",
       "<table border=\"1\" class=\"dataframe\">\n",
       "  <thead>\n",
       "    <tr style=\"text-align: right;\">\n",
       "      <th></th>\n",
       "      <th>commonID</th>\n",
       "      <th>q4_mean_theta</th>\n",
       "      <th>q4_q025</th>\n",
       "      <th>q4_q975</th>\n",
       "      <th>q5_mean_theta</th>\n",
       "      <th>q5_q025</th>\n",
       "      <th>q5_q975</th>\n",
       "      <th>q6_mean_theta</th>\n",
       "      <th>q6_q025</th>\n",
       "      <th>q6_q975</th>\n",
       "      <th>flag_q4_sig</th>\n",
       "      <th>flag_q5_sig</th>\n",
       "      <th>flag_q6_sig</th>\n",
       "      <th>flag_sig_Tms_tdu_tpr</th>\n",
       "    </tr>\n",
       "  </thead>\n",
       "  <tbody>\n",
       "    <tr>\n",
       "      <th>0</th>\n",
       "      <td>Tpr_TRINITY_DN11281_c1_g9|Tdu_TRINITY_DN15992_...</td>\n",
       "      <td>0.712</td>\n",
       "      <td>0.406</td>\n",
       "      <td>0.896</td>\n",
       "      <td>0.669</td>\n",
       "      <td>0.304</td>\n",
       "      <td>0.893</td>\n",
       "      <td>0.645</td>\n",
       "      <td>0.271</td>\n",
       "      <td>0.879</td>\n",
       "      <td>0</td>\n",
       "      <td>0</td>\n",
       "      <td>0</td>\n",
       "      <td>0</td>\n",
       "    </tr>\n",
       "    <tr>\n",
       "      <th>1</th>\n",
       "      <td>Tpr_TRINITY_DN11283_c3_g1|Tdu_TRINITY_DN25596_...</td>\n",
       "      <td>0.608</td>\n",
       "      <td>0.418</td>\n",
       "      <td>0.786</td>\n",
       "      <td>0.529</td>\n",
       "      <td>0.333</td>\n",
       "      <td>0.708</td>\n",
       "      <td>0.446</td>\n",
       "      <td>0.259</td>\n",
       "      <td>0.637</td>\n",
       "      <td>0</td>\n",
       "      <td>0</td>\n",
       "      <td>0</td>\n",
       "      <td>0</td>\n",
       "    </tr>\n",
       "    <tr>\n",
       "      <th>2</th>\n",
       "      <td>Tpr_TRINITY_DN11283_c4_g7|Tdu_TRINITY_DN21302_...</td>\n",
       "      <td>0.297</td>\n",
       "      <td>0.122</td>\n",
       "      <td>0.491</td>\n",
       "      <td>0.229</td>\n",
       "      <td>0.092</td>\n",
       "      <td>0.406</td>\n",
       "      <td>0.168</td>\n",
       "      <td>0.060</td>\n",
       "      <td>0.317</td>\n",
       "      <td>1</td>\n",
       "      <td>1</td>\n",
       "      <td>1</td>\n",
       "      <td>1</td>\n",
       "    </tr>\n",
       "    <tr>\n",
       "      <th>3</th>\n",
       "      <td>Tpr_TRINITY_DN11284_c2_g19|Tdu_TRINITY_DN20652...</td>\n",
       "      <td>0.527</td>\n",
       "      <td>0.284</td>\n",
       "      <td>0.758</td>\n",
       "      <td>0.447</td>\n",
       "      <td>0.202</td>\n",
       "      <td>0.699</td>\n",
       "      <td>0.384</td>\n",
       "      <td>0.169</td>\n",
       "      <td>0.620</td>\n",
       "      <td>0</td>\n",
       "      <td>0</td>\n",
       "      <td>0</td>\n",
       "      <td>0</td>\n",
       "    </tr>\n",
       "    <tr>\n",
       "      <th>4</th>\n",
       "      <td>Tpr_TRINITY_DN11285_c1_g4|Tdu_TRINITY_DN17239_...</td>\n",
       "      <td>0.187</td>\n",
       "      <td>0.093</td>\n",
       "      <td>0.299</td>\n",
       "      <td>0.136</td>\n",
       "      <td>0.065</td>\n",
       "      <td>0.224</td>\n",
       "      <td>0.096</td>\n",
       "      <td>0.048</td>\n",
       "      <td>0.169</td>\n",
       "      <td>1</td>\n",
       "      <td>1</td>\n",
       "      <td>1</td>\n",
       "      <td>1</td>\n",
       "    </tr>\n",
       "  </tbody>\n",
       "</table>\n",
       "</div>"
      ],
      "text/plain": [
       "                                            commonID          ...           flag_sig_Tms_tdu_tpr\n",
       "0  Tpr_TRINITY_DN11281_c1_g9|Tdu_TRINITY_DN15992_...          ...                              0\n",
       "1  Tpr_TRINITY_DN11283_c3_g1|Tdu_TRINITY_DN25596_...          ...                              0\n",
       "2  Tpr_TRINITY_DN11283_c4_g7|Tdu_TRINITY_DN21302_...          ...                              1\n",
       "3  Tpr_TRINITY_DN11284_c2_g19|Tdu_TRINITY_DN20652...          ...                              0\n",
       "4  Tpr_TRINITY_DN11285_c1_g4|Tdu_TRINITY_DN17239_...          ...                              1\n",
       "\n",
       "[5 rows x 14 columns]"
      ]
     },
     "execution_count": 4,
     "metadata": {},
     "output_type": "execute_result"
    }
   ],
   "source": [
    "AllOrthologs.head()"
   ]
  },
  {
   "cell_type": "code",
   "execution_count": 5,
   "metadata": {},
   "outputs": [
    {
     "data": {
      "text/plain": [
       "(5118, 14)"
      ]
     },
     "execution_count": 5,
     "metadata": {},
     "output_type": "execute_result"
    }
   ],
   "source": [
    "AllOrthologs.shape"
   ]
  },
  {
   "cell_type": "code",
   "execution_count": 6,
   "metadata": {},
   "outputs": [],
   "source": [
    "NonHomeoSpecifcExp = AllOrthologs[AllOrthologs[\"flag_sig_Tms_tdu_tpr\"] == 0]"
   ]
  },
  {
   "cell_type": "code",
   "execution_count": 7,
   "metadata": {},
   "outputs": [
    {
     "data": {
      "text/plain": [
       "(4100, 14)"
      ]
     },
     "execution_count": 7,
     "metadata": {},
     "output_type": "execute_result"
    }
   ],
   "source": [
    "NonHomeoSpecifcExp.shape"
   ]
  },
  {
   "cell_type": "code",
   "execution_count": 8,
   "metadata": {},
   "outputs": [
    {
     "data": {
      "text/html": [
       "<div>\n",
       "<style scoped>\n",
       "    .dataframe tbody tr th:only-of-type {\n",
       "        vertical-align: middle;\n",
       "    }\n",
       "\n",
       "    .dataframe tbody tr th {\n",
       "        vertical-align: top;\n",
       "    }\n",
       "\n",
       "    .dataframe thead th {\n",
       "        text-align: right;\n",
       "    }\n",
       "</style>\n",
       "<table border=\"1\" class=\"dataframe\">\n",
       "  <thead>\n",
       "    <tr style=\"text-align: right;\">\n",
       "      <th></th>\n",
       "      <th>commonID</th>\n",
       "      <th>q4_mean_theta</th>\n",
       "      <th>q4_q025</th>\n",
       "      <th>q4_q975</th>\n",
       "      <th>q5_mean_theta</th>\n",
       "      <th>q5_q025</th>\n",
       "      <th>q5_q975</th>\n",
       "      <th>q6_mean_theta</th>\n",
       "      <th>q6_q025</th>\n",
       "      <th>q6_q975</th>\n",
       "      <th>flag_q4_sig</th>\n",
       "      <th>flag_q5_sig</th>\n",
       "      <th>flag_q6_sig</th>\n",
       "      <th>flag_sig_Tms_tdu_tpr</th>\n",
       "    </tr>\n",
       "  </thead>\n",
       "  <tbody>\n",
       "    <tr>\n",
       "      <th>0</th>\n",
       "      <td>Tpr_TRINITY_DN11281_c1_g9|Tdu_TRINITY_DN15992_...</td>\n",
       "      <td>0.712</td>\n",
       "      <td>0.406</td>\n",
       "      <td>0.896</td>\n",
       "      <td>0.669</td>\n",
       "      <td>0.304</td>\n",
       "      <td>0.893</td>\n",
       "      <td>0.645</td>\n",
       "      <td>0.271</td>\n",
       "      <td>0.879</td>\n",
       "      <td>0</td>\n",
       "      <td>0</td>\n",
       "      <td>0</td>\n",
       "      <td>0</td>\n",
       "    </tr>\n",
       "    <tr>\n",
       "      <th>1</th>\n",
       "      <td>Tpr_TRINITY_DN11283_c3_g1|Tdu_TRINITY_DN25596_...</td>\n",
       "      <td>0.608</td>\n",
       "      <td>0.418</td>\n",
       "      <td>0.786</td>\n",
       "      <td>0.529</td>\n",
       "      <td>0.333</td>\n",
       "      <td>0.708</td>\n",
       "      <td>0.446</td>\n",
       "      <td>0.259</td>\n",
       "      <td>0.637</td>\n",
       "      <td>0</td>\n",
       "      <td>0</td>\n",
       "      <td>0</td>\n",
       "      <td>0</td>\n",
       "    </tr>\n",
       "    <tr>\n",
       "      <th>3</th>\n",
       "      <td>Tpr_TRINITY_DN11284_c2_g19|Tdu_TRINITY_DN20652...</td>\n",
       "      <td>0.527</td>\n",
       "      <td>0.284</td>\n",
       "      <td>0.758</td>\n",
       "      <td>0.447</td>\n",
       "      <td>0.202</td>\n",
       "      <td>0.699</td>\n",
       "      <td>0.384</td>\n",
       "      <td>0.169</td>\n",
       "      <td>0.620</td>\n",
       "      <td>0</td>\n",
       "      <td>0</td>\n",
       "      <td>0</td>\n",
       "      <td>0</td>\n",
       "    </tr>\n",
       "    <tr>\n",
       "      <th>5</th>\n",
       "      <td>Tpr_TRINITY_DN11294_c1_g1|Tdu_TRINITY_DN19017_...</td>\n",
       "      <td>0.144</td>\n",
       "      <td>0.000</td>\n",
       "      <td>0.535</td>\n",
       "      <td>0.117</td>\n",
       "      <td>0.000</td>\n",
       "      <td>0.504</td>\n",
       "      <td>0.094</td>\n",
       "      <td>0.000</td>\n",
       "      <td>0.413</td>\n",
       "      <td>0</td>\n",
       "      <td>0</td>\n",
       "      <td>1</td>\n",
       "      <td>0</td>\n",
       "    </tr>\n",
       "    <tr>\n",
       "      <th>6</th>\n",
       "      <td>Tpr_TRINITY_DN11295_c2_g2|Tdu_TRINITY_DN23322_...</td>\n",
       "      <td>0.528</td>\n",
       "      <td>0.420</td>\n",
       "      <td>0.638</td>\n",
       "      <td>0.436</td>\n",
       "      <td>0.335</td>\n",
       "      <td>0.549</td>\n",
       "      <td>0.346</td>\n",
       "      <td>0.249</td>\n",
       "      <td>0.454</td>\n",
       "      <td>0</td>\n",
       "      <td>0</td>\n",
       "      <td>1</td>\n",
       "      <td>0</td>\n",
       "    </tr>\n",
       "  </tbody>\n",
       "</table>\n",
       "</div>"
      ],
      "text/plain": [
       "                                            commonID          ...           flag_sig_Tms_tdu_tpr\n",
       "0  Tpr_TRINITY_DN11281_c1_g9|Tdu_TRINITY_DN15992_...          ...                              0\n",
       "1  Tpr_TRINITY_DN11283_c3_g1|Tdu_TRINITY_DN25596_...          ...                              0\n",
       "3  Tpr_TRINITY_DN11284_c2_g19|Tdu_TRINITY_DN20652...          ...                              0\n",
       "5  Tpr_TRINITY_DN11294_c1_g1|Tdu_TRINITY_DN19017_...          ...                              0\n",
       "6  Tpr_TRINITY_DN11295_c2_g2|Tdu_TRINITY_DN23322_...          ...                              0\n",
       "\n",
       "[5 rows x 14 columns]"
      ]
     },
     "execution_count": 8,
     "metadata": {},
     "output_type": "execute_result"
    }
   ],
   "source": [
    "NonHomeoSpecifcExp.head()"
   ]
  },
  {
   "cell_type": "code",
   "execution_count": 9,
   "metadata": {},
   "outputs": [],
   "source": [
    "NonHomeoSpecifcExp.to_csv(\"bayes_flag_sig_Tms_for_UR_unbias.csv\", header=False, index=False)"
   ]
  },
  {
   "cell_type": "markdown",
   "metadata": {},
   "source": [
    "## In file bayes_flag_sig_Tms_for_UR.csv, 4,100 orthologs showed non-homeolog-specific expression bias"
   ]
  },
  {
   "cell_type": "markdown",
   "metadata": {},
   "source": [
    "# Creat 3 lists that contains unbiased orthologs, ortholgos bias to Tdu, and orthologs bias to Tpr"
   ]
  },
  {
   "cell_type": "code",
   "execution_count": 10,
   "metadata": {},
   "outputs": [],
   "source": [
    "Unbias = pd.read_table(\"bayes_flag_sig_Tms_for_UR_unbias.csv\", sep = \",\", header = None)"
   ]
  },
  {
   "cell_type": "code",
   "execution_count": 11,
   "metadata": {},
   "outputs": [],
   "source": [
    "UnbiasList = list(Unbias[Unbias.columns[0]])"
   ]
  },
  {
   "cell_type": "code",
   "execution_count": 12,
   "metadata": {},
   "outputs": [],
   "source": [
    "Bias_Tdu = pd.read_table(\"bayes_flag_sig_Tms_for_UR_bias_Tdu.csv\", sep= \",\", header=None)"
   ]
  },
  {
   "cell_type": "code",
   "execution_count": 13,
   "metadata": {},
   "outputs": [],
   "source": [
    "Bias_Tdu_List = list(Bias_Tdu[Bias_Tdu.columns[0]])"
   ]
  },
  {
   "cell_type": "code",
   "execution_count": 14,
   "metadata": {},
   "outputs": [],
   "source": [
    "Bias_Tpr = pd.read_table(\"bayes_flag_sig_Tms_for_UR_bias_Tpr.csv\", sep=\",\", header=None)"
   ]
  },
  {
   "cell_type": "code",
   "execution_count": 15,
   "metadata": {},
   "outputs": [],
   "source": [
    "Bias_Tpr_List = list(Bias_Tpr[Bias_Tpr.columns[0]])"
   ]
  },
  {
   "cell_type": "markdown",
   "metadata": {},
   "source": [
    "# Now, we are trying to classify DE ortholgos into different homeolog-specific expression categories"
   ]
  },
  {
   "cell_type": "code",
   "execution_count": 16,
   "metadata": {},
   "outputs": [],
   "source": [
    "os.chdir(\"/ufrc/soltis/shan158538/TragFL_NewAnalysis/OutPut/DE_analysis/Tdu_Tpr_voom_Tms/\")"
   ]
  },
  {
   "cell_type": "code",
   "execution_count": 17,
   "metadata": {},
   "outputs": [],
   "source": [
    "FileList = glob.glob(\"DE_Tdu_Tpr_filtered_*.txt\")"
   ]
  },
  {
   "cell_type": "code",
   "execution_count": 18,
   "metadata": {},
   "outputs": [
    {
     "data": {
      "text/plain": [
       "['DE_Tdu_Tpr_filtered_sig_loci_Tdu_higher.txt',\n",
       " 'DE_Tdu_Tpr_filtered_sig_loci_Tpr_higher.txt',\n",
       " 'DE_Tdu_Tpr_filtered_not_sig_loci.txt']"
      ]
     },
     "execution_count": 18,
     "metadata": {},
     "output_type": "execute_result"
    }
   ],
   "source": [
    "FileList"
   ]
  },
  {
   "cell_type": "code",
   "execution_count": 19,
   "metadata": {},
   "outputs": [],
   "source": [
    "for File in FileList:\n",
    "    # set outfile names\n",
    "    OutFile_unbias = File.split(\".\")[0] + \"_unbias.txt\"\n",
    "    OutFile_biasTdu = File.split(\".\")[0] + \"_biasTdu.txt\"\n",
    "    OutFile_biasTpr = File.split(\".\")[0] + \"_biasTpr.txt\"\n",
    "    # read File as dataframe\n",
    "    df = pd.read_table(File, sep = \",\")\n",
    "    # isolate orthologs in df according to a list\n",
    "    df_unbias = df[df['Unnamed: 0'].isin(UnbiasList)]\n",
    "    df_biasTdu = df[df['Unnamed: 0'].isin(Bias_Tdu_List)]\n",
    "    df_biasTpr = df[df['Unnamed: 0'].isin(Bias_Tpr_List)]\n",
    "    # output file, containing only orthologous pair names\n",
    "    df_unbias['Unnamed: 0'].to_csv(OutFile_unbias, index=False)\n",
    "    df_biasTdu['Unnamed: 0'].to_csv(OutFile_biasTdu, index=False)\n",
    "    df_biasTpr['Unnamed: 0'].to_csv(OutFile_biasTpr, index=False)"
   ]
  },
  {
   "cell_type": "code",
   "execution_count": null,
   "metadata": {},
   "outputs": [],
   "source": []
  }
 ],
 "metadata": {
  "kernelspec": {
   "display_name": "Python 3.6. (full)",
   "language": "python",
   "name": "python3-3.6-ufrc"
  },
  "language_info": {
   "codemirror_mode": {
    "name": "ipython",
    "version": 3
   },
   "file_extension": ".py",
   "mimetype": "text/x-python",
   "name": "python",
   "nbconvert_exporter": "python",
   "pygments_lexer": "ipython3",
   "version": "3.6.5"
  }
 },
 "nbformat": 4,
 "nbformat_minor": 4
}
