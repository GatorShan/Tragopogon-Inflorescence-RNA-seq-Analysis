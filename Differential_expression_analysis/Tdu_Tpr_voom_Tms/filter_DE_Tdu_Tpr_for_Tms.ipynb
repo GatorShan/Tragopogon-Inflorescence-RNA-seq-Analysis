{
 "cells": [
  {
   "cell_type": "markdown",
   "metadata": {},
   "source": [
    "# Filtering DE_Tdu_Tpr_for_Tms\n",
    "# Input DE_Tdu_Tpr_min10_3rep.txt\n",
    "# 5,118 orthologs in file bayes_flag_sig_Tms_for_UR.csv; these orthologs showed non-biased mapping and were analyzed for homeolog-specific expression analysis (not all 5,400 orthologs showing unbaised mapping have homeolog-specific expression profiles)"
   ]
  },
  {
   "cell_type": "code",
   "execution_count": 1,
   "metadata": {},
   "outputs": [],
   "source": [
    "import pandas as pd\n",
    "import sys\n",
    "import os\n",
    "import glob"
   ]
  },
  {
   "cell_type": "code",
   "execution_count": 2,
   "metadata": {},
   "outputs": [],
   "source": [
    "os.chdir(\"/ufrc/soltis/shan158538/TragFL_NewAnalysis/OutPut/DE_analysis/Tdu_Tpr_voom_Tms/\")"
   ]
  },
  {
   "cell_type": "code",
   "execution_count": 3,
   "metadata": {},
   "outputs": [],
   "source": [
    "df = pd.read_table(\"DE_Tdu_Tpr_min10_3rep.txt\")"
   ]
  },
  {
   "cell_type": "code",
   "execution_count": 4,
   "metadata": {},
   "outputs": [
    {
     "data": {
      "text/html": [
       "<div>\n",
       "<style scoped>\n",
       "    .dataframe tbody tr th:only-of-type {\n",
       "        vertical-align: middle;\n",
       "    }\n",
       "\n",
       "    .dataframe tbody tr th {\n",
       "        vertical-align: top;\n",
       "    }\n",
       "\n",
       "    .dataframe thead th {\n",
       "        text-align: right;\n",
       "    }\n",
       "</style>\n",
       "<table border=\"1\" class=\"dataframe\">\n",
       "  <thead>\n",
       "    <tr style=\"text-align: right;\">\n",
       "      <th></th>\n",
       "      <th>logFC</th>\n",
       "      <th>AveExpr</th>\n",
       "      <th>t</th>\n",
       "      <th>P.Value</th>\n",
       "      <th>adj.P.Val</th>\n",
       "      <th>B</th>\n",
       "    </tr>\n",
       "  </thead>\n",
       "  <tbody>\n",
       "    <tr>\n",
       "      <th>Tpr_TRINITY_DN11257_c2_g1|Tdu_TRINITY_DN16696_c0_g1</th>\n",
       "      <td>-0.053919</td>\n",
       "      <td>6.895379</td>\n",
       "      <td>-0.281253</td>\n",
       "      <td>0.784156</td>\n",
       "      <td>0.886999</td>\n",
       "      <td>-7.095424</td>\n",
       "    </tr>\n",
       "    <tr>\n",
       "      <th>Tpr_TRINITY_DN10844_c2_g7|Tdu_TRINITY_DN25328_c2_g5</th>\n",
       "      <td>-0.498146</td>\n",
       "      <td>7.868020</td>\n",
       "      <td>-2.412156</td>\n",
       "      <td>0.036166</td>\n",
       "      <td>0.145918</td>\n",
       "      <td>-4.727989</td>\n",
       "    </tr>\n",
       "    <tr>\n",
       "      <th>Tpr_TRINITY_DN15383_c4_g16|Tdu_TRINITY_DN14160_c0_g1</th>\n",
       "      <td>0.946122</td>\n",
       "      <td>4.988739</td>\n",
       "      <td>2.952553</td>\n",
       "      <td>0.014224</td>\n",
       "      <td>0.080305</td>\n",
       "      <td>-3.370146</td>\n",
       "    </tr>\n",
       "    <tr>\n",
       "      <th>Tpr_TRINITY_DN1451_c0_g1|Tdu_TRINITY_DN16990_c3_g1</th>\n",
       "      <td>-0.602890</td>\n",
       "      <td>7.031685</td>\n",
       "      <td>-2.933278</td>\n",
       "      <td>0.014705</td>\n",
       "      <td>0.082114</td>\n",
       "      <td>-3.756732</td>\n",
       "    </tr>\n",
       "    <tr>\n",
       "      <th>Tpr_TRINITY_DN10853_c1_g4|Tdu_TRINITY_DN21860_c3_g3</th>\n",
       "      <td>0.015868</td>\n",
       "      <td>9.896010</td>\n",
       "      <td>0.098799</td>\n",
       "      <td>0.923218</td>\n",
       "      <td>0.959452</td>\n",
       "      <td>-7.296158</td>\n",
       "    </tr>\n",
       "  </tbody>\n",
       "</table>\n",
       "</div>"
      ],
      "text/plain": [
       "                                                       logFC    ...            B\n",
       "Tpr_TRINITY_DN11257_c2_g1|Tdu_TRINITY_DN16696_c... -0.053919    ...    -7.095424\n",
       "Tpr_TRINITY_DN10844_c2_g7|Tdu_TRINITY_DN25328_c... -0.498146    ...    -4.727989\n",
       "Tpr_TRINITY_DN15383_c4_g16|Tdu_TRINITY_DN14160_...  0.946122    ...    -3.370146\n",
       "Tpr_TRINITY_DN1451_c0_g1|Tdu_TRINITY_DN16990_c3_g1 -0.602890    ...    -3.756732\n",
       "Tpr_TRINITY_DN10853_c1_g4|Tdu_TRINITY_DN21860_c...  0.015868    ...    -7.296158\n",
       "\n",
       "[5 rows x 6 columns]"
      ]
     },
     "execution_count": 4,
     "metadata": {},
     "output_type": "execute_result"
    }
   ],
   "source": [
    "df.head()"
   ]
  },
  {
   "cell_type": "code",
   "execution_count": 5,
   "metadata": {},
   "outputs": [
    {
     "data": {
      "text/plain": [
       "(8021, 6)"
      ]
     },
     "execution_count": 5,
     "metadata": {},
     "output_type": "execute_result"
    }
   ],
   "source": [
    "df.shape\n",
    "# shows the number of rows and columns, separately"
   ]
  },
  {
   "cell_type": "code",
   "execution_count": 6,
   "metadata": {},
   "outputs": [],
   "source": [
    "unbias = pd.read_csv(\"bayes_flag_sig_Tms_for_UR.csv\", sep = ',')"
   ]
  },
  {
   "cell_type": "code",
   "execution_count": 7,
   "metadata": {},
   "outputs": [
    {
     "data": {
      "text/html": [
       "<div>\n",
       "<style scoped>\n",
       "    .dataframe tbody tr th:only-of-type {\n",
       "        vertical-align: middle;\n",
       "    }\n",
       "\n",
       "    .dataframe tbody tr th {\n",
       "        vertical-align: top;\n",
       "    }\n",
       "\n",
       "    .dataframe thead th {\n",
       "        text-align: right;\n",
       "    }\n",
       "</style>\n",
       "<table border=\"1\" class=\"dataframe\">\n",
       "  <thead>\n",
       "    <tr style=\"text-align: right;\">\n",
       "      <th></th>\n",
       "      <th>commonID</th>\n",
       "      <th>q4_mean_theta</th>\n",
       "      <th>q4_q025</th>\n",
       "      <th>q4_q975</th>\n",
       "      <th>q5_mean_theta</th>\n",
       "      <th>q5_q025</th>\n",
       "      <th>q5_q975</th>\n",
       "      <th>q6_mean_theta</th>\n",
       "      <th>q6_q025</th>\n",
       "      <th>q6_q975</th>\n",
       "      <th>flag_q4_sig</th>\n",
       "      <th>flag_q5_sig</th>\n",
       "      <th>flag_q6_sig</th>\n",
       "      <th>flag_sig_Tms_tdu_tpr</th>\n",
       "    </tr>\n",
       "  </thead>\n",
       "  <tbody>\n",
       "    <tr>\n",
       "      <th>0</th>\n",
       "      <td>Tpr_TRINITY_DN11281_c1_g9|Tdu_TRINITY_DN15992_...</td>\n",
       "      <td>0.712</td>\n",
       "      <td>0.406</td>\n",
       "      <td>0.896</td>\n",
       "      <td>0.669</td>\n",
       "      <td>0.304</td>\n",
       "      <td>0.893</td>\n",
       "      <td>0.645</td>\n",
       "      <td>0.271</td>\n",
       "      <td>0.879</td>\n",
       "      <td>0</td>\n",
       "      <td>0</td>\n",
       "      <td>0</td>\n",
       "      <td>0</td>\n",
       "    </tr>\n",
       "    <tr>\n",
       "      <th>1</th>\n",
       "      <td>Tpr_TRINITY_DN11283_c3_g1|Tdu_TRINITY_DN25596_...</td>\n",
       "      <td>0.608</td>\n",
       "      <td>0.418</td>\n",
       "      <td>0.786</td>\n",
       "      <td>0.529</td>\n",
       "      <td>0.333</td>\n",
       "      <td>0.708</td>\n",
       "      <td>0.446</td>\n",
       "      <td>0.259</td>\n",
       "      <td>0.637</td>\n",
       "      <td>0</td>\n",
       "      <td>0</td>\n",
       "      <td>0</td>\n",
       "      <td>0</td>\n",
       "    </tr>\n",
       "    <tr>\n",
       "      <th>2</th>\n",
       "      <td>Tpr_TRINITY_DN11283_c4_g7|Tdu_TRINITY_DN21302_...</td>\n",
       "      <td>0.297</td>\n",
       "      <td>0.122</td>\n",
       "      <td>0.491</td>\n",
       "      <td>0.229</td>\n",
       "      <td>0.092</td>\n",
       "      <td>0.406</td>\n",
       "      <td>0.168</td>\n",
       "      <td>0.060</td>\n",
       "      <td>0.317</td>\n",
       "      <td>1</td>\n",
       "      <td>1</td>\n",
       "      <td>1</td>\n",
       "      <td>1</td>\n",
       "    </tr>\n",
       "    <tr>\n",
       "      <th>3</th>\n",
       "      <td>Tpr_TRINITY_DN11284_c2_g19|Tdu_TRINITY_DN20652...</td>\n",
       "      <td>0.527</td>\n",
       "      <td>0.284</td>\n",
       "      <td>0.758</td>\n",
       "      <td>0.447</td>\n",
       "      <td>0.202</td>\n",
       "      <td>0.699</td>\n",
       "      <td>0.384</td>\n",
       "      <td>0.169</td>\n",
       "      <td>0.620</td>\n",
       "      <td>0</td>\n",
       "      <td>0</td>\n",
       "      <td>0</td>\n",
       "      <td>0</td>\n",
       "    </tr>\n",
       "    <tr>\n",
       "      <th>4</th>\n",
       "      <td>Tpr_TRINITY_DN11285_c1_g4|Tdu_TRINITY_DN17239_...</td>\n",
       "      <td>0.187</td>\n",
       "      <td>0.093</td>\n",
       "      <td>0.299</td>\n",
       "      <td>0.136</td>\n",
       "      <td>0.065</td>\n",
       "      <td>0.224</td>\n",
       "      <td>0.096</td>\n",
       "      <td>0.048</td>\n",
       "      <td>0.169</td>\n",
       "      <td>1</td>\n",
       "      <td>1</td>\n",
       "      <td>1</td>\n",
       "      <td>1</td>\n",
       "    </tr>\n",
       "  </tbody>\n",
       "</table>\n",
       "</div>"
      ],
      "text/plain": [
       "                                            commonID          ...           flag_sig_Tms_tdu_tpr\n",
       "0  Tpr_TRINITY_DN11281_c1_g9|Tdu_TRINITY_DN15992_...          ...                              0\n",
       "1  Tpr_TRINITY_DN11283_c3_g1|Tdu_TRINITY_DN25596_...          ...                              0\n",
       "2  Tpr_TRINITY_DN11283_c4_g7|Tdu_TRINITY_DN21302_...          ...                              1\n",
       "3  Tpr_TRINITY_DN11284_c2_g19|Tdu_TRINITY_DN20652...          ...                              0\n",
       "4  Tpr_TRINITY_DN11285_c1_g4|Tdu_TRINITY_DN17239_...          ...                              1\n",
       "\n",
       "[5 rows x 14 columns]"
      ]
     },
     "execution_count": 7,
     "metadata": {},
     "output_type": "execute_result"
    }
   ],
   "source": [
    "unbias.head()"
   ]
  },
  {
   "cell_type": "code",
   "execution_count": 8,
   "metadata": {},
   "outputs": [
    {
     "data": {
      "text/plain": [
       "(5118, 14)"
      ]
     },
     "execution_count": 8,
     "metadata": {},
     "output_type": "execute_result"
    }
   ],
   "source": [
    "unbias.shape"
   ]
  },
  {
   "cell_type": "code",
   "execution_count": 9,
   "metadata": {},
   "outputs": [],
   "source": [
    "keys = list(unbias.commonID)\n",
    "# creating a list containing all elements from the column commonID"
   ]
  },
  {
   "cell_type": "code",
   "execution_count": 10,
   "metadata": {},
   "outputs": [
    {
     "data": {
      "text/plain": [
       "5118"
      ]
     },
     "execution_count": 10,
     "metadata": {},
     "output_type": "execute_result"
    }
   ],
   "source": [
    "len(keys)\n",
    "# count the number of elements in the list"
   ]
  },
  {
   "cell_type": "code",
   "execution_count": 11,
   "metadata": {},
   "outputs": [
    {
     "data": {
      "text/plain": [
       "['Tpr_TRINITY_DN11281_c1_g9|Tdu_TRINITY_DN15992_c0_g1',\n",
       " 'Tpr_TRINITY_DN11283_c3_g1|Tdu_TRINITY_DN25596_c4_g2',\n",
       " 'Tpr_TRINITY_DN11283_c4_g7|Tdu_TRINITY_DN21302_c2_g2',\n",
       " 'Tpr_TRINITY_DN11284_c2_g19|Tdu_TRINITY_DN20652_c0_g3',\n",
       " 'Tpr_TRINITY_DN11285_c1_g4|Tdu_TRINITY_DN17239_c2_g3',\n",
       " 'Tpr_TRINITY_DN11294_c1_g1|Tdu_TRINITY_DN19017_c2_g10',\n",
       " 'Tpr_TRINITY_DN11295_c2_g2|Tdu_TRINITY_DN23322_c3_g3',\n",
       " 'Tpr_TRINITY_DN11295_c2_g3|Tdu_TRINITY_DN12723_c0_g1',\n",
       " 'Tpr_TRINITY_DN11296_c5_g1|Tdu_TRINITY_DN20745_c2_g4',\n",
       " 'Tpr_TRINITY_DN11296_c6_g2|Tdu_TRINITY_DN25140_c1_g1']"
      ]
     },
     "execution_count": 11,
     "metadata": {},
     "output_type": "execute_result"
    }
   ],
   "source": [
    "keys[:10]\n",
    "# show the first few elements of the list"
   ]
  },
  {
   "cell_type": "code",
   "execution_count": 12,
   "metadata": {},
   "outputs": [],
   "source": [
    "df_filtered = df[df.index.isin(keys)]\n",
    "# remain the indexes (orthologs names) in df that are shown in the list keys; output is df_filtered"
   ]
  },
  {
   "cell_type": "code",
   "execution_count": 13,
   "metadata": {},
   "outputs": [
    {
     "data": {
      "text/html": [
       "<div>\n",
       "<style scoped>\n",
       "    .dataframe tbody tr th:only-of-type {\n",
       "        vertical-align: middle;\n",
       "    }\n",
       "\n",
       "    .dataframe tbody tr th {\n",
       "        vertical-align: top;\n",
       "    }\n",
       "\n",
       "    .dataframe thead th {\n",
       "        text-align: right;\n",
       "    }\n",
       "</style>\n",
       "<table border=\"1\" class=\"dataframe\">\n",
       "  <thead>\n",
       "    <tr style=\"text-align: right;\">\n",
       "      <th></th>\n",
       "      <th>logFC</th>\n",
       "      <th>AveExpr</th>\n",
       "      <th>t</th>\n",
       "      <th>P.Value</th>\n",
       "      <th>adj.P.Val</th>\n",
       "      <th>B</th>\n",
       "    </tr>\n",
       "  </thead>\n",
       "  <tbody>\n",
       "    <tr>\n",
       "      <th>Tpr_TRINITY_DN10844_c2_g7|Tdu_TRINITY_DN25328_c2_g5</th>\n",
       "      <td>-0.498146</td>\n",
       "      <td>7.868020</td>\n",
       "      <td>-2.412156</td>\n",
       "      <td>0.036166</td>\n",
       "      <td>0.145918</td>\n",
       "      <td>-4.727989</td>\n",
       "    </tr>\n",
       "    <tr>\n",
       "      <th>Tpr_TRINITY_DN15383_c4_g16|Tdu_TRINITY_DN14160_c0_g1</th>\n",
       "      <td>0.946122</td>\n",
       "      <td>4.988739</td>\n",
       "      <td>2.952553</td>\n",
       "      <td>0.014224</td>\n",
       "      <td>0.080305</td>\n",
       "      <td>-3.370146</td>\n",
       "    </tr>\n",
       "    <tr>\n",
       "      <th>Tpr_TRINITY_DN1451_c0_g1|Tdu_TRINITY_DN16990_c3_g1</th>\n",
       "      <td>-0.602890</td>\n",
       "      <td>7.031685</td>\n",
       "      <td>-2.933278</td>\n",
       "      <td>0.014705</td>\n",
       "      <td>0.082114</td>\n",
       "      <td>-3.756732</td>\n",
       "    </tr>\n",
       "    <tr>\n",
       "      <th>Tpr_TRINITY_DN15495_c0_g2|Tdu_TRINITY_DN17403_c2_g1</th>\n",
       "      <td>-0.349150</td>\n",
       "      <td>5.490024</td>\n",
       "      <td>-0.952758</td>\n",
       "      <td>0.362807</td>\n",
       "      <td>0.576710</td>\n",
       "      <td>-6.427812</td>\n",
       "    </tr>\n",
       "    <tr>\n",
       "      <th>Tpr_TRINITY_DN11223_c1_g1|Tdu_TRINITY_DN21812_c3_g7</th>\n",
       "      <td>0.722041</td>\n",
       "      <td>4.923484</td>\n",
       "      <td>2.028315</td>\n",
       "      <td>0.069530</td>\n",
       "      <td>0.217767</td>\n",
       "      <td>-4.884085</td>\n",
       "    </tr>\n",
       "  </tbody>\n",
       "</table>\n",
       "</div>"
      ],
      "text/plain": [
       "                                                       logFC    ...            B\n",
       "Tpr_TRINITY_DN10844_c2_g7|Tdu_TRINITY_DN25328_c... -0.498146    ...    -4.727989\n",
       "Tpr_TRINITY_DN15383_c4_g16|Tdu_TRINITY_DN14160_...  0.946122    ...    -3.370146\n",
       "Tpr_TRINITY_DN1451_c0_g1|Tdu_TRINITY_DN16990_c3_g1 -0.602890    ...    -3.756732\n",
       "Tpr_TRINITY_DN15495_c0_g2|Tdu_TRINITY_DN17403_c... -0.349150    ...    -6.427812\n",
       "Tpr_TRINITY_DN11223_c1_g1|Tdu_TRINITY_DN21812_c...  0.722041    ...    -4.884085\n",
       "\n",
       "[5 rows x 6 columns]"
      ]
     },
     "execution_count": 13,
     "metadata": {},
     "output_type": "execute_result"
    }
   ],
   "source": [
    "df_filtered.head()"
   ]
  },
  {
   "cell_type": "code",
   "execution_count": 14,
   "metadata": {},
   "outputs": [
    {
     "data": {
      "text/plain": [
       "(3704, 6)"
      ]
     },
     "execution_count": 14,
     "metadata": {},
     "output_type": "execute_result"
    }
   ],
   "source": [
    "df_filtered.shape"
   ]
  },
  {
   "cell_type": "markdown",
   "metadata": {},
   "source": [
    "# Among the 8,021 orthologs with DE data, 3,704 showed unbiased mapping and have homeolog-specific expression profiles"
   ]
  },
  {
   "cell_type": "code",
   "execution_count": 15,
   "metadata": {},
   "outputs": [],
   "source": [
    "df_filtered.to_csv(\"DE_Tdu_Tpr_filtered.txt\")"
   ]
  },
  {
   "cell_type": "markdown",
   "metadata": {},
   "source": [
    "# Output file: DE_Tdu_Tpr_filtered.txt"
   ]
  },
  {
   "cell_type": "code",
   "execution_count": 16,
   "metadata": {},
   "outputs": [],
   "source": [
    "Filtered = pd.read_table(\"DE_Tdu_Tpr_filtered.txt\", sep = \",\")"
   ]
  },
  {
   "cell_type": "code",
   "execution_count": 17,
   "metadata": {},
   "outputs": [
    {
     "data": {
      "text/plain": [
       "(3704, 7)"
      ]
     },
     "execution_count": 17,
     "metadata": {},
     "output_type": "execute_result"
    }
   ],
   "source": [
    "Filtered.shape"
   ]
  },
  {
   "cell_type": "code",
   "execution_count": 18,
   "metadata": {},
   "outputs": [
    {
     "data": {
      "text/html": [
       "<div>\n",
       "<style scoped>\n",
       "    .dataframe tbody tr th:only-of-type {\n",
       "        vertical-align: middle;\n",
       "    }\n",
       "\n",
       "    .dataframe tbody tr th {\n",
       "        vertical-align: top;\n",
       "    }\n",
       "\n",
       "    .dataframe thead th {\n",
       "        text-align: right;\n",
       "    }\n",
       "</style>\n",
       "<table border=\"1\" class=\"dataframe\">\n",
       "  <thead>\n",
       "    <tr style=\"text-align: right;\">\n",
       "      <th></th>\n",
       "      <th>Unnamed: 0</th>\n",
       "      <th>logFC</th>\n",
       "      <th>AveExpr</th>\n",
       "      <th>t</th>\n",
       "      <th>P.Value</th>\n",
       "      <th>adj.P.Val</th>\n",
       "      <th>B</th>\n",
       "    </tr>\n",
       "  </thead>\n",
       "  <tbody>\n",
       "    <tr>\n",
       "      <th>0</th>\n",
       "      <td>Tpr_TRINITY_DN10844_c2_g7|Tdu_TRINITY_DN25328_...</td>\n",
       "      <td>-0.498146</td>\n",
       "      <td>7.868020</td>\n",
       "      <td>-2.412156</td>\n",
       "      <td>0.036166</td>\n",
       "      <td>0.145918</td>\n",
       "      <td>-4.727989</td>\n",
       "    </tr>\n",
       "    <tr>\n",
       "      <th>1</th>\n",
       "      <td>Tpr_TRINITY_DN15383_c4_g16|Tdu_TRINITY_DN14160...</td>\n",
       "      <td>0.946122</td>\n",
       "      <td>4.988739</td>\n",
       "      <td>2.952553</td>\n",
       "      <td>0.014224</td>\n",
       "      <td>0.080305</td>\n",
       "      <td>-3.370146</td>\n",
       "    </tr>\n",
       "    <tr>\n",
       "      <th>2</th>\n",
       "      <td>Tpr_TRINITY_DN1451_c0_g1|Tdu_TRINITY_DN16990_c...</td>\n",
       "      <td>-0.602890</td>\n",
       "      <td>7.031685</td>\n",
       "      <td>-2.933278</td>\n",
       "      <td>0.014705</td>\n",
       "      <td>0.082114</td>\n",
       "      <td>-3.756732</td>\n",
       "    </tr>\n",
       "    <tr>\n",
       "      <th>3</th>\n",
       "      <td>Tpr_TRINITY_DN15495_c0_g2|Tdu_TRINITY_DN17403_...</td>\n",
       "      <td>-0.349150</td>\n",
       "      <td>5.490024</td>\n",
       "      <td>-0.952758</td>\n",
       "      <td>0.362807</td>\n",
       "      <td>0.576710</td>\n",
       "      <td>-6.427812</td>\n",
       "    </tr>\n",
       "    <tr>\n",
       "      <th>4</th>\n",
       "      <td>Tpr_TRINITY_DN11223_c1_g1|Tdu_TRINITY_DN21812_...</td>\n",
       "      <td>0.722041</td>\n",
       "      <td>4.923484</td>\n",
       "      <td>2.028315</td>\n",
       "      <td>0.069530</td>\n",
       "      <td>0.217767</td>\n",
       "      <td>-4.884085</td>\n",
       "    </tr>\n",
       "  </tbody>\n",
       "</table>\n",
       "</div>"
      ],
      "text/plain": [
       "                                          Unnamed: 0    ...            B\n",
       "0  Tpr_TRINITY_DN10844_c2_g7|Tdu_TRINITY_DN25328_...    ...    -4.727989\n",
       "1  Tpr_TRINITY_DN15383_c4_g16|Tdu_TRINITY_DN14160...    ...    -3.370146\n",
       "2  Tpr_TRINITY_DN1451_c0_g1|Tdu_TRINITY_DN16990_c...    ...    -3.756732\n",
       "3  Tpr_TRINITY_DN15495_c0_g2|Tdu_TRINITY_DN17403_...    ...    -6.427812\n",
       "4  Tpr_TRINITY_DN11223_c1_g1|Tdu_TRINITY_DN21812_...    ...    -4.884085\n",
       "\n",
       "[5 rows x 7 columns]"
      ]
     },
     "execution_count": 18,
     "metadata": {},
     "output_type": "execute_result"
    }
   ],
   "source": [
    "Filtered.head()"
   ]
  },
  {
   "cell_type": "code",
   "execution_count": 19,
   "metadata": {},
   "outputs": [],
   "source": [
    "Equal = Filtered[Filtered[\"adj.P.Val\"] >= 0.05]"
   ]
  },
  {
   "cell_type": "code",
   "execution_count": 20,
   "metadata": {},
   "outputs": [
    {
     "data": {
      "text/plain": [
       "(3185, 7)"
      ]
     },
     "execution_count": 20,
     "metadata": {},
     "output_type": "execute_result"
    }
   ],
   "source": [
    "Equal.shape"
   ]
  },
  {
   "cell_type": "markdown",
   "metadata": {},
   "source": [
    "# adj.P.Val >= 0.5 means there is no expression difference between Tdu and Tpr; there are 3,185 of them"
   ]
  },
  {
   "cell_type": "code",
   "execution_count": 22,
   "metadata": {},
   "outputs": [
    {
     "data": {
      "text/html": [
       "<div>\n",
       "<style scoped>\n",
       "    .dataframe tbody tr th:only-of-type {\n",
       "        vertical-align: middle;\n",
       "    }\n",
       "\n",
       "    .dataframe tbody tr th {\n",
       "        vertical-align: top;\n",
       "    }\n",
       "\n",
       "    .dataframe thead th {\n",
       "        text-align: right;\n",
       "    }\n",
       "</style>\n",
       "<table border=\"1\" class=\"dataframe\">\n",
       "  <thead>\n",
       "    <tr style=\"text-align: right;\">\n",
       "      <th></th>\n",
       "      <th>Unnamed: 0</th>\n",
       "      <th>logFC</th>\n",
       "      <th>AveExpr</th>\n",
       "      <th>t</th>\n",
       "      <th>P.Value</th>\n",
       "      <th>adj.P.Val</th>\n",
       "      <th>B</th>\n",
       "    </tr>\n",
       "  </thead>\n",
       "  <tbody>\n",
       "    <tr>\n",
       "      <th>0</th>\n",
       "      <td>Tpr_TRINITY_DN10844_c2_g7|Tdu_TRINITY_DN25328_...</td>\n",
       "      <td>-0.498146</td>\n",
       "      <td>7.868020</td>\n",
       "      <td>-2.412156</td>\n",
       "      <td>0.036166</td>\n",
       "      <td>0.145918</td>\n",
       "      <td>-4.727989</td>\n",
       "    </tr>\n",
       "    <tr>\n",
       "      <th>1</th>\n",
       "      <td>Tpr_TRINITY_DN15383_c4_g16|Tdu_TRINITY_DN14160...</td>\n",
       "      <td>0.946122</td>\n",
       "      <td>4.988739</td>\n",
       "      <td>2.952553</td>\n",
       "      <td>0.014224</td>\n",
       "      <td>0.080305</td>\n",
       "      <td>-3.370146</td>\n",
       "    </tr>\n",
       "    <tr>\n",
       "      <th>2</th>\n",
       "      <td>Tpr_TRINITY_DN1451_c0_g1|Tdu_TRINITY_DN16990_c...</td>\n",
       "      <td>-0.602890</td>\n",
       "      <td>7.031685</td>\n",
       "      <td>-2.933278</td>\n",
       "      <td>0.014705</td>\n",
       "      <td>0.082114</td>\n",
       "      <td>-3.756732</td>\n",
       "    </tr>\n",
       "    <tr>\n",
       "      <th>3</th>\n",
       "      <td>Tpr_TRINITY_DN15495_c0_g2|Tdu_TRINITY_DN17403_...</td>\n",
       "      <td>-0.349150</td>\n",
       "      <td>5.490024</td>\n",
       "      <td>-0.952758</td>\n",
       "      <td>0.362807</td>\n",
       "      <td>0.576710</td>\n",
       "      <td>-6.427812</td>\n",
       "    </tr>\n",
       "    <tr>\n",
       "      <th>4</th>\n",
       "      <td>Tpr_TRINITY_DN11223_c1_g1|Tdu_TRINITY_DN21812_...</td>\n",
       "      <td>0.722041</td>\n",
       "      <td>4.923484</td>\n",
       "      <td>2.028315</td>\n",
       "      <td>0.069530</td>\n",
       "      <td>0.217767</td>\n",
       "      <td>-4.884085</td>\n",
       "    </tr>\n",
       "  </tbody>\n",
       "</table>\n",
       "</div>"
      ],
      "text/plain": [
       "                                          Unnamed: 0    ...            B\n",
       "0  Tpr_TRINITY_DN10844_c2_g7|Tdu_TRINITY_DN25328_...    ...    -4.727989\n",
       "1  Tpr_TRINITY_DN15383_c4_g16|Tdu_TRINITY_DN14160...    ...    -3.370146\n",
       "2  Tpr_TRINITY_DN1451_c0_g1|Tdu_TRINITY_DN16990_c...    ...    -3.756732\n",
       "3  Tpr_TRINITY_DN15495_c0_g2|Tdu_TRINITY_DN17403_...    ...    -6.427812\n",
       "4  Tpr_TRINITY_DN11223_c1_g1|Tdu_TRINITY_DN21812_...    ...    -4.884085\n",
       "\n",
       "[5 rows x 7 columns]"
      ]
     },
     "execution_count": 22,
     "metadata": {},
     "output_type": "execute_result"
    }
   ],
   "source": [
    "Equal.head()"
   ]
  },
  {
   "cell_type": "markdown",
   "metadata": {},
   "source": [
    "# adj.P.Val < 0.5 means the expression level is significantly different between Tdu and Tpr\n",
    "# If logFC is larger than 0, Tdu > Tpr; if logFC is smaller than 0, Tdu < Tpr\n",
    "# 242 orthologs have higher expression in Tdu; 277 orthologs expressed higher in Tpr"
   ]
  },
  {
   "cell_type": "code",
   "execution_count": 23,
   "metadata": {},
   "outputs": [],
   "source": [
    "Tdu_higher = Filtered[(Filtered[\"adj.P.Val\"] < 0.05) & (Filtered[\"logFC\"] > 0)]"
   ]
  },
  {
   "cell_type": "code",
   "execution_count": 24,
   "metadata": {},
   "outputs": [
    {
     "data": {
      "text/plain": [
       "(242, 7)"
      ]
     },
     "execution_count": 24,
     "metadata": {},
     "output_type": "execute_result"
    }
   ],
   "source": [
    "Tdu_higher.shape"
   ]
  },
  {
   "cell_type": "code",
   "execution_count": 25,
   "metadata": {},
   "outputs": [
    {
     "data": {
      "text/html": [
       "<div>\n",
       "<style scoped>\n",
       "    .dataframe tbody tr th:only-of-type {\n",
       "        vertical-align: middle;\n",
       "    }\n",
       "\n",
       "    .dataframe tbody tr th {\n",
       "        vertical-align: top;\n",
       "    }\n",
       "\n",
       "    .dataframe thead th {\n",
       "        text-align: right;\n",
       "    }\n",
       "</style>\n",
       "<table border=\"1\" class=\"dataframe\">\n",
       "  <thead>\n",
       "    <tr style=\"text-align: right;\">\n",
       "      <th></th>\n",
       "      <th>Unnamed: 0</th>\n",
       "      <th>logFC</th>\n",
       "      <th>AveExpr</th>\n",
       "      <th>t</th>\n",
       "      <th>P.Value</th>\n",
       "      <th>adj.P.Val</th>\n",
       "      <th>B</th>\n",
       "    </tr>\n",
       "  </thead>\n",
       "  <tbody>\n",
       "    <tr>\n",
       "      <th>5</th>\n",
       "      <td>Tpr_TRINITY_DN14551_c1_g11|Tdu_TRINITY_DN21735...</td>\n",
       "      <td>1.608699</td>\n",
       "      <td>5.264280</td>\n",
       "      <td>5.063101</td>\n",
       "      <td>0.000465</td>\n",
       "      <td>0.009633</td>\n",
       "      <td>0.069893</td>\n",
       "    </tr>\n",
       "    <tr>\n",
       "      <th>6</th>\n",
       "      <td>Tpr_TRINITY_DN13298_c1_g1|Tdu_TRINITY_DN18431_...</td>\n",
       "      <td>2.038795</td>\n",
       "      <td>5.421352</td>\n",
       "      <td>4.974628</td>\n",
       "      <td>0.000530</td>\n",
       "      <td>0.010554</td>\n",
       "      <td>-0.073649</td>\n",
       "    </tr>\n",
       "    <tr>\n",
       "      <th>16</th>\n",
       "      <td>Tpr_TRINITY_DN10516_c1_g3|Tdu_TRINITY_DN19561_...</td>\n",
       "      <td>0.735129</td>\n",
       "      <td>7.838608</td>\n",
       "      <td>4.227463</td>\n",
       "      <td>0.001686</td>\n",
       "      <td>0.021202</td>\n",
       "      <td>-1.617311</td>\n",
       "    </tr>\n",
       "    <tr>\n",
       "      <th>27</th>\n",
       "      <td>Tpr_TRINITY_DN12437_c6_g1|Tdu_TRINITY_DN18152_...</td>\n",
       "      <td>1.131864</td>\n",
       "      <td>6.050098</td>\n",
       "      <td>4.939526</td>\n",
       "      <td>0.000559</td>\n",
       "      <td>0.010840</td>\n",
       "      <td>-0.266452</td>\n",
       "    </tr>\n",
       "    <tr>\n",
       "      <th>64</th>\n",
       "      <td>Tpr_TRINITY_DN12896_c9_g2|Tdu_TRINITY_DN20213_...</td>\n",
       "      <td>2.546374</td>\n",
       "      <td>3.495629</td>\n",
       "      <td>5.098615</td>\n",
       "      <td>0.000441</td>\n",
       "      <td>0.009395</td>\n",
       "      <td>0.336569</td>\n",
       "    </tr>\n",
       "  </tbody>\n",
       "</table>\n",
       "</div>"
      ],
      "text/plain": [
       "                                           Unnamed: 0    ...            B\n",
       "5   Tpr_TRINITY_DN14551_c1_g11|Tdu_TRINITY_DN21735...    ...     0.069893\n",
       "6   Tpr_TRINITY_DN13298_c1_g1|Tdu_TRINITY_DN18431_...    ...    -0.073649\n",
       "16  Tpr_TRINITY_DN10516_c1_g3|Tdu_TRINITY_DN19561_...    ...    -1.617311\n",
       "27  Tpr_TRINITY_DN12437_c6_g1|Tdu_TRINITY_DN18152_...    ...    -0.266452\n",
       "64  Tpr_TRINITY_DN12896_c9_g2|Tdu_TRINITY_DN20213_...    ...     0.336569\n",
       "\n",
       "[5 rows x 7 columns]"
      ]
     },
     "execution_count": 25,
     "metadata": {},
     "output_type": "execute_result"
    }
   ],
   "source": [
    "Tdu_higher.head()"
   ]
  },
  {
   "cell_type": "code",
   "execution_count": 26,
   "metadata": {},
   "outputs": [],
   "source": [
    "Tpr_higher = Filtered[(Filtered[\"adj.P.Val\"] < 0.05) & (Filtered[\"logFC\"] < 0)]"
   ]
  },
  {
   "cell_type": "code",
   "execution_count": 27,
   "metadata": {},
   "outputs": [
    {
     "data": {
      "text/plain": [
       "(277, 7)"
      ]
     },
     "execution_count": 27,
     "metadata": {},
     "output_type": "execute_result"
    }
   ],
   "source": [
    "Tpr_higher.shape"
   ]
  },
  {
   "cell_type": "code",
   "execution_count": 28,
   "metadata": {},
   "outputs": [
    {
     "data": {
      "text/html": [
       "<div>\n",
       "<style scoped>\n",
       "    .dataframe tbody tr th:only-of-type {\n",
       "        vertical-align: middle;\n",
       "    }\n",
       "\n",
       "    .dataframe tbody tr th {\n",
       "        vertical-align: top;\n",
       "    }\n",
       "\n",
       "    .dataframe thead th {\n",
       "        text-align: right;\n",
       "    }\n",
       "</style>\n",
       "<table border=\"1\" class=\"dataframe\">\n",
       "  <thead>\n",
       "    <tr style=\"text-align: right;\">\n",
       "      <th></th>\n",
       "      <th>Unnamed: 0</th>\n",
       "      <th>logFC</th>\n",
       "      <th>AveExpr</th>\n",
       "      <th>t</th>\n",
       "      <th>P.Value</th>\n",
       "      <th>adj.P.Val</th>\n",
       "      <th>B</th>\n",
       "    </tr>\n",
       "  </thead>\n",
       "  <tbody>\n",
       "    <tr>\n",
       "      <th>18</th>\n",
       "      <td>Tpr_TRINITY_DN11462_c1_g3|Tdu_TRINITY_DN18955_...</td>\n",
       "      <td>-2.589412</td>\n",
       "      <td>5.504001</td>\n",
       "      <td>-5.932770</td>\n",
       "      <td>1.350532e-04</td>\n",
       "      <td>0.004299</td>\n",
       "      <td>1.336065</td>\n",
       "    </tr>\n",
       "    <tr>\n",
       "      <th>28</th>\n",
       "      <td>Tpr_TRINITY_DN12134_c0_g2|Tdu_TRINITY_DN21624_...</td>\n",
       "      <td>-0.771536</td>\n",
       "      <td>7.727679</td>\n",
       "      <td>-4.097220</td>\n",
       "      <td>2.079571e-03</td>\n",
       "      <td>0.024000</td>\n",
       "      <td>-1.827389</td>\n",
       "    </tr>\n",
       "    <tr>\n",
       "      <th>54</th>\n",
       "      <td>Tpr_TRINITY_DN13550_c0_g1|Tdu_TRINITY_DN10834_...</td>\n",
       "      <td>-2.391032</td>\n",
       "      <td>3.769412</td>\n",
       "      <td>-5.026534</td>\n",
       "      <td>4.907384e-04</td>\n",
       "      <td>0.010027</td>\n",
       "      <td>0.234267</td>\n",
       "    </tr>\n",
       "    <tr>\n",
       "      <th>78</th>\n",
       "      <td>Tpr_TRINITY_DN14494_c6_g4|Tdu_TRINITY_DN18357_...</td>\n",
       "      <td>-3.174016</td>\n",
       "      <td>5.219039</td>\n",
       "      <td>-7.521685</td>\n",
       "      <td>1.829119e-05</td>\n",
       "      <td>0.001595</td>\n",
       "      <td>3.371324</td>\n",
       "    </tr>\n",
       "    <tr>\n",
       "      <th>97</th>\n",
       "      <td>Tpr_TRINITY_DN12124_c1_g1|Tdu_TRINITY_DN20551_...</td>\n",
       "      <td>-3.353028</td>\n",
       "      <td>6.871361</td>\n",
       "      <td>-10.430288</td>\n",
       "      <td>9.384708e-07</td>\n",
       "      <td>0.000324</td>\n",
       "      <td>6.267121</td>\n",
       "    </tr>\n",
       "  </tbody>\n",
       "</table>\n",
       "</div>"
      ],
      "text/plain": [
       "                                           Unnamed: 0    ...            B\n",
       "18  Tpr_TRINITY_DN11462_c1_g3|Tdu_TRINITY_DN18955_...    ...     1.336065\n",
       "28  Tpr_TRINITY_DN12134_c0_g2|Tdu_TRINITY_DN21624_...    ...    -1.827389\n",
       "54  Tpr_TRINITY_DN13550_c0_g1|Tdu_TRINITY_DN10834_...    ...     0.234267\n",
       "78  Tpr_TRINITY_DN14494_c6_g4|Tdu_TRINITY_DN18357_...    ...     3.371324\n",
       "97  Tpr_TRINITY_DN12124_c1_g1|Tdu_TRINITY_DN20551_...    ...     6.267121\n",
       "\n",
       "[5 rows x 7 columns]"
      ]
     },
     "execution_count": 28,
     "metadata": {},
     "output_type": "execute_result"
    }
   ],
   "source": [
    "Tpr_higher.head()"
   ]
  },
  {
   "cell_type": "code",
   "execution_count": 29,
   "metadata": {},
   "outputs": [],
   "source": [
    "Equal.to_csv(\"DE_Tdu_Tpr_filtered_not_sig_loci.txt\", index=False)\n",
    "Tdu_higher.to_csv(\"DE_Tdu_Tpr_filtered_sig_loci_Tdu_higher.txt\", index=False)\n",
    "Tpr_higher.to_csv(\"DE_Tdu_Tpr_filtered_sig_loci_Tpr_higher.txt\", index=False)"
   ]
  },
  {
   "cell_type": "code",
   "execution_count": null,
   "metadata": {},
   "outputs": [],
   "source": []
  }
 ],
 "metadata": {
  "kernelspec": {
   "display_name": "Python 3.6. (full)",
   "language": "python",
   "name": "python3-3.6-ufrc"
  },
  "language_info": {
   "codemirror_mode": {
    "name": "ipython",
    "version": 3
   },
   "file_extension": ".py",
   "mimetype": "text/x-python",
   "name": "python",
   "nbconvert_exporter": "python",
   "pygments_lexer": "ipython3",
   "version": "3.6.5"
  }
 },
 "nbformat": 4,
 "nbformat_minor": 4
}
