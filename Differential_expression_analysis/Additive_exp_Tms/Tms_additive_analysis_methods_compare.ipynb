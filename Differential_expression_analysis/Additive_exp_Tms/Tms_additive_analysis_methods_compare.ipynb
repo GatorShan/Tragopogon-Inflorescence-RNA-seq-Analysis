{
 "cells": [
  {
   "cell_type": "code",
   "execution_count": 1,
   "metadata": {},
   "outputs": [],
   "source": [
    "import pandas as pd\n",
    "import os"
   ]
  },
  {
   "cell_type": "code",
   "execution_count": 2,
   "metadata": {},
   "outputs": [],
   "source": [
    "os.chdir(\"/ufrc/soltis/shan158538/TragFL_NewAnalysis/OutPut/DE_analysis/Additive_expression_Tms/\")"
   ]
  },
  {
   "cell_type": "code",
   "execution_count": 3,
   "metadata": {},
   "outputs": [],
   "source": [
    "## Input files\n",
    "DESeq2_result = pd.read_table(\"DESeq2_Tms_nonAdditive_loci.txt\", sep = \"\\t\")"
   ]
  },
  {
   "cell_type": "code",
   "execution_count": 10,
   "metadata": {},
   "outputs": [
    {
     "data": {
      "text/plain": [
       "(1768, 6)"
      ]
     },
     "execution_count": 10,
     "metadata": {},
     "output_type": "execute_result"
    }
   ],
   "source": [
    "DESeq2_result.shape"
   ]
  },
  {
   "cell_type": "code",
   "execution_count": 4,
   "metadata": {},
   "outputs": [
    {
     "data": {
      "text/html": [
       "<div>\n",
       "<style scoped>\n",
       "    .dataframe tbody tr th:only-of-type {\n",
       "        vertical-align: middle;\n",
       "    }\n",
       "\n",
       "    .dataframe tbody tr th {\n",
       "        vertical-align: top;\n",
       "    }\n",
       "\n",
       "    .dataframe thead th {\n",
       "        text-align: right;\n",
       "    }\n",
       "</style>\n",
       "<table border=\"1\" class=\"dataframe\">\n",
       "  <thead>\n",
       "    <tr style=\"text-align: right;\">\n",
       "      <th></th>\n",
       "      <th>baseMean</th>\n",
       "      <th>log2FoldChange</th>\n",
       "      <th>lfcSE</th>\n",
       "      <th>stat</th>\n",
       "      <th>pvalue</th>\n",
       "      <th>padj</th>\n",
       "    </tr>\n",
       "  </thead>\n",
       "  <tbody>\n",
       "    <tr>\n",
       "      <th>Tpr_TRINITY_DN1451_c0_g1|Tdu_TRINITY_DN16990_c3_g1</th>\n",
       "      <td>100.236819</td>\n",
       "      <td>-0.763688</td>\n",
       "      <td>0.193003</td>\n",
       "      <td>-3.956875</td>\n",
       "      <td>0.000076</td>\n",
       "      <td>0.001337</td>\n",
       "    </tr>\n",
       "    <tr>\n",
       "      <th>Tpr_TRINITY_DN10853_c1_g4|Tdu_TRINITY_DN21860_c3_g3</th>\n",
       "      <td>750.334395</td>\n",
       "      <td>-0.479181</td>\n",
       "      <td>0.138326</td>\n",
       "      <td>-3.464133</td>\n",
       "      <td>0.000532</td>\n",
       "      <td>0.006242</td>\n",
       "    </tr>\n",
       "    <tr>\n",
       "      <th>Tpr_TRINITY_DN12798_c2_g2|Tdu_TRINITY_DN24179_c2_g3</th>\n",
       "      <td>58.686028</td>\n",
       "      <td>0.962326</td>\n",
       "      <td>0.245485</td>\n",
       "      <td>3.920107</td>\n",
       "      <td>0.000089</td>\n",
       "      <td>0.001516</td>\n",
       "    </tr>\n",
       "    <tr>\n",
       "      <th>Tpr_TRINITY_DN8521_c0_g1|Tdu_TRINITY_DN16367_c0_g1</th>\n",
       "      <td>4.080691</td>\n",
       "      <td>1.373128</td>\n",
       "      <td>0.519888</td>\n",
       "      <td>2.641200</td>\n",
       "      <td>0.008261</td>\n",
       "      <td>0.048222</td>\n",
       "    </tr>\n",
       "    <tr>\n",
       "      <th>Tpr_TRINITY_DN11678_c3_g2|Tdu_TRINITY_DN24143_c2_g2</th>\n",
       "      <td>57.367802</td>\n",
       "      <td>1.781473</td>\n",
       "      <td>0.431114</td>\n",
       "      <td>4.132252</td>\n",
       "      <td>0.000036</td>\n",
       "      <td>0.000751</td>\n",
       "    </tr>\n",
       "  </tbody>\n",
       "</table>\n",
       "</div>"
      ],
      "text/plain": [
       "                                                      baseMean    ...         padj\n",
       "Tpr_TRINITY_DN1451_c0_g1|Tdu_TRINITY_DN16990_c3_g1  100.236819    ...     0.001337\n",
       "Tpr_TRINITY_DN10853_c1_g4|Tdu_TRINITY_DN21860_c...  750.334395    ...     0.006242\n",
       "Tpr_TRINITY_DN12798_c2_g2|Tdu_TRINITY_DN24179_c...   58.686028    ...     0.001516\n",
       "Tpr_TRINITY_DN8521_c0_g1|Tdu_TRINITY_DN16367_c0_g1    4.080691    ...     0.048222\n",
       "Tpr_TRINITY_DN11678_c3_g2|Tdu_TRINITY_DN24143_c...   57.367802    ...     0.000751\n",
       "\n",
       "[5 rows x 6 columns]"
      ]
     },
     "execution_count": 4,
     "metadata": {},
     "output_type": "execute_result"
    }
   ],
   "source": [
    "DESeq2_result.head()"
   ]
  },
  {
   "cell_type": "code",
   "execution_count": 5,
   "metadata": {},
   "outputs": [],
   "source": [
    "Limma_result = pd.read_table(\"DE_additive_Tdu_Tpr-Tms_sig_loci.txt\", sep = \",\")"
   ]
  },
  {
   "cell_type": "code",
   "execution_count": 11,
   "metadata": {},
   "outputs": [
    {
     "data": {
      "text/plain": [
       "(1312, 7)"
      ]
     },
     "execution_count": 11,
     "metadata": {},
     "output_type": "execute_result"
    }
   ],
   "source": [
    "Limma_result.shape"
   ]
  },
  {
   "cell_type": "code",
   "execution_count": 6,
   "metadata": {},
   "outputs": [
    {
     "data": {
      "text/html": [
       "<div>\n",
       "<style scoped>\n",
       "    .dataframe tbody tr th:only-of-type {\n",
       "        vertical-align: middle;\n",
       "    }\n",
       "\n",
       "    .dataframe tbody tr th {\n",
       "        vertical-align: top;\n",
       "    }\n",
       "\n",
       "    .dataframe thead th {\n",
       "        text-align: right;\n",
       "    }\n",
       "</style>\n",
       "<table border=\"1\" class=\"dataframe\">\n",
       "  <thead>\n",
       "    <tr style=\"text-align: right;\">\n",
       "      <th></th>\n",
       "      <th>Unnamed: 0</th>\n",
       "      <th>logFC</th>\n",
       "      <th>AveExpr</th>\n",
       "      <th>t</th>\n",
       "      <th>P.Value</th>\n",
       "      <th>adj.P.Val</th>\n",
       "      <th>B</th>\n",
       "    </tr>\n",
       "  </thead>\n",
       "  <tbody>\n",
       "    <tr>\n",
       "      <th>0</th>\n",
       "      <td>Tpr_TRINITY_DN12798_c2_g2|Tdu_TRINITY_DN24179_...</td>\n",
       "      <td>-1.253555</td>\n",
       "      <td>6.081478</td>\n",
       "      <td>-4.879177</td>\n",
       "      <td>0.000311</td>\n",
       "      <td>0.009613</td>\n",
       "      <td>0.376765</td>\n",
       "    </tr>\n",
       "    <tr>\n",
       "      <th>1</th>\n",
       "      <td>Tpr_TRINITY_DN11678_c3_g2|Tdu_TRINITY_DN24143_...</td>\n",
       "      <td>-2.645252</td>\n",
       "      <td>5.425716</td>\n",
       "      <td>-4.648143</td>\n",
       "      <td>0.000469</td>\n",
       "      <td>0.011362</td>\n",
       "      <td>0.124218</td>\n",
       "    </tr>\n",
       "    <tr>\n",
       "      <th>2</th>\n",
       "      <td>Tpr_TRINITY_DN13683_c4_g1|Tdu_TRINITY_DN22426_...</td>\n",
       "      <td>-1.085237</td>\n",
       "      <td>4.607864</td>\n",
       "      <td>-3.826065</td>\n",
       "      <td>0.002141</td>\n",
       "      <td>0.024171</td>\n",
       "      <td>-1.330421</td>\n",
       "    </tr>\n",
       "    <tr>\n",
       "      <th>3</th>\n",
       "      <td>Tpr_TRINITY_DN13082_c0_g7|Tdu_TRINITY_DN20860_...</td>\n",
       "      <td>-1.062185</td>\n",
       "      <td>4.926083</td>\n",
       "      <td>-4.219143</td>\n",
       "      <td>0.001027</td>\n",
       "      <td>0.016478</td>\n",
       "      <td>-0.662058</td>\n",
       "    </tr>\n",
       "    <tr>\n",
       "      <th>4</th>\n",
       "      <td>Tpr_TRINITY_DN14614_c1_g6|Tdu_TRINITY_DN1401_c...</td>\n",
       "      <td>1.167942</td>\n",
       "      <td>6.287362</td>\n",
       "      <td>3.873338</td>\n",
       "      <td>0.001959</td>\n",
       "      <td>0.023035</td>\n",
       "      <td>-1.350833</td>\n",
       "    </tr>\n",
       "  </tbody>\n",
       "</table>\n",
       "</div>"
      ],
      "text/plain": [
       "                                          Unnamed: 0    ...            B\n",
       "0  Tpr_TRINITY_DN12798_c2_g2|Tdu_TRINITY_DN24179_...    ...     0.376765\n",
       "1  Tpr_TRINITY_DN11678_c3_g2|Tdu_TRINITY_DN24143_...    ...     0.124218\n",
       "2  Tpr_TRINITY_DN13683_c4_g1|Tdu_TRINITY_DN22426_...    ...    -1.330421\n",
       "3  Tpr_TRINITY_DN13082_c0_g7|Tdu_TRINITY_DN20860_...    ...    -0.662058\n",
       "4  Tpr_TRINITY_DN14614_c1_g6|Tdu_TRINITY_DN1401_c...    ...    -1.350833\n",
       "\n",
       "[5 rows x 7 columns]"
      ]
     },
     "execution_count": 6,
     "metadata": {},
     "output_type": "execute_result"
    }
   ],
   "source": [
    "Limma_result.head()"
   ]
  },
  {
   "cell_type": "code",
   "execution_count": 7,
   "metadata": {},
   "outputs": [],
   "source": [
    "Shared = pd.merge(DESeq2_result, Limma_result, how='inner', left_index=True, right_on=[\"Unnamed: 0\"])"
   ]
  },
  {
   "cell_type": "code",
   "execution_count": 8,
   "metadata": {},
   "outputs": [
    {
     "data": {
      "text/plain": [
       "(1013, 13)"
      ]
     },
     "execution_count": 8,
     "metadata": {},
     "output_type": "execute_result"
    }
   ],
   "source": [
    "Shared.shape"
   ]
  },
  {
   "cell_type": "code",
   "execution_count": 9,
   "metadata": {},
   "outputs": [
    {
     "data": {
      "text/html": [
       "<div>\n",
       "<style scoped>\n",
       "    .dataframe tbody tr th:only-of-type {\n",
       "        vertical-align: middle;\n",
       "    }\n",
       "\n",
       "    .dataframe tbody tr th {\n",
       "        vertical-align: top;\n",
       "    }\n",
       "\n",
       "    .dataframe thead th {\n",
       "        text-align: right;\n",
       "    }\n",
       "</style>\n",
       "<table border=\"1\" class=\"dataframe\">\n",
       "  <thead>\n",
       "    <tr style=\"text-align: right;\">\n",
       "      <th></th>\n",
       "      <th>baseMean</th>\n",
       "      <th>log2FoldChange</th>\n",
       "      <th>lfcSE</th>\n",
       "      <th>stat</th>\n",
       "      <th>pvalue</th>\n",
       "      <th>padj</th>\n",
       "      <th>Unnamed: 0</th>\n",
       "      <th>logFC</th>\n",
       "      <th>AveExpr</th>\n",
       "      <th>t</th>\n",
       "      <th>P.Value</th>\n",
       "      <th>adj.P.Val</th>\n",
       "      <th>B</th>\n",
       "    </tr>\n",
       "  </thead>\n",
       "  <tbody>\n",
       "    <tr>\n",
       "      <th>0</th>\n",
       "      <td>58.686028</td>\n",
       "      <td>0.962326</td>\n",
       "      <td>0.245485</td>\n",
       "      <td>3.920107</td>\n",
       "      <td>0.000089</td>\n",
       "      <td>0.001516</td>\n",
       "      <td>Tpr_TRINITY_DN12798_c2_g2|Tdu_TRINITY_DN24179_...</td>\n",
       "      <td>-1.253555</td>\n",
       "      <td>6.081478</td>\n",
       "      <td>-4.879177</td>\n",
       "      <td>0.000311</td>\n",
       "      <td>0.009613</td>\n",
       "      <td>0.376765</td>\n",
       "    </tr>\n",
       "    <tr>\n",
       "      <th>1</th>\n",
       "      <td>57.367802</td>\n",
       "      <td>1.781473</td>\n",
       "      <td>0.431114</td>\n",
       "      <td>4.132252</td>\n",
       "      <td>0.000036</td>\n",
       "      <td>0.000751</td>\n",
       "      <td>Tpr_TRINITY_DN11678_c3_g2|Tdu_TRINITY_DN24143_...</td>\n",
       "      <td>-2.645252</td>\n",
       "      <td>5.425716</td>\n",
       "      <td>-4.648143</td>\n",
       "      <td>0.000469</td>\n",
       "      <td>0.011362</td>\n",
       "      <td>0.124218</td>\n",
       "    </tr>\n",
       "    <tr>\n",
       "      <th>2</th>\n",
       "      <td>20.461439</td>\n",
       "      <td>0.844411</td>\n",
       "      <td>0.290551</td>\n",
       "      <td>2.906239</td>\n",
       "      <td>0.003658</td>\n",
       "      <td>0.026416</td>\n",
       "      <td>Tpr_TRINITY_DN13683_c4_g1|Tdu_TRINITY_DN22426_...</td>\n",
       "      <td>-1.085237</td>\n",
       "      <td>4.607864</td>\n",
       "      <td>-3.826065</td>\n",
       "      <td>0.002141</td>\n",
       "      <td>0.024171</td>\n",
       "      <td>-1.330421</td>\n",
       "    </tr>\n",
       "    <tr>\n",
       "      <th>4</th>\n",
       "      <td>69.575222</td>\n",
       "      <td>-1.127549</td>\n",
       "      <td>0.298756</td>\n",
       "      <td>-3.774142</td>\n",
       "      <td>0.000161</td>\n",
       "      <td>0.002451</td>\n",
       "      <td>Tpr_TRINITY_DN14614_c1_g6|Tdu_TRINITY_DN1401_c...</td>\n",
       "      <td>1.167942</td>\n",
       "      <td>6.287362</td>\n",
       "      <td>3.873338</td>\n",
       "      <td>0.001959</td>\n",
       "      <td>0.023035</td>\n",
       "      <td>-1.350833</td>\n",
       "    </tr>\n",
       "    <tr>\n",
       "      <th>5</th>\n",
       "      <td>18.403122</td>\n",
       "      <td>1.404077</td>\n",
       "      <td>0.390851</td>\n",
       "      <td>3.592357</td>\n",
       "      <td>0.000328</td>\n",
       "      <td>0.004328</td>\n",
       "      <td>Tpr_TRINITY_DN13868_c2_g1|Tdu_TRINITY_DN24297_...</td>\n",
       "      <td>-2.146533</td>\n",
       "      <td>4.102074</td>\n",
       "      <td>-4.876018</td>\n",
       "      <td>0.000313</td>\n",
       "      <td>0.009613</td>\n",
       "      <td>0.548669</td>\n",
       "    </tr>\n",
       "  </tbody>\n",
       "</table>\n",
       "</div>"
      ],
      "text/plain": [
       "    baseMean  log2FoldChange     lfcSE    ...      P.Value  adj.P.Val         B\n",
       "0  58.686028        0.962326  0.245485    ...     0.000311   0.009613  0.376765\n",
       "1  57.367802        1.781473  0.431114    ...     0.000469   0.011362  0.124218\n",
       "2  20.461439        0.844411  0.290551    ...     0.002141   0.024171 -1.330421\n",
       "4  69.575222       -1.127549  0.298756    ...     0.001959   0.023035 -1.350833\n",
       "5  18.403122        1.404077  0.390851    ...     0.000313   0.009613  0.548669\n",
       "\n",
       "[5 rows x 13 columns]"
      ]
     },
     "execution_count": 9,
     "metadata": {},
     "output_type": "execute_result"
    }
   ],
   "source": [
    "Shared.head()"
   ]
  },
  {
   "cell_type": "markdown",
   "metadata": {},
   "source": [
    "### In Tms, the number of none-additive loci that are identified by both DESeq2 and Limma is 1,013\n",
    "### DESeq2 identified 1,768 none-additive loci\n",
    "### Limma identified 1,312 none-additive loci"
   ]
  },
  {
   "cell_type": "code",
   "execution_count": null,
   "metadata": {},
   "outputs": [],
   "source": []
  }
 ],
 "metadata": {
  "kernelspec": {
   "display_name": "Python 3.6. (full)",
   "language": "python",
   "name": "python3-3.6-ufrc"
  },
  "language_info": {
   "codemirror_mode": {
    "name": "ipython",
    "version": 3
   },
   "file_extension": ".py",
   "mimetype": "text/x-python",
   "name": "python",
   "nbconvert_exporter": "python",
   "pygments_lexer": "ipython3",
   "version": "3.6.5"
  }
 },
 "nbformat": 4,
 "nbformat_minor": 4
}
