{
 "cells": [
  {
   "cell_type": "markdown",
   "metadata": {},
   "source": [
    "# Filtering DE_Tdu_Tpr_for_Tml\n",
    "# Input Tdu_Tpr_voom_Tml/DE_Tdu_Tpr_min10_3rep.txt\n",
    "# 5,137 orthologs in file bayes_flag_sig_Tml_for_UR.csv; these orthologs showed non-biased mapping and were analyzed for homeolog-specific expression analysis (not all 5,400 orthologs showing unbaised mapping have homeolog-specific expression profiles)"
   ]
  },
  {
   "cell_type": "code",
   "execution_count": 1,
   "metadata": {},
   "outputs": [],
   "source": [
    "import pandas as pd\n",
    "import sys\n",
    "import os\n",
    "import glob"
   ]
  },
  {
   "cell_type": "code",
   "execution_count": 2,
   "metadata": {},
   "outputs": [],
   "source": [
    "os.chdir(\"/ufrc/soltis/shan158538/TragFL_NewAnalysis/OutPut/DE_analysis/Tdu_Tpr_voom_Tml/\")"
   ]
  },
  {
   "cell_type": "code",
   "execution_count": 3,
   "metadata": {},
   "outputs": [],
   "source": [
    "df = pd.read_table(\"DE_Tdu_Tpr_min10_3rep.txt\")"
   ]
  },
  {
   "cell_type": "code",
   "execution_count": 4,
   "metadata": {},
   "outputs": [
    {
     "data": {
      "text/html": [
       "<div>\n",
       "<style scoped>\n",
       "    .dataframe tbody tr th:only-of-type {\n",
       "        vertical-align: middle;\n",
       "    }\n",
       "\n",
       "    .dataframe tbody tr th {\n",
       "        vertical-align: top;\n",
       "    }\n",
       "\n",
       "    .dataframe thead th {\n",
       "        text-align: right;\n",
       "    }\n",
       "</style>\n",
       "<table border=\"1\" class=\"dataframe\">\n",
       "  <thead>\n",
       "    <tr style=\"text-align: right;\">\n",
       "      <th></th>\n",
       "      <th>logFC</th>\n",
       "      <th>AveExpr</th>\n",
       "      <th>t</th>\n",
       "      <th>P.Value</th>\n",
       "      <th>adj.P.Val</th>\n",
       "      <th>B</th>\n",
       "    </tr>\n",
       "  </thead>\n",
       "  <tbody>\n",
       "    <tr>\n",
       "      <th>Tpr_TRINITY_DN11257_c2_g1|Tdu_TRINITY_DN16696_c0_g1</th>\n",
       "      <td>-0.395358</td>\n",
       "      <td>6.721505</td>\n",
       "      <td>-2.346042</td>\n",
       "      <td>0.041868</td>\n",
       "      <td>0.144006</td>\n",
       "      <td>-4.847267</td>\n",
       "    </tr>\n",
       "    <tr>\n",
       "      <th>Tpr_TRINITY_DN10844_c2_g7|Tdu_TRINITY_DN25328_c2_g5</th>\n",
       "      <td>-0.596919</td>\n",
       "      <td>7.811180</td>\n",
       "      <td>-3.682833</td>\n",
       "      <td>0.004514</td>\n",
       "      <td>0.034060</td>\n",
       "      <td>-2.714478</td>\n",
       "    </tr>\n",
       "    <tr>\n",
       "      <th>Tpr_TRINITY_DN15383_c4_g16|Tdu_TRINITY_DN14160_c0_g1</th>\n",
       "      <td>1.009462</td>\n",
       "      <td>5.004526</td>\n",
       "      <td>3.516380</td>\n",
       "      <td>0.005914</td>\n",
       "      <td>0.040677</td>\n",
       "      <td>-2.534116</td>\n",
       "    </tr>\n",
       "    <tr>\n",
       "      <th>Tpr_TRINITY_DN1451_c0_g1|Tdu_TRINITY_DN16990_c3_g1</th>\n",
       "      <td>-0.586770</td>\n",
       "      <td>7.037046</td>\n",
       "      <td>-3.331152</td>\n",
       "      <td>0.008016</td>\n",
       "      <td>0.048904</td>\n",
       "      <td>-3.231621</td>\n",
       "    </tr>\n",
       "    <tr>\n",
       "      <th>Tpr_TRINITY_DN10853_c1_g4|Tdu_TRINITY_DN21860_c3_g3</th>\n",
       "      <td>-0.232925</td>\n",
       "      <td>9.767741</td>\n",
       "      <td>-1.583233</td>\n",
       "      <td>0.145662</td>\n",
       "      <td>0.325499</td>\n",
       "      <td>-6.216757</td>\n",
       "    </tr>\n",
       "  </tbody>\n",
       "</table>\n",
       "</div>"
      ],
      "text/plain": [
       "                                                       logFC    ...            B\n",
       "Tpr_TRINITY_DN11257_c2_g1|Tdu_TRINITY_DN16696_c... -0.395358    ...    -4.847267\n",
       "Tpr_TRINITY_DN10844_c2_g7|Tdu_TRINITY_DN25328_c... -0.596919    ...    -2.714478\n",
       "Tpr_TRINITY_DN15383_c4_g16|Tdu_TRINITY_DN14160_...  1.009462    ...    -2.534116\n",
       "Tpr_TRINITY_DN1451_c0_g1|Tdu_TRINITY_DN16990_c3_g1 -0.586770    ...    -3.231621\n",
       "Tpr_TRINITY_DN10853_c1_g4|Tdu_TRINITY_DN21860_c... -0.232925    ...    -6.216757\n",
       "\n",
       "[5 rows x 6 columns]"
      ]
     },
     "execution_count": 4,
     "metadata": {},
     "output_type": "execute_result"
    }
   ],
   "source": [
    "df.head()"
   ]
  },
  {
   "cell_type": "code",
   "execution_count": 5,
   "metadata": {},
   "outputs": [
    {
     "data": {
      "text/plain": [
       "(8248, 6)"
      ]
     },
     "execution_count": 5,
     "metadata": {},
     "output_type": "execute_result"
    }
   ],
   "source": [
    "df.shape\n",
    "# shows the number of rows and columns, separately"
   ]
  },
  {
   "cell_type": "code",
   "execution_count": 6,
   "metadata": {},
   "outputs": [],
   "source": [
    "unbias = pd.read_csv(\"bayes_flag_sig_Tml_for_UR.csv\", sep = ',')"
   ]
  },
  {
   "cell_type": "code",
   "execution_count": 7,
   "metadata": {},
   "outputs": [
    {
     "data": {
      "text/html": [
       "<div>\n",
       "<style scoped>\n",
       "    .dataframe tbody tr th:only-of-type {\n",
       "        vertical-align: middle;\n",
       "    }\n",
       "\n",
       "    .dataframe tbody tr th {\n",
       "        vertical-align: top;\n",
       "    }\n",
       "\n",
       "    .dataframe thead th {\n",
       "        text-align: right;\n",
       "    }\n",
       "</style>\n",
       "<table border=\"1\" class=\"dataframe\">\n",
       "  <thead>\n",
       "    <tr style=\"text-align: right;\">\n",
       "      <th></th>\n",
       "      <th>commonID</th>\n",
       "      <th>q4_mean_theta</th>\n",
       "      <th>q4_q025</th>\n",
       "      <th>q4_q975</th>\n",
       "      <th>q5_mean_theta</th>\n",
       "      <th>q5_q025</th>\n",
       "      <th>q5_q975</th>\n",
       "      <th>q6_mean_theta</th>\n",
       "      <th>q6_q025</th>\n",
       "      <th>q6_q975</th>\n",
       "      <th>flag_q4_sig</th>\n",
       "      <th>flag_q5_sig</th>\n",
       "      <th>flag_q6_sig</th>\n",
       "      <th>flag_sig_Tml_tdu_tpr</th>\n",
       "    </tr>\n",
       "  </thead>\n",
       "  <tbody>\n",
       "    <tr>\n",
       "      <th>0</th>\n",
       "      <td>Tpr_TRINITY_DN11281_c1_g9|Tdu_TRINITY_DN15992_...</td>\n",
       "      <td>0.734</td>\n",
       "      <td>0.519</td>\n",
       "      <td>0.878</td>\n",
       "      <td>0.686</td>\n",
       "      <td>0.445</td>\n",
       "      <td>0.861</td>\n",
       "      <td>0.637</td>\n",
       "      <td>0.377</td>\n",
       "      <td>0.828</td>\n",
       "      <td>1</td>\n",
       "      <td>0</td>\n",
       "      <td>0</td>\n",
       "      <td>0</td>\n",
       "    </tr>\n",
       "    <tr>\n",
       "      <th>1</th>\n",
       "      <td>Tpr_TRINITY_DN11283_c3_g1|Tdu_TRINITY_DN25596_...</td>\n",
       "      <td>0.603</td>\n",
       "      <td>0.360</td>\n",
       "      <td>0.796</td>\n",
       "      <td>0.524</td>\n",
       "      <td>0.298</td>\n",
       "      <td>0.746</td>\n",
       "      <td>0.452</td>\n",
       "      <td>0.231</td>\n",
       "      <td>0.691</td>\n",
       "      <td>0</td>\n",
       "      <td>0</td>\n",
       "      <td>0</td>\n",
       "      <td>0</td>\n",
       "    </tr>\n",
       "    <tr>\n",
       "      <th>2</th>\n",
       "      <td>Tpr_TRINITY_DN11283_c4_g7|Tdu_TRINITY_DN21302_...</td>\n",
       "      <td>0.573</td>\n",
       "      <td>0.411</td>\n",
       "      <td>0.724</td>\n",
       "      <td>0.484</td>\n",
       "      <td>0.310</td>\n",
       "      <td>0.640</td>\n",
       "      <td>0.398</td>\n",
       "      <td>0.248</td>\n",
       "      <td>0.545</td>\n",
       "      <td>0</td>\n",
       "      <td>0</td>\n",
       "      <td>0</td>\n",
       "      <td>0</td>\n",
       "    </tr>\n",
       "    <tr>\n",
       "      <th>3</th>\n",
       "      <td>Tpr_TRINITY_DN11284_c2_g19|Tdu_TRINITY_DN20652...</td>\n",
       "      <td>0.527</td>\n",
       "      <td>0.266</td>\n",
       "      <td>0.749</td>\n",
       "      <td>0.462</td>\n",
       "      <td>0.231</td>\n",
       "      <td>0.703</td>\n",
       "      <td>0.379</td>\n",
       "      <td>0.142</td>\n",
       "      <td>0.638</td>\n",
       "      <td>0</td>\n",
       "      <td>0</td>\n",
       "      <td>0</td>\n",
       "      <td>0</td>\n",
       "    </tr>\n",
       "    <tr>\n",
       "      <th>4</th>\n",
       "      <td>Tpr_TRINITY_DN11285_c1_g4|Tdu_TRINITY_DN17239_...</td>\n",
       "      <td>0.163</td>\n",
       "      <td>0.055</td>\n",
       "      <td>0.300</td>\n",
       "      <td>0.121</td>\n",
       "      <td>0.037</td>\n",
       "      <td>0.238</td>\n",
       "      <td>0.086</td>\n",
       "      <td>0.025</td>\n",
       "      <td>0.171</td>\n",
       "      <td>1</td>\n",
       "      <td>1</td>\n",
       "      <td>1</td>\n",
       "      <td>1</td>\n",
       "    </tr>\n",
       "  </tbody>\n",
       "</table>\n",
       "</div>"
      ],
      "text/plain": [
       "                                            commonID          ...           flag_sig_Tml_tdu_tpr\n",
       "0  Tpr_TRINITY_DN11281_c1_g9|Tdu_TRINITY_DN15992_...          ...                              0\n",
       "1  Tpr_TRINITY_DN11283_c3_g1|Tdu_TRINITY_DN25596_...          ...                              0\n",
       "2  Tpr_TRINITY_DN11283_c4_g7|Tdu_TRINITY_DN21302_...          ...                              0\n",
       "3  Tpr_TRINITY_DN11284_c2_g19|Tdu_TRINITY_DN20652...          ...                              0\n",
       "4  Tpr_TRINITY_DN11285_c1_g4|Tdu_TRINITY_DN17239_...          ...                              1\n",
       "\n",
       "[5 rows x 14 columns]"
      ]
     },
     "execution_count": 7,
     "metadata": {},
     "output_type": "execute_result"
    }
   ],
   "source": [
    "unbias.head()"
   ]
  },
  {
   "cell_type": "code",
   "execution_count": 8,
   "metadata": {},
   "outputs": [
    {
     "data": {
      "text/plain": [
       "(5137, 14)"
      ]
     },
     "execution_count": 8,
     "metadata": {},
     "output_type": "execute_result"
    }
   ],
   "source": [
    "unbias.shape"
   ]
  },
  {
   "cell_type": "code",
   "execution_count": 9,
   "metadata": {},
   "outputs": [],
   "source": [
    "keys = list(unbias.commonID)\n",
    "# creating a list containing all elements from the column commonID"
   ]
  },
  {
   "cell_type": "code",
   "execution_count": 10,
   "metadata": {},
   "outputs": [
    {
     "data": {
      "text/plain": [
       "5137"
      ]
     },
     "execution_count": 10,
     "metadata": {},
     "output_type": "execute_result"
    }
   ],
   "source": [
    "len(keys)\n",
    "# count the number of elements in the list"
   ]
  },
  {
   "cell_type": "code",
   "execution_count": 11,
   "metadata": {},
   "outputs": [
    {
     "data": {
      "text/plain": [
       "['Tpr_TRINITY_DN11281_c1_g9|Tdu_TRINITY_DN15992_c0_g1',\n",
       " 'Tpr_TRINITY_DN11283_c3_g1|Tdu_TRINITY_DN25596_c4_g2',\n",
       " 'Tpr_TRINITY_DN11283_c4_g7|Tdu_TRINITY_DN21302_c2_g2',\n",
       " 'Tpr_TRINITY_DN11284_c2_g19|Tdu_TRINITY_DN20652_c0_g3',\n",
       " 'Tpr_TRINITY_DN11285_c1_g4|Tdu_TRINITY_DN17239_c2_g3',\n",
       " 'Tpr_TRINITY_DN11294_c1_g1|Tdu_TRINITY_DN19017_c2_g10',\n",
       " 'Tpr_TRINITY_DN11295_c2_g2|Tdu_TRINITY_DN23322_c3_g3',\n",
       " 'Tpr_TRINITY_DN11295_c2_g3|Tdu_TRINITY_DN12723_c0_g1',\n",
       " 'Tpr_TRINITY_DN11296_c5_g1|Tdu_TRINITY_DN20745_c2_g4',\n",
       " 'Tpr_TRINITY_DN11296_c6_g2|Tdu_TRINITY_DN25140_c1_g1']"
      ]
     },
     "execution_count": 11,
     "metadata": {},
     "output_type": "execute_result"
    }
   ],
   "source": [
    "keys[:10]\n",
    "# show the first few elements of the list"
   ]
  },
  {
   "cell_type": "code",
   "execution_count": 12,
   "metadata": {},
   "outputs": [],
   "source": [
    "df_filtered = df[df.index.isin(keys)]\n",
    "# remain the indexes (orthologs names) in df that are shown in the list keys; output is df_filtered"
   ]
  },
  {
   "cell_type": "code",
   "execution_count": 13,
   "metadata": {},
   "outputs": [
    {
     "data": {
      "text/html": [
       "<div>\n",
       "<style scoped>\n",
       "    .dataframe tbody tr th:only-of-type {\n",
       "        vertical-align: middle;\n",
       "    }\n",
       "\n",
       "    .dataframe tbody tr th {\n",
       "        vertical-align: top;\n",
       "    }\n",
       "\n",
       "    .dataframe thead th {\n",
       "        text-align: right;\n",
       "    }\n",
       "</style>\n",
       "<table border=\"1\" class=\"dataframe\">\n",
       "  <thead>\n",
       "    <tr style=\"text-align: right;\">\n",
       "      <th></th>\n",
       "      <th>logFC</th>\n",
       "      <th>AveExpr</th>\n",
       "      <th>t</th>\n",
       "      <th>P.Value</th>\n",
       "      <th>adj.P.Val</th>\n",
       "      <th>B</th>\n",
       "    </tr>\n",
       "  </thead>\n",
       "  <tbody>\n",
       "    <tr>\n",
       "      <th>Tpr_TRINITY_DN10844_c2_g7|Tdu_TRINITY_DN25328_c2_g5</th>\n",
       "      <td>-0.596919</td>\n",
       "      <td>7.811180</td>\n",
       "      <td>-3.682833</td>\n",
       "      <td>0.004514</td>\n",
       "      <td>0.034060</td>\n",
       "      <td>-2.714478</td>\n",
       "    </tr>\n",
       "    <tr>\n",
       "      <th>Tpr_TRINITY_DN15383_c4_g16|Tdu_TRINITY_DN14160_c0_g1</th>\n",
       "      <td>1.009462</td>\n",
       "      <td>5.004526</td>\n",
       "      <td>3.516380</td>\n",
       "      <td>0.005914</td>\n",
       "      <td>0.040677</td>\n",
       "      <td>-2.534116</td>\n",
       "    </tr>\n",
       "    <tr>\n",
       "      <th>Tpr_TRINITY_DN1451_c0_g1|Tdu_TRINITY_DN16990_c3_g1</th>\n",
       "      <td>-0.586770</td>\n",
       "      <td>7.037046</td>\n",
       "      <td>-3.331152</td>\n",
       "      <td>0.008016</td>\n",
       "      <td>0.048904</td>\n",
       "      <td>-3.231621</td>\n",
       "    </tr>\n",
       "    <tr>\n",
       "      <th>Tpr_TRINITY_DN15495_c0_g2|Tdu_TRINITY_DN17403_c2_g1</th>\n",
       "      <td>0.424043</td>\n",
       "      <td>5.882789</td>\n",
       "      <td>1.669180</td>\n",
       "      <td>0.127253</td>\n",
       "      <td>0.298676</td>\n",
       "      <td>-5.739230</td>\n",
       "    </tr>\n",
       "    <tr>\n",
       "      <th>Tpr_TRINITY_DN11223_c1_g1|Tdu_TRINITY_DN21812_c3_g7</th>\n",
       "      <td>0.390412</td>\n",
       "      <td>4.771088</td>\n",
       "      <td>1.044019</td>\n",
       "      <td>0.322008</td>\n",
       "      <td>0.522835</td>\n",
       "      <td>-6.240813</td>\n",
       "    </tr>\n",
       "  </tbody>\n",
       "</table>\n",
       "</div>"
      ],
      "text/plain": [
       "                                                       logFC    ...            B\n",
       "Tpr_TRINITY_DN10844_c2_g7|Tdu_TRINITY_DN25328_c... -0.596919    ...    -2.714478\n",
       "Tpr_TRINITY_DN15383_c4_g16|Tdu_TRINITY_DN14160_...  1.009462    ...    -2.534116\n",
       "Tpr_TRINITY_DN1451_c0_g1|Tdu_TRINITY_DN16990_c3_g1 -0.586770    ...    -3.231621\n",
       "Tpr_TRINITY_DN15495_c0_g2|Tdu_TRINITY_DN17403_c...  0.424043    ...    -5.739230\n",
       "Tpr_TRINITY_DN11223_c1_g1|Tdu_TRINITY_DN21812_c...  0.390412    ...    -6.240813\n",
       "\n",
       "[5 rows x 6 columns]"
      ]
     },
     "execution_count": 13,
     "metadata": {},
     "output_type": "execute_result"
    }
   ],
   "source": [
    "df_filtered.head()"
   ]
  },
  {
   "cell_type": "code",
   "execution_count": 14,
   "metadata": {},
   "outputs": [
    {
     "data": {
      "text/plain": [
       "(3817, 6)"
      ]
     },
     "execution_count": 14,
     "metadata": {},
     "output_type": "execute_result"
    }
   ],
   "source": [
    "df_filtered.shape"
   ]
  },
  {
   "cell_type": "markdown",
   "metadata": {},
   "source": [
    "# Among the 8,248 orthologs with DE data, 3,817 showed unbiased mapping and have homeolog-specific expression profiles"
   ]
  },
  {
   "cell_type": "code",
   "execution_count": 15,
   "metadata": {},
   "outputs": [],
   "source": [
    "df_filtered.to_csv(\"DE_Tdu_Tpr_filtered.txt\")"
   ]
  },
  {
   "cell_type": "markdown",
   "metadata": {},
   "source": [
    "# Output file: DE_Tdu_Tpr_filtered.txt"
   ]
  },
  {
   "cell_type": "code",
   "execution_count": 16,
   "metadata": {},
   "outputs": [],
   "source": [
    "Filtered = pd.read_table(\"DE_Tdu_Tpr_filtered.txt\", sep = \",\")"
   ]
  },
  {
   "cell_type": "code",
   "execution_count": 17,
   "metadata": {},
   "outputs": [
    {
     "data": {
      "text/plain": [
       "(3817, 7)"
      ]
     },
     "execution_count": 17,
     "metadata": {},
     "output_type": "execute_result"
    }
   ],
   "source": [
    "Filtered.shape"
   ]
  },
  {
   "cell_type": "code",
   "execution_count": 18,
   "metadata": {},
   "outputs": [
    {
     "data": {
      "text/html": [
       "<div>\n",
       "<style scoped>\n",
       "    .dataframe tbody tr th:only-of-type {\n",
       "        vertical-align: middle;\n",
       "    }\n",
       "\n",
       "    .dataframe tbody tr th {\n",
       "        vertical-align: top;\n",
       "    }\n",
       "\n",
       "    .dataframe thead th {\n",
       "        text-align: right;\n",
       "    }\n",
       "</style>\n",
       "<table border=\"1\" class=\"dataframe\">\n",
       "  <thead>\n",
       "    <tr style=\"text-align: right;\">\n",
       "      <th></th>\n",
       "      <th>Unnamed: 0</th>\n",
       "      <th>logFC</th>\n",
       "      <th>AveExpr</th>\n",
       "      <th>t</th>\n",
       "      <th>P.Value</th>\n",
       "      <th>adj.P.Val</th>\n",
       "      <th>B</th>\n",
       "    </tr>\n",
       "  </thead>\n",
       "  <tbody>\n",
       "    <tr>\n",
       "      <th>0</th>\n",
       "      <td>Tpr_TRINITY_DN10844_c2_g7|Tdu_TRINITY_DN25328_...</td>\n",
       "      <td>-0.596919</td>\n",
       "      <td>7.811180</td>\n",
       "      <td>-3.682833</td>\n",
       "      <td>0.004514</td>\n",
       "      <td>0.034060</td>\n",
       "      <td>-2.714478</td>\n",
       "    </tr>\n",
       "    <tr>\n",
       "      <th>1</th>\n",
       "      <td>Tpr_TRINITY_DN15383_c4_g16|Tdu_TRINITY_DN14160...</td>\n",
       "      <td>1.009462</td>\n",
       "      <td>5.004526</td>\n",
       "      <td>3.516380</td>\n",
       "      <td>0.005914</td>\n",
       "      <td>0.040677</td>\n",
       "      <td>-2.534116</td>\n",
       "    </tr>\n",
       "    <tr>\n",
       "      <th>2</th>\n",
       "      <td>Tpr_TRINITY_DN1451_c0_g1|Tdu_TRINITY_DN16990_c...</td>\n",
       "      <td>-0.586770</td>\n",
       "      <td>7.037046</td>\n",
       "      <td>-3.331152</td>\n",
       "      <td>0.008016</td>\n",
       "      <td>0.048904</td>\n",
       "      <td>-3.231621</td>\n",
       "    </tr>\n",
       "    <tr>\n",
       "      <th>3</th>\n",
       "      <td>Tpr_TRINITY_DN15495_c0_g2|Tdu_TRINITY_DN17403_...</td>\n",
       "      <td>0.424043</td>\n",
       "      <td>5.882789</td>\n",
       "      <td>1.669180</td>\n",
       "      <td>0.127253</td>\n",
       "      <td>0.298676</td>\n",
       "      <td>-5.739230</td>\n",
       "    </tr>\n",
       "    <tr>\n",
       "      <th>4</th>\n",
       "      <td>Tpr_TRINITY_DN11223_c1_g1|Tdu_TRINITY_DN21812_...</td>\n",
       "      <td>0.390412</td>\n",
       "      <td>4.771088</td>\n",
       "      <td>1.044019</td>\n",
       "      <td>0.322008</td>\n",
       "      <td>0.522835</td>\n",
       "      <td>-6.240813</td>\n",
       "    </tr>\n",
       "  </tbody>\n",
       "</table>\n",
       "</div>"
      ],
      "text/plain": [
       "                                          Unnamed: 0    ...            B\n",
       "0  Tpr_TRINITY_DN10844_c2_g7|Tdu_TRINITY_DN25328_...    ...    -2.714478\n",
       "1  Tpr_TRINITY_DN15383_c4_g16|Tdu_TRINITY_DN14160...    ...    -2.534116\n",
       "2  Tpr_TRINITY_DN1451_c0_g1|Tdu_TRINITY_DN16990_c...    ...    -3.231621\n",
       "3  Tpr_TRINITY_DN15495_c0_g2|Tdu_TRINITY_DN17403_...    ...    -5.739230\n",
       "4  Tpr_TRINITY_DN11223_c1_g1|Tdu_TRINITY_DN21812_...    ...    -6.240813\n",
       "\n",
       "[5 rows x 7 columns]"
      ]
     },
     "execution_count": 18,
     "metadata": {},
     "output_type": "execute_result"
    }
   ],
   "source": [
    "Filtered.head()"
   ]
  },
  {
   "cell_type": "code",
   "execution_count": 19,
   "metadata": {},
   "outputs": [],
   "source": [
    "Equal = Filtered[Filtered[\"adj.P.Val\"] >= 0.05]"
   ]
  },
  {
   "cell_type": "code",
   "execution_count": 20,
   "metadata": {},
   "outputs": [
    {
     "data": {
      "text/plain": [
       "(3162, 7)"
      ]
     },
     "execution_count": 20,
     "metadata": {},
     "output_type": "execute_result"
    }
   ],
   "source": [
    "Equal.shape"
   ]
  },
  {
   "cell_type": "markdown",
   "metadata": {},
   "source": [
    "# adj.P.Val >= 0.5 means there is no expression difference between Tdu and Tpr; there are 3,162 of them"
   ]
  },
  {
   "cell_type": "code",
   "execution_count": 21,
   "metadata": {},
   "outputs": [
    {
     "data": {
      "text/html": [
       "<div>\n",
       "<style scoped>\n",
       "    .dataframe tbody tr th:only-of-type {\n",
       "        vertical-align: middle;\n",
       "    }\n",
       "\n",
       "    .dataframe tbody tr th {\n",
       "        vertical-align: top;\n",
       "    }\n",
       "\n",
       "    .dataframe thead th {\n",
       "        text-align: right;\n",
       "    }\n",
       "</style>\n",
       "<table border=\"1\" class=\"dataframe\">\n",
       "  <thead>\n",
       "    <tr style=\"text-align: right;\">\n",
       "      <th></th>\n",
       "      <th>Unnamed: 0</th>\n",
       "      <th>logFC</th>\n",
       "      <th>AveExpr</th>\n",
       "      <th>t</th>\n",
       "      <th>P.Value</th>\n",
       "      <th>adj.P.Val</th>\n",
       "      <th>B</th>\n",
       "    </tr>\n",
       "  </thead>\n",
       "  <tbody>\n",
       "    <tr>\n",
       "      <th>3</th>\n",
       "      <td>Tpr_TRINITY_DN15495_c0_g2|Tdu_TRINITY_DN17403_...</td>\n",
       "      <td>0.424043</td>\n",
       "      <td>5.882789</td>\n",
       "      <td>1.669180</td>\n",
       "      <td>0.127253</td>\n",
       "      <td>0.298676</td>\n",
       "      <td>-5.739230</td>\n",
       "    </tr>\n",
       "    <tr>\n",
       "      <th>4</th>\n",
       "      <td>Tpr_TRINITY_DN11223_c1_g1|Tdu_TRINITY_DN21812_...</td>\n",
       "      <td>0.390412</td>\n",
       "      <td>4.771088</td>\n",
       "      <td>1.044019</td>\n",
       "      <td>0.322008</td>\n",
       "      <td>0.522835</td>\n",
       "      <td>-6.240813</td>\n",
       "    </tr>\n",
       "    <tr>\n",
       "      <th>5</th>\n",
       "      <td>Tpr_TRINITY_DN14551_c1_g11|Tdu_TRINITY_DN21735...</td>\n",
       "      <td>1.427594</td>\n",
       "      <td>5.207897</td>\n",
       "      <td>2.320628</td>\n",
       "      <td>0.043694</td>\n",
       "      <td>0.148198</td>\n",
       "      <td>-4.527947</td>\n",
       "    </tr>\n",
       "    <tr>\n",
       "      <th>6</th>\n",
       "      <td>Tpr_TRINITY_DN13298_c1_g1|Tdu_TRINITY_DN18431_...</td>\n",
       "      <td>0.838712</td>\n",
       "      <td>4.782870</td>\n",
       "      <td>1.738328</td>\n",
       "      <td>0.113995</td>\n",
       "      <td>0.279998</td>\n",
       "      <td>-5.366188</td>\n",
       "    </tr>\n",
       "    <tr>\n",
       "      <th>7</th>\n",
       "      <td>Tpr_TRINITY_DN11712_c1_g8|Tdu_TRINITY_DN19492_...</td>\n",
       "      <td>0.023203</td>\n",
       "      <td>9.007034</td>\n",
       "      <td>0.141424</td>\n",
       "      <td>0.890454</td>\n",
       "      <td>0.947745</td>\n",
       "      <td>-7.407547</td>\n",
       "    </tr>\n",
       "  </tbody>\n",
       "</table>\n",
       "</div>"
      ],
      "text/plain": [
       "                                          Unnamed: 0    ...            B\n",
       "3  Tpr_TRINITY_DN15495_c0_g2|Tdu_TRINITY_DN17403_...    ...    -5.739230\n",
       "4  Tpr_TRINITY_DN11223_c1_g1|Tdu_TRINITY_DN21812_...    ...    -6.240813\n",
       "5  Tpr_TRINITY_DN14551_c1_g11|Tdu_TRINITY_DN21735...    ...    -4.527947\n",
       "6  Tpr_TRINITY_DN13298_c1_g1|Tdu_TRINITY_DN18431_...    ...    -5.366188\n",
       "7  Tpr_TRINITY_DN11712_c1_g8|Tdu_TRINITY_DN19492_...    ...    -7.407547\n",
       "\n",
       "[5 rows x 7 columns]"
      ]
     },
     "execution_count": 21,
     "metadata": {},
     "output_type": "execute_result"
    }
   ],
   "source": [
    "Equal.head()"
   ]
  },
  {
   "cell_type": "markdown",
   "metadata": {},
   "source": [
    "# adj.P.Val < 0.5 means the expression level is significantly different between Tdu and Tpr\n",
    "# If logFC is larger than 0, Tdu > Tpr; if logFC is smaller than 0, Tdu < Tpr\n",
    "# 278 orthologs have higher expression in Tdu; 377 orthologs expressed higher in Tpr"
   ]
  },
  {
   "cell_type": "code",
   "execution_count": 22,
   "metadata": {},
   "outputs": [],
   "source": [
    "Tdu_higher = Filtered[(Filtered[\"adj.P.Val\"] < 0.05) & (Filtered[\"logFC\"] > 0)]"
   ]
  },
  {
   "cell_type": "code",
   "execution_count": 23,
   "metadata": {},
   "outputs": [
    {
     "data": {
      "text/plain": [
       "(278, 7)"
      ]
     },
     "execution_count": 23,
     "metadata": {},
     "output_type": "execute_result"
    }
   ],
   "source": [
    "Tdu_higher.shape"
   ]
  },
  {
   "cell_type": "code",
   "execution_count": 24,
   "metadata": {},
   "outputs": [
    {
     "data": {
      "text/html": [
       "<div>\n",
       "<style scoped>\n",
       "    .dataframe tbody tr th:only-of-type {\n",
       "        vertical-align: middle;\n",
       "    }\n",
       "\n",
       "    .dataframe tbody tr th {\n",
       "        vertical-align: top;\n",
       "    }\n",
       "\n",
       "    .dataframe thead th {\n",
       "        text-align: right;\n",
       "    }\n",
       "</style>\n",
       "<table border=\"1\" class=\"dataframe\">\n",
       "  <thead>\n",
       "    <tr style=\"text-align: right;\">\n",
       "      <th></th>\n",
       "      <th>Unnamed: 0</th>\n",
       "      <th>logFC</th>\n",
       "      <th>AveExpr</th>\n",
       "      <th>t</th>\n",
       "      <th>P.Value</th>\n",
       "      <th>adj.P.Val</th>\n",
       "      <th>B</th>\n",
       "    </tr>\n",
       "  </thead>\n",
       "  <tbody>\n",
       "    <tr>\n",
       "      <th>1</th>\n",
       "      <td>Tpr_TRINITY_DN15383_c4_g16|Tdu_TRINITY_DN14160...</td>\n",
       "      <td>1.009462</td>\n",
       "      <td>5.004526</td>\n",
       "      <td>3.516380</td>\n",
       "      <td>0.005914</td>\n",
       "      <td>0.040677</td>\n",
       "      <td>-2.534116</td>\n",
       "    </tr>\n",
       "    <tr>\n",
       "      <th>13</th>\n",
       "      <td>Tpr_TRINITY_DN10334_c5_g3|Tdu_TRINITY_DN16861_...</td>\n",
       "      <td>2.367617</td>\n",
       "      <td>4.541814</td>\n",
       "      <td>5.128168</td>\n",
       "      <td>0.000504</td>\n",
       "      <td>0.008259</td>\n",
       "      <td>0.132213</td>\n",
       "    </tr>\n",
       "    <tr>\n",
       "      <th>17</th>\n",
       "      <td>Tpr_TRINITY_DN10516_c1_g3|Tdu_TRINITY_DN19561_...</td>\n",
       "      <td>0.634217</td>\n",
       "      <td>7.782858</td>\n",
       "      <td>3.561411</td>\n",
       "      <td>0.005495</td>\n",
       "      <td>0.039107</td>\n",
       "      <td>-2.908788</td>\n",
       "    </tr>\n",
       "    <tr>\n",
       "      <th>28</th>\n",
       "      <td>Tpr_TRINITY_DN12437_c6_g1|Tdu_TRINITY_DN18152_...</td>\n",
       "      <td>0.999310</td>\n",
       "      <td>5.970590</td>\n",
       "      <td>4.045320</td>\n",
       "      <td>0.002535</td>\n",
       "      <td>0.023415</td>\n",
       "      <td>-1.862780</td>\n",
       "    </tr>\n",
       "    <tr>\n",
       "      <th>65</th>\n",
       "      <td>Tpr_TRINITY_DN12896_c9_g2|Tdu_TRINITY_DN20213_...</td>\n",
       "      <td>2.767986</td>\n",
       "      <td>3.585693</td>\n",
       "      <td>5.054921</td>\n",
       "      <td>0.000559</td>\n",
       "      <td>0.008739</td>\n",
       "      <td>0.140104</td>\n",
       "    </tr>\n",
       "  </tbody>\n",
       "</table>\n",
       "</div>"
      ],
      "text/plain": [
       "                                           Unnamed: 0    ...            B\n",
       "1   Tpr_TRINITY_DN15383_c4_g16|Tdu_TRINITY_DN14160...    ...    -2.534116\n",
       "13  Tpr_TRINITY_DN10334_c5_g3|Tdu_TRINITY_DN16861_...    ...     0.132213\n",
       "17  Tpr_TRINITY_DN10516_c1_g3|Tdu_TRINITY_DN19561_...    ...    -2.908788\n",
       "28  Tpr_TRINITY_DN12437_c6_g1|Tdu_TRINITY_DN18152_...    ...    -1.862780\n",
       "65  Tpr_TRINITY_DN12896_c9_g2|Tdu_TRINITY_DN20213_...    ...     0.140104\n",
       "\n",
       "[5 rows x 7 columns]"
      ]
     },
     "execution_count": 24,
     "metadata": {},
     "output_type": "execute_result"
    }
   ],
   "source": [
    "Tdu_higher.head()"
   ]
  },
  {
   "cell_type": "code",
   "execution_count": 25,
   "metadata": {},
   "outputs": [],
   "source": [
    "Tpr_higher = Filtered[(Filtered[\"adj.P.Val\"] < 0.05) & (Filtered[\"logFC\"] < 0)]"
   ]
  },
  {
   "cell_type": "code",
   "execution_count": 26,
   "metadata": {},
   "outputs": [
    {
     "data": {
      "text/plain": [
       "(377, 7)"
      ]
     },
     "execution_count": 26,
     "metadata": {},
     "output_type": "execute_result"
    }
   ],
   "source": [
    "Tpr_higher.shape"
   ]
  },
  {
   "cell_type": "code",
   "execution_count": 27,
   "metadata": {},
   "outputs": [
    {
     "data": {
      "text/html": [
       "<div>\n",
       "<style scoped>\n",
       "    .dataframe tbody tr th:only-of-type {\n",
       "        vertical-align: middle;\n",
       "    }\n",
       "\n",
       "    .dataframe tbody tr th {\n",
       "        vertical-align: top;\n",
       "    }\n",
       "\n",
       "    .dataframe thead th {\n",
       "        text-align: right;\n",
       "    }\n",
       "</style>\n",
       "<table border=\"1\" class=\"dataframe\">\n",
       "  <thead>\n",
       "    <tr style=\"text-align: right;\">\n",
       "      <th></th>\n",
       "      <th>Unnamed: 0</th>\n",
       "      <th>logFC</th>\n",
       "      <th>AveExpr</th>\n",
       "      <th>t</th>\n",
       "      <th>P.Value</th>\n",
       "      <th>adj.P.Val</th>\n",
       "      <th>B</th>\n",
       "    </tr>\n",
       "  </thead>\n",
       "  <tbody>\n",
       "    <tr>\n",
       "      <th>0</th>\n",
       "      <td>Tpr_TRINITY_DN10844_c2_g7|Tdu_TRINITY_DN25328_...</td>\n",
       "      <td>-0.596919</td>\n",
       "      <td>7.811180</td>\n",
       "      <td>-3.682833</td>\n",
       "      <td>0.004514</td>\n",
       "      <td>0.034060</td>\n",
       "      <td>-2.714478</td>\n",
       "    </tr>\n",
       "    <tr>\n",
       "      <th>2</th>\n",
       "      <td>Tpr_TRINITY_DN1451_c0_g1|Tdu_TRINITY_DN16990_c...</td>\n",
       "      <td>-0.586770</td>\n",
       "      <td>7.037046</td>\n",
       "      <td>-3.331152</td>\n",
       "      <td>0.008016</td>\n",
       "      <td>0.048904</td>\n",
       "      <td>-3.231621</td>\n",
       "    </tr>\n",
       "    <tr>\n",
       "      <th>19</th>\n",
       "      <td>Tpr_TRINITY_DN11462_c1_g3|Tdu_TRINITY_DN18955_...</td>\n",
       "      <td>-3.555284</td>\n",
       "      <td>5.094324</td>\n",
       "      <td>-7.074513</td>\n",
       "      <td>0.000042</td>\n",
       "      <td>0.001776</td>\n",
       "      <td>2.597909</td>\n",
       "    </tr>\n",
       "    <tr>\n",
       "      <th>20</th>\n",
       "      <td>Tpr_TRINITY_DN14614_c1_g6|Tdu_TRINITY_DN1401_c...</td>\n",
       "      <td>-1.058666</td>\n",
       "      <td>6.411165</td>\n",
       "      <td>-3.485058</td>\n",
       "      <td>0.006225</td>\n",
       "      <td>0.041706</td>\n",
       "      <td>-2.878470</td>\n",
       "    </tr>\n",
       "    <tr>\n",
       "      <th>29</th>\n",
       "      <td>Tpr_TRINITY_DN12134_c0_g2|Tdu_TRINITY_DN21624_...</td>\n",
       "      <td>-0.578693</td>\n",
       "      <td>7.819288</td>\n",
       "      <td>-3.548085</td>\n",
       "      <td>0.005616</td>\n",
       "      <td>0.039647</td>\n",
       "      <td>-2.940983</td>\n",
       "    </tr>\n",
       "  </tbody>\n",
       "</table>\n",
       "</div>"
      ],
      "text/plain": [
       "                                           Unnamed: 0    ...            B\n",
       "0   Tpr_TRINITY_DN10844_c2_g7|Tdu_TRINITY_DN25328_...    ...    -2.714478\n",
       "2   Tpr_TRINITY_DN1451_c0_g1|Tdu_TRINITY_DN16990_c...    ...    -3.231621\n",
       "19  Tpr_TRINITY_DN11462_c1_g3|Tdu_TRINITY_DN18955_...    ...     2.597909\n",
       "20  Tpr_TRINITY_DN14614_c1_g6|Tdu_TRINITY_DN1401_c...    ...    -2.878470\n",
       "29  Tpr_TRINITY_DN12134_c0_g2|Tdu_TRINITY_DN21624_...    ...    -2.940983\n",
       "\n",
       "[5 rows x 7 columns]"
      ]
     },
     "execution_count": 27,
     "metadata": {},
     "output_type": "execute_result"
    }
   ],
   "source": [
    "Tpr_higher.head()"
   ]
  },
  {
   "cell_type": "code",
   "execution_count": 28,
   "metadata": {},
   "outputs": [],
   "source": [
    "Equal.to_csv(\"DE_Tdu_Tpr_filtered_not_sig_loci.txt\", index=False)\n",
    "Tdu_higher.to_csv(\"DE_Tdu_Tpr_filtered_sig_loci_Tdu_higher.txt\", index=False)\n",
    "Tpr_higher.to_csv(\"DE_Tdu_Tpr_filtered_sig_loci_Tpr_higher.txt\", index=False)"
   ]
  },
  {
   "cell_type": "code",
   "execution_count": null,
   "metadata": {},
   "outputs": [],
   "source": []
  }
 ],
 "metadata": {
  "kernelspec": {
   "display_name": "Python 3.6. (full)",
   "language": "python",
   "name": "python3-3.6-ufrc"
  },
  "language_info": {
   "codemirror_mode": {
    "name": "ipython",
    "version": 3
   },
   "file_extension": ".py",
   "mimetype": "text/x-python",
   "name": "python",
   "nbconvert_exporter": "python",
   "pygments_lexer": "ipython3",
   "version": "3.6.5"
  }
 },
 "nbformat": 4,
 "nbformat_minor": 4
}
