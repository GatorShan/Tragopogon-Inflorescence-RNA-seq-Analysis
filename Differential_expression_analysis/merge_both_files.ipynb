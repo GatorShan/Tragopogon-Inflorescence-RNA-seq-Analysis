{
 "cells": [
  {
   "cell_type": "code",
   "execution_count": 1,
   "metadata": {},
   "outputs": [],
   "source": [
    "import pandas as pd\n",
    "import os\n",
    "from glob import glob"
   ]
  },
  {
   "cell_type": "code",
   "execution_count": 2,
   "metadata": {},
   "outputs": [],
   "source": [
    "os.chdir(\"/ufrc/soltis/shan158538/TragFL_NewAnalysis/OutPut/Filter_orthologs/Compare_SAM/ase_counts_rename/\")"
   ]
  },
  {
   "cell_type": "markdown",
   "metadata": {},
   "source": [
    "Tms represents short-liguled T. miscellus; its parents include `T. dubius 2886, Moscow` and `T. pratensis 2608, Moscow`\n",
    "\n",
    "| Original csv files | Renamed csv files |\n",
    "| -- | -- |\n",
    "| ase_counts_Tdu_2886_3_2_Tdu_Tpr.csv | ase_counts_Tdu_4_2_Tdu_Tpr.csv |\n",
    "| ase_counts_Tdu_2886_5_2_Tdu_Tpr.csv | ase_counts_Tdu_5_2_Tdu_Tpr.csv |\n",
    "| ase_counts_Tdu_2886_7_2_Tdu_Tpr.csv | ase_counts_Tdu_6_2_Tdu_Tpr.csv |"
   ]
  },
  {
   "cell_type": "code",
   "execution_count": 22,
   "metadata": {},
   "outputs": [],
   "source": [
    "tms = sorted(['both_counts_Tdu_4_2_Tdu_Tpr.csv', 'both_counts_Tdu_5_2_Tdu_Tpr.csv', 'both_counts_Tdu_6_2_Tdu_Tpr.csv', 'both_counts_Tpr_1_2_Tdu_Tpr.csv', 'both_counts_Tpr_2_2_Tdu_Tpr.csv', 'both_counts_Tpr_3_2_Tdu_Tpr.csv'])"
   ]
  },
  {
   "cell_type": "code",
   "execution_count": 23,
   "metadata": {},
   "outputs": [
    {
     "data": {
      "text/plain": [
       "['both_counts_Tdu_4_2_Tdu_Tpr.csv',\n",
       " 'both_counts_Tdu_5_2_Tdu_Tpr.csv',\n",
       " 'both_counts_Tdu_6_2_Tdu_Tpr.csv',\n",
       " 'both_counts_Tpr_1_2_Tdu_Tpr.csv',\n",
       " 'both_counts_Tpr_2_2_Tdu_Tpr.csv',\n",
       " 'both_counts_Tpr_3_2_Tdu_Tpr.csv']"
      ]
     },
     "execution_count": 23,
     "metadata": {},
     "output_type": "execute_result"
    }
   ],
   "source": [
    "tms"
   ]
  },
  {
   "cell_type": "code",
   "execution_count": 52,
   "metadata": {},
   "outputs": [],
   "source": [
    "col_name = \"_\".join(tms[0].split(\"_\")[2:4])"
   ]
  },
  {
   "cell_type": "code",
   "execution_count": 53,
   "metadata": {},
   "outputs": [
    {
     "data": {
      "text/plain": [
       "'Tdu_4'"
      ]
     },
     "execution_count": 53,
     "metadata": {},
     "output_type": "execute_result"
    }
   ],
   "source": [
    "col_name"
   ]
  },
  {
   "cell_type": "code",
   "execution_count": 54,
   "metadata": {},
   "outputs": [],
   "source": [
    "df_tms = pd.read_csv(tms[0])"
   ]
  },
  {
   "cell_type": "code",
   "execution_count": 55,
   "metadata": {},
   "outputs": [
    {
     "data": {
      "text/html": [
       "<div>\n",
       "<style scoped>\n",
       "    .dataframe tbody tr th:only-of-type {\n",
       "        vertical-align: middle;\n",
       "    }\n",
       "\n",
       "    .dataframe tbody tr th {\n",
       "        vertical-align: top;\n",
       "    }\n",
       "\n",
       "    .dataframe thead th {\n",
       "        text-align: right;\n",
       "    }\n",
       "</style>\n",
       "<table border=\"1\" class=\"dataframe\">\n",
       "  <thead>\n",
       "    <tr style=\"text-align: right;\">\n",
       "      <th></th>\n",
       "      <th>FUSION_ID</th>\n",
       "      <th>Count</th>\n",
       "    </tr>\n",
       "  </thead>\n",
       "  <tbody>\n",
       "    <tr>\n",
       "      <th>0</th>\n",
       "      <td>Tpr_TRINITY_DN11257_c2_g1|Tdu_TRINITY_DN16696_...</td>\n",
       "      <td>106</td>\n",
       "    </tr>\n",
       "    <tr>\n",
       "      <th>1</th>\n",
       "      <td>Tpr_TRINITY_DN10844_c2_g7|Tdu_TRINITY_DN25328_...</td>\n",
       "      <td>177</td>\n",
       "    </tr>\n",
       "    <tr>\n",
       "      <th>2</th>\n",
       "      <td>Tpr_TRINITY_DN15383_c4_g16|Tdu_TRINITY_DN14160...</td>\n",
       "      <td>43</td>\n",
       "    </tr>\n",
       "    <tr>\n",
       "      <th>3</th>\n",
       "      <td>Tpr_TRINITY_DN1451_c0_g1|Tdu_TRINITY_DN16990_c...</td>\n",
       "      <td>80</td>\n",
       "    </tr>\n",
       "    <tr>\n",
       "      <th>4</th>\n",
       "      <td>Tpr_TRINITY_DN10853_c1_g4|Tdu_TRINITY_DN21860_...</td>\n",
       "      <td>809</td>\n",
       "    </tr>\n",
       "  </tbody>\n",
       "</table>\n",
       "</div>"
      ],
      "text/plain": [
       "                                           FUSION_ID  Count\n",
       "0  Tpr_TRINITY_DN11257_c2_g1|Tdu_TRINITY_DN16696_...    106\n",
       "1  Tpr_TRINITY_DN10844_c2_g7|Tdu_TRINITY_DN25328_...    177\n",
       "2  Tpr_TRINITY_DN15383_c4_g16|Tdu_TRINITY_DN14160...     43\n",
       "3  Tpr_TRINITY_DN1451_c0_g1|Tdu_TRINITY_DN16990_c...     80\n",
       "4  Tpr_TRINITY_DN10853_c1_g4|Tdu_TRINITY_DN21860_...    809"
      ]
     },
     "execution_count": 55,
     "metadata": {},
     "output_type": "execute_result"
    }
   ],
   "source": [
    "df_tms.head()"
   ]
  },
  {
   "cell_type": "code",
   "execution_count": 57,
   "metadata": {},
   "outputs": [],
   "source": [
    "df_tms.rename(columns={\"FUSION_ID\":\"FUSION_ID\",\"Count\":col_name}, inplace=True)\n",
    "# different from Lucas's script, which is \"BOTH_ALL\":col_name; however, BOTH_ALL does not exist in the current df"
   ]
  },
  {
   "cell_type": "code",
   "execution_count": 58,
   "metadata": {},
   "outputs": [
    {
     "data": {
      "text/html": [
       "<div>\n",
       "<style scoped>\n",
       "    .dataframe tbody tr th:only-of-type {\n",
       "        vertical-align: middle;\n",
       "    }\n",
       "\n",
       "    .dataframe tbody tr th {\n",
       "        vertical-align: top;\n",
       "    }\n",
       "\n",
       "    .dataframe thead th {\n",
       "        text-align: right;\n",
       "    }\n",
       "</style>\n",
       "<table border=\"1\" class=\"dataframe\">\n",
       "  <thead>\n",
       "    <tr style=\"text-align: right;\">\n",
       "      <th></th>\n",
       "      <th>FUSION_ID</th>\n",
       "      <th>Tdu_4</th>\n",
       "    </tr>\n",
       "  </thead>\n",
       "  <tbody>\n",
       "    <tr>\n",
       "      <th>0</th>\n",
       "      <td>Tpr_TRINITY_DN11257_c2_g1|Tdu_TRINITY_DN16696_...</td>\n",
       "      <td>106</td>\n",
       "    </tr>\n",
       "    <tr>\n",
       "      <th>1</th>\n",
       "      <td>Tpr_TRINITY_DN10844_c2_g7|Tdu_TRINITY_DN25328_...</td>\n",
       "      <td>177</td>\n",
       "    </tr>\n",
       "    <tr>\n",
       "      <th>2</th>\n",
       "      <td>Tpr_TRINITY_DN15383_c4_g16|Tdu_TRINITY_DN14160...</td>\n",
       "      <td>43</td>\n",
       "    </tr>\n",
       "    <tr>\n",
       "      <th>3</th>\n",
       "      <td>Tpr_TRINITY_DN1451_c0_g1|Tdu_TRINITY_DN16990_c...</td>\n",
       "      <td>80</td>\n",
       "    </tr>\n",
       "    <tr>\n",
       "      <th>4</th>\n",
       "      <td>Tpr_TRINITY_DN10853_c1_g4|Tdu_TRINITY_DN21860_...</td>\n",
       "      <td>809</td>\n",
       "    </tr>\n",
       "  </tbody>\n",
       "</table>\n",
       "</div>"
      ],
      "text/plain": [
       "                                           FUSION_ID  Tdu_4\n",
       "0  Tpr_TRINITY_DN11257_c2_g1|Tdu_TRINITY_DN16696_...    106\n",
       "1  Tpr_TRINITY_DN10844_c2_g7|Tdu_TRINITY_DN25328_...    177\n",
       "2  Tpr_TRINITY_DN15383_c4_g16|Tdu_TRINITY_DN14160...     43\n",
       "3  Tpr_TRINITY_DN1451_c0_g1|Tdu_TRINITY_DN16990_c...     80\n",
       "4  Tpr_TRINITY_DN10853_c1_g4|Tdu_TRINITY_DN21860_...    809"
      ]
     },
     "execution_count": 58,
     "metadata": {},
     "output_type": "execute_result"
    }
   ],
   "source": [
    "df_tms.head()"
   ]
  },
  {
   "cell_type": "code",
   "execution_count": 59,
   "metadata": {},
   "outputs": [
    {
     "data": {
      "text/plain": [
       "['both_counts_Tdu_5_2_Tdu_Tpr.csv',\n",
       " 'both_counts_Tdu_6_2_Tdu_Tpr.csv',\n",
       " 'both_counts_Tpr_1_2_Tdu_Tpr.csv',\n",
       " 'both_counts_Tpr_2_2_Tdu_Tpr.csv',\n",
       " 'both_counts_Tpr_3_2_Tdu_Tpr.csv']"
      ]
     },
     "execution_count": 59,
     "metadata": {},
     "output_type": "execute_result"
    }
   ],
   "source": [
    "tms[1:]"
   ]
  },
  {
   "cell_type": "code",
   "execution_count": 60,
   "metadata": {},
   "outputs": [],
   "source": [
    "for file in tms[1:]:\n",
    "    col_name = \"_\".join(file.split(\"_\")[2:4])\n",
    "    temp_df_tms = pd.read_csv(file)\n",
    "    temp_df_tms.rename(columns={\"FUSION_ID\":\"FUSION_ID\",\"Count\":col_name}, inplace=True)\n",
    "    df_tms = pd.merge(df_tms, temp_df_tms)"
   ]
  },
  {
   "cell_type": "code",
   "execution_count": 61,
   "metadata": {},
   "outputs": [
    {
     "data": {
      "text/html": [
       "<div>\n",
       "<style scoped>\n",
       "    .dataframe tbody tr th:only-of-type {\n",
       "        vertical-align: middle;\n",
       "    }\n",
       "\n",
       "    .dataframe tbody tr th {\n",
       "        vertical-align: top;\n",
       "    }\n",
       "\n",
       "    .dataframe thead th {\n",
       "        text-align: right;\n",
       "    }\n",
       "</style>\n",
       "<table border=\"1\" class=\"dataframe\">\n",
       "  <thead>\n",
       "    <tr style=\"text-align: right;\">\n",
       "      <th></th>\n",
       "      <th>FUSION_ID</th>\n",
       "      <th>Tdu_4</th>\n",
       "      <th>Tdu_5</th>\n",
       "      <th>Tdu_6</th>\n",
       "      <th>Tpr_1</th>\n",
       "      <th>Tpr_2</th>\n",
       "      <th>Tpr_3</th>\n",
       "    </tr>\n",
       "  </thead>\n",
       "  <tbody>\n",
       "    <tr>\n",
       "      <th>0</th>\n",
       "      <td>Tpr_TRINITY_DN11257_c2_g1|Tdu_TRINITY_DN16696_...</td>\n",
       "      <td>106</td>\n",
       "      <td>116</td>\n",
       "      <td>121</td>\n",
       "      <td>103</td>\n",
       "      <td>173</td>\n",
       "      <td>78</td>\n",
       "    </tr>\n",
       "    <tr>\n",
       "      <th>1</th>\n",
       "      <td>Tpr_TRINITY_DN10844_c2_g7|Tdu_TRINITY_DN25328_...</td>\n",
       "      <td>177</td>\n",
       "      <td>169</td>\n",
       "      <td>238</td>\n",
       "      <td>204</td>\n",
       "      <td>402</td>\n",
       "      <td>205</td>\n",
       "    </tr>\n",
       "    <tr>\n",
       "      <th>2</th>\n",
       "      <td>Tpr_TRINITY_DN15383_c4_g16|Tdu_TRINITY_DN14160...</td>\n",
       "      <td>43</td>\n",
       "      <td>36</td>\n",
       "      <td>47</td>\n",
       "      <td>21</td>\n",
       "      <td>25</td>\n",
       "      <td>18</td>\n",
       "    </tr>\n",
       "    <tr>\n",
       "      <th>3</th>\n",
       "      <td>Tpr_TRINITY_DN1451_c0_g1|Tdu_TRINITY_DN16990_c...</td>\n",
       "      <td>80</td>\n",
       "      <td>126</td>\n",
       "      <td>108</td>\n",
       "      <td>141</td>\n",
       "      <td>200</td>\n",
       "      <td>119</td>\n",
       "    </tr>\n",
       "    <tr>\n",
       "      <th>4</th>\n",
       "      <td>Tpr_TRINITY_DN10853_c1_g4|Tdu_TRINITY_DN21860_...</td>\n",
       "      <td>809</td>\n",
       "      <td>1113</td>\n",
       "      <td>918</td>\n",
       "      <td>751</td>\n",
       "      <td>1281</td>\n",
       "      <td>700</td>\n",
       "    </tr>\n",
       "  </tbody>\n",
       "</table>\n",
       "</div>"
      ],
      "text/plain": [
       "                                           FUSION_ID  Tdu_4  ...    Tpr_2  Tpr_3\n",
       "0  Tpr_TRINITY_DN11257_c2_g1|Tdu_TRINITY_DN16696_...    106  ...      173     78\n",
       "1  Tpr_TRINITY_DN10844_c2_g7|Tdu_TRINITY_DN25328_...    177  ...      402    205\n",
       "2  Tpr_TRINITY_DN15383_c4_g16|Tdu_TRINITY_DN14160...     43  ...       25     18\n",
       "3  Tpr_TRINITY_DN1451_c0_g1|Tdu_TRINITY_DN16990_c...     80  ...      200    119\n",
       "4  Tpr_TRINITY_DN10853_c1_g4|Tdu_TRINITY_DN21860_...    809  ...     1281    700\n",
       "\n",
       "[5 rows x 7 columns]"
      ]
     },
     "execution_count": 61,
     "metadata": {},
     "output_type": "execute_result"
    }
   ],
   "source": [
    "df_tms.head()"
   ]
  },
  {
   "cell_type": "code",
   "execution_count": 62,
   "metadata": {},
   "outputs": [],
   "source": [
    "df_tms.to_csv(\"both_count_Tdu_Tpr_all_reps_for_Tms.csv\", index=False)"
   ]
  },
  {
   "cell_type": "markdown",
   "metadata": {},
   "source": [
    "Tml represents long-liguled T. miscellus; its parents include `T. dubius 2613, Pullman` and `T. pratensis 2608, Moscow`\n",
    "\n",
    "| Original csv files | Renamed csv files |\n",
    "| -- | -- |\n",
    "| ase_counts_Tdu_2613_11_2_Tdu_Tpr.csv | ase_counts_Tdu_1_2_Tdu_Tpr.csv |\n",
    "| ase_counts_Tdu_2613_12_2_Tdu_Tpr.csv | ase_counts_Tdu_2_2_Tdu_Tpr.csv |\n",
    "| ase_counts_Tdu_2613_41_2_Tdu_Tpr.csv | ase_counts_Tdu_3_2_Tdu_Tpr.csv |"
   ]
  },
  {
   "cell_type": "code",
   "execution_count": 63,
   "metadata": {},
   "outputs": [],
   "source": [
    "tml = sorted(['both_counts_Tdu_1_2_Tdu_Tpr.csv', 'both_counts_Tdu_2_2_Tdu_Tpr.csv', 'both_counts_Tdu_3_2_Tdu_Tpr.csv', 'both_counts_Tpr_1_2_Tdu_Tpr.csv', 'both_counts_Tpr_2_2_Tdu_Tpr.csv', 'both_counts_Tpr_3_2_Tdu_Tpr.csv'])"
   ]
  },
  {
   "cell_type": "code",
   "execution_count": 64,
   "metadata": {},
   "outputs": [
    {
     "data": {
      "text/plain": [
       "['both_counts_Tdu_1_2_Tdu_Tpr.csv',\n",
       " 'both_counts_Tdu_2_2_Tdu_Tpr.csv',\n",
       " 'both_counts_Tdu_3_2_Tdu_Tpr.csv',\n",
       " 'both_counts_Tpr_1_2_Tdu_Tpr.csv',\n",
       " 'both_counts_Tpr_2_2_Tdu_Tpr.csv',\n",
       " 'both_counts_Tpr_3_2_Tdu_Tpr.csv']"
      ]
     },
     "execution_count": 64,
     "metadata": {},
     "output_type": "execute_result"
    }
   ],
   "source": [
    "tml"
   ]
  },
  {
   "cell_type": "code",
   "execution_count": 65,
   "metadata": {},
   "outputs": [],
   "source": [
    "col_name = \"_\".join(tml[0].split(\"_\")[2:4])"
   ]
  },
  {
   "cell_type": "code",
   "execution_count": 66,
   "metadata": {},
   "outputs": [
    {
     "data": {
      "text/plain": [
       "'Tdu_1'"
      ]
     },
     "execution_count": 66,
     "metadata": {},
     "output_type": "execute_result"
    }
   ],
   "source": [
    "col_name"
   ]
  },
  {
   "cell_type": "code",
   "execution_count": 67,
   "metadata": {},
   "outputs": [],
   "source": [
    "df_tml = pd.read_csv(tml[0])"
   ]
  },
  {
   "cell_type": "code",
   "execution_count": 68,
   "metadata": {},
   "outputs": [
    {
     "data": {
      "text/html": [
       "<div>\n",
       "<style scoped>\n",
       "    .dataframe tbody tr th:only-of-type {\n",
       "        vertical-align: middle;\n",
       "    }\n",
       "\n",
       "    .dataframe tbody tr th {\n",
       "        vertical-align: top;\n",
       "    }\n",
       "\n",
       "    .dataframe thead th {\n",
       "        text-align: right;\n",
       "    }\n",
       "</style>\n",
       "<table border=\"1\" class=\"dataframe\">\n",
       "  <thead>\n",
       "    <tr style=\"text-align: right;\">\n",
       "      <th></th>\n",
       "      <th>FUSION_ID</th>\n",
       "      <th>Count</th>\n",
       "    </tr>\n",
       "  </thead>\n",
       "  <tbody>\n",
       "    <tr>\n",
       "      <th>0</th>\n",
       "      <td>Tpr_TRINITY_DN11257_c2_g1|Tdu_TRINITY_DN16696_...</td>\n",
       "      <td>92</td>\n",
       "    </tr>\n",
       "    <tr>\n",
       "      <th>1</th>\n",
       "      <td>Tpr_TRINITY_DN10844_c2_g7|Tdu_TRINITY_DN25328_...</td>\n",
       "      <td>157</td>\n",
       "    </tr>\n",
       "    <tr>\n",
       "      <th>2</th>\n",
       "      <td>Tpr_TRINITY_DN15383_c4_g16|Tdu_TRINITY_DN14160...</td>\n",
       "      <td>36</td>\n",
       "    </tr>\n",
       "    <tr>\n",
       "      <th>3</th>\n",
       "      <td>Tpr_TRINITY_DN1451_c0_g1|Tdu_TRINITY_DN16990_c...</td>\n",
       "      <td>96</td>\n",
       "    </tr>\n",
       "    <tr>\n",
       "      <th>4</th>\n",
       "      <td>Tpr_TRINITY_DN10853_c1_g4|Tdu_TRINITY_DN21860_...</td>\n",
       "      <td>773</td>\n",
       "    </tr>\n",
       "  </tbody>\n",
       "</table>\n",
       "</div>"
      ],
      "text/plain": [
       "                                           FUSION_ID  Count\n",
       "0  Tpr_TRINITY_DN11257_c2_g1|Tdu_TRINITY_DN16696_...     92\n",
       "1  Tpr_TRINITY_DN10844_c2_g7|Tdu_TRINITY_DN25328_...    157\n",
       "2  Tpr_TRINITY_DN15383_c4_g16|Tdu_TRINITY_DN14160...     36\n",
       "3  Tpr_TRINITY_DN1451_c0_g1|Tdu_TRINITY_DN16990_c...     96\n",
       "4  Tpr_TRINITY_DN10853_c1_g4|Tdu_TRINITY_DN21860_...    773"
      ]
     },
     "execution_count": 68,
     "metadata": {},
     "output_type": "execute_result"
    }
   ],
   "source": [
    "df_tml.head()"
   ]
  },
  {
   "cell_type": "code",
   "execution_count": 69,
   "metadata": {},
   "outputs": [],
   "source": [
    "df_tml.rename(columns={\"FUSION_ID\":\"FUSION_ID\",\"Count\":col_name}, inplace=True)"
   ]
  },
  {
   "cell_type": "code",
   "execution_count": 70,
   "metadata": {},
   "outputs": [
    {
     "data": {
      "text/html": [
       "<div>\n",
       "<style scoped>\n",
       "    .dataframe tbody tr th:only-of-type {\n",
       "        vertical-align: middle;\n",
       "    }\n",
       "\n",
       "    .dataframe tbody tr th {\n",
       "        vertical-align: top;\n",
       "    }\n",
       "\n",
       "    .dataframe thead th {\n",
       "        text-align: right;\n",
       "    }\n",
       "</style>\n",
       "<table border=\"1\" class=\"dataframe\">\n",
       "  <thead>\n",
       "    <tr style=\"text-align: right;\">\n",
       "      <th></th>\n",
       "      <th>FUSION_ID</th>\n",
       "      <th>Tdu_1</th>\n",
       "    </tr>\n",
       "  </thead>\n",
       "  <tbody>\n",
       "    <tr>\n",
       "      <th>0</th>\n",
       "      <td>Tpr_TRINITY_DN11257_c2_g1|Tdu_TRINITY_DN16696_...</td>\n",
       "      <td>92</td>\n",
       "    </tr>\n",
       "    <tr>\n",
       "      <th>1</th>\n",
       "      <td>Tpr_TRINITY_DN10844_c2_g7|Tdu_TRINITY_DN25328_...</td>\n",
       "      <td>157</td>\n",
       "    </tr>\n",
       "    <tr>\n",
       "      <th>2</th>\n",
       "      <td>Tpr_TRINITY_DN15383_c4_g16|Tdu_TRINITY_DN14160...</td>\n",
       "      <td>36</td>\n",
       "    </tr>\n",
       "    <tr>\n",
       "      <th>3</th>\n",
       "      <td>Tpr_TRINITY_DN1451_c0_g1|Tdu_TRINITY_DN16990_c...</td>\n",
       "      <td>96</td>\n",
       "    </tr>\n",
       "    <tr>\n",
       "      <th>4</th>\n",
       "      <td>Tpr_TRINITY_DN10853_c1_g4|Tdu_TRINITY_DN21860_...</td>\n",
       "      <td>773</td>\n",
       "    </tr>\n",
       "  </tbody>\n",
       "</table>\n",
       "</div>"
      ],
      "text/plain": [
       "                                           FUSION_ID  Tdu_1\n",
       "0  Tpr_TRINITY_DN11257_c2_g1|Tdu_TRINITY_DN16696_...     92\n",
       "1  Tpr_TRINITY_DN10844_c2_g7|Tdu_TRINITY_DN25328_...    157\n",
       "2  Tpr_TRINITY_DN15383_c4_g16|Tdu_TRINITY_DN14160...     36\n",
       "3  Tpr_TRINITY_DN1451_c0_g1|Tdu_TRINITY_DN16990_c...     96\n",
       "4  Tpr_TRINITY_DN10853_c1_g4|Tdu_TRINITY_DN21860_...    773"
      ]
     },
     "execution_count": 70,
     "metadata": {},
     "output_type": "execute_result"
    }
   ],
   "source": [
    "df_tml.head()"
   ]
  },
  {
   "cell_type": "code",
   "execution_count": 71,
   "metadata": {},
   "outputs": [],
   "source": [
    "for file in tml[1:]:\n",
    "    col_name = \"_\".join(file.split(\"_\")[2:4])\n",
    "    temp_df_tml = pd.read_csv(file)\n",
    "    temp_df_tml.rename(columns={\"FUSION_ID\":\"FUSION_ID\",\"Count\":col_name}, inplace=True)\n",
    "    df_tml = pd.merge(df_tml, temp_df_tml)"
   ]
  },
  {
   "cell_type": "code",
   "execution_count": 72,
   "metadata": {},
   "outputs": [
    {
     "data": {
      "text/html": [
       "<div>\n",
       "<style scoped>\n",
       "    .dataframe tbody tr th:only-of-type {\n",
       "        vertical-align: middle;\n",
       "    }\n",
       "\n",
       "    .dataframe tbody tr th {\n",
       "        vertical-align: top;\n",
       "    }\n",
       "\n",
       "    .dataframe thead th {\n",
       "        text-align: right;\n",
       "    }\n",
       "</style>\n",
       "<table border=\"1\" class=\"dataframe\">\n",
       "  <thead>\n",
       "    <tr style=\"text-align: right;\">\n",
       "      <th></th>\n",
       "      <th>FUSION_ID</th>\n",
       "      <th>Tdu_1</th>\n",
       "      <th>Tdu_2</th>\n",
       "      <th>Tdu_3</th>\n",
       "      <th>Tpr_1</th>\n",
       "      <th>Tpr_2</th>\n",
       "      <th>Tpr_3</th>\n",
       "    </tr>\n",
       "  </thead>\n",
       "  <tbody>\n",
       "    <tr>\n",
       "      <th>0</th>\n",
       "      <td>Tpr_TRINITY_DN11257_c2_g1|Tdu_TRINITY_DN16696_...</td>\n",
       "      <td>92</td>\n",
       "      <td>109</td>\n",
       "      <td>123</td>\n",
       "      <td>103</td>\n",
       "      <td>173</td>\n",
       "      <td>78</td>\n",
       "    </tr>\n",
       "    <tr>\n",
       "      <th>1</th>\n",
       "      <td>Tpr_TRINITY_DN10844_c2_g7|Tdu_TRINITY_DN25328_...</td>\n",
       "      <td>157</td>\n",
       "      <td>218</td>\n",
       "      <td>281</td>\n",
       "      <td>204</td>\n",
       "      <td>402</td>\n",
       "      <td>205</td>\n",
       "    </tr>\n",
       "    <tr>\n",
       "      <th>2</th>\n",
       "      <td>Tpr_TRINITY_DN15383_c4_g16|Tdu_TRINITY_DN14160...</td>\n",
       "      <td>36</td>\n",
       "      <td>64</td>\n",
       "      <td>58</td>\n",
       "      <td>21</td>\n",
       "      <td>25</td>\n",
       "      <td>18</td>\n",
       "    </tr>\n",
       "    <tr>\n",
       "      <th>3</th>\n",
       "      <td>Tpr_TRINITY_DN1451_c0_g1|Tdu_TRINITY_DN16990_c...</td>\n",
       "      <td>96</td>\n",
       "      <td>140</td>\n",
       "      <td>142</td>\n",
       "      <td>141</td>\n",
       "      <td>200</td>\n",
       "      <td>119</td>\n",
       "    </tr>\n",
       "    <tr>\n",
       "      <th>4</th>\n",
       "      <td>Tpr_TRINITY_DN10853_c1_g4|Tdu_TRINITY_DN21860_...</td>\n",
       "      <td>773</td>\n",
       "      <td>1099</td>\n",
       "      <td>976</td>\n",
       "      <td>751</td>\n",
       "      <td>1281</td>\n",
       "      <td>700</td>\n",
       "    </tr>\n",
       "  </tbody>\n",
       "</table>\n",
       "</div>"
      ],
      "text/plain": [
       "                                           FUSION_ID  Tdu_1  ...    Tpr_2  Tpr_3\n",
       "0  Tpr_TRINITY_DN11257_c2_g1|Tdu_TRINITY_DN16696_...     92  ...      173     78\n",
       "1  Tpr_TRINITY_DN10844_c2_g7|Tdu_TRINITY_DN25328_...    157  ...      402    205\n",
       "2  Tpr_TRINITY_DN15383_c4_g16|Tdu_TRINITY_DN14160...     36  ...       25     18\n",
       "3  Tpr_TRINITY_DN1451_c0_g1|Tdu_TRINITY_DN16990_c...     96  ...      200    119\n",
       "4  Tpr_TRINITY_DN10853_c1_g4|Tdu_TRINITY_DN21860_...    773  ...     1281    700\n",
       "\n",
       "[5 rows x 7 columns]"
      ]
     },
     "execution_count": 72,
     "metadata": {},
     "output_type": "execute_result"
    }
   ],
   "source": [
    "df_tml.head()"
   ]
  },
  {
   "cell_type": "code",
   "execution_count": 73,
   "metadata": {},
   "outputs": [],
   "source": [
    "df_tml.to_csv(\"both_count_Tdu_Tpr_all_reps_for_Tml.csv\", index=False)"
   ]
  },
  {
   "cell_type": "code",
   "execution_count": null,
   "metadata": {},
   "outputs": [],
   "source": []
  }
 ],
 "metadata": {
  "kernelspec": {
   "display_name": "Python 3.6. (full)",
   "language": "python",
   "name": "python3-3.6-ufrc"
  },
  "language_info": {
   "codemirror_mode": {
    "name": "ipython",
    "version": 3
   },
   "file_extension": ".py",
   "mimetype": "text/x-python",
   "name": "python",
   "nbconvert_exporter": "python",
   "pygments_lexer": "ipython3",
   "version": "3.6.5"
  }
 },
 "nbformat": 4,
 "nbformat_minor": 4
}
