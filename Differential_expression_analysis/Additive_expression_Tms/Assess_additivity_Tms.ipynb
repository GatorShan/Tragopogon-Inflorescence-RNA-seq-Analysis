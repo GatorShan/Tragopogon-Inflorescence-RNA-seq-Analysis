{
 "cells": [
  {
   "cell_type": "code",
   "execution_count": 1,
   "metadata": {},
   "outputs": [],
   "source": [
    "import pandas as pd\n",
    "import os"
   ]
  },
  {
   "cell_type": "code",
   "execution_count": 2,
   "metadata": {},
   "outputs": [],
   "source": [
    "os.chdir(\"/ufrc/soltis/shan158538/TragFL_NewAnalysis/OutPut/DE_analysis/Additive_expression_Tms\")"
   ]
  },
  {
   "cell_type": "code",
   "execution_count": 3,
   "metadata": {},
   "outputs": [],
   "source": [
    "overall_fh         = \"additive_DE_overall_model_not_sig_loci.txt\"\n",
    "parents_sig_fh     = \"DE_Tdu_Tpr_sig_loci.txt\"\n",
    "parents_not_sig_fh = \"DE_Tdu_Tpr_not_sig_loci.txt\"    \n",
    "poly = [\"DE_additive_Tdu_Tpr-Tms_not_sig_loci.txt\", \"DE_additive_Tdu_Tpr-Tms_sig_loci.txt\"]\n",
    "poly_dfs = [pd.read_csv(i, index_col=0) for i in poly]"
   ]
  },
  {
   "cell_type": "code",
   "execution_count": 4,
   "metadata": {},
   "outputs": [],
   "source": [
    "def remove_overall_not_sig(df, overall_df):\n",
    "    \"\"\"Remove loci not sig diff in overall contrast\"\"\"\n",
    "    return df[~df.index.isin(overall_df.index)]"
   ]
  },
  {
   "cell_type": "code",
   "execution_count": 5,
   "metadata": {},
   "outputs": [],
   "source": [
    "ov = pd.read_csv(overall_fh, index_col=0)\n",
    "par_same = pd.read_csv(parents_not_sig_fh, index_col=0)\n",
    "par_diff = pd.read_csv(parents_sig_fh, index_col=0)"
   ]
  },
  {
   "cell_type": "code",
   "execution_count": 6,
   "metadata": {},
   "outputs": [],
   "source": [
    "# Remove loci not sig diff in overall contrast\n",
    "par_same = remove_overall_not_sig(par_same, ov)\n",
    "par_diff = remove_overall_not_sig(par_diff, ov)\n",
    "par_same_set = set(par_same.index)\n",
    "par_diff_set = set(par_diff.index)\n",
    "poly_dfs = [remove_overall_not_sig(i, ov) for i in poly_dfs]"
   ]
  },
  {
   "cell_type": "code",
   "execution_count": 7,
   "metadata": {},
   "outputs": [],
   "source": [
    "names = [\"Tms_not_sig\",\n",
    "         \"Tms_sig_loci\"]\n",
    "for x, i in enumerate(poly_dfs):\n",
    "    same = i[i.index.isin(par_same_set)]\n",
    "    same.to_csv(names[x] + \"_parents_same.csv\")\n",
    "    diff = i[i.index.isin(par_diff_set)]\n",
    "    diff.to_csv(names[x] + \"_parents_diff.csv\")"
   ]
  },
  {
   "cell_type": "code",
   "execution_count": null,
   "metadata": {},
   "outputs": [],
   "source": []
  }
 ],
 "metadata": {
  "kernelspec": {
   "display_name": "Python 3.6. (full)",
   "language": "python",
   "name": "python3-3.6-ufrc"
  },
  "language_info": {
   "codemirror_mode": {
    "name": "ipython",
    "version": 3
   },
   "file_extension": ".py",
   "mimetype": "text/x-python",
   "name": "python",
   "nbconvert_exporter": "python",
   "pygments_lexer": "ipython3",
   "version": "3.6.5"
  }
 },
 "nbformat": 4,
 "nbformat_minor": 4
}
