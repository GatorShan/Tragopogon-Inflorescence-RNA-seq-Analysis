{
 "cells": [
  {
   "cell_type": "code",
   "execution_count": 1,
   "metadata": {},
   "outputs": [],
   "source": [
    "import pandas as pd\n",
    "import os"
   ]
  },
  {
   "cell_type": "code",
   "execution_count": 2,
   "metadata": {},
   "outputs": [],
   "source": [
    "os.chdir(\"/ufrc/soltis/shan158538/TragFL_NewAnalysis/OutPut/DE_analysis/12_possible_differential_exp_states/Tms\")"
   ]
  },
  {
   "cell_type": "code",
   "execution_count": 3,
   "metadata": {},
   "outputs": [],
   "source": [
    "## Input files\n",
    "## Between Tdu and Tpr\n",
    "noneDE_Tdu_Tpr = pd.read_table(\"DESeq2_noneDE_loci_Tdu_Tpr.txt\", sep = \"\\t\")\n",
    "DE_Tdu_higher_than_Tpr = pd.read_table(\"DESeq2_DE_loci_Tdu_higher.txt\", sep = \"\\t\")\n",
    "DE_Tpr_higher_than_Tdu = pd.read_table(\"DESeq2_DE_loci_Tpr_higher.txt\", sep = \"\\t\")\n",
    "\n",
    "## Between Tdu and Tms\n",
    "noneDE_Tdu_Tms = pd.read_table(\"DESeq2_noneDE_loci_Tms_Tdu.txt\", sep = \"\\t\")\n",
    "DE_Tdu_higher_than_Tms = pd.read_table(\"DESeq2_DE_loci_Tdu_higher_than_Tms.txt\", sep = \"\\t\")\n",
    "DE_Tms_higher_than_Tdu = pd.read_table(\"DESeq2_DE_loci_Tms_higher_than_Tdu.txt\", sep = \"\\t\")\n",
    "\n",
    "## Between Tpr and Tms\n",
    "noneDE_Tpr_Tms = pd.read_table(\"DESeq2_noneDE_loci_Tms_Tpr.txt\", sep = \"\\t\")\n",
    "DE_Tpr_higher_than_Tms = pd.read_table(\"DESeq2_DE_loci_Tpr_higher_than_Tms.txt\", sep = \"\\t\")\n",
    "DE_Tms_higher_than_Tpr = pd.read_table(\"DESeq2_DE_loci_Tms_higher_than_Tpr.txt\", sep = \"\\t\")"
   ]
  },
  {
   "cell_type": "code",
   "execution_count": 4,
   "metadata": {},
   "outputs": [
    {
     "data": {
      "text/html": [
       "<div>\n",
       "<style scoped>\n",
       "    .dataframe tbody tr th:only-of-type {\n",
       "        vertical-align: middle;\n",
       "    }\n",
       "\n",
       "    .dataframe tbody tr th {\n",
       "        vertical-align: top;\n",
       "    }\n",
       "\n",
       "    .dataframe thead th {\n",
       "        text-align: right;\n",
       "    }\n",
       "</style>\n",
       "<table border=\"1\" class=\"dataframe\">\n",
       "  <thead>\n",
       "    <tr style=\"text-align: right;\">\n",
       "      <th></th>\n",
       "      <th>baseMean</th>\n",
       "      <th>log2FoldChange</th>\n",
       "      <th>lfcSE</th>\n",
       "      <th>stat</th>\n",
       "      <th>pvalue</th>\n",
       "      <th>padj</th>\n",
       "    </tr>\n",
       "  </thead>\n",
       "  <tbody>\n",
       "    <tr>\n",
       "      <th>Tpr_TRINITY_DN11257_c2_g1|Tdu_TRINITY_DN16696_c0_g1</th>\n",
       "      <td>96.024048</td>\n",
       "      <td>-0.229716</td>\n",
       "      <td>0.199746</td>\n",
       "      <td>-1.150039</td>\n",
       "      <td>0.250128</td>\n",
       "      <td>0.492605</td>\n",
       "    </tr>\n",
       "    <tr>\n",
       "      <th>Tpr_TRINITY_DN10853_c1_g4|Tdu_TRINITY_DN21860_c3_g3</th>\n",
       "      <td>750.334395</td>\n",
       "      <td>-0.116772</td>\n",
       "      <td>0.141724</td>\n",
       "      <td>-0.823940</td>\n",
       "      <td>0.409974</td>\n",
       "      <td>0.651873</td>\n",
       "    </tr>\n",
       "    <tr>\n",
       "      <th>Tpr_TRINITY_DN12798_c2_g2|Tdu_TRINITY_DN24179_c2_g3</th>\n",
       "      <td>58.686028</td>\n",
       "      <td>-0.669007</td>\n",
       "      <td>0.262663</td>\n",
       "      <td>-2.547011</td>\n",
       "      <td>0.010865</td>\n",
       "      <td>0.059050</td>\n",
       "    </tr>\n",
       "    <tr>\n",
       "      <th>Tpr_TRINITY_DN21120_c0_g1|Tdu_TRINITY_DN19044_c2_g2</th>\n",
       "      <td>1.211177</td>\n",
       "      <td>0.941019</td>\n",
       "      <td>0.577442</td>\n",
       "      <td>1.629634</td>\n",
       "      <td>0.103179</td>\n",
       "      <td>0.287400</td>\n",
       "    </tr>\n",
       "    <tr>\n",
       "      <th>Tpr_TRINITY_DN15495_c0_g2|Tdu_TRINITY_DN17403_c2_g1</th>\n",
       "      <td>42.401416</td>\n",
       "      <td>0.070220</td>\n",
       "      <td>0.331921</td>\n",
       "      <td>0.211555</td>\n",
       "      <td>0.832454</td>\n",
       "      <td>0.928532</td>\n",
       "    </tr>\n",
       "  </tbody>\n",
       "</table>\n",
       "</div>"
      ],
      "text/plain": [
       "                                                      baseMean    ...         padj\n",
       "Tpr_TRINITY_DN11257_c2_g1|Tdu_TRINITY_DN16696_c...   96.024048    ...     0.492605\n",
       "Tpr_TRINITY_DN10853_c1_g4|Tdu_TRINITY_DN21860_c...  750.334395    ...     0.651873\n",
       "Tpr_TRINITY_DN12798_c2_g2|Tdu_TRINITY_DN24179_c...   58.686028    ...     0.059050\n",
       "Tpr_TRINITY_DN21120_c0_g1|Tdu_TRINITY_DN19044_c...    1.211177    ...     0.287400\n",
       "Tpr_TRINITY_DN15495_c0_g2|Tdu_TRINITY_DN17403_c...   42.401416    ...     0.928532\n",
       "\n",
       "[5 rows x 6 columns]"
      ]
     },
     "execution_count": 4,
     "metadata": {},
     "output_type": "execute_result"
    }
   ],
   "source": [
    "noneDE_Tdu_Tpr.head()"
   ]
  },
  {
   "cell_type": "markdown",
   "metadata": {},
   "source": [
    "## 1. Tdu = Tpr"
   ]
  },
  {
   "cell_type": "code",
   "execution_count": 5,
   "metadata": {},
   "outputs": [
    {
     "data": {
      "text/plain": [
       "(6243, 18)"
      ]
     },
     "execution_count": 5,
     "metadata": {},
     "output_type": "execute_result"
    }
   ],
   "source": [
    "## Tms = Tdu & Tms = Tpr\n",
    "Tdu_equal_Tpr_AND_Tms_equal_Tdu = pd.merge(noneDE_Tdu_Tpr,\n",
    "                                           noneDE_Tdu_Tms,\n",
    "                                           how='inner', left_index=True, right_index=True)\n",
    "Tdu_equal_Tpr_AND_Tms_equal_Tdu_AND_Tms_equal_Tpr = pd.merge(Tdu_equal_Tpr_AND_Tms_equal_Tdu,\n",
    "                                                             noneDE_Tpr_Tms,\n",
    "                                                             how='inner', left_index=True, right_index=True)\n",
    "Tdu_equal_Tpr_AND_Tms_equal_Tdu_AND_Tms_equal_Tpr.shape"
   ]
  },
  {
   "cell_type": "code",
   "execution_count": 6,
   "metadata": {},
   "outputs": [
    {
     "data": {
      "text/plain": [
       "(260, 18)"
      ]
     },
     "execution_count": 6,
     "metadata": {},
     "output_type": "execute_result"
    }
   ],
   "source": [
    "## Tms > Tdu & Tms > Tpr\n",
    "Tdu_equal_Tpr_AND_Tms_high_Tdu = pd.merge(noneDE_Tdu_Tpr,\n",
    "                                          DE_Tms_higher_than_Tdu,\n",
    "                                          how='inner', left_index=True, right_index=True)\n",
    "Tdu_equal_Tpr_AND_Tms_high_Tdu_AND_Tms_high_Tpr = pd.merge(Tdu_equal_Tpr_AND_Tms_high_Tdu,\n",
    "                                                           DE_Tms_higher_than_Tpr,\n",
    "                                                           how='inner', left_index=True, right_index=True)\n",
    "Tdu_equal_Tpr_AND_Tms_high_Tdu_AND_Tms_high_Tpr.shape"
   ]
  },
  {
   "cell_type": "code",
   "execution_count": 7,
   "metadata": {},
   "outputs": [
    {
     "data": {
      "text/plain": [
       "(433, 18)"
      ]
     },
     "execution_count": 7,
     "metadata": {},
     "output_type": "execute_result"
    }
   ],
   "source": [
    "## Tms < Tdu & Tms < Tpr\n",
    "Tdu_equal_Tpr_AND_Tms_low_Tdu = pd.merge(noneDE_Tdu_Tpr,\n",
    "                                         DE_Tdu_higher_than_Tms,\n",
    "                                         how='inner', left_index=True, right_index=True)\n",
    "Tdu_equal_Tpr_AND_Tms_low_Tdu_AND_Tms_low_Tpr = pd.merge(Tdu_equal_Tpr_AND_Tms_low_Tdu,\n",
    "                                                         DE_Tpr_higher_than_Tms,\n",
    "                                                         how='inner', left_index=True, right_index=True)\n",
    "Tdu_equal_Tpr_AND_Tms_low_Tdu_AND_Tms_low_Tpr.shape"
   ]
  },
  {
   "cell_type": "code",
   "execution_count": 8,
   "metadata": {},
   "outputs": [],
   "source": [
    "## Write out\n",
    "Tdu_equal_Tpr_AND_Tms_equal_Tdu_AND_Tms_equal_Tpr.to_csv(\"Tdu_equal_Tpr_AND_Tms_equal_Tdu_AND_Tms_equal_Tpr.txt\", columns=[], header=False)\n",
    "Tdu_equal_Tpr_AND_Tms_high_Tdu_AND_Tms_high_Tpr.to_csv(\"Tdu_equal_Tpr_AND_Tms_high_Tdu_AND_Tms_high_Tpr.txt\", columns=[], header=False)\n",
    "Tdu_equal_Tpr_AND_Tms_low_Tdu_AND_Tms_low_Tpr.to_csv(\"Tdu_equal_Tpr_AND_Tms_low_Tdu_AND_Tms_low_Tpr.txt\", columns=[], header=False)"
   ]
  },
  {
   "cell_type": "markdown",
   "metadata": {},
   "source": [
    "## 2. Tdu > Tpr"
   ]
  },
  {
   "cell_type": "code",
   "execution_count": 9,
   "metadata": {},
   "outputs": [
    {
     "data": {
      "text/plain": [
       "(7, 18)"
      ]
     },
     "execution_count": 9,
     "metadata": {},
     "output_type": "execute_result"
    }
   ],
   "source": [
    "## Tms > Tdu & Tms > Tpr\n",
    "Tdu_high_Tpr_AND_Tms_high_Tdu = pd.merge(DE_Tdu_higher_than_Tpr,\n",
    "                                         DE_Tms_higher_than_Tdu,\n",
    "                                         how='inner', left_index=True, right_index=True)\n",
    "Tdu_high_Tpr_AND_Tms_high_Tdu_AND_Tms_high_Tpr = pd.merge(Tdu_high_Tpr_AND_Tms_high_Tdu,\n",
    "                                                          DE_Tms_higher_than_Tpr,\n",
    "                                                          how='inner', left_index=True, right_index=True)\n",
    "Tdu_high_Tpr_AND_Tms_high_Tdu_AND_Tms_high_Tpr.shape"
   ]
  },
  {
   "cell_type": "code",
   "execution_count": 10,
   "metadata": {},
   "outputs": [
    {
     "data": {
      "text/plain": [
       "(261, 18)"
      ]
     },
     "execution_count": 10,
     "metadata": {},
     "output_type": "execute_result"
    }
   ],
   "source": [
    "## Tms = Tdu & Tms > Tpr\n",
    "Tdu_high_Tpr_AND_Tms_equal_Tdu = pd.merge(DE_Tdu_higher_than_Tpr,\n",
    "                                          noneDE_Tdu_Tms,\n",
    "                                          how='inner', left_index=True, right_index=True)\n",
    "Tdu_high_Tpr_AND_Tms_equal_Tdu_AND_Tms_high_Tpr = pd.merge(Tdu_high_Tpr_AND_Tms_equal_Tdu,\n",
    "                                                           DE_Tms_higher_than_Tpr,\n",
    "                                                           how='inner', left_index=True, right_index=True)\n",
    "Tdu_high_Tpr_AND_Tms_equal_Tdu_AND_Tms_high_Tpr.shape"
   ]
  },
  {
   "cell_type": "code",
   "execution_count": 11,
   "metadata": {},
   "outputs": [
    {
     "data": {
      "text/plain": [
       "(50, 18)"
      ]
     },
     "execution_count": 11,
     "metadata": {},
     "output_type": "execute_result"
    }
   ],
   "source": [
    "## Tms < Tdu & Tms > Tpr\n",
    "Tdu_high_Tpr_AND_Tms_low_Tdu = pd.merge(DE_Tdu_higher_than_Tpr,\n",
    "                                        DE_Tdu_higher_than_Tms,\n",
    "                                        how='inner', left_index=True, right_index=True)\n",
    "Tdu_high_Tpr_AND_Tms_low_Tdu_AND_Tms_high_Tpr = pd.merge(Tdu_high_Tpr_AND_Tms_low_Tdu,\n",
    "                                                         DE_Tms_higher_than_Tpr,\n",
    "                                                         how='inner', left_index=True, right_index=True)\n",
    "Tdu_high_Tpr_AND_Tms_low_Tdu_AND_Tms_high_Tpr.shape"
   ]
  },
  {
   "cell_type": "code",
   "execution_count": 12,
   "metadata": {},
   "outputs": [
    {
     "data": {
      "text/plain": [
       "(297, 18)"
      ]
     },
     "execution_count": 12,
     "metadata": {},
     "output_type": "execute_result"
    }
   ],
   "source": [
    "## Tms < Tdu & Tms = Tpr\n",
    "Tdu_high_Tpr_AND_Tms_low_Tdu_AND_Tms_equal_Tpr = pd.merge(Tdu_high_Tpr_AND_Tms_low_Tdu,\n",
    "                                                          noneDE_Tpr_Tms,\n",
    "                                                          how='inner', left_index=True, right_index=True)\n",
    "Tdu_high_Tpr_AND_Tms_low_Tdu_AND_Tms_equal_Tpr.shape"
   ]
  },
  {
   "cell_type": "code",
   "execution_count": 13,
   "metadata": {},
   "outputs": [
    {
     "data": {
      "text/plain": [
       "(14, 18)"
      ]
     },
     "execution_count": 13,
     "metadata": {},
     "output_type": "execute_result"
    }
   ],
   "source": [
    "## Tms < Tdu & Tms < Tpr\n",
    "Tdu_high_Tpr_AND_Tms_low_Tdu_AND_Tms_low_Tpr = pd.merge(Tdu_high_Tpr_AND_Tms_low_Tdu,\n",
    "                                                        DE_Tpr_higher_than_Tms,\n",
    "                                                        how='inner', left_index=True, right_index=True)\n",
    "Tdu_high_Tpr_AND_Tms_low_Tdu_AND_Tms_low_Tpr.shape"
   ]
  },
  {
   "cell_type": "code",
   "execution_count": 14,
   "metadata": {},
   "outputs": [],
   "source": [
    "## Write out\n",
    "Tdu_high_Tpr_AND_Tms_high_Tdu_AND_Tms_high_Tpr.to_csv(\"Tdu_high_Tpr_AND_Tms_high_Tdu_AND_Tms_high_Tpr.txt\", columns=[], header=False)\n",
    "Tdu_high_Tpr_AND_Tms_equal_Tdu_AND_Tms_high_Tpr.to_csv(\"Tdu_high_Tpr_AND_Tms_equal_Tdu_AND_Tms_high_Tpr.txt\", columns=[], header=False)\n",
    "Tdu_high_Tpr_AND_Tms_low_Tdu_AND_Tms_high_Tpr.to_csv(\"Tdu_high_Tpr_AND_Tms_low_Tdu_AND_Tms_high_Tpr.txt\", columns=[], header=False)\n",
    "Tdu_high_Tpr_AND_Tms_low_Tdu_AND_Tms_equal_Tpr.to_csv(\"Tdu_high_Tpr_AND_Tms_low_Tdu_AND_Tms_equal_Tpr.txt\", columns=[], header=False)\n",
    "Tdu_high_Tpr_AND_Tms_low_Tdu_AND_Tms_low_Tpr.to_csv(\"Tdu_high_Tpr_AND_Tms_low_Tdu_AND_Tms_low_Tpr.txt\", columns=[], header=False)"
   ]
  },
  {
   "cell_type": "markdown",
   "metadata": {},
   "source": [
    "## 3. Tdu < Tpr"
   ]
  },
  {
   "cell_type": "code",
   "execution_count": 15,
   "metadata": {},
   "outputs": [
    {
     "data": {
      "text/plain": [
       "(6, 18)"
      ]
     },
     "execution_count": 15,
     "metadata": {},
     "output_type": "execute_result"
    }
   ],
   "source": [
    "## Tms > Tpr & Tms > Tdu\n",
    "Tpr_high_Tdu_AND_Tms_high_Tpr = pd.merge(DE_Tpr_higher_than_Tdu,\n",
    "                                         DE_Tms_higher_than_Tpr,\n",
    "                                         how='inner', left_index=True, right_index=True)\n",
    "Tpr_high_Tdu_AND_Tms_high_Tpr_AND_Tms_high_Tdu = pd.merge(Tpr_high_Tdu_AND_Tms_high_Tpr,\n",
    "                                                          DE_Tms_higher_than_Tdu,\n",
    "                                                          how='inner', left_index=True, right_index=True)\n",
    "Tpr_high_Tdu_AND_Tms_high_Tpr_AND_Tms_high_Tdu.shape"
   ]
  },
  {
   "cell_type": "code",
   "execution_count": 16,
   "metadata": {},
   "outputs": [
    {
     "data": {
      "text/plain": [
       "(293, 18)"
      ]
     },
     "execution_count": 16,
     "metadata": {},
     "output_type": "execute_result"
    }
   ],
   "source": [
    "## Tms = Tpr & Tms > Tdu\n",
    "Tpr_high_Tdu_AND_Tms_equal_Tpr = pd.merge(DE_Tpr_higher_than_Tdu,\n",
    "                                          noneDE_Tpr_Tms,\n",
    "                                          how='inner', left_index=True, right_index=True)\n",
    "Tpr_high_Tdu_AND_Tms_equal_Tpr_AND_Tms_high_Tdu = pd.merge(Tpr_high_Tdu_AND_Tms_equal_Tpr,\n",
    "                                                           DE_Tms_higher_than_Tdu,\n",
    "                                                           how='inner', left_index=True, right_index=True)\n",
    "Tpr_high_Tdu_AND_Tms_equal_Tpr_AND_Tms_high_Tdu.shape"
   ]
  },
  {
   "cell_type": "code",
   "execution_count": 17,
   "metadata": {},
   "outputs": [
    {
     "data": {
      "text/plain": [
       "(43, 18)"
      ]
     },
     "execution_count": 17,
     "metadata": {},
     "output_type": "execute_result"
    }
   ],
   "source": [
    "## Tms < Tpr & Tms > Tdu\n",
    "Tpr_high_Tdu_AND_Tms_low_Tpr = pd.merge(DE_Tpr_higher_than_Tdu,\n",
    "                                        DE_Tpr_higher_than_Tms,\n",
    "                                        how='inner', left_index=True, right_index=True)\n",
    "Tpr_high_Tdu_AND_Tms_low_Tpr_AND_Tms_high_Tdu = pd.merge(Tpr_high_Tdu_AND_Tms_low_Tpr,\n",
    "                                                         DE_Tms_higher_than_Tdu,\n",
    "                                                         how='inner', left_index=True, right_index=True)\n",
    "Tpr_high_Tdu_AND_Tms_low_Tpr_AND_Tms_high_Tdu.shape"
   ]
  },
  {
   "cell_type": "code",
   "execution_count": 18,
   "metadata": {},
   "outputs": [
    {
     "data": {
      "text/plain": [
       "(245, 18)"
      ]
     },
     "execution_count": 18,
     "metadata": {},
     "output_type": "execute_result"
    }
   ],
   "source": [
    "## Tms < Tpr & Tms = Tdu\n",
    "Tpr_high_Tdu_AND_Tms_low_Tpr_AND_Tms_equal_Tdu = pd.merge(Tpr_high_Tdu_AND_Tms_low_Tpr,\n",
    "                                                          noneDE_Tdu_Tms,\n",
    "                                                          how='inner', left_index=True, right_index=True)\n",
    "Tpr_high_Tdu_AND_Tms_low_Tpr_AND_Tms_equal_Tdu.shape"
   ]
  },
  {
   "cell_type": "code",
   "execution_count": 19,
   "metadata": {},
   "outputs": [
    {
     "data": {
      "text/plain": [
       "(33, 18)"
      ]
     },
     "execution_count": 19,
     "metadata": {},
     "output_type": "execute_result"
    }
   ],
   "source": [
    "## Tms < Tpr & Tms < Tdu\n",
    "Tpr_high_Tdu_AND_Tms_low_Tpr_AND_Tms_low_Tdu = pd.merge(Tpr_high_Tdu_AND_Tms_low_Tpr,\n",
    "                                                        DE_Tdu_higher_than_Tms,\n",
    "                                                        how='inner', left_index=True, right_index=True)\n",
    "Tpr_high_Tdu_AND_Tms_low_Tpr_AND_Tms_low_Tdu.shape"
   ]
  },
  {
   "cell_type": "code",
   "execution_count": 20,
   "metadata": {},
   "outputs": [],
   "source": [
    "## Write out\n",
    "Tpr_high_Tdu_AND_Tms_high_Tpr_AND_Tms_high_Tdu.to_csv(\"Tpr_high_Tdu_AND_Tms_high_Tpr_AND_Tms_high_Tdu.txt\", columns=[], header=False)\n",
    "Tpr_high_Tdu_AND_Tms_equal_Tpr_AND_Tms_high_Tdu.to_csv(\"Tpr_high_Tdu_AND_Tms_equal_Tpr_AND_Tms_high_Tdu.txt\", columns=[], header=False)\n",
    "Tpr_high_Tdu_AND_Tms_low_Tpr_AND_Tms_high_Tdu.to_csv(\"Tpr_high_Tdu_AND_Tms_low_Tpr_AND_Tms_high_Tdu.txt\", columns=[], header=False)\n",
    "Tpr_high_Tdu_AND_Tms_low_Tpr_AND_Tms_equal_Tdu.to_csv(\"Tpr_high_Tdu_AND_Tms_low_Tpr_AND_Tms_equal_Tdu.txt\", columns=[], header=False)\n",
    "Tpr_high_Tdu_AND_Tms_low_Tpr_AND_Tms_low_Tdu.to_csv(\"Tpr_high_Tdu_AND_Tms_low_Tpr_AND_Tms_low_Tdu.txt\", columns=[], header=False)"
   ]
  },
  {
   "cell_type": "code",
   "execution_count": null,
   "metadata": {},
   "outputs": [],
   "source": []
  }
 ],
 "metadata": {
  "kernelspec": {
   "display_name": "Python 3.6. (full)",
   "language": "python",
   "name": "python3-3.6-ufrc"
  },
  "language_info": {
   "codemirror_mode": {
    "name": "ipython",
    "version": 3
   },
   "file_extension": ".py",
   "mimetype": "text/x-python",
   "name": "python",
   "nbconvert_exporter": "python",
   "pygments_lexer": "ipython3",
   "version": "3.6.5"
  }
 },
 "nbformat": 4,
 "nbformat_minor": 4
}
