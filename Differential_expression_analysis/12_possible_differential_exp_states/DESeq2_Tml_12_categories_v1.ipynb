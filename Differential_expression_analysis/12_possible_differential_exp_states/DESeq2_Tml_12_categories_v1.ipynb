{
 "cells": [
  {
   "cell_type": "code",
   "execution_count": 1,
   "metadata": {},
   "outputs": [],
   "source": [
    "import pandas as pd\n",
    "import os"
   ]
  },
  {
   "cell_type": "code",
   "execution_count": 2,
   "metadata": {},
   "outputs": [],
   "source": [
    "os.chdir(\"/ufrc/soltis/shan158538/TragFL_NewAnalysis/OutPut/DE_analysis/12_possible_differential_exp_states/Tml\")"
   ]
  },
  {
   "cell_type": "code",
   "execution_count": 3,
   "metadata": {},
   "outputs": [],
   "source": [
    "## Input files\n",
    "## Between Tdu and Tpr\n",
    "noneDE_Tdu_Tpr = pd.read_table(\"DESeq2_noneDE_loci_Tdu_Tpr.txt\", sep = \"\\t\")\n",
    "DE_Tdu_higher_than_Tpr = pd.read_table(\"DESeq2_DE_loci_Tdu_higher.txt\", sep = \"\\t\")\n",
    "DE_Tpr_higher_than_Tdu = pd.read_table(\"DESeq2_DE_loci_Tpr_higher.txt\", sep = \"\\t\")\n",
    "\n",
    "## Between Tdu and Tml\n",
    "noneDE_Tdu_Tml = pd.read_table(\"DESeq2_noneDE_loci_Tml_Tdu.txt\", sep = \"\\t\")\n",
    "DE_Tdu_higher_than_Tml = pd.read_table(\"DESeq2_DE_loci_Tdu_higher_than_Tml.txt\", sep = \"\\t\")\n",
    "DE_Tml_higher_than_Tdu = pd.read_table(\"DESeq2_DE_loci_Tml_higher_than_Tdu.txt\", sep = \"\\t\")\n",
    "\n",
    "## Between Tpr and Tml\n",
    "noneDE_Tpr_Tml = pd.read_table(\"DESeq2_noneDE_loci_Tml_Tpr.txt\", sep = \"\\t\")\n",
    "DE_Tpr_higher_than_Tml = pd.read_table(\"DESeq2_DE_loci_Tpr_higher_than_Tml.txt\", sep = \"\\t\")\n",
    "DE_Tml_higher_than_Tpr = pd.read_table(\"DESeq2_DE_loci_Tml_higher_than_Tpr.txt\", sep = \"\\t\")"
   ]
  },
  {
   "cell_type": "code",
   "execution_count": 4,
   "metadata": {},
   "outputs": [
    {
     "data": {
      "text/html": [
       "<div>\n",
       "<style scoped>\n",
       "    .dataframe tbody tr th:only-of-type {\n",
       "        vertical-align: middle;\n",
       "    }\n",
       "\n",
       "    .dataframe tbody tr th {\n",
       "        vertical-align: top;\n",
       "    }\n",
       "\n",
       "    .dataframe thead th {\n",
       "        text-align: right;\n",
       "    }\n",
       "</style>\n",
       "<table border=\"1\" class=\"dataframe\">\n",
       "  <thead>\n",
       "    <tr style=\"text-align: right;\">\n",
       "      <th></th>\n",
       "      <th>baseMean</th>\n",
       "      <th>log2FoldChange</th>\n",
       "      <th>lfcSE</th>\n",
       "      <th>stat</th>\n",
       "      <th>pvalue</th>\n",
       "      <th>padj</th>\n",
       "    </tr>\n",
       "  </thead>\n",
       "  <tbody>\n",
       "    <tr>\n",
       "      <th>Tpr_TRINITY_DN11257_c2_g1|Tdu_TRINITY_DN16696_c0_g1</th>\n",
       "      <td>100.905918</td>\n",
       "      <td>-0.231249</td>\n",
       "      <td>0.197180</td>\n",
       "      <td>-1.172783</td>\n",
       "      <td>0.240883</td>\n",
       "      <td>0.480988</td>\n",
       "    </tr>\n",
       "    <tr>\n",
       "      <th>Tpr_TRINITY_DN10853_c1_g4|Tdu_TRINITY_DN21860_c3_g3</th>\n",
       "      <td>768.846601</td>\n",
       "      <td>-0.116255</td>\n",
       "      <td>0.143193</td>\n",
       "      <td>-0.811876</td>\n",
       "      <td>0.416863</td>\n",
       "      <td>0.656885</td>\n",
       "    </tr>\n",
       "    <tr>\n",
       "      <th>Tpr_TRINITY_DN21120_c0_g1|Tdu_TRINITY_DN19044_c2_g2</th>\n",
       "      <td>1.183543</td>\n",
       "      <td>0.826202</td>\n",
       "      <td>0.546016</td>\n",
       "      <td>1.513146</td>\n",
       "      <td>0.130243</td>\n",
       "      <td>0.331144</td>\n",
       "    </tr>\n",
       "    <tr>\n",
       "      <th>Tpr_TRINITY_DN15495_c0_g2|Tdu_TRINITY_DN17403_c2_g1</th>\n",
       "      <td>45.342473</td>\n",
       "      <td>0.064960</td>\n",
       "      <td>0.323816</td>\n",
       "      <td>0.200606</td>\n",
       "      <td>0.841006</td>\n",
       "      <td>0.933142</td>\n",
       "    </tr>\n",
       "    <tr>\n",
       "      <th>Tpr_TRINITY_DN38363_c0_g1|Tdu_TRINITY_DN14954_c0_g1</th>\n",
       "      <td>1.207906</td>\n",
       "      <td>0.147008</td>\n",
       "      <td>0.581990</td>\n",
       "      <td>0.252596</td>\n",
       "      <td>0.800581</td>\n",
       "      <td>0.912230</td>\n",
       "    </tr>\n",
       "  </tbody>\n",
       "</table>\n",
       "</div>"
      ],
      "text/plain": [
       "                                                      baseMean    ...         padj\n",
       "Tpr_TRINITY_DN11257_c2_g1|Tdu_TRINITY_DN16696_c...  100.905918    ...     0.480988\n",
       "Tpr_TRINITY_DN10853_c1_g4|Tdu_TRINITY_DN21860_c...  768.846601    ...     0.656885\n",
       "Tpr_TRINITY_DN21120_c0_g1|Tdu_TRINITY_DN19044_c...    1.183543    ...     0.331144\n",
       "Tpr_TRINITY_DN15495_c0_g2|Tdu_TRINITY_DN17403_c...   45.342473    ...     0.933142\n",
       "Tpr_TRINITY_DN38363_c0_g1|Tdu_TRINITY_DN14954_c...    1.207906    ...     0.912230\n",
       "\n",
       "[5 rows x 6 columns]"
      ]
     },
     "execution_count": 4,
     "metadata": {},
     "output_type": "execute_result"
    }
   ],
   "source": [
    "noneDE_Tdu_Tpr.head()"
   ]
  },
  {
   "cell_type": "markdown",
   "metadata": {},
   "source": [
    "## 1. Tdu = Tpr"
   ]
  },
  {
   "cell_type": "code",
   "execution_count": 5,
   "metadata": {},
   "outputs": [],
   "source": [
    "## Tml = Tdu & Tml = Tpr\n",
    "Tdu_equal_Tpr_AND_Tml_equal_Tdu = pd.merge(noneDE_Tdu_Tpr,\n",
    "                                           noneDE_Tdu_Tml,\n",
    "                                           how='inner', left_index=True, right_index=True)\n",
    "Tdu_equal_Tpr_AND_Tml_equal_Tdu_AND_Tml_equal_Tpr = pd.merge(Tdu_equal_Tpr_AND_Tml_equal_Tdu,\n",
    "                                                             noneDE_Tpr_Tml,\n",
    "                                                             how='inner', left_index=True, right_index=True)"
   ]
  },
  {
   "cell_type": "code",
   "execution_count": 6,
   "metadata": {},
   "outputs": [],
   "source": [
    "## Tml > Tdu & Tml > Tpr\n",
    "Tdu_equal_Tpr_AND_Tml_high_Tdu = pd.merge(noneDE_Tdu_Tpr,\n",
    "                                          DE_Tml_higher_than_Tdu,\n",
    "                                          how='inner', left_index=True, right_index=True)\n",
    "Tdu_equal_Tpr_AND_Tml_high_Tdu_AND_Tml_high_Tpr = pd.merge(Tdu_equal_Tpr_AND_Tml_high_Tdu,\n",
    "                                                           DE_Tml_higher_than_Tpr,\n",
    "                                                           how='inner', left_index=True, right_index=True)"
   ]
  },
  {
   "cell_type": "code",
   "execution_count": 7,
   "metadata": {},
   "outputs": [],
   "source": [
    "## Tml < Tdu & Tml < Tpr\n",
    "Tdu_equal_Tpr_AND_Tml_low_Tdu = pd.merge(noneDE_Tdu_Tpr,\n",
    "                                         DE_Tdu_higher_than_Tml,\n",
    "                                         how='inner', left_index=True, right_index=True)\n",
    "Tdu_equal_Tpr_AND_Tml_low_Tdu_AND_Tml_low_Tpr = pd.merge(Tdu_equal_Tpr_AND_Tml_low_Tdu,\n",
    "                                                         DE_Tpr_higher_than_Tml,\n",
    "                                                         how='inner', left_index=True, right_index=True)"
   ]
  },
  {
   "cell_type": "code",
   "execution_count": 8,
   "metadata": {},
   "outputs": [],
   "source": [
    "## Write out\n",
    "Tdu_equal_Tpr_AND_Tml_equal_Tdu_AND_Tml_equal_Tpr.to_csv(\"Tdu_equal_Tpr_AND_Tml_equal_Tdu_AND_Tml_equal_Tpr.txt\", columns=[], header=False)\n",
    "Tdu_equal_Tpr_AND_Tml_high_Tdu_AND_Tml_high_Tpr.to_csv(\"Tdu_equal_Tpr_AND_Tml_high_Tdu_AND_Tml_high_Tpr.txt\", columns=[], header=False)\n",
    "Tdu_equal_Tpr_AND_Tml_low_Tdu_AND_Tml_low_Tpr.to_csv(\"Tdu_equal_Tpr_AND_Tml_low_Tdu_AND_Tml_low_Tpr.txt\", columns=[], header=False)"
   ]
  },
  {
   "cell_type": "markdown",
   "metadata": {},
   "source": [
    "## 2. Tdu > Tpr"
   ]
  },
  {
   "cell_type": "code",
   "execution_count": 9,
   "metadata": {},
   "outputs": [],
   "source": [
    "## Tml > Tdu & Tml > Tpr\n",
    "Tdu_high_Tpr_AND_Tml_high_Tdu = pd.merge(DE_Tdu_higher_than_Tpr,\n",
    "                                         DE_Tml_higher_than_Tdu,\n",
    "                                         how='inner', left_index=True, right_index=True)\n",
    "Tdu_high_Tpr_AND_Tml_high_Tdu_AND_Tml_high_Tpr = pd.merge(Tdu_high_Tpr_AND_Tml_high_Tdu,\n",
    "                                                          DE_Tml_higher_than_Tpr,\n",
    "                                                          how='inner', left_index=True, right_index=True)"
   ]
  },
  {
   "cell_type": "code",
   "execution_count": 10,
   "metadata": {},
   "outputs": [],
   "source": [
    "## Tml = Tdu & Tml > Tpr\n",
    "Tdu_high_Tpr_AND_Tml_equal_Tdu = pd.merge(DE_Tdu_higher_than_Tpr,\n",
    "                                          noneDE_Tdu_Tml,\n",
    "                                          how='inner', left_index=True, right_index=True)\n",
    "Tdu_high_Tpr_AND_Tml_equal_Tdu_AND_Tml_high_Tpr = pd.merge(Tdu_high_Tpr_AND_Tml_equal_Tdu,\n",
    "                                                           DE_Tml_higher_than_Tpr,\n",
    "                                                           how='inner', left_index=True, right_index=True)"
   ]
  },
  {
   "cell_type": "code",
   "execution_count": 11,
   "metadata": {},
   "outputs": [],
   "source": [
    "## Tml < Tdu & Tml > Tpr\n",
    "Tdu_high_Tpr_AND_Tml_low_Tdu = pd.merge(DE_Tdu_higher_than_Tpr,\n",
    "                                        DE_Tdu_higher_than_Tml,\n",
    "                                        how='inner', left_index=True, right_index=True)\n",
    "Tdu_high_Tpr_AND_Tml_low_Tdu_AND_Tml_high_Tpr = pd.merge(Tdu_high_Tpr_AND_Tml_low_Tdu,\n",
    "                                                         DE_Tml_higher_than_Tpr,\n",
    "                                                         how='inner', left_index=True, right_index=True)"
   ]
  },
  {
   "cell_type": "code",
   "execution_count": 12,
   "metadata": {},
   "outputs": [],
   "source": [
    "## Tml < Tdu & Tml = Tpr\n",
    "Tdu_high_Tpr_AND_Tml_low_Tdu_AND_Tml_equal_Tpr = pd.merge(Tdu_high_Tpr_AND_Tml_low_Tdu,\n",
    "                                                          noneDE_Tpr_Tml,\n",
    "                                                          how='inner', left_index=True, right_index=True)"
   ]
  },
  {
   "cell_type": "code",
   "execution_count": 13,
   "metadata": {},
   "outputs": [
    {
     "data": {
      "text/plain": [
       "(6, 18)"
      ]
     },
     "execution_count": 13,
     "metadata": {},
     "output_type": "execute_result"
    }
   ],
   "source": [
    "## Tml < Tdu & Tml < Tpr\n",
    "Tdu_high_Tpr_AND_Tml_low_Tdu_AND_Tml_low_Tpr = pd.merge(Tdu_high_Tpr_AND_Tml_low_Tdu,\n",
    "                                                        DE_Tpr_higher_than_Tml,\n",
    "                                                        how='inner', left_index=True, right_index=True)\n",
    "Tdu_high_Tpr_AND_Tml_low_Tdu_AND_Tml_low_Tpr.shape"
   ]
  },
  {
   "cell_type": "code",
   "execution_count": 14,
   "metadata": {},
   "outputs": [],
   "source": [
    "## Write out\n",
    "Tdu_high_Tpr_AND_Tml_high_Tdu_AND_Tml_high_Tpr.to_csv(\"Tdu_high_Tpr_AND_Tml_high_Tdu_AND_Tml_high_Tpr.txt\", columns=[], header=False)\n",
    "Tdu_high_Tpr_AND_Tml_equal_Tdu_AND_Tml_high_Tpr.to_csv(\"Tdu_high_Tpr_AND_Tml_equal_Tdu_AND_Tml_high_Tpr.txt\", columns=[], header=False)\n",
    "Tdu_high_Tpr_AND_Tml_low_Tdu_AND_Tml_high_Tpr.to_csv(\"Tdu_high_Tpr_AND_Tml_low_Tdu_AND_Tml_high_Tpr.txt\", columns=[], header=False)\n",
    "Tdu_high_Tpr_AND_Tml_low_Tdu_AND_Tml_equal_Tpr.to_csv(\"Tdu_high_Tpr_AND_Tml_low_Tdu_AND_Tml_equal_Tpr.txt\", columns=[], header=False)\n",
    "Tdu_high_Tpr_AND_Tml_low_Tdu_AND_Tml_low_Tpr.to_csv(\"Tdu_high_Tpr_AND_Tml_low_Tdu_AND_Tml_low_Tpr.txt\", columns=[], header=False)"
   ]
  },
  {
   "cell_type": "markdown",
   "metadata": {},
   "source": [
    "## 3. Tdu < Tpr"
   ]
  },
  {
   "cell_type": "code",
   "execution_count": 15,
   "metadata": {},
   "outputs": [],
   "source": [
    "## Tml > Tpr & Tml > Tdu\n",
    "Tpr_high_Tdu_AND_Tml_high_Tpr = pd.merge(DE_Tpr_higher_than_Tdu,\n",
    "                                         DE_Tml_higher_than_Tpr,\n",
    "                                         how='inner', left_index=True, right_index=True)\n",
    "Tpr_high_Tdu_AND_Tml_high_Tpr_AND_Tml_high_Tdu = pd.merge(Tpr_high_Tdu_AND_Tml_high_Tpr,\n",
    "                                                          DE_Tml_higher_than_Tdu,\n",
    "                                                          how='inner', left_index=True, right_index=True)\n",
    "\n",
    "## Tml = Tpr & Tml > Tdu\n",
    "Tpr_high_Tdu_AND_Tml_equal_Tpr = pd.merge(DE_Tpr_higher_than_Tdu,\n",
    "                                          noneDE_Tpr_Tml,\n",
    "                                          how='inner', left_index=True, right_index=True)\n",
    "Tpr_high_Tdu_AND_Tml_equal_Tpr_AND_Tml_high_Tdu = pd.merge(Tpr_high_Tdu_AND_Tml_equal_Tpr,\n",
    "                                                           DE_Tml_higher_than_Tdu,\n",
    "                                                           how='inner', left_index=True, right_index=True)                                                       \n",
    "\n",
    "## Tml < Tpr & Tml > Tdu\n",
    "Tpr_high_Tdu_AND_Tml_low_Tpr = pd.merge(DE_Tpr_higher_than_Tdu,\n",
    "                                        DE_Tpr_higher_than_Tml,\n",
    "                                        how='inner', left_index=True, right_index=True)\n",
    "Tpr_high_Tdu_AND_Tml_low_Tpr_AND_Tml_high_Tdu = pd.merge(Tpr_high_Tdu_AND_Tml_low_Tpr,\n",
    "                                                         DE_Tml_higher_than_Tdu,\n",
    "                                                         how='inner', left_index=True, right_index=True)\n",
    "\n",
    "## Tml < Tpr & Tml = Tdu\n",
    "Tpr_high_Tdu_AND_Tml_low_Tpr_AND_Tml_equal_Tdu = pd.merge(Tpr_high_Tdu_AND_Tml_low_Tpr,\n",
    "                                                          noneDE_Tdu_Tml,\n",
    "                                                          how='inner', left_index=True, right_index=True)\n",
    "                                                          \n",
    "## Tml < Tpr & Tml < Tdu\n",
    "Tpr_high_Tdu_AND_Tml_low_Tpr_AND_Tml_low_Tdu = pd.merge(Tpr_high_Tdu_AND_Tml_low_Tpr,\n",
    "                                                        DE_Tdu_higher_than_Tml,\n",
    "                                                        how='inner', left_index=True, right_index=True)\n",
    "                                                        \n",
    "## Write out\n",
    "Tpr_high_Tdu_AND_Tml_high_Tpr_AND_Tml_high_Tdu.to_csv(\"Tpr_high_Tdu_AND_Tml_high_Tpr_AND_Tml_high_Tdu.txt\", columns=[], header=False)\n",
    "Tpr_high_Tdu_AND_Tml_equal_Tpr_AND_Tml_high_Tdu.to_csv(\"Tpr_high_Tdu_AND_Tml_equal_Tpr_AND_Tml_high_Tdu.txt\", columns=[], header=False)\n",
    "Tpr_high_Tdu_AND_Tml_low_Tpr_AND_Tml_high_Tdu.to_csv(\"Tpr_high_Tdu_AND_Tml_low_Tpr_AND_Tml_high_Tdu.txt\", columns=[], header=False)\n",
    "Tpr_high_Tdu_AND_Tml_low_Tpr_AND_Tml_equal_Tdu.to_csv(\"Tpr_high_Tdu_AND_Tml_low_Tpr_AND_Tml_equal_Tdu.txt\", columns=[], header=False)\n",
    "Tpr_high_Tdu_AND_Tml_low_Tpr_AND_Tml_low_Tdu.to_csv(\"Tpr_high_Tdu_AND_Tml_low_Tpr_AND_Tml_low_Tdu.txt\", columns=[], header=False)"
   ]
  },
  {
   "cell_type": "code",
   "execution_count": null,
   "metadata": {},
   "outputs": [],
   "source": []
  }
 ],
 "metadata": {
  "kernelspec": {
   "display_name": "Python 3.6. (full)",
   "language": "python",
   "name": "python3-3.6-ufrc"
  },
  "language_info": {
   "codemirror_mode": {
    "name": "ipython",
    "version": 3
   },
   "file_extension": ".py",
   "mimetype": "text/x-python",
   "name": "python",
   "nbconvert_exporter": "python",
   "pygments_lexer": "ipython3",
   "version": "3.6.5"
  }
 },
 "nbformat": 4,
 "nbformat_minor": 4
}
