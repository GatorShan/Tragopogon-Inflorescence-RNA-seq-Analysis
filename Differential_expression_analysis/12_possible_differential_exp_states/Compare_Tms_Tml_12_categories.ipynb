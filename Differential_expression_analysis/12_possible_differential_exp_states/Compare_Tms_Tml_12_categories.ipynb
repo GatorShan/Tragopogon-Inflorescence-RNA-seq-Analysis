{
 "cells": [
  {
   "cell_type": "code",
   "execution_count": 1,
   "metadata": {},
   "outputs": [],
   "source": [
    "import pandas as pd\n",
    "import os"
   ]
  },
  {
   "cell_type": "code",
   "execution_count": 2,
   "metadata": {},
   "outputs": [],
   "source": [
    "os.chdir(\"/ufrc/soltis/shan158538/TragFL_NewAnalysis/OutPut/DE_analysis/12_possible_differential_exp_states/Tmiscellus_shared\")"
   ]
  },
  {
   "cell_type": "markdown",
   "metadata": {},
   "source": [
    "### Shared additive loci between Tms and Tml"
   ]
  },
  {
   "cell_type": "code",
   "execution_count": 7,
   "metadata": {},
   "outputs": [],
   "source": [
    "## Input files\n",
    "Additive_Tms = pd.read_table(\"Tms_additive.txt\", sep = \"\\t\", header=None)\n",
    "Additive_Tml = pd.read_table(\"Tml_additive.txt\", sep = \"\\t\", header=None)\n",
    "## Merge\n",
    "Additive_Tms_Tml = pd.merge(Additive_Tms, Additive_Tml, how='inner', on=[0])\n",
    "## Write out\n",
    "Additive_Tms_Tml.to_csv(\"Shared_additive_Tms_Tml.txt\", header=False, index=False)"
   ]
  },
  {
   "cell_type": "markdown",
   "metadata": {},
   "source": [
    "### Shared ELD of Tdu"
   ]
  },
  {
   "cell_type": "code",
   "execution_count": 8,
   "metadata": {},
   "outputs": [],
   "source": [
    "ELDofTdu_Tms = pd.read_table(\"Tms_ELD-Tdu.txt\", sep = \"\\t\", header=None)\n",
    "ELDofTdu_Tml = pd.read_table(\"Tml_ELD-Tdu.txt\", sep = \"\\t\", header=None)\n",
    "ELDofTdu_Tms_Tml = pd.merge(ELDofTdu_Tms, ELDofTdu_Tml, how='inner', on=[0])\n",
    "ELDofTdu_Tms_Tml.to_csv(\"Shared_ELD-Tdu_Tms_Tml.txt\", header=False, index=False)"
   ]
  },
  {
   "cell_type": "markdown",
   "metadata": {},
   "source": [
    "### Shared ELD of Tpr"
   ]
  },
  {
   "cell_type": "code",
   "execution_count": 9,
   "metadata": {},
   "outputs": [],
   "source": [
    "ELDofTpr_Tms = pd.read_table(\"Tms_ELD-Tpr.txt\", sep = \"\\t\", header=None)\n",
    "ELDofTpr_Tml = pd.read_table(\"Tml_ELD-Tpr.txt\", sep = \"\\t\", header=None)\n",
    "ELDofTpr_Tms_Tml = pd.merge(ELDofTpr_Tms, ELDofTpr_Tml, how='inner', on=[0])\n",
    "ELDofTpr_Tms_Tml.to_csv(\"Shared_ELD-Tpr_Tms_Tml.txt\", header=False, index=False)"
   ]
  },
  {
   "cell_type": "markdown",
   "metadata": {},
   "source": [
    "### Shared transgressive up-regulation"
   ]
  },
  {
   "cell_type": "code",
   "execution_count": 10,
   "metadata": {},
   "outputs": [],
   "source": [
    "Transgressive_up_Tms = pd.read_table(\"Tms_trans-up.txt\", sep = \"\\t\", header=None)\n",
    "Transgressive_up_Tml = pd.read_table(\"Tml_trans-up.txt\", sep = \"\\t\", header=None)\n",
    "Transgressive_up_Tms_Tml = pd.merge(Transgressive_up_Tms, Transgressive_up_Tml, how='inner', on=[0])\n",
    "Transgressive_up_Tms_Tml.to_csv(\"Shared_trans-up_Tms_Tml.txt\", header=False, index=False)"
   ]
  },
  {
   "cell_type": "markdown",
   "metadata": {},
   "source": [
    "### Shared transgressive down-regulation"
   ]
  },
  {
   "cell_type": "code",
   "execution_count": 11,
   "metadata": {},
   "outputs": [],
   "source": [
    "Transgressive_down_Tms = pd.read_table(\"Tms_trans-down.txt\", sep = \"\\t\", header=None)\n",
    "Transgressive_down_Tml = pd.read_table(\"Tml_trans-down.txt\", sep = \"\\t\", header=None)\n",
    "Transgressive_down_Tms_Tml = pd.merge(Transgressive_down_Tms, Transgressive_down_Tml, how='inner', on=[0])\n",
    "Transgressive_down_Tms_Tml.to_csv(\"Shared_trans-down_Tms_Tml.txt\", header=False, index=False)"
   ]
  },
  {
   "cell_type": "markdown",
   "metadata": {},
   "source": [
    "### Shared nonadditive expression"
   ]
  },
  {
   "cell_type": "code",
   "execution_count": 12,
   "metadata": {},
   "outputs": [],
   "source": [
    "Nonadditive_Tms = pd.read_table(\"Tms_nonadditive.txt\", sep = \"\\t\", header=None)\n",
    "Nonadditive_Tml = pd.read_table(\"Tml_nonadditive.txt\", sep = \"\\t\", header=None)\n",
    "Nonadditive_Tms_Tml = pd.merge(Nonadditive_Tms, Nonadditive_Tml, how='inner', on=[0])\n",
    "Nonadditive_Tms_Tml.to_csv(\"Shared_nonadditive_Tms_Tml.txt\", header=False, index=False)"
   ]
  },
  {
   "cell_type": "markdown",
   "metadata": {},
   "source": [
    "### Shared no-change"
   ]
  },
  {
   "cell_type": "code",
   "execution_count": 13,
   "metadata": {},
   "outputs": [],
   "source": [
    "No_change_Tms = pd.read_table(\"Tms_no-change.txt\", sep = \"\\t\", header=None)\n",
    "No_change_Tml = pd.read_table(\"Tml_no-change.txt\", sep = \"\\t\", header=None)\n",
    "No_change_Tms_Tml = pd.merge(No_change_Tms, No_change_Tml, how='inner', on=[0])\n",
    "No_change_Tms_Tml.to_csv(\"Shared_no-change_Tms_Tml.txt\", header=False, index=False)"
   ]
  },
  {
   "cell_type": "markdown",
   "metadata": {},
   "source": [
    "### Shared total"
   ]
  },
  {
   "cell_type": "code",
   "execution_count": 14,
   "metadata": {},
   "outputs": [],
   "source": [
    "Total_Tms = pd.read_table(\"Tms_total.txt\", sep = \"\\t\", header=None)\n",
    "Total_Tml = pd.read_table(\"Tml_total.txt\", sep = \"\\t\", header=None)\n",
    "Total_Tms_Tml = pd.merge(Total_Tms, Total_Tml, how='inner', on=[0])\n",
    "Total_Tms_Tml.to_csv(\"Shared_total_Tms_Tml.txt\", header=False, index=False)"
   ]
  },
  {
   "cell_type": "code",
   "execution_count": null,
   "metadata": {},
   "outputs": [],
   "source": []
  }
 ],
 "metadata": {
  "kernelspec": {
   "display_name": "Python 3.6. (full)",
   "language": "python",
   "name": "python3-3.6-ufrc"
  },
  "language_info": {
   "codemirror_mode": {
    "name": "ipython",
    "version": 3
   },
   "file_extension": ".py",
   "mimetype": "text/x-python",
   "name": "python",
   "nbconvert_exporter": "python",
   "pygments_lexer": "ipython3",
   "version": "3.6.5"
  }
 },
 "nbformat": 4,
 "nbformat_minor": 4
}
