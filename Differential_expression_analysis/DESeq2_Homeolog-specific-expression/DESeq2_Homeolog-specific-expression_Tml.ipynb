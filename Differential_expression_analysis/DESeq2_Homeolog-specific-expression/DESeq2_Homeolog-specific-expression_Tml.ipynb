{
 "cells": [
  {
   "cell_type": "code",
   "execution_count": 1,
   "metadata": {},
   "outputs": [],
   "source": [
    "import pandas as pd\n",
    "import sys\n",
    "import os\n",
    "import glob"
   ]
  },
  {
   "cell_type": "code",
   "execution_count": 2,
   "metadata": {},
   "outputs": [],
   "source": [
    "os.chdir(\"/ufrc/soltis/shan158538/TragFL_NewAnalysis/OutPut/DE_analysis/DESeq2_Homeolog-specific-expression_Tml/\")"
   ]
  },
  {
   "cell_type": "code",
   "execution_count": 3,
   "metadata": {},
   "outputs": [],
   "source": [
    "## Import 5,137 orthologs in file bayes_flag_sig_Tml_for_UR.csv; these orthologs showed non-biased mapping and were analyzed for homeolog-specific expression analysis (not all 5,400 orthologs showing unbaised mapping have homeolog-specific expression profiles)\n",
    "Homeolog_expression_profile = pd.read_table(\"bayes_flag_sig_Tml_for_UR.csv\", sep = \",\", index_col = False)"
   ]
  },
  {
   "cell_type": "code",
   "execution_count": 4,
   "metadata": {},
   "outputs": [
    {
     "data": {
      "text/html": [
       "<div>\n",
       "<style scoped>\n",
       "    .dataframe tbody tr th:only-of-type {\n",
       "        vertical-align: middle;\n",
       "    }\n",
       "\n",
       "    .dataframe tbody tr th {\n",
       "        vertical-align: top;\n",
       "    }\n",
       "\n",
       "    .dataframe thead th {\n",
       "        text-align: right;\n",
       "    }\n",
       "</style>\n",
       "<table border=\"1\" class=\"dataframe\">\n",
       "  <thead>\n",
       "    <tr style=\"text-align: right;\">\n",
       "      <th></th>\n",
       "      <th>commonID</th>\n",
       "      <th>q4_mean_theta</th>\n",
       "      <th>q4_q025</th>\n",
       "      <th>q4_q975</th>\n",
       "      <th>q5_mean_theta</th>\n",
       "      <th>q5_q025</th>\n",
       "      <th>q5_q975</th>\n",
       "      <th>q6_mean_theta</th>\n",
       "      <th>q6_q025</th>\n",
       "      <th>q6_q975</th>\n",
       "      <th>flag_q4_sig</th>\n",
       "      <th>flag_q5_sig</th>\n",
       "      <th>flag_q6_sig</th>\n",
       "      <th>flag_sig_Tml_tdu_tpr</th>\n",
       "    </tr>\n",
       "  </thead>\n",
       "  <tbody>\n",
       "    <tr>\n",
       "      <th>0</th>\n",
       "      <td>Tpr_TRINITY_DN11281_c1_g9|Tdu_TRINITY_DN15992_...</td>\n",
       "      <td>0.734</td>\n",
       "      <td>0.519</td>\n",
       "      <td>0.878</td>\n",
       "      <td>0.686</td>\n",
       "      <td>0.445</td>\n",
       "      <td>0.861</td>\n",
       "      <td>0.637</td>\n",
       "      <td>0.377</td>\n",
       "      <td>0.828</td>\n",
       "      <td>1</td>\n",
       "      <td>0</td>\n",
       "      <td>0</td>\n",
       "      <td>0</td>\n",
       "    </tr>\n",
       "    <tr>\n",
       "      <th>1</th>\n",
       "      <td>Tpr_TRINITY_DN11283_c3_g1|Tdu_TRINITY_DN25596_...</td>\n",
       "      <td>0.603</td>\n",
       "      <td>0.360</td>\n",
       "      <td>0.796</td>\n",
       "      <td>0.524</td>\n",
       "      <td>0.298</td>\n",
       "      <td>0.746</td>\n",
       "      <td>0.452</td>\n",
       "      <td>0.231</td>\n",
       "      <td>0.691</td>\n",
       "      <td>0</td>\n",
       "      <td>0</td>\n",
       "      <td>0</td>\n",
       "      <td>0</td>\n",
       "    </tr>\n",
       "    <tr>\n",
       "      <th>2</th>\n",
       "      <td>Tpr_TRINITY_DN11283_c4_g7|Tdu_TRINITY_DN21302_...</td>\n",
       "      <td>0.573</td>\n",
       "      <td>0.411</td>\n",
       "      <td>0.724</td>\n",
       "      <td>0.484</td>\n",
       "      <td>0.310</td>\n",
       "      <td>0.640</td>\n",
       "      <td>0.398</td>\n",
       "      <td>0.248</td>\n",
       "      <td>0.545</td>\n",
       "      <td>0</td>\n",
       "      <td>0</td>\n",
       "      <td>0</td>\n",
       "      <td>0</td>\n",
       "    </tr>\n",
       "    <tr>\n",
       "      <th>3</th>\n",
       "      <td>Tpr_TRINITY_DN11284_c2_g19|Tdu_TRINITY_DN20652...</td>\n",
       "      <td>0.527</td>\n",
       "      <td>0.266</td>\n",
       "      <td>0.749</td>\n",
       "      <td>0.462</td>\n",
       "      <td>0.231</td>\n",
       "      <td>0.703</td>\n",
       "      <td>0.379</td>\n",
       "      <td>0.142</td>\n",
       "      <td>0.638</td>\n",
       "      <td>0</td>\n",
       "      <td>0</td>\n",
       "      <td>0</td>\n",
       "      <td>0</td>\n",
       "    </tr>\n",
       "    <tr>\n",
       "      <th>4</th>\n",
       "      <td>Tpr_TRINITY_DN11285_c1_g4|Tdu_TRINITY_DN17239_...</td>\n",
       "      <td>0.163</td>\n",
       "      <td>0.055</td>\n",
       "      <td>0.300</td>\n",
       "      <td>0.121</td>\n",
       "      <td>0.037</td>\n",
       "      <td>0.238</td>\n",
       "      <td>0.086</td>\n",
       "      <td>0.025</td>\n",
       "      <td>0.171</td>\n",
       "      <td>1</td>\n",
       "      <td>1</td>\n",
       "      <td>1</td>\n",
       "      <td>1</td>\n",
       "    </tr>\n",
       "  </tbody>\n",
       "</table>\n",
       "</div>"
      ],
      "text/plain": [
       "                                            commonID          ...           flag_sig_Tml_tdu_tpr\n",
       "0  Tpr_TRINITY_DN11281_c1_g9|Tdu_TRINITY_DN15992_...          ...                              0\n",
       "1  Tpr_TRINITY_DN11283_c3_g1|Tdu_TRINITY_DN25596_...          ...                              0\n",
       "2  Tpr_TRINITY_DN11283_c4_g7|Tdu_TRINITY_DN21302_...          ...                              0\n",
       "3  Tpr_TRINITY_DN11284_c2_g19|Tdu_TRINITY_DN20652...          ...                              0\n",
       "4  Tpr_TRINITY_DN11285_c1_g4|Tdu_TRINITY_DN17239_...          ...                              1\n",
       "\n",
       "[5 rows x 14 columns]"
      ]
     },
     "execution_count": 4,
     "metadata": {},
     "output_type": "execute_result"
    }
   ],
   "source": [
    "Homeolog_expression_profile.head()"
   ]
  },
  {
   "cell_type": "code",
   "execution_count": 5,
   "metadata": {},
   "outputs": [],
   "source": [
    "## Creat a list containing DESeq2 info\n",
    "FileList = glob.glob(\"DESeq2_*.txt\")"
   ]
  },
  {
   "cell_type": "code",
   "execution_count": 6,
   "metadata": {},
   "outputs": [
    {
     "data": {
      "text/plain": [
       "['DESeq2_DE_higher_Tpr.txt',\n",
       " 'DESeq2_none-DE_Tdu_Tpr.txt',\n",
       " 'DESeq2_DE_higher_Tdu.txt']"
      ]
     },
     "execution_count": 6,
     "metadata": {},
     "output_type": "execute_result"
    }
   ],
   "source": [
    "FileList"
   ]
  },
  {
   "cell_type": "code",
   "execution_count": 9,
   "metadata": {},
   "outputs": [],
   "source": [
    "for File in FileList:\n",
    "    ## Creat a df for the input file\n",
    "    DESeq2_df = pd.read_table(File)\n",
    "    ## Creat a list which contains all indexes from the DESeq2 dataframe\n",
    "    List_DESeq2_df = list(DESeq2_df.index)\n",
    "    ## Identify those loci with homeolog expression profiles\n",
    "    Tml_homeolog_exp_DESeq2 = Homeolog_expression_profile[Homeolog_expression_profile.commonID.isin(List_DESeq2_df)]\n",
    "    ## Identify loci with homeolog expression profiles that do NOT show bias expression to any subgenome\n",
    "    Tml_homeolog_exp_DESeq2_nonebias = Tml_homeolog_exp_DESeq2[Tml_homeolog_exp_DESeq2[\"flag_sig_Tml_tdu_tpr\"] == 0]\n",
    "    ## Identify loci with homeolog expression profiles that showed biased expression to Tdu subgenome\n",
    "    Tml_homeolog_exp_DESeq2_TduBias = Tml_homeolog_exp_DESeq2[(Tml_homeolog_exp_DESeq2[\"flag_sig_Tml_tdu_tpr\"] == 1) & (Tml_homeolog_exp_DESeq2[\"q5_mean_theta\"] < 0.5)]\n",
    "    ## Identify loci with homeolog expression profiles that showed biased expression to Tpr subgenome\n",
    "    Tml_homeolog_exp_DESeq2_TprBias = Tml_homeolog_exp_DESeq2[(Tml_homeolog_exp_DESeq2[\"flag_sig_Tml_tdu_tpr\"] == 1) & (Tml_homeolog_exp_DESeq2[\"q5_mean_theta\"] > 0.5)]\n",
    "    if File == 'DESeq2_none-DE_Tdu_Tpr.txt':\n",
    "        Tml_homeolog_exp_DESeq2_nonebias[\"commonID\"].to_csv(\"Tml_noneDE_unbias.txt\", index = False)\n",
    "        Tml_homeolog_exp_DESeq2_TduBias[\"commonID\"].to_csv(\"Tml_noneDE_biasTdu.txt\", index = False)\n",
    "        Tml_homeolog_exp_DESeq2_TprBias[\"commonID\"].to_csv(\"Tml_noneDE_biasTpr.txt\", index = False)\n",
    "    if File == 'DESeq2_DE_higher_Tdu.txt':\n",
    "        Tml_homeolog_exp_DESeq2_nonebias[\"commonID\"].to_csv(\"Tml_HigherTdu_unbias.txt\", index = False)\n",
    "        Tml_homeolog_exp_DESeq2_TduBias[\"commonID\"].to_csv(\"Tml_HigherTdu_biasTdu.txt\", index = False)\n",
    "        Tml_homeolog_exp_DESeq2_TprBias[\"commonID\"].to_csv(\"Tml_HigherTdu_biasTpr.txt\", index = False)\n",
    "    if File == 'DESeq2_DE_higher_Tpr.txt':\n",
    "        Tml_homeolog_exp_DESeq2_nonebias[\"commonID\"].to_csv(\"Tml_HigherTpr_unbias.txt\", index = False)\n",
    "        Tml_homeolog_exp_DESeq2_TduBias[\"commonID\"].to_csv(\"Tml_HigherTpr_biasTdu.txt\", index = False)\n",
    "        Tml_homeolog_exp_DESeq2_TprBias[\"commonID\"].to_csv(\"Tml_HigherTpr_biasTpr.txt\", index = False) "
   ]
  },
  {
   "cell_type": "code",
   "execution_count": null,
   "metadata": {},
   "outputs": [],
   "source": []
  }
 ],
 "metadata": {
  "kernelspec": {
   "display_name": "Python 3.6. (full)",
   "language": "python",
   "name": "python3-3.6-ufrc"
  },
  "language_info": {
   "codemirror_mode": {
    "name": "ipython",
    "version": 3
   },
   "file_extension": ".py",
   "mimetype": "text/x-python",
   "name": "python",
   "nbconvert_exporter": "python",
   "pygments_lexer": "ipython3",
   "version": "3.6.5"
  }
 },
 "nbformat": 4,
 "nbformat_minor": 4
}
