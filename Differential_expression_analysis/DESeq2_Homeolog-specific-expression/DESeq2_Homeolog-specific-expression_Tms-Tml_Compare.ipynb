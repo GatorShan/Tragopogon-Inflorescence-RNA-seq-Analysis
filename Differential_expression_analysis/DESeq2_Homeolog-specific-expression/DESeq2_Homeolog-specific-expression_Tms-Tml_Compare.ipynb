{
 "cells": [
  {
   "cell_type": "code",
   "execution_count": 1,
   "metadata": {},
   "outputs": [],
   "source": [
    "import pandas as pd\n",
    "import os"
   ]
  },
  {
   "cell_type": "code",
   "execution_count": 2,
   "metadata": {},
   "outputs": [],
   "source": [
    "os.chdir(\"/ufrc/soltis/shan158538/TragFL_NewAnalysis/OutPut/DE_analysis/DESeq2_Homeolog-specific-expression_Tms_vs_Tml\")"
   ]
  },
  {
   "cell_type": "code",
   "execution_count": 3,
   "metadata": {},
   "outputs": [],
   "source": [
    "def intersect(x,y):\n",
    "    shared_loci = pd.merge(x, y, how='inner', on=[0])\n",
    "    return len(shared_loci)"
   ]
  },
  {
   "cell_type": "code",
   "execution_count": 4,
   "metadata": {},
   "outputs": [],
   "source": [
    "## Input files from Tms\n",
    "Tms_cat1 = pd.read_table(\"Tms_noneDE_unbias.txt\", header = None)\n",
    "Tms_cat2 = pd.read_table(\"Tms_HigherTdu_biasTdu.txt\", header = None)\n",
    "Tms_cat3 = pd.read_table(\"Tms_HigherTpr_biasTpr.txt\", header = None)\n",
    "Tms_cat4 = pd.read_table(\"Tms_HigherTdu_unbias.txt\", header = None)\n",
    "Tms_cat5 = pd.read_table(\"Tms_HigherTpr_unbias.txt\", header = None)\n",
    "Tms_cat6 = pd.read_table(\"Tms_noneDE_biasTdu.txt\", header = None)\n",
    "Tms_cat7 = pd.read_table(\"Tms_noneDE_biasTpr.txt\", header = None)\n",
    "Tms_cat8 = pd.read_table(\"Tms_HigherTdu_biasTpr.txt\", header = None)\n",
    "Tms_cat9 = pd.read_table(\"Tms_noneDE_unbias.txt\", header = None)"
   ]
  },
  {
   "cell_type": "code",
   "execution_count": 5,
   "metadata": {},
   "outputs": [],
   "source": [
    "## Input files from Tml\n",
    "Tml_cat1 = pd.read_table(\"Tml_noneDE_unbias.txt\", header = None)\n",
    "Tml_cat2 = pd.read_table(\"Tml_HigherTdu_biasTdu.txt\", header = None)\n",
    "Tml_cat3 = pd.read_table(\"Tml_HigherTpr_biasTpr.txt\", header = None)\n",
    "Tml_cat4 = pd.read_table(\"Tml_HigherTdu_unbias.txt\", header = None)\n",
    "Tml_cat5 = pd.read_table(\"Tml_HigherTpr_unbias.txt\", header = None)\n",
    "Tml_cat6 = pd.read_table(\"Tml_noneDE_biasTdu.txt\", header = None)\n",
    "Tml_cat7 = pd.read_table(\"Tml_noneDE_biasTpr.txt\", header = None)\n",
    "Tml_cat8 = pd.read_table(\"Tml_HigherTdu_biasTpr.txt\", header = None)\n",
    "Tml_cat9 = pd.read_table(\"Tml_HigherTpr_biasTdu.txt\", header = None)"
   ]
  },
  {
   "cell_type": "code",
   "execution_count": 6,
   "metadata": {},
   "outputs": [
    {
     "name": "stdout",
     "output_type": "stream",
     "text": [
      "2789\n",
      "0\n",
      "0\n",
      "0\n",
      "0\n",
      "143\n",
      "173\n",
      "0\n",
      "0\n",
      "0\n",
      "26\n",
      "0\n",
      "31\n",
      "0\n",
      "0\n",
      "0\n",
      "0\n",
      "0\n",
      "0\n",
      "0\n",
      "63\n",
      "0\n",
      "41\n",
      "0\n",
      "0\n",
      "0\n",
      "0\n",
      "0\n",
      "29\n",
      "0\n",
      "285\n",
      "0\n",
      "0\n",
      "0\n",
      "16\n",
      "0\n",
      "0\n",
      "0\n",
      "31\n",
      "0\n",
      "325\n",
      "0\n",
      "0\n",
      "0\n",
      "10\n",
      "165\n",
      "0\n",
      "0\n",
      "0\n",
      "0\n",
      "176\n",
      "1\n",
      "0\n",
      "0\n",
      "190\n",
      "0\n",
      "0\n",
      "0\n",
      "0\n",
      "1\n",
      "199\n",
      "0\n",
      "0\n",
      "0\n",
      "0\n",
      "0\n",
      "20\n",
      "0\n",
      "0\n",
      "0\n",
      "30\n",
      "0\n",
      "2789\n",
      "0\n",
      "0\n",
      "0\n",
      "0\n",
      "143\n",
      "173\n",
      "0\n",
      "0\n"
     ]
    }
   ],
   "source": [
    "for x in [Tms_cat1, Tms_cat2, Tms_cat3, Tms_cat4, Tms_cat5, Tms_cat6, Tms_cat7, Tms_cat8, Tms_cat9]:\n",
    "    for y in [Tml_cat1, Tml_cat2, Tml_cat3, Tml_cat4, Tml_cat5, Tml_cat6, Tml_cat7, Tml_cat8, Tml_cat9]:\n",
    "        Number_shared_loci = intersect(x, y)\n",
    "        print(Number_shared_loci)"
   ]
  },
  {
   "cell_type": "code",
   "execution_count": null,
   "metadata": {},
   "outputs": [],
   "source": []
  }
 ],
 "metadata": {
  "kernelspec": {
   "display_name": "Python 3.6. (full)",
   "language": "python",
   "name": "python3-3.6-ufrc"
  },
  "language_info": {
   "codemirror_mode": {
    "name": "ipython",
    "version": 3
   },
   "file_extension": ".py",
   "mimetype": "text/x-python",
   "name": "python",
   "nbconvert_exporter": "python",
   "pygments_lexer": "ipython3",
   "version": "3.6.5"
  }
 },
 "nbformat": 4,
 "nbformat_minor": 4
}
