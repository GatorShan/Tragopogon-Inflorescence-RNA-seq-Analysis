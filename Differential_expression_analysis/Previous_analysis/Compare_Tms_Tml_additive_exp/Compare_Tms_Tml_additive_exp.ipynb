{
 "cells": [
  {
   "cell_type": "code",
   "execution_count": 1,
   "metadata": {},
   "outputs": [],
   "source": [
    "import pandas as pd\n",
    "import os"
   ]
  },
  {
   "cell_type": "code",
   "execution_count": 2,
   "metadata": {},
   "outputs": [],
   "source": [
    "os.chdir(\"/ufrc/soltis/shan158538/TragFL_NewAnalysis/OutPut/DE_analysis/Compare_Tms_Tml_additive_exp/\")"
   ]
  },
  {
   "cell_type": "markdown",
   "metadata": {},
   "source": [
    "### Shared additive loci between Tms and Tml"
   ]
  },
  {
   "cell_type": "code",
   "execution_count": 3,
   "metadata": {},
   "outputs": [],
   "source": [
    "## Input files\n",
    "Additive_Tms = pd.read_table(\"DESeq2_Tms_Additive_loci.txt\", sep = \"\\t\")\n",
    "Additive_Tml = pd.read_table(\"DESeq2_Tml_Additive_loci.txt\", sep = \"\\t\")"
   ]
  },
  {
   "cell_type": "code",
   "execution_count": 4,
   "metadata": {},
   "outputs": [],
   "source": [
    "Additive_Tms_Tml = pd.merge(Additive_Tms, Additive_Tml, how='inner', left_index=True, right_index=True)"
   ]
  },
  {
   "cell_type": "code",
   "execution_count": 5,
   "metadata": {},
   "outputs": [
    {
     "data": {
      "text/plain": [
       "(6881, 12)"
      ]
     },
     "execution_count": 5,
     "metadata": {},
     "output_type": "execute_result"
    }
   ],
   "source": [
    "Additive_Tms_Tml.shape"
   ]
  },
  {
   "cell_type": "code",
   "execution_count": 6,
   "metadata": {},
   "outputs": [],
   "source": [
    "## Write out\n",
    "Additive_Tms_Tml.to_csv(\"Additive_shared_Tms_Tml.txt\", columns=[], header=False)"
   ]
  },
  {
   "cell_type": "markdown",
   "metadata": {},
   "source": [
    "### shared ELD of Tdu"
   ]
  },
  {
   "cell_type": "code",
   "execution_count": 14,
   "metadata": {},
   "outputs": [],
   "source": [
    "ELDofTdu_Tms = pd.read_table(\"Tms_ELDofTdu.txt\", sep = \"\\t\", header=None)\n",
    "ELDofTdu_Tml = pd.read_table(\"Tml_ELDofTdu.txt\", sep = \"\\t\", header=None)"
   ]
  },
  {
   "cell_type": "code",
   "execution_count": 17,
   "metadata": {},
   "outputs": [],
   "source": [
    "ELDofTdu_Tms_Tml = pd.merge(ELDofTdu_Tms, ELDofTdu_Tml, how='inner', on=[0])"
   ]
  },
  {
   "cell_type": "code",
   "execution_count": 21,
   "metadata": {},
   "outputs": [],
   "source": [
    "ELDofTdu_Tms_Tml.to_csv(\"ELDofTdu_shared_Tms_Tml.txt\", header=False, index=False)"
   ]
  },
  {
   "cell_type": "markdown",
   "metadata": {},
   "source": [
    "### shared ELD of Tpr"
   ]
  },
  {
   "cell_type": "code",
   "execution_count": 23,
   "metadata": {},
   "outputs": [],
   "source": [
    "ELDofTpr_Tms = pd.read_table(\"Tms_ELDofTpr.txt\", sep = \"\\t\", header=None)\n",
    "ELDofTpr_Tml = pd.read_table(\"Tml_ELDofTpr.txt\", sep = \"\\t\", header=None)\n",
    "ELDofTpr_Tms_Tml = pd.merge(ELDofTpr_Tms, ELDofTpr_Tml, how='inner', on=[0])\n",
    "ELDofTpr_Tms_Tml.to_csv(\"ELDofTpr_shared_Tms_Tml.txt\", header=False, index=False)"
   ]
  },
  {
   "cell_type": "markdown",
   "metadata": {},
   "source": [
    "### shared transgressive up-regulation"
   ]
  },
  {
   "cell_type": "code",
   "execution_count": 24,
   "metadata": {},
   "outputs": [],
   "source": [
    "Transgressive_up_Tms = pd.read_table(\"Tms_transgressive_higher.txt\", sep = \"\\t\", header=None)\n",
    "Transgressive_up_Tml = pd.read_table(\"Tml_transgressive_higher.txt\", sep = \"\\t\", header=None)\n",
    "Transgressive_up_Tms_Tml = pd.merge(Transgressive_up_Tms, Transgressive_up_Tml, how='inner', on=[0])"
   ]
  },
  {
   "cell_type": "code",
   "execution_count": 28,
   "metadata": {},
   "outputs": [],
   "source": [
    "Transgressive_up_Tms_Tml.to_csv(\"Transgressive_up_shared_Tms_Tml.txt\", header=False, index=False)"
   ]
  },
  {
   "cell_type": "markdown",
   "metadata": {},
   "source": [
    "### shared transgressive down-regulation"
   ]
  },
  {
   "cell_type": "code",
   "execution_count": 29,
   "metadata": {},
   "outputs": [],
   "source": [
    "Transgressive_down_Tms = pd.read_table(\"Tms_transgressive_lower.txt\", sep = \"\\t\", header=None)\n",
    "Transgressive_down_Tml = pd.read_table(\"Tml_transgressive_lower.txt\", sep = \"\\t\", header=None)\n",
    "Transgressive_down_Tms_Tml = pd.merge(Transgressive_down_Tms, Transgressive_down_Tml, how='inner', on=[0])\n",
    "Transgressive_down_Tms_Tml.to_csv(\"Transgressive_down_shared_Tms_Tml.txt\", header=False, index=False)"
   ]
  },
  {
   "cell_type": "code",
   "execution_count": null,
   "metadata": {},
   "outputs": [],
   "source": []
  }
 ],
 "metadata": {
  "kernelspec": {
   "display_name": "Python 3.6. (full)",
   "language": "python",
   "name": "python3-3.6-ufrc"
  },
  "language_info": {
   "codemirror_mode": {
    "name": "ipython",
    "version": 3
   },
   "file_extension": ".py",
   "mimetype": "text/x-python",
   "name": "python",
   "nbconvert_exporter": "python",
   "pygments_lexer": "ipython3",
   "version": "3.6.5"
  }
 },
 "nbformat": 4,
 "nbformat_minor": 4
}
