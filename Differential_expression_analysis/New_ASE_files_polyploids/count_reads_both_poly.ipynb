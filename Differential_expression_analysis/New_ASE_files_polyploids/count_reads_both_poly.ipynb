{
 "cells": [
  {
   "cell_type": "code",
   "execution_count": 1,
   "metadata": {},
   "outputs": [],
   "source": [
    "import pandas as pd\n",
    "import sys\n",
    "import os\n",
    "import glob"
   ]
  },
  {
   "cell_type": "code",
   "execution_count": 2,
   "metadata": {},
   "outputs": [],
   "source": [
    "os.chdir(\"/ufrc/soltis/shan158538/TragFL_NewAnalysis/OutPut/Polyploid_alignment/Compare_SAM_newASE/ase_counts_new_rename\")"
   ]
  },
  {
   "cell_type": "code",
   "execution_count": 3,
   "metadata": {},
   "outputs": [],
   "source": [
    "FileList = glob.glob(\"*.csv\")"
   ]
  },
  {
   "cell_type": "code",
   "execution_count": 4,
   "metadata": {},
   "outputs": [
    {
     "data": {
      "text/plain": [
       "['ase_counts_new_Tms_1_2_tdu_tpr.csv',\n",
       " 'ase_counts_new_Tms_2_2_tdu_tpr.csv',\n",
       " 'ase_counts_new_Tms_3_2_tdu_tpr.csv',\n",
       " 'ase_counts_new_Tml_1_2_tdu_tpr.csv',\n",
       " 'ase_counts_new_Tml_3_2_tdu_tpr.csv',\n",
       " 'ase_counts_new_Tml_2_2_tdu_tpr.csv']"
      ]
     },
     "execution_count": 4,
     "metadata": {},
     "output_type": "execute_result"
    }
   ],
   "source": [
    "FileList"
   ]
  },
  {
   "cell_type": "code",
   "execution_count": 5,
   "metadata": {},
   "outputs": [],
   "source": [
    "for in_name in FileList:\n",
    "    out_name = \"both_\" + \"_\".join(in_name.split(\"_\")[1:])\n",
    "    df = pd.read_csv(in_name)\n",
    "    df[\"BOTH_ALL\"]=df[[\"BOTH_EXACT\",\"BOTH_INEXACT_EQUAL\",\"SAM_A_EXACT_SAM_B_INEXACT\",\"SAM_B_EXACT_SAM_A_INEXACT\",\"SAM_A_INEXACT_BETTER\",\"SAM_B_INEXACT_BETTER\"]].sum(axis=1)\n",
    "    df.rename(columns={\"BOTH_ALL\":\"Count\"}, inplace=True)\n",
    "    df[[\"FUSION_ID\",\"Count\"]].to_csv(out_name, index=False)"
   ]
  },
  {
   "cell_type": "markdown",
   "metadata": {},
   "source": [
    "## Here shows the input and output of the csv files"
   ]
  },
  {
   "cell_type": "code",
   "execution_count": 6,
   "metadata": {},
   "outputs": [],
   "source": [
    "input = pd.read_csv(\"ase_counts_new_Tms_1_2_tdu_tpr.csv\")\n",
    "output = pd.read_csv(\"both_counts_new_Tms_1_2_tdu_tpr.csv\")"
   ]
  },
  {
   "cell_type": "code",
   "execution_count": 7,
   "metadata": {},
   "outputs": [
    {
     "data": {
      "text/html": [
       "<div>\n",
       "<style scoped>\n",
       "    .dataframe tbody tr th:only-of-type {\n",
       "        vertical-align: middle;\n",
       "    }\n",
       "\n",
       "    .dataframe tbody tr th {\n",
       "        vertical-align: top;\n",
       "    }\n",
       "\n",
       "    .dataframe thead th {\n",
       "        text-align: right;\n",
       "    }\n",
       "</style>\n",
       "<table border=\"1\" class=\"dataframe\">\n",
       "  <thead>\n",
       "    <tr style=\"text-align: right;\">\n",
       "      <th></th>\n",
       "      <th>FUSION_ID</th>\n",
       "      <th>BOTH_EXACT</th>\n",
       "      <th>BOTH_INEXACT_EQUAL</th>\n",
       "      <th>SAM_A_ONLY_EXACT</th>\n",
       "      <th>SAM_B_ONLY_EXACT</th>\n",
       "      <th>SAM_A_EXACT_SAM_B_INEXACT</th>\n",
       "      <th>SAM_B_EXACT_SAM_A_INEXACT</th>\n",
       "      <th>SAM_A_ONLY_SINGLE_INEXACT</th>\n",
       "      <th>SAM_B_ONLY_SINGLE_INEXACT</th>\n",
       "      <th>SAM_A_INEXACT_BETTER</th>\n",
       "      <th>SAM_B_INEXACT_BETTER</th>\n",
       "    </tr>\n",
       "  </thead>\n",
       "  <tbody>\n",
       "    <tr>\n",
       "      <th>0</th>\n",
       "      <td>Tpr_TRINITY_DN11257_c2_g1|Tdu_TRINITY_DN16696_...</td>\n",
       "      <td>51</td>\n",
       "      <td>1</td>\n",
       "      <td>43</td>\n",
       "      <td>2</td>\n",
       "      <td>5</td>\n",
       "      <td>1</td>\n",
       "      <td>1</td>\n",
       "      <td>0</td>\n",
       "      <td>2</td>\n",
       "      <td>3</td>\n",
       "    </tr>\n",
       "    <tr>\n",
       "      <th>1</th>\n",
       "      <td>Tpr_TRINITY_DN10844_c2_g7|Tdu_TRINITY_DN25328_...</td>\n",
       "      <td>92</td>\n",
       "      <td>16</td>\n",
       "      <td>2</td>\n",
       "      <td>2</td>\n",
       "      <td>9</td>\n",
       "      <td>3</td>\n",
       "      <td>0</td>\n",
       "      <td>3</td>\n",
       "      <td>0</td>\n",
       "      <td>10</td>\n",
       "    </tr>\n",
       "    <tr>\n",
       "      <th>2</th>\n",
       "      <td>Tpr_TRINITY_DN15383_c4_g16|Tdu_TRINITY_DN14160...</td>\n",
       "      <td>9</td>\n",
       "      <td>1</td>\n",
       "      <td>3</td>\n",
       "      <td>4</td>\n",
       "      <td>0</td>\n",
       "      <td>1</td>\n",
       "      <td>0</td>\n",
       "      <td>0</td>\n",
       "      <td>0</td>\n",
       "      <td>0</td>\n",
       "    </tr>\n",
       "    <tr>\n",
       "      <th>3</th>\n",
       "      <td>Tpr_TRINITY_DN1451_c0_g1|Tdu_TRINITY_DN16990_c...</td>\n",
       "      <td>21</td>\n",
       "      <td>0</td>\n",
       "      <td>4</td>\n",
       "      <td>0</td>\n",
       "      <td>1</td>\n",
       "      <td>9</td>\n",
       "      <td>0</td>\n",
       "      <td>2</td>\n",
       "      <td>0</td>\n",
       "      <td>1</td>\n",
       "    </tr>\n",
       "    <tr>\n",
       "      <th>4</th>\n",
       "      <td>Tpr_TRINITY_DN10853_c1_g4|Tdu_TRINITY_DN21860_...</td>\n",
       "      <td>214</td>\n",
       "      <td>35</td>\n",
       "      <td>5</td>\n",
       "      <td>68</td>\n",
       "      <td>29</td>\n",
       "      <td>34</td>\n",
       "      <td>4</td>\n",
       "      <td>74</td>\n",
       "      <td>36</td>\n",
       "      <td>14</td>\n",
       "    </tr>\n",
       "  </tbody>\n",
       "</table>\n",
       "</div>"
      ],
      "text/plain": [
       "                                           FUSION_ID          ...           SAM_B_INEXACT_BETTER\n",
       "0  Tpr_TRINITY_DN11257_c2_g1|Tdu_TRINITY_DN16696_...          ...                              3\n",
       "1  Tpr_TRINITY_DN10844_c2_g7|Tdu_TRINITY_DN25328_...          ...                             10\n",
       "2  Tpr_TRINITY_DN15383_c4_g16|Tdu_TRINITY_DN14160...          ...                              0\n",
       "3  Tpr_TRINITY_DN1451_c0_g1|Tdu_TRINITY_DN16990_c...          ...                              1\n",
       "4  Tpr_TRINITY_DN10853_c1_g4|Tdu_TRINITY_DN21860_...          ...                             14\n",
       "\n",
       "[5 rows x 11 columns]"
      ]
     },
     "execution_count": 7,
     "metadata": {},
     "output_type": "execute_result"
    }
   ],
   "source": [
    "input.head()"
   ]
  },
  {
   "cell_type": "code",
   "execution_count": 8,
   "metadata": {},
   "outputs": [
    {
     "data": {
      "text/html": [
       "<div>\n",
       "<style scoped>\n",
       "    .dataframe tbody tr th:only-of-type {\n",
       "        vertical-align: middle;\n",
       "    }\n",
       "\n",
       "    .dataframe tbody tr th {\n",
       "        vertical-align: top;\n",
       "    }\n",
       "\n",
       "    .dataframe thead th {\n",
       "        text-align: right;\n",
       "    }\n",
       "</style>\n",
       "<table border=\"1\" class=\"dataframe\">\n",
       "  <thead>\n",
       "    <tr style=\"text-align: right;\">\n",
       "      <th></th>\n",
       "      <th>FUSION_ID</th>\n",
       "      <th>Count</th>\n",
       "    </tr>\n",
       "  </thead>\n",
       "  <tbody>\n",
       "    <tr>\n",
       "      <th>0</th>\n",
       "      <td>Tpr_TRINITY_DN11257_c2_g1|Tdu_TRINITY_DN16696_...</td>\n",
       "      <td>63</td>\n",
       "    </tr>\n",
       "    <tr>\n",
       "      <th>1</th>\n",
       "      <td>Tpr_TRINITY_DN10844_c2_g7|Tdu_TRINITY_DN25328_...</td>\n",
       "      <td>130</td>\n",
       "    </tr>\n",
       "    <tr>\n",
       "      <th>2</th>\n",
       "      <td>Tpr_TRINITY_DN15383_c4_g16|Tdu_TRINITY_DN14160...</td>\n",
       "      <td>11</td>\n",
       "    </tr>\n",
       "    <tr>\n",
       "      <th>3</th>\n",
       "      <td>Tpr_TRINITY_DN1451_c0_g1|Tdu_TRINITY_DN16990_c...</td>\n",
       "      <td>32</td>\n",
       "    </tr>\n",
       "    <tr>\n",
       "      <th>4</th>\n",
       "      <td>Tpr_TRINITY_DN10853_c1_g4|Tdu_TRINITY_DN21860_...</td>\n",
       "      <td>362</td>\n",
       "    </tr>\n",
       "  </tbody>\n",
       "</table>\n",
       "</div>"
      ],
      "text/plain": [
       "                                           FUSION_ID  Count\n",
       "0  Tpr_TRINITY_DN11257_c2_g1|Tdu_TRINITY_DN16696_...     63\n",
       "1  Tpr_TRINITY_DN10844_c2_g7|Tdu_TRINITY_DN25328_...    130\n",
       "2  Tpr_TRINITY_DN15383_c4_g16|Tdu_TRINITY_DN14160...     11\n",
       "3  Tpr_TRINITY_DN1451_c0_g1|Tdu_TRINITY_DN16990_c...     32\n",
       "4  Tpr_TRINITY_DN10853_c1_g4|Tdu_TRINITY_DN21860_...    362"
      ]
     },
     "execution_count": 8,
     "metadata": {},
     "output_type": "execute_result"
    }
   ],
   "source": [
    "output.head()"
   ]
  },
  {
   "cell_type": "code",
   "execution_count": null,
   "metadata": {},
   "outputs": [],
   "source": []
  }
 ],
 "metadata": {
  "kernelspec": {
   "display_name": "Python 3.6. (full)",
   "language": "python",
   "name": "python3-3.6-ufrc"
  },
  "language_info": {
   "codemirror_mode": {
    "name": "ipython",
    "version": 3
   },
   "file_extension": ".py",
   "mimetype": "text/x-python",
   "name": "python",
   "nbconvert_exporter": "python",
   "pygments_lexer": "ipython3",
   "version": "3.6.5"
  }
 },
 "nbformat": 4,
 "nbformat_minor": 4
}
