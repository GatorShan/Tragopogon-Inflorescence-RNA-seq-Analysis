{
 "cells": [
  {
   "cell_type": "code",
   "execution_count": 1,
   "metadata": {},
   "outputs": [],
   "source": [
    "import pandas as pd\n",
    "import os"
   ]
  },
  {
   "cell_type": "code",
   "execution_count": 2,
   "metadata": {},
   "outputs": [],
   "source": [
    "os.chdir(\"/ufrc/soltis/shan158538/TragFL_NewAnalysis/OutPut/DE_analysis/DE_Tms_Tml_homeolog-specific_exp\")"
   ]
  },
  {
   "cell_type": "code",
   "execution_count": 3,
   "metadata": {},
   "outputs": [],
   "source": [
    "def intersect(x,y):\n",
    "    shared_loci = pd.merge(x, y, how='inner', on=[0])\n",
    "    return len(shared_loci)"
   ]
  },
  {
   "cell_type": "code",
   "execution_count": 4,
   "metadata": {},
   "outputs": [],
   "source": [
    "## Input DE files\n",
    "Tml_higher = pd.read_table(\"DE_Tml_higher.txt\", header = None)\n",
    "Tms_higher = pd.read_table(\"DE_Tms_higher.txt\", header = None)"
   ]
  },
  {
   "cell_type": "code",
   "execution_count": 9,
   "metadata": {},
   "outputs": [],
   "source": [
    "## Input files contain homeolog-specific expression profiles\n",
    "Tms_unbias_Tml_unbias = pd.read_table(\"Intersection_Tms_unbias_Tml_unbias.csv\", header = None)\n",
    "Tms_unbias_Tml_biasTdu = pd.read_table(\"Intersection_Tms_unbias_Tml_biasTdu.csv\", header = None)\n",
    "Tms_unbias_Tml_biasTpr = pd.read_table(\"Intersection_Tms_unbias_Tml_biasTpr.csv\", header = None)\n",
    "\n",
    "Tms_biasTdu_Tml_unbias = pd.read_table(\"Intersection_Tms_biasTdu_Tml_unbias.csv\", header = None)\n",
    "Tms_biasTdu_Tml_biasTdu = pd.read_table(\"Intersection_Tms_biasTdu_Tml_biasTdu.csv\", header = None)\n",
    "Tms_biasTdu_Tml_biasTpr = pd.read_table(\"Intersection_Tms_biasTdu_Tml_biasTpr.csv\", header = None)\n",
    "\n",
    "Tms_biasTpr_Tml_unbias = pd.read_table(\"Intersection_Tms_biasTpr_Tml_unbias.csv\", header = None)\n",
    "Tms_biasTpr_Tml_biasTdu = pd.read_table(\"Intersection_Tms_biasTpr_Tml_biasTdu.csv\", header = None)\n",
    "Tms_biasTpr_Tml_biasTpr = pd.read_table(\"Intersection_Tms_biasTpr_Tml_biasTpr.csv\", header = None)"
   ]
  },
  {
   "cell_type": "code",
   "execution_count": 10,
   "metadata": {},
   "outputs": [
    {
     "name": "stdout",
     "output_type": "stream",
     "text": [
      "15\n",
      "2\n",
      "4\n",
      "1\n",
      "1\n",
      "0\n",
      "0\n",
      "0\n",
      "1\n",
      "1\n",
      "0\n",
      "0\n",
      "0\n",
      "0\n",
      "0\n",
      "0\n",
      "0\n",
      "0\n"
     ]
    }
   ],
   "source": [
    "for x in [Tml_higher, Tms_higher]:\n",
    "    for y in [Tms_unbias_Tml_unbias, Tms_unbias_Tml_biasTdu, Tms_unbias_Tml_biasTpr, Tms_biasTdu_Tml_unbias, Tms_biasTdu_Tml_biasTdu, Tms_biasTdu_Tml_biasTpr, Tms_biasTpr_Tml_unbias, Tms_biasTpr_Tml_biasTdu, Tms_biasTpr_Tml_biasTpr]:\n",
    "        Number_shared_loci = intersect(x, y)\n",
    "        print(Number_shared_loci)"
   ]
  },
  {
   "cell_type": "code",
   "execution_count": null,
   "metadata": {},
   "outputs": [],
   "source": []
  }
 ],
 "metadata": {
  "kernelspec": {
   "display_name": "Python 3.6. (full)",
   "language": "python",
   "name": "python3-3.6-ufrc"
  },
  "language_info": {
   "codemirror_mode": {
    "name": "ipython",
    "version": 3
   },
   "file_extension": ".py",
   "mimetype": "text/x-python",
   "name": "python",
   "nbconvert_exporter": "python",
   "pygments_lexer": "ipython3",
   "version": "3.6.5"
  }
 },
 "nbformat": 4,
 "nbformat_minor": 4
}
