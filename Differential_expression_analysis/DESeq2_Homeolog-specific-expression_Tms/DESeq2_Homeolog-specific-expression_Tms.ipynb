{
 "cells": [
  {
   "cell_type": "code",
   "execution_count": 1,
   "metadata": {},
   "outputs": [],
   "source": [
    "import pandas as pd\n",
    "import sys\n",
    "import os\n",
    "import glob"
   ]
  },
  {
   "cell_type": "code",
   "execution_count": 2,
   "metadata": {},
   "outputs": [],
   "source": [
    "os.chdir(\"/ufrc/soltis/shan158538/TragFL_NewAnalysis/OutPut/DE_analysis/DESeq2_Homeolog-specific-expression_Tms/\")"
   ]
  },
  {
   "cell_type": "code",
   "execution_count": 14,
   "metadata": {},
   "outputs": [],
   "source": [
    "## Import 5,118 orthologs in file bayes_flag_sig_Tms_for_UR.csv; these orthologs showed non-biased mapping and were analyzed for homeolog-specific expression analysis (not all 5,400 orthologs showing unbaised mapping have homeolog-specific expression profiles)\n",
    "Homeolog_expression_profile = pd.read_table(\"bayes_flag_sig_Tms_for_UR.csv\", sep = \",\", index_col = False)"
   ]
  },
  {
   "cell_type": "code",
   "execution_count": 15,
   "metadata": {},
   "outputs": [
    {
     "data": {
      "text/html": [
       "<div>\n",
       "<style scoped>\n",
       "    .dataframe tbody tr th:only-of-type {\n",
       "        vertical-align: middle;\n",
       "    }\n",
       "\n",
       "    .dataframe tbody tr th {\n",
       "        vertical-align: top;\n",
       "    }\n",
       "\n",
       "    .dataframe thead th {\n",
       "        text-align: right;\n",
       "    }\n",
       "</style>\n",
       "<table border=\"1\" class=\"dataframe\">\n",
       "  <thead>\n",
       "    <tr style=\"text-align: right;\">\n",
       "      <th></th>\n",
       "      <th>commonID</th>\n",
       "      <th>q4_mean_theta</th>\n",
       "      <th>q4_q025</th>\n",
       "      <th>q4_q975</th>\n",
       "      <th>q5_mean_theta</th>\n",
       "      <th>q5_q025</th>\n",
       "      <th>q5_q975</th>\n",
       "      <th>q6_mean_theta</th>\n",
       "      <th>q6_q025</th>\n",
       "      <th>q6_q975</th>\n",
       "      <th>flag_q4_sig</th>\n",
       "      <th>flag_q5_sig</th>\n",
       "      <th>flag_q6_sig</th>\n",
       "      <th>flag_sig_Tms_tdu_tpr</th>\n",
       "    </tr>\n",
       "  </thead>\n",
       "  <tbody>\n",
       "    <tr>\n",
       "      <th>0</th>\n",
       "      <td>Tpr_TRINITY_DN11281_c1_g9|Tdu_TRINITY_DN15992_...</td>\n",
       "      <td>0.712</td>\n",
       "      <td>0.406</td>\n",
       "      <td>0.896</td>\n",
       "      <td>0.669</td>\n",
       "      <td>0.304</td>\n",
       "      <td>0.893</td>\n",
       "      <td>0.645</td>\n",
       "      <td>0.271</td>\n",
       "      <td>0.879</td>\n",
       "      <td>0</td>\n",
       "      <td>0</td>\n",
       "      <td>0</td>\n",
       "      <td>0</td>\n",
       "    </tr>\n",
       "    <tr>\n",
       "      <th>1</th>\n",
       "      <td>Tpr_TRINITY_DN11283_c3_g1|Tdu_TRINITY_DN25596_...</td>\n",
       "      <td>0.608</td>\n",
       "      <td>0.418</td>\n",
       "      <td>0.786</td>\n",
       "      <td>0.529</td>\n",
       "      <td>0.333</td>\n",
       "      <td>0.708</td>\n",
       "      <td>0.446</td>\n",
       "      <td>0.259</td>\n",
       "      <td>0.637</td>\n",
       "      <td>0</td>\n",
       "      <td>0</td>\n",
       "      <td>0</td>\n",
       "      <td>0</td>\n",
       "    </tr>\n",
       "    <tr>\n",
       "      <th>2</th>\n",
       "      <td>Tpr_TRINITY_DN11283_c4_g7|Tdu_TRINITY_DN21302_...</td>\n",
       "      <td>0.297</td>\n",
       "      <td>0.122</td>\n",
       "      <td>0.491</td>\n",
       "      <td>0.229</td>\n",
       "      <td>0.092</td>\n",
       "      <td>0.406</td>\n",
       "      <td>0.168</td>\n",
       "      <td>0.060</td>\n",
       "      <td>0.317</td>\n",
       "      <td>1</td>\n",
       "      <td>1</td>\n",
       "      <td>1</td>\n",
       "      <td>1</td>\n",
       "    </tr>\n",
       "    <tr>\n",
       "      <th>3</th>\n",
       "      <td>Tpr_TRINITY_DN11284_c2_g19|Tdu_TRINITY_DN20652...</td>\n",
       "      <td>0.527</td>\n",
       "      <td>0.284</td>\n",
       "      <td>0.758</td>\n",
       "      <td>0.447</td>\n",
       "      <td>0.202</td>\n",
       "      <td>0.699</td>\n",
       "      <td>0.384</td>\n",
       "      <td>0.169</td>\n",
       "      <td>0.620</td>\n",
       "      <td>0</td>\n",
       "      <td>0</td>\n",
       "      <td>0</td>\n",
       "      <td>0</td>\n",
       "    </tr>\n",
       "    <tr>\n",
       "      <th>4</th>\n",
       "      <td>Tpr_TRINITY_DN11285_c1_g4|Tdu_TRINITY_DN17239_...</td>\n",
       "      <td>0.187</td>\n",
       "      <td>0.093</td>\n",
       "      <td>0.299</td>\n",
       "      <td>0.136</td>\n",
       "      <td>0.065</td>\n",
       "      <td>0.224</td>\n",
       "      <td>0.096</td>\n",
       "      <td>0.048</td>\n",
       "      <td>0.169</td>\n",
       "      <td>1</td>\n",
       "      <td>1</td>\n",
       "      <td>1</td>\n",
       "      <td>1</td>\n",
       "    </tr>\n",
       "  </tbody>\n",
       "</table>\n",
       "</div>"
      ],
      "text/plain": [
       "                                            commonID          ...           flag_sig_Tms_tdu_tpr\n",
       "0  Tpr_TRINITY_DN11281_c1_g9|Tdu_TRINITY_DN15992_...          ...                              0\n",
       "1  Tpr_TRINITY_DN11283_c3_g1|Tdu_TRINITY_DN25596_...          ...                              0\n",
       "2  Tpr_TRINITY_DN11283_c4_g7|Tdu_TRINITY_DN21302_...          ...                              1\n",
       "3  Tpr_TRINITY_DN11284_c2_g19|Tdu_TRINITY_DN20652...          ...                              0\n",
       "4  Tpr_TRINITY_DN11285_c1_g4|Tdu_TRINITY_DN17239_...          ...                              1\n",
       "\n",
       "[5 rows x 14 columns]"
      ]
     },
     "execution_count": 15,
     "metadata": {},
     "output_type": "execute_result"
    }
   ],
   "source": [
    "Homeolog_expression_profile.head()"
   ]
  },
  {
   "cell_type": "markdown",
   "metadata": {},
   "source": [
    "## Processing noneDE loci between Tdu and Tpr"
   ]
  },
  {
   "cell_type": "code",
   "execution_count": 17,
   "metadata": {},
   "outputs": [],
   "source": [
    "## Import noneDE loci between Tdu and Tpr, based on DESeq2 results\n",
    "DESeq2_noneDE_Tdu_Tpr = pd.read_table(\"DESeq2_none-DE_Tdu_Tpr.txt\")"
   ]
  },
  {
   "cell_type": "code",
   "execution_count": 18,
   "metadata": {},
   "outputs": [
    {
     "data": {
      "text/html": [
       "<div>\n",
       "<style scoped>\n",
       "    .dataframe tbody tr th:only-of-type {\n",
       "        vertical-align: middle;\n",
       "    }\n",
       "\n",
       "    .dataframe tbody tr th {\n",
       "        vertical-align: top;\n",
       "    }\n",
       "\n",
       "    .dataframe thead th {\n",
       "        text-align: right;\n",
       "    }\n",
       "</style>\n",
       "<table border=\"1\" class=\"dataframe\">\n",
       "  <thead>\n",
       "    <tr style=\"text-align: right;\">\n",
       "      <th></th>\n",
       "      <th>baseMean</th>\n",
       "      <th>log2FoldChange</th>\n",
       "      <th>lfcSE</th>\n",
       "      <th>stat</th>\n",
       "      <th>pvalue</th>\n",
       "      <th>padj</th>\n",
       "    </tr>\n",
       "  </thead>\n",
       "  <tbody>\n",
       "    <tr>\n",
       "      <th>Tpr_TRINITY_DN11257_c2_g1|Tdu_TRINITY_DN16696_c0_g1</th>\n",
       "      <td>110.539342</td>\n",
       "      <td>-0.234395</td>\n",
       "      <td>0.191056</td>\n",
       "      <td>-1.227029</td>\n",
       "      <td>0.219812</td>\n",
       "      <td>0.445769</td>\n",
       "    </tr>\n",
       "    <tr>\n",
       "      <th>Tpr_TRINITY_DN10853_c1_g4|Tdu_TRINITY_DN21860_c3_g3</th>\n",
       "      <td>909.392019</td>\n",
       "      <td>-0.121086</td>\n",
       "      <td>0.141581</td>\n",
       "      <td>-0.855253</td>\n",
       "      <td>0.392411</td>\n",
       "      <td>0.626296</td>\n",
       "    </tr>\n",
       "    <tr>\n",
       "      <th>Tpr_TRINITY_DN12798_c2_g2|Tdu_TRINITY_DN24179_c2_g3</th>\n",
       "      <td>51.645391</td>\n",
       "      <td>-0.665939</td>\n",
       "      <td>0.258235</td>\n",
       "      <td>-2.579510</td>\n",
       "      <td>0.009894</td>\n",
       "      <td>0.052118</td>\n",
       "    </tr>\n",
       "    <tr>\n",
       "      <th>Tpr_TRINITY_DN21120_c0_g1|Tdu_TRINITY_DN19044_c2_g2</th>\n",
       "      <td>1.634749</td>\n",
       "      <td>0.949137</td>\n",
       "      <td>0.614108</td>\n",
       "      <td>1.765781</td>\n",
       "      <td>0.077433</td>\n",
       "      <td>0.228848</td>\n",
       "    </tr>\n",
       "    <tr>\n",
       "      <th>Tpr_TRINITY_DN15495_c0_g2|Tdu_TRINITY_DN17403_c2_g1</th>\n",
       "      <td>54.042560</td>\n",
       "      <td>0.055653</td>\n",
       "      <td>0.327908</td>\n",
       "      <td>0.169725</td>\n",
       "      <td>0.865227</td>\n",
       "      <td>0.941065</td>\n",
       "    </tr>\n",
       "  </tbody>\n",
       "</table>\n",
       "</div>"
      ],
      "text/plain": [
       "                                                      baseMean    ...         padj\n",
       "Tpr_TRINITY_DN11257_c2_g1|Tdu_TRINITY_DN16696_c...  110.539342    ...     0.445769\n",
       "Tpr_TRINITY_DN10853_c1_g4|Tdu_TRINITY_DN21860_c...  909.392019    ...     0.626296\n",
       "Tpr_TRINITY_DN12798_c2_g2|Tdu_TRINITY_DN24179_c...   51.645391    ...     0.052118\n",
       "Tpr_TRINITY_DN21120_c0_g1|Tdu_TRINITY_DN19044_c...    1.634749    ...     0.228848\n",
       "Tpr_TRINITY_DN15495_c0_g2|Tdu_TRINITY_DN17403_c...   54.042560    ...     0.941065\n",
       "\n",
       "[5 rows x 6 columns]"
      ]
     },
     "execution_count": 18,
     "metadata": {},
     "output_type": "execute_result"
    }
   ],
   "source": [
    "DESeq2_noneDE_Tdu_Tpr.head()"
   ]
  },
  {
   "cell_type": "code",
   "execution_count": 24,
   "metadata": {},
   "outputs": [],
   "source": [
    "## Creat a list which contains all indexes from dataframe DESeq2_noneDE_Tdu_Tpr\n",
    "List_nonDE = list(DESeq2_noneDE_Tdu_Tpr.index)"
   ]
  },
  {
   "cell_type": "code",
   "execution_count": 26,
   "metadata": {},
   "outputs": [
    {
     "data": {
      "text/plain": [
       "['Tpr_TRINITY_DN11257_c2_g1|Tdu_TRINITY_DN16696_c0_g1',\n",
       " 'Tpr_TRINITY_DN10853_c1_g4|Tdu_TRINITY_DN21860_c3_g3',\n",
       " 'Tpr_TRINITY_DN12798_c2_g2|Tdu_TRINITY_DN24179_c2_g3',\n",
       " 'Tpr_TRINITY_DN21120_c0_g1|Tdu_TRINITY_DN19044_c2_g2',\n",
       " 'Tpr_TRINITY_DN15495_c0_g2|Tdu_TRINITY_DN17403_c2_g1']"
      ]
     },
     "execution_count": 26,
     "metadata": {},
     "output_type": "execute_result"
    }
   ],
   "source": [
    "List_nonDE[:5]"
   ]
  },
  {
   "cell_type": "code",
   "execution_count": 27,
   "metadata": {},
   "outputs": [],
   "source": [
    "## Identify those loci with homeolog expression profiles and showed non-differential exp between Tdu and Tpr\n",
    "Tms_homeolog_exp_noneDE = Homeolog_expression_profile[Homeolog_expression_profile.commonID.isin(List_nonDE)]"
   ]
  },
  {
   "cell_type": "code",
   "execution_count": 28,
   "metadata": {},
   "outputs": [
    {
     "data": {
      "text/plain": [
       "(3925, 14)"
      ]
     },
     "execution_count": 28,
     "metadata": {},
     "output_type": "execute_result"
    }
   ],
   "source": [
    "## Showed the number of noneDE loci with homeolog expression profiles\n",
    "Tms_homeolog_exp_noneDE.shape"
   ]
  },
  {
   "cell_type": "code",
   "execution_count": 29,
   "metadata": {},
   "outputs": [
    {
     "data": {
      "text/html": [
       "<div>\n",
       "<style scoped>\n",
       "    .dataframe tbody tr th:only-of-type {\n",
       "        vertical-align: middle;\n",
       "    }\n",
       "\n",
       "    .dataframe tbody tr th {\n",
       "        vertical-align: top;\n",
       "    }\n",
       "\n",
       "    .dataframe thead th {\n",
       "        text-align: right;\n",
       "    }\n",
       "</style>\n",
       "<table border=\"1\" class=\"dataframe\">\n",
       "  <thead>\n",
       "    <tr style=\"text-align: right;\">\n",
       "      <th></th>\n",
       "      <th>commonID</th>\n",
       "      <th>q4_mean_theta</th>\n",
       "      <th>q4_q025</th>\n",
       "      <th>q4_q975</th>\n",
       "      <th>q5_mean_theta</th>\n",
       "      <th>q5_q025</th>\n",
       "      <th>q5_q975</th>\n",
       "      <th>q6_mean_theta</th>\n",
       "      <th>q6_q025</th>\n",
       "      <th>q6_q975</th>\n",
       "      <th>flag_q4_sig</th>\n",
       "      <th>flag_q5_sig</th>\n",
       "      <th>flag_q6_sig</th>\n",
       "      <th>flag_sig_Tms_tdu_tpr</th>\n",
       "    </tr>\n",
       "  </thead>\n",
       "  <tbody>\n",
       "    <tr>\n",
       "      <th>1</th>\n",
       "      <td>Tpr_TRINITY_DN11283_c3_g1|Tdu_TRINITY_DN25596_...</td>\n",
       "      <td>0.608</td>\n",
       "      <td>0.418</td>\n",
       "      <td>0.786</td>\n",
       "      <td>0.529</td>\n",
       "      <td>0.333</td>\n",
       "      <td>0.708</td>\n",
       "      <td>0.446</td>\n",
       "      <td>0.259</td>\n",
       "      <td>0.637</td>\n",
       "      <td>0</td>\n",
       "      <td>0</td>\n",
       "      <td>0</td>\n",
       "      <td>0</td>\n",
       "    </tr>\n",
       "    <tr>\n",
       "      <th>2</th>\n",
       "      <td>Tpr_TRINITY_DN11283_c4_g7|Tdu_TRINITY_DN21302_...</td>\n",
       "      <td>0.297</td>\n",
       "      <td>0.122</td>\n",
       "      <td>0.491</td>\n",
       "      <td>0.229</td>\n",
       "      <td>0.092</td>\n",
       "      <td>0.406</td>\n",
       "      <td>0.168</td>\n",
       "      <td>0.060</td>\n",
       "      <td>0.317</td>\n",
       "      <td>1</td>\n",
       "      <td>1</td>\n",
       "      <td>1</td>\n",
       "      <td>1</td>\n",
       "    </tr>\n",
       "    <tr>\n",
       "      <th>3</th>\n",
       "      <td>Tpr_TRINITY_DN11284_c2_g19|Tdu_TRINITY_DN20652...</td>\n",
       "      <td>0.527</td>\n",
       "      <td>0.284</td>\n",
       "      <td>0.758</td>\n",
       "      <td>0.447</td>\n",
       "      <td>0.202</td>\n",
       "      <td>0.699</td>\n",
       "      <td>0.384</td>\n",
       "      <td>0.169</td>\n",
       "      <td>0.620</td>\n",
       "      <td>0</td>\n",
       "      <td>0</td>\n",
       "      <td>0</td>\n",
       "      <td>0</td>\n",
       "    </tr>\n",
       "    <tr>\n",
       "      <th>4</th>\n",
       "      <td>Tpr_TRINITY_DN11285_c1_g4|Tdu_TRINITY_DN17239_...</td>\n",
       "      <td>0.187</td>\n",
       "      <td>0.093</td>\n",
       "      <td>0.299</td>\n",
       "      <td>0.136</td>\n",
       "      <td>0.065</td>\n",
       "      <td>0.224</td>\n",
       "      <td>0.096</td>\n",
       "      <td>0.048</td>\n",
       "      <td>0.169</td>\n",
       "      <td>1</td>\n",
       "      <td>1</td>\n",
       "      <td>1</td>\n",
       "      <td>1</td>\n",
       "    </tr>\n",
       "    <tr>\n",
       "      <th>5</th>\n",
       "      <td>Tpr_TRINITY_DN11294_c1_g1|Tdu_TRINITY_DN19017_...</td>\n",
       "      <td>0.144</td>\n",
       "      <td>0.000</td>\n",
       "      <td>0.535</td>\n",
       "      <td>0.117</td>\n",
       "      <td>0.000</td>\n",
       "      <td>0.504</td>\n",
       "      <td>0.094</td>\n",
       "      <td>0.000</td>\n",
       "      <td>0.413</td>\n",
       "      <td>0</td>\n",
       "      <td>0</td>\n",
       "      <td>1</td>\n",
       "      <td>0</td>\n",
       "    </tr>\n",
       "  </tbody>\n",
       "</table>\n",
       "</div>"
      ],
      "text/plain": [
       "                                            commonID          ...           flag_sig_Tms_tdu_tpr\n",
       "1  Tpr_TRINITY_DN11283_c3_g1|Tdu_TRINITY_DN25596_...          ...                              0\n",
       "2  Tpr_TRINITY_DN11283_c4_g7|Tdu_TRINITY_DN21302_...          ...                              1\n",
       "3  Tpr_TRINITY_DN11284_c2_g19|Tdu_TRINITY_DN20652...          ...                              0\n",
       "4  Tpr_TRINITY_DN11285_c1_g4|Tdu_TRINITY_DN17239_...          ...                              1\n",
       "5  Tpr_TRINITY_DN11294_c1_g1|Tdu_TRINITY_DN19017_...          ...                              0\n",
       "\n",
       "[5 rows x 14 columns]"
      ]
     },
     "execution_count": 29,
     "metadata": {},
     "output_type": "execute_result"
    }
   ],
   "source": [
    "Tms_homeolog_exp_noneDE.head()"
   ]
  },
  {
   "cell_type": "code",
   "execution_count": 43,
   "metadata": {},
   "outputs": [],
   "source": [
    "## Identify noneDE loci with homeolog expression profiles that do NOT show bias expression to any subgenome\n",
    "Tms_homeolog_exp_noneDE_nonebias = Tms_homeolog_exp_noneDE[Tms_homeolog_exp_noneDE[\"flag_sig_Tms_tdu_tpr\"] == 0]\n",
    "Tms_homeolog_exp_noneDE_nonebias[\"commonID\"].to_csv(\"Tms_noneDE_unbias.txt\", index = False)"
   ]
  },
  {
   "cell_type": "code",
   "execution_count": 44,
   "metadata": {},
   "outputs": [],
   "source": [
    "## Identify noneDE loci with homeolog expression profiles that showed biased expression to Tdu subgenome\n",
    "## flg=1 and q5_mean < 0.5 indicate biased expression to Tdu subgenome\n",
    "Tms_homeolog_exp_noneDE_TduBias = Tms_homeolog_exp_noneDE[(Tms_homeolog_exp_noneDE[\"flag_sig_Tms_tdu_tpr\"] == 1) & (Tms_homeolog_exp_noneDE[\"q5_mean_theta\"] < 0.5)]\n",
    "Tms_homeolog_exp_noneDE_TduBias[\"commonID\"].to_csv(\"Tms_noneDE_biasTdu.txt\", index = False)"
   ]
  },
  {
   "cell_type": "code",
   "execution_count": 45,
   "metadata": {},
   "outputs": [],
   "source": [
    "## Identify noneDE loci with homeolog expression profiles that showed biased expression to Tpr subgenome\n",
    "## flg=1 and q5_mean > 0.5 indicate biased expression to Tpr subgenome\n",
    "Tms_homeolog_exp_noneDE_TprBias = Tms_homeolog_exp_noneDE[(Tms_homeolog_exp_noneDE[\"flag_sig_Tms_tdu_tpr\"] == 1) & (Tms_homeolog_exp_noneDE[\"q5_mean_theta\"] > 0.5)]\n",
    "Tms_homeolog_exp_noneDE_TprBias[\"commonID\"].to_csv(\"Tms_noneDE_biasTpr.txt\", index = False)"
   ]
  },
  {
   "cell_type": "markdown",
   "metadata": {},
   "source": [
    "## Processing DE loci with higher exp in Tdu"
   ]
  },
  {
   "cell_type": "code",
   "execution_count": 46,
   "metadata": {},
   "outputs": [],
   "source": [
    "## Import DE loci with higher expression in Tdu, based on DESeq2 results\n",
    "DESeq2_DE_Tdu_higher = pd.read_table(\"DESeq2_DE_higher_Tdu.txt\")"
   ]
  },
  {
   "cell_type": "code",
   "execution_count": 49,
   "metadata": {},
   "outputs": [],
   "source": [
    "## Creat a list which contains all indexes from dataframe DESeq2_DE_Tdu_higher\n",
    "List_TduHigher = list(DESeq2_DE_Tdu_higher.index)"
   ]
  },
  {
   "cell_type": "code",
   "execution_count": 51,
   "metadata": {},
   "outputs": [],
   "source": [
    "## Identify those loci with homeolog expression profiles and showed higher exp in Tdu\n",
    "Tms_homeolog_exp_TduHigher = Homeolog_expression_profile[Homeolog_expression_profile.commonID.isin(List_TduHigher)]"
   ]
  },
  {
   "cell_type": "code",
   "execution_count": 52,
   "metadata": {},
   "outputs": [
    {
     "data": {
      "text/plain": [
       "(440, 14)"
      ]
     },
     "execution_count": 52,
     "metadata": {},
     "output_type": "execute_result"
    }
   ],
   "source": [
    "## Showed the number of Tdu higher exp loci with homeolog expression profiles\n",
    "Tms_homeolog_exp_TduHigher.shape"
   ]
  },
  {
   "cell_type": "code",
   "execution_count": 53,
   "metadata": {},
   "outputs": [],
   "source": [
    "## Identify Tdu higher loci with homeolog expression profiles that do NOT show bias expression to any subgenome\n",
    "Tms_homeolog_exp_TduHigher_nonebias = Tms_homeolog_exp_TduHigher[Tms_homeolog_exp_TduHigher[\"flag_sig_Tms_tdu_tpr\"] == 0]\n",
    "Tms_homeolog_exp_TduHigher_nonebias[\"commonID\"].to_csv(\"Tms_HigherTdu_unbias.txt\", index = False)\n",
    "\n",
    "## Identify Tdu higher loci with homeolog expression profiles that showed biased expression to Tdu subgenome\n",
    "## flg=1 and q5_mean < 0.5 indicate biased expression to Tdu subgenome\n",
    "Tms_homeolog_exp_TduHigher_TduBias = Tms_homeolog_exp_TduHigher[(Tms_homeolog_exp_TduHigher[\"flag_sig_Tms_tdu_tpr\"] == 1) & (Tms_homeolog_exp_TduHigher[\"q5_mean_theta\"] < 0.5)]\n",
    "Tms_homeolog_exp_TduHigher_TduBias[\"commonID\"].to_csv(\"Tms_HigherTdu_biasTdu.txt\", index = False)\n",
    "\n",
    "## Identify Tdu higher loci with homeolog expression profiles that showed biased expression to Tpr subgenome\n",
    "## flg=1 and q5_mean > 0.5 indicate biased expression to Tpr subgenome\n",
    "Tms_homeolog_exp_TduHigher_TprBias = Tms_homeolog_exp_TduHigher[(Tms_homeolog_exp_TduHigher[\"flag_sig_Tms_tdu_tpr\"] == 1) & (Tms_homeolog_exp_TduHigher[\"q5_mean_theta\"] > 0.5)]\n",
    "Tms_homeolog_exp_TduHigher_TprBias[\"commonID\"].to_csv(\"Tms_HigherTdu_biasTpr.txt\", index = False)"
   ]
  },
  {
   "cell_type": "markdown",
   "metadata": {},
   "source": [
    "## Processing DE loci with higher exp in Tpr"
   ]
  },
  {
   "cell_type": "code",
   "execution_count": 54,
   "metadata": {},
   "outputs": [],
   "source": [
    "## Import DE loci with higher expression in Tpr, based on DESeq2 results\n",
    "DESeq2_DE_Tpr_higher = pd.read_table(\"DESeq2_DE_higher_Tpr.txt\")\n",
    "## Creat a list which contains all indexes from dataframe DESeq2_DE_Tpr_higher\n",
    "List_TprHigher = list(DESeq2_DE_Tpr_higher.index)"
   ]
  },
  {
   "cell_type": "code",
   "execution_count": 56,
   "metadata": {},
   "outputs": [
    {
     "data": {
      "text/plain": [
       "(519, 14)"
      ]
     },
     "execution_count": 56,
     "metadata": {},
     "output_type": "execute_result"
    }
   ],
   "source": [
    "## Identify those loci with homeolog expression profiles and showed higher exp in Tpr\n",
    "Tms_homeolog_exp_TprHigher = Homeolog_expression_profile[Homeolog_expression_profile.commonID.isin(List_TprHigher)]\n",
    "\n",
    "## Showed the number of Tpr higher exp loci with homeolog expression profiles\n",
    "Tms_homeolog_exp_TprHigher.shape"
   ]
  },
  {
   "cell_type": "code",
   "execution_count": 57,
   "metadata": {},
   "outputs": [],
   "source": [
    "## Identify Tpr higher loci with homeolog expression profiles that do NOT show bias expression to any subgenome\n",
    "Tms_homeolog_exp_TprHigher_nonebias = Tms_homeolog_exp_TprHigher[Tms_homeolog_exp_TprHigher[\"flag_sig_Tms_tdu_tpr\"] == 0]\n",
    "Tms_homeolog_exp_TprHigher_nonebias[\"commonID\"].to_csv(\"Tms_HigherTpr_unbias.txt\", index = False)\n",
    "\n",
    "## Identify Tpr higher loci with homeolog expression profiles that showed biased expression to Tdu subgenome\n",
    "## flg=1 and q5_mean < 0.5 indicate biased expression to Tdu subgenome\n",
    "Tms_homeolog_exp_TprHigher_TduBias = Tms_homeolog_exp_TprHigher[(Tms_homeolog_exp_TprHigher[\"flag_sig_Tms_tdu_tpr\"] == 1) & (Tms_homeolog_exp_TprHigher[\"q5_mean_theta\"] < 0.5)]\n",
    "Tms_homeolog_exp_TprHigher_TduBias[\"commonID\"].to_csv(\"Tms_HigherTpr_biasTdu.txt\", index = False)\n",
    "\n",
    "## Identify Tpr higher loci with homeolog expression profiles that showed biased expression to Tpr subgenome\n",
    "## flg=1 and q5_mean > 0.5 indicate biased expression to Tpr subgenome\n",
    "Tms_homeolog_exp_TprHigher_TprBias = Tms_homeolog_exp_TprHigher[(Tms_homeolog_exp_TprHigher[\"flag_sig_Tms_tdu_tpr\"] == 1) & (Tms_homeolog_exp_TprHigher[\"q5_mean_theta\"] > 0.5)]\n",
    "Tms_homeolog_exp_TprHigher_TprBias[\"commonID\"].to_csv(\"Tms_HigherTpr_biasTpr.txt\", index = False)"
   ]
  },
  {
   "cell_type": "code",
   "execution_count": null,
   "metadata": {},
   "outputs": [],
   "source": []
  }
 ],
 "metadata": {
  "kernelspec": {
   "display_name": "Python 3.6. (full)",
   "language": "python",
   "name": "python3-3.6-ufrc"
  },
  "language_info": {
   "codemirror_mode": {
    "name": "ipython",
    "version": 3
   },
   "file_extension": ".py",
   "mimetype": "text/x-python",
   "name": "python",
   "nbconvert_exporter": "python",
   "pygments_lexer": "ipython3",
   "version": "3.6.5"
  }
 },
 "nbformat": 4,
 "nbformat_minor": 4
}
