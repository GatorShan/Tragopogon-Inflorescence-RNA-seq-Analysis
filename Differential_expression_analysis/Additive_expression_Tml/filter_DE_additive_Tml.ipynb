{
 "cells": [
  {
   "cell_type": "code",
   "execution_count": 1,
   "metadata": {},
   "outputs": [],
   "source": [
    "import pandas as pd\n",
    "import os"
   ]
  },
  {
   "cell_type": "code",
   "execution_count": 2,
   "metadata": {},
   "outputs": [],
   "source": [
    "os.chdir(\"/ufrc/soltis/shan158538/TragFL_NewAnalysis/OutPut/DE_analysis/Additive_expression_Tml\")"
   ]
  },
  {
   "cell_type": "code",
   "execution_count": 3,
   "metadata": {},
   "outputs": [],
   "source": [
    "FileList = ['additive_DE_overall_model.txt', 'DE_Tdu_Tpr.txt', 'DE_additive_Tdu_Tpr-Tml.txt']"
   ]
  },
  {
   "cell_type": "code",
   "execution_count": 4,
   "metadata": {},
   "outputs": [
    {
     "data": {
      "text/plain": [
       "['additive_DE_overall_model.txt',\n",
       " 'DE_Tdu_Tpr.txt',\n",
       " 'DE_additive_Tdu_Tpr-Tml.txt']"
      ]
     },
     "execution_count": 4,
     "metadata": {},
     "output_type": "execute_result"
    }
   ],
   "source": [
    "FileList"
   ]
  },
  {
   "cell_type": "code",
   "execution_count": 5,
   "metadata": {},
   "outputs": [],
   "source": [
    "for File in FileList:\n",
    "    df = pd.read_table(File)\n",
    "    sig = df[df[\"adj.P.Val\"] < 0.05]\n",
    "    not_sig = df[df[\"adj.P.Val\"] >= 0.05]\n",
    "    \n",
    "    output_sig = File.split(\".\")[0] + \"_sig_loci.txt\"\n",
    "    output_not_sig = File.split(\".\")[0] + \"_not_sig_loci.txt\"\n",
    "    \n",
    "    sig.to_csv(output_sig)\n",
    "    not_sig.to_csv(output_not_sig)"
   ]
  },
  {
   "cell_type": "code",
   "execution_count": null,
   "metadata": {},
   "outputs": [],
   "source": []
  }
 ],
 "metadata": {
  "kernelspec": {
   "display_name": "Python 3.6. (full)",
   "language": "python",
   "name": "python3-3.6-ufrc"
  },
  "language_info": {
   "codemirror_mode": {
    "name": "ipython",
    "version": 3
   },
   "file_extension": ".py",
   "mimetype": "text/x-python",
   "name": "python",
   "nbconvert_exporter": "python",
   "pygments_lexer": "ipython3",
   "version": "3.6.5"
  }
 },
 "nbformat": 4,
 "nbformat_minor": 4
}
