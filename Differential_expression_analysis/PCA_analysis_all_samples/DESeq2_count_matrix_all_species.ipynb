{
 "cells": [
  {
   "cell_type": "code",
   "execution_count": 1,
   "metadata": {},
   "outputs": [],
   "source": [
    "import pandas as pd\n",
    "import os\n",
    "import glob"
   ]
  },
  {
   "cell_type": "code",
   "execution_count": 2,
   "metadata": {},
   "outputs": [],
   "source": [
    "os.chdir(\"/ufrc/soltis/shan158538/TragFL_NewAnalysis/OutPut/DE_analysis/PCA_all_species\")"
   ]
  },
  {
   "cell_type": "markdown",
   "metadata": {},
   "source": [
    "### Combine read counts from diploids"
   ]
  },
  {
   "cell_type": "code",
   "execution_count": 3,
   "metadata": {},
   "outputs": [],
   "source": [
    "FileList1 = glob.glob(\"both_counts_T*\")"
   ]
  },
  {
   "cell_type": "code",
   "execution_count": 4,
   "metadata": {},
   "outputs": [],
   "source": [
    "FileList1 = sorted(FileList1)"
   ]
  },
  {
   "cell_type": "code",
   "execution_count": 5,
   "metadata": {},
   "outputs": [
    {
     "data": {
      "text/plain": [
       "['both_counts_Tdu_1_2_Tdu_Tpr.csv',\n",
       " 'both_counts_Tdu_2_2_Tdu_Tpr.csv',\n",
       " 'both_counts_Tdu_3_2_Tdu_Tpr.csv',\n",
       " 'both_counts_Tdu_4_2_Tdu_Tpr.csv',\n",
       " 'both_counts_Tdu_5_2_Tdu_Tpr.csv',\n",
       " 'both_counts_Tdu_6_2_Tdu_Tpr.csv',\n",
       " 'both_counts_Tpr_1_2_Tdu_Tpr.csv',\n",
       " 'both_counts_Tpr_2_2_Tdu_Tpr.csv',\n",
       " 'both_counts_Tpr_3_2_Tdu_Tpr.csv']"
      ]
     },
     "execution_count": 5,
     "metadata": {},
     "output_type": "execute_result"
    }
   ],
   "source": [
    "FileList1"
   ]
  },
  {
   "cell_type": "code",
   "execution_count": 6,
   "metadata": {},
   "outputs": [],
   "source": [
    "col_name = \"_\".join(FileList1[0].split(\"_\")[2:4])\n",
    "df = pd.read_csv(FileList1[0])\n",
    "df.rename(columns={\"FUSION_ID\":\"FUSION_ID\",\"Count\":col_name}, inplace=True)"
   ]
  },
  {
   "cell_type": "code",
   "execution_count": 7,
   "metadata": {},
   "outputs": [],
   "source": [
    "for file in FileList1[1:]:\n",
    "    col_name = \"_\".join(file.split(\"_\")[2:4])\n",
    "    temp_df = pd.read_csv(file)\n",
    "    temp_df.rename(columns={\"FUSION_ID\":\"FUSION_ID\",\"Count\":col_name}, inplace=True)\n",
    "    df = pd.merge(df, temp_df)"
   ]
  },
  {
   "cell_type": "code",
   "execution_count": 8,
   "metadata": {},
   "outputs": [
    {
     "data": {
      "text/html": [
       "<div>\n",
       "<style scoped>\n",
       "    .dataframe tbody tr th:only-of-type {\n",
       "        vertical-align: middle;\n",
       "    }\n",
       "\n",
       "    .dataframe tbody tr th {\n",
       "        vertical-align: top;\n",
       "    }\n",
       "\n",
       "    .dataframe thead th {\n",
       "        text-align: right;\n",
       "    }\n",
       "</style>\n",
       "<table border=\"1\" class=\"dataframe\">\n",
       "  <thead>\n",
       "    <tr style=\"text-align: right;\">\n",
       "      <th></th>\n",
       "      <th>FUSION_ID</th>\n",
       "      <th>Tdu_1</th>\n",
       "      <th>Tdu_2</th>\n",
       "      <th>Tdu_3</th>\n",
       "      <th>Tdu_4</th>\n",
       "      <th>Tdu_5</th>\n",
       "      <th>Tdu_6</th>\n",
       "      <th>Tpr_1</th>\n",
       "      <th>Tpr_2</th>\n",
       "      <th>Tpr_3</th>\n",
       "    </tr>\n",
       "  </thead>\n",
       "  <tbody>\n",
       "    <tr>\n",
       "      <th>0</th>\n",
       "      <td>Tpr_TRINITY_DN11257_c2_g1|Tdu_TRINITY_DN16696_...</td>\n",
       "      <td>92</td>\n",
       "      <td>109</td>\n",
       "      <td>123</td>\n",
       "      <td>106</td>\n",
       "      <td>116</td>\n",
       "      <td>121</td>\n",
       "      <td>103</td>\n",
       "      <td>173</td>\n",
       "      <td>78</td>\n",
       "    </tr>\n",
       "    <tr>\n",
       "      <th>1</th>\n",
       "      <td>Tpr_TRINITY_DN10844_c2_g7|Tdu_TRINITY_DN25328_...</td>\n",
       "      <td>157</td>\n",
       "      <td>218</td>\n",
       "      <td>281</td>\n",
       "      <td>177</td>\n",
       "      <td>169</td>\n",
       "      <td>238</td>\n",
       "      <td>204</td>\n",
       "      <td>402</td>\n",
       "      <td>205</td>\n",
       "    </tr>\n",
       "    <tr>\n",
       "      <th>2</th>\n",
       "      <td>Tpr_TRINITY_DN15383_c4_g16|Tdu_TRINITY_DN14160...</td>\n",
       "      <td>36</td>\n",
       "      <td>64</td>\n",
       "      <td>58</td>\n",
       "      <td>43</td>\n",
       "      <td>36</td>\n",
       "      <td>47</td>\n",
       "      <td>21</td>\n",
       "      <td>25</td>\n",
       "      <td>18</td>\n",
       "    </tr>\n",
       "    <tr>\n",
       "      <th>3</th>\n",
       "      <td>Tpr_TRINITY_DN1451_c0_g1|Tdu_TRINITY_DN16990_c...</td>\n",
       "      <td>96</td>\n",
       "      <td>140</td>\n",
       "      <td>142</td>\n",
       "      <td>80</td>\n",
       "      <td>126</td>\n",
       "      <td>108</td>\n",
       "      <td>141</td>\n",
       "      <td>200</td>\n",
       "      <td>119</td>\n",
       "    </tr>\n",
       "    <tr>\n",
       "      <th>4</th>\n",
       "      <td>Tpr_TRINITY_DN10853_c1_g4|Tdu_TRINITY_DN21860_...</td>\n",
       "      <td>773</td>\n",
       "      <td>1099</td>\n",
       "      <td>976</td>\n",
       "      <td>809</td>\n",
       "      <td>1113</td>\n",
       "      <td>918</td>\n",
       "      <td>751</td>\n",
       "      <td>1281</td>\n",
       "      <td>700</td>\n",
       "    </tr>\n",
       "  </tbody>\n",
       "</table>\n",
       "</div>"
      ],
      "text/plain": [
       "                                           FUSION_ID  Tdu_1  ...    Tpr_2  Tpr_3\n",
       "0  Tpr_TRINITY_DN11257_c2_g1|Tdu_TRINITY_DN16696_...     92  ...      173     78\n",
       "1  Tpr_TRINITY_DN10844_c2_g7|Tdu_TRINITY_DN25328_...    157  ...      402    205\n",
       "2  Tpr_TRINITY_DN15383_c4_g16|Tdu_TRINITY_DN14160...     36  ...       25     18\n",
       "3  Tpr_TRINITY_DN1451_c0_g1|Tdu_TRINITY_DN16990_c...     96  ...      200    119\n",
       "4  Tpr_TRINITY_DN10853_c1_g4|Tdu_TRINITY_DN21860_...    773  ...     1281    700\n",
       "\n",
       "[5 rows x 10 columns]"
      ]
     },
     "execution_count": 8,
     "metadata": {},
     "output_type": "execute_result"
    }
   ],
   "source": [
    "df.head()"
   ]
  },
  {
   "cell_type": "markdown",
   "metadata": {},
   "source": [
    "### Combine read counts from Tms and Tml"
   ]
  },
  {
   "cell_type": "code",
   "execution_count": 9,
   "metadata": {},
   "outputs": [],
   "source": [
    "FileList2 = glob.glob(\"both_counts_new_*\")"
   ]
  },
  {
   "cell_type": "code",
   "execution_count": 10,
   "metadata": {},
   "outputs": [],
   "source": [
    "FileList2 = sorted(FileList2)"
   ]
  },
  {
   "cell_type": "code",
   "execution_count": 11,
   "metadata": {},
   "outputs": [
    {
     "data": {
      "text/plain": [
       "['both_counts_new_Tml_1_2_tdu_tpr.csv',\n",
       " 'both_counts_new_Tml_2_2_tdu_tpr.csv',\n",
       " 'both_counts_new_Tml_3_2_tdu_tpr.csv',\n",
       " 'both_counts_new_Tms_1_2_tdu_tpr.csv',\n",
       " 'both_counts_new_Tms_2_2_tdu_tpr.csv',\n",
       " 'both_counts_new_Tms_3_2_tdu_tpr.csv']"
      ]
     },
     "execution_count": 11,
     "metadata": {},
     "output_type": "execute_result"
    }
   ],
   "source": [
    "FileList2"
   ]
  },
  {
   "cell_type": "code",
   "execution_count": 12,
   "metadata": {},
   "outputs": [],
   "source": [
    "for file in FileList2[0:]:\n",
    "    col_name = \"_\".join(file.split(\"_\")[3:5])\n",
    "    temp_df = pd.read_csv(file)\n",
    "    temp_df.rename(columns={\"FUSION_ID\":\"FUSION_ID\",\"Count\":col_name}, inplace=True)\n",
    "    df = pd.merge(df, temp_df)"
   ]
  },
  {
   "cell_type": "code",
   "execution_count": 13,
   "metadata": {},
   "outputs": [
    {
     "data": {
      "text/html": [
       "<div>\n",
       "<style scoped>\n",
       "    .dataframe tbody tr th:only-of-type {\n",
       "        vertical-align: middle;\n",
       "    }\n",
       "\n",
       "    .dataframe tbody tr th {\n",
       "        vertical-align: top;\n",
       "    }\n",
       "\n",
       "    .dataframe thead th {\n",
       "        text-align: right;\n",
       "    }\n",
       "</style>\n",
       "<table border=\"1\" class=\"dataframe\">\n",
       "  <thead>\n",
       "    <tr style=\"text-align: right;\">\n",
       "      <th></th>\n",
       "      <th>FUSION_ID</th>\n",
       "      <th>Tdu_1</th>\n",
       "      <th>Tdu_2</th>\n",
       "      <th>Tdu_3</th>\n",
       "      <th>Tdu_4</th>\n",
       "      <th>Tdu_5</th>\n",
       "      <th>Tdu_6</th>\n",
       "      <th>Tpr_1</th>\n",
       "      <th>Tpr_2</th>\n",
       "      <th>Tpr_3</th>\n",
       "      <th>Tml_1</th>\n",
       "      <th>Tml_2</th>\n",
       "      <th>Tml_3</th>\n",
       "      <th>Tms_1</th>\n",
       "      <th>Tms_2</th>\n",
       "      <th>Tms_3</th>\n",
       "    </tr>\n",
       "  </thead>\n",
       "  <tbody>\n",
       "    <tr>\n",
       "      <th>0</th>\n",
       "      <td>Tpr_TRINITY_DN11257_c2_g1|Tdu_TRINITY_DN16696_...</td>\n",
       "      <td>92</td>\n",
       "      <td>109</td>\n",
       "      <td>123</td>\n",
       "      <td>106</td>\n",
       "      <td>116</td>\n",
       "      <td>121</td>\n",
       "      <td>103</td>\n",
       "      <td>173</td>\n",
       "      <td>78</td>\n",
       "      <td>71</td>\n",
       "      <td>58</td>\n",
       "      <td>79</td>\n",
       "      <td>63</td>\n",
       "      <td>65</td>\n",
       "      <td>63</td>\n",
       "    </tr>\n",
       "    <tr>\n",
       "      <th>1</th>\n",
       "      <td>Tpr_TRINITY_DN10844_c2_g7|Tdu_TRINITY_DN25328_...</td>\n",
       "      <td>157</td>\n",
       "      <td>218</td>\n",
       "      <td>281</td>\n",
       "      <td>177</td>\n",
       "      <td>169</td>\n",
       "      <td>238</td>\n",
       "      <td>204</td>\n",
       "      <td>402</td>\n",
       "      <td>205</td>\n",
       "      <td>135</td>\n",
       "      <td>137</td>\n",
       "      <td>111</td>\n",
       "      <td>130</td>\n",
       "      <td>154</td>\n",
       "      <td>195</td>\n",
       "    </tr>\n",
       "    <tr>\n",
       "      <th>2</th>\n",
       "      <td>Tpr_TRINITY_DN15383_c4_g16|Tdu_TRINITY_DN14160...</td>\n",
       "      <td>36</td>\n",
       "      <td>64</td>\n",
       "      <td>58</td>\n",
       "      <td>43</td>\n",
       "      <td>36</td>\n",
       "      <td>47</td>\n",
       "      <td>21</td>\n",
       "      <td>25</td>\n",
       "      <td>18</td>\n",
       "      <td>26</td>\n",
       "      <td>20</td>\n",
       "      <td>9</td>\n",
       "      <td>11</td>\n",
       "      <td>30</td>\n",
       "      <td>21</td>\n",
       "    </tr>\n",
       "    <tr>\n",
       "      <th>3</th>\n",
       "      <td>Tpr_TRINITY_DN1451_c0_g1|Tdu_TRINITY_DN16990_c...</td>\n",
       "      <td>96</td>\n",
       "      <td>140</td>\n",
       "      <td>142</td>\n",
       "      <td>80</td>\n",
       "      <td>126</td>\n",
       "      <td>108</td>\n",
       "      <td>141</td>\n",
       "      <td>200</td>\n",
       "      <td>119</td>\n",
       "      <td>71</td>\n",
       "      <td>38</td>\n",
       "      <td>47</td>\n",
       "      <td>32</td>\n",
       "      <td>43</td>\n",
       "      <td>76</td>\n",
       "    </tr>\n",
       "    <tr>\n",
       "      <th>4</th>\n",
       "      <td>Tpr_TRINITY_DN10853_c1_g4|Tdu_TRINITY_DN21860_...</td>\n",
       "      <td>773</td>\n",
       "      <td>1099</td>\n",
       "      <td>976</td>\n",
       "      <td>809</td>\n",
       "      <td>1113</td>\n",
       "      <td>918</td>\n",
       "      <td>751</td>\n",
       "      <td>1281</td>\n",
       "      <td>700</td>\n",
       "      <td>437</td>\n",
       "      <td>337</td>\n",
       "      <td>388</td>\n",
       "      <td>362</td>\n",
       "      <td>405</td>\n",
       "      <td>497</td>\n",
       "    </tr>\n",
       "  </tbody>\n",
       "</table>\n",
       "</div>"
      ],
      "text/plain": [
       "                                           FUSION_ID  Tdu_1  ...    Tms_2  Tms_3\n",
       "0  Tpr_TRINITY_DN11257_c2_g1|Tdu_TRINITY_DN16696_...     92  ...       65     63\n",
       "1  Tpr_TRINITY_DN10844_c2_g7|Tdu_TRINITY_DN25328_...    157  ...      154    195\n",
       "2  Tpr_TRINITY_DN15383_c4_g16|Tdu_TRINITY_DN14160...     36  ...       30     21\n",
       "3  Tpr_TRINITY_DN1451_c0_g1|Tdu_TRINITY_DN16990_c...     96  ...       43     76\n",
       "4  Tpr_TRINITY_DN10853_c1_g4|Tdu_TRINITY_DN21860_...    773  ...      405    497\n",
       "\n",
       "[5 rows x 16 columns]"
      ]
     },
     "execution_count": 13,
     "metadata": {},
     "output_type": "execute_result"
    }
   ],
   "source": [
    "df.head()"
   ]
  },
  {
   "cell_type": "code",
   "execution_count": 14,
   "metadata": {},
   "outputs": [],
   "source": [
    "df.to_csv(\"DESeq2_count_matrix_all_species.csv\", index=False)"
   ]
  },
  {
   "cell_type": "code",
   "execution_count": null,
   "metadata": {},
   "outputs": [],
   "source": []
  }
 ],
 "metadata": {
  "kernelspec": {
   "display_name": "Python 3.6. (full)",
   "language": "python",
   "name": "python3-3.6-ufrc"
  },
  "language_info": {
   "codemirror_mode": {
    "name": "ipython",
    "version": 3
   },
   "file_extension": ".py",
   "mimetype": "text/x-python",
   "name": "python",
   "nbconvert_exporter": "python",
   "pygments_lexer": "ipython3",
   "version": "3.6.5"
  }
 },
 "nbformat": 4,
 "nbformat_minor": 4
}
