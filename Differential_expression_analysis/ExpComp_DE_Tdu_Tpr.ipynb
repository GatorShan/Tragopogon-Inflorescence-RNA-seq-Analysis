{
 "cells": [
  {
   "cell_type": "code",
   "execution_count": 1,
   "metadata": {},
   "outputs": [],
   "source": [
    "import pandas as pd\n",
    "import sys\n",
    "import os"
   ]
  },
  {
   "cell_type": "markdown",
   "metadata": {},
   "source": [
    "# First, let's work on DE_Tdu_Tpr for short-liguled T. miscellus (Tms)"
   ]
  },
  {
   "cell_type": "code",
   "execution_count": 2,
   "metadata": {},
   "outputs": [],
   "source": [
    "os.chdir(\"/ufrc/soltis/shan158538/TragFL_NewAnalysis/OutPut/DE_analysis/Tdu_Tpr_voom_Tms/\")"
   ]
  },
  {
   "cell_type": "code",
   "execution_count": 6,
   "metadata": {},
   "outputs": [],
   "source": [
    "df_for_Tms = pd.read_table(\"DE_Tdu_Tpr_min10_3rep.txt\")"
   ]
  },
  {
   "cell_type": "code",
   "execution_count": 7,
   "metadata": {},
   "outputs": [
    {
     "data": {
      "text/html": [
       "<div>\n",
       "<style scoped>\n",
       "    .dataframe tbody tr th:only-of-type {\n",
       "        vertical-align: middle;\n",
       "    }\n",
       "\n",
       "    .dataframe tbody tr th {\n",
       "        vertical-align: top;\n",
       "    }\n",
       "\n",
       "    .dataframe thead th {\n",
       "        text-align: right;\n",
       "    }\n",
       "</style>\n",
       "<table border=\"1\" class=\"dataframe\">\n",
       "  <thead>\n",
       "    <tr style=\"text-align: right;\">\n",
       "      <th></th>\n",
       "      <th>logFC</th>\n",
       "      <th>AveExpr</th>\n",
       "      <th>t</th>\n",
       "      <th>P.Value</th>\n",
       "      <th>adj.P.Val</th>\n",
       "      <th>B</th>\n",
       "    </tr>\n",
       "  </thead>\n",
       "  <tbody>\n",
       "    <tr>\n",
       "      <th>Tpr_TRINITY_DN11257_c2_g1|Tdu_TRINITY_DN16696_c0_g1</th>\n",
       "      <td>-0.053919</td>\n",
       "      <td>6.895379</td>\n",
       "      <td>-0.281253</td>\n",
       "      <td>0.784156</td>\n",
       "      <td>0.886999</td>\n",
       "      <td>-7.095424</td>\n",
       "    </tr>\n",
       "    <tr>\n",
       "      <th>Tpr_TRINITY_DN10844_c2_g7|Tdu_TRINITY_DN25328_c2_g5</th>\n",
       "      <td>-0.498146</td>\n",
       "      <td>7.868020</td>\n",
       "      <td>-2.412156</td>\n",
       "      <td>0.036166</td>\n",
       "      <td>0.145918</td>\n",
       "      <td>-4.727989</td>\n",
       "    </tr>\n",
       "    <tr>\n",
       "      <th>Tpr_TRINITY_DN15383_c4_g16|Tdu_TRINITY_DN14160_c0_g1</th>\n",
       "      <td>0.946122</td>\n",
       "      <td>4.988739</td>\n",
       "      <td>2.952553</td>\n",
       "      <td>0.014224</td>\n",
       "      <td>0.080305</td>\n",
       "      <td>-3.370146</td>\n",
       "    </tr>\n",
       "    <tr>\n",
       "      <th>Tpr_TRINITY_DN1451_c0_g1|Tdu_TRINITY_DN16990_c3_g1</th>\n",
       "      <td>-0.602890</td>\n",
       "      <td>7.031685</td>\n",
       "      <td>-2.933278</td>\n",
       "      <td>0.014705</td>\n",
       "      <td>0.082114</td>\n",
       "      <td>-3.756732</td>\n",
       "    </tr>\n",
       "    <tr>\n",
       "      <th>Tpr_TRINITY_DN10853_c1_g4|Tdu_TRINITY_DN21860_c3_g3</th>\n",
       "      <td>0.015868</td>\n",
       "      <td>9.896010</td>\n",
       "      <td>0.098799</td>\n",
       "      <td>0.923218</td>\n",
       "      <td>0.959452</td>\n",
       "      <td>-7.296158</td>\n",
       "    </tr>\n",
       "  </tbody>\n",
       "</table>\n",
       "</div>"
      ],
      "text/plain": [
       "                                                       logFC    ...            B\n",
       "Tpr_TRINITY_DN11257_c2_g1|Tdu_TRINITY_DN16696_c... -0.053919    ...    -7.095424\n",
       "Tpr_TRINITY_DN10844_c2_g7|Tdu_TRINITY_DN25328_c... -0.498146    ...    -4.727989\n",
       "Tpr_TRINITY_DN15383_c4_g16|Tdu_TRINITY_DN14160_...  0.946122    ...    -3.370146\n",
       "Tpr_TRINITY_DN1451_c0_g1|Tdu_TRINITY_DN16990_c3_g1 -0.602890    ...    -3.756732\n",
       "Tpr_TRINITY_DN10853_c1_g4|Tdu_TRINITY_DN21860_c...  0.015868    ...    -7.296158\n",
       "\n",
       "[5 rows x 6 columns]"
      ]
     },
     "execution_count": 7,
     "metadata": {},
     "output_type": "execute_result"
    }
   ],
   "source": [
    "df_for_Tms.head()"
   ]
  },
  {
   "cell_type": "code",
   "execution_count": 9,
   "metadata": {},
   "outputs": [
    {
     "data": {
      "text/plain": [
       "(8021, 6)"
      ]
     },
     "execution_count": 9,
     "metadata": {},
     "output_type": "execute_result"
    }
   ],
   "source": [
    "df_for_Tms.shape"
   ]
  },
  {
   "cell_type": "code",
   "execution_count": 10,
   "metadata": {},
   "outputs": [],
   "source": [
    "For_Tms_not_sig = df_for_Tms[df_for_Tms[\"adj.P.Val\"] >= 0.05]"
   ]
  },
  {
   "cell_type": "code",
   "execution_count": 11,
   "metadata": {},
   "outputs": [
    {
     "data": {
      "text/html": [
       "<div>\n",
       "<style scoped>\n",
       "    .dataframe tbody tr th:only-of-type {\n",
       "        vertical-align: middle;\n",
       "    }\n",
       "\n",
       "    .dataframe tbody tr th {\n",
       "        vertical-align: top;\n",
       "    }\n",
       "\n",
       "    .dataframe thead th {\n",
       "        text-align: right;\n",
       "    }\n",
       "</style>\n",
       "<table border=\"1\" class=\"dataframe\">\n",
       "  <thead>\n",
       "    <tr style=\"text-align: right;\">\n",
       "      <th></th>\n",
       "      <th>logFC</th>\n",
       "      <th>AveExpr</th>\n",
       "      <th>t</th>\n",
       "      <th>P.Value</th>\n",
       "      <th>adj.P.Val</th>\n",
       "      <th>B</th>\n",
       "    </tr>\n",
       "  </thead>\n",
       "  <tbody>\n",
       "    <tr>\n",
       "      <th>Tpr_TRINITY_DN11257_c2_g1|Tdu_TRINITY_DN16696_c0_g1</th>\n",
       "      <td>-0.053919</td>\n",
       "      <td>6.895379</td>\n",
       "      <td>-0.281253</td>\n",
       "      <td>0.784156</td>\n",
       "      <td>0.886999</td>\n",
       "      <td>-7.095424</td>\n",
       "    </tr>\n",
       "    <tr>\n",
       "      <th>Tpr_TRINITY_DN10844_c2_g7|Tdu_TRINITY_DN25328_c2_g5</th>\n",
       "      <td>-0.498146</td>\n",
       "      <td>7.868020</td>\n",
       "      <td>-2.412156</td>\n",
       "      <td>0.036166</td>\n",
       "      <td>0.145918</td>\n",
       "      <td>-4.727989</td>\n",
       "    </tr>\n",
       "    <tr>\n",
       "      <th>Tpr_TRINITY_DN15383_c4_g16|Tdu_TRINITY_DN14160_c0_g1</th>\n",
       "      <td>0.946122</td>\n",
       "      <td>4.988739</td>\n",
       "      <td>2.952553</td>\n",
       "      <td>0.014224</td>\n",
       "      <td>0.080305</td>\n",
       "      <td>-3.370146</td>\n",
       "    </tr>\n",
       "    <tr>\n",
       "      <th>Tpr_TRINITY_DN1451_c0_g1|Tdu_TRINITY_DN16990_c3_g1</th>\n",
       "      <td>-0.602890</td>\n",
       "      <td>7.031685</td>\n",
       "      <td>-2.933278</td>\n",
       "      <td>0.014705</td>\n",
       "      <td>0.082114</td>\n",
       "      <td>-3.756732</td>\n",
       "    </tr>\n",
       "    <tr>\n",
       "      <th>Tpr_TRINITY_DN10853_c1_g4|Tdu_TRINITY_DN21860_c3_g3</th>\n",
       "      <td>0.015868</td>\n",
       "      <td>9.896010</td>\n",
       "      <td>0.098799</td>\n",
       "      <td>0.923218</td>\n",
       "      <td>0.959452</td>\n",
       "      <td>-7.296158</td>\n",
       "    </tr>\n",
       "  </tbody>\n",
       "</table>\n",
       "</div>"
      ],
      "text/plain": [
       "                                                       logFC    ...            B\n",
       "Tpr_TRINITY_DN11257_c2_g1|Tdu_TRINITY_DN16696_c... -0.053919    ...    -7.095424\n",
       "Tpr_TRINITY_DN10844_c2_g7|Tdu_TRINITY_DN25328_c... -0.498146    ...    -4.727989\n",
       "Tpr_TRINITY_DN15383_c4_g16|Tdu_TRINITY_DN14160_...  0.946122    ...    -3.370146\n",
       "Tpr_TRINITY_DN1451_c0_g1|Tdu_TRINITY_DN16990_c3_g1 -0.602890    ...    -3.756732\n",
       "Tpr_TRINITY_DN10853_c1_g4|Tdu_TRINITY_DN21860_c...  0.015868    ...    -7.296158\n",
       "\n",
       "[5 rows x 6 columns]"
      ]
     },
     "execution_count": 11,
     "metadata": {},
     "output_type": "execute_result"
    }
   ],
   "source": [
    "For_Tms_not_sig.head()"
   ]
  },
  {
   "cell_type": "code",
   "execution_count": 12,
   "metadata": {},
   "outputs": [
    {
     "data": {
      "text/plain": [
       "(6938, 6)"
      ]
     },
     "execution_count": 12,
     "metadata": {},
     "output_type": "execute_result"
    }
   ],
   "source": [
    "For_Tms_not_sig.shape"
   ]
  },
  {
   "cell_type": "code",
   "execution_count": 13,
   "metadata": {},
   "outputs": [],
   "source": [
    "For_Tms_not_sig.to_csv(\"DE_Tdu_Tpr_not_sig_loci.txt\")"
   ]
  },
  {
   "cell_type": "code",
   "execution_count": 14,
   "metadata": {},
   "outputs": [],
   "source": [
    "For_Tms_sig = df_for_Tms[df_for_Tms[\"adj.P.Val\"] < 0.05]"
   ]
  },
  {
   "cell_type": "code",
   "execution_count": 15,
   "metadata": {},
   "outputs": [
    {
     "data": {
      "text/html": [
       "<div>\n",
       "<style scoped>\n",
       "    .dataframe tbody tr th:only-of-type {\n",
       "        vertical-align: middle;\n",
       "    }\n",
       "\n",
       "    .dataframe tbody tr th {\n",
       "        vertical-align: top;\n",
       "    }\n",
       "\n",
       "    .dataframe thead th {\n",
       "        text-align: right;\n",
       "    }\n",
       "</style>\n",
       "<table border=\"1\" class=\"dataframe\">\n",
       "  <thead>\n",
       "    <tr style=\"text-align: right;\">\n",
       "      <th></th>\n",
       "      <th>logFC</th>\n",
       "      <th>AveExpr</th>\n",
       "      <th>t</th>\n",
       "      <th>P.Value</th>\n",
       "      <th>adj.P.Val</th>\n",
       "      <th>B</th>\n",
       "    </tr>\n",
       "  </thead>\n",
       "  <tbody>\n",
       "    <tr>\n",
       "      <th>Tpr_TRINITY_DN14551_c1_g11|Tdu_TRINITY_DN21735_c3_g1</th>\n",
       "      <td>1.608699</td>\n",
       "      <td>5.264280</td>\n",
       "      <td>5.063101</td>\n",
       "      <td>0.000465</td>\n",
       "      <td>0.009633</td>\n",
       "      <td>0.069893</td>\n",
       "    </tr>\n",
       "    <tr>\n",
       "      <th>Tpr_TRINITY_DN11678_c3_g2|Tdu_TRINITY_DN24143_c2_g2</th>\n",
       "      <td>-3.856024</td>\n",
       "      <td>4.549825</td>\n",
       "      <td>-4.747555</td>\n",
       "      <td>0.000747</td>\n",
       "      <td>0.012920</td>\n",
       "      <td>-0.177865</td>\n",
       "    </tr>\n",
       "    <tr>\n",
       "      <th>Tpr_TRINITY_DN13298_c1_g1|Tdu_TRINITY_DN18431_c4_g1</th>\n",
       "      <td>2.038795</td>\n",
       "      <td>5.421352</td>\n",
       "      <td>4.974628</td>\n",
       "      <td>0.000530</td>\n",
       "      <td>0.010554</td>\n",
       "      <td>-0.073649</td>\n",
       "    </tr>\n",
       "    <tr>\n",
       "      <th>Tpr_TRINITY_DN10219_c6_g1|Tdu_TRINITY_DN19995_c0_g1</th>\n",
       "      <td>-1.509561</td>\n",
       "      <td>5.597275</td>\n",
       "      <td>-4.585060</td>\n",
       "      <td>0.000960</td>\n",
       "      <td>0.015454</td>\n",
       "      <td>-0.741504</td>\n",
       "    </tr>\n",
       "    <tr>\n",
       "      <th>Tpr_TRINITY_DN10516_c1_g3|Tdu_TRINITY_DN19561_c1_g1</th>\n",
       "      <td>0.735129</td>\n",
       "      <td>7.838608</td>\n",
       "      <td>4.227463</td>\n",
       "      <td>0.001686</td>\n",
       "      <td>0.021202</td>\n",
       "      <td>-1.617311</td>\n",
       "    </tr>\n",
       "  </tbody>\n",
       "</table>\n",
       "</div>"
      ],
      "text/plain": [
       "                                                       logFC    ...            B\n",
       "Tpr_TRINITY_DN14551_c1_g11|Tdu_TRINITY_DN21735_...  1.608699    ...     0.069893\n",
       "Tpr_TRINITY_DN11678_c3_g2|Tdu_TRINITY_DN24143_c... -3.856024    ...    -0.177865\n",
       "Tpr_TRINITY_DN13298_c1_g1|Tdu_TRINITY_DN18431_c...  2.038795    ...    -0.073649\n",
       "Tpr_TRINITY_DN10219_c6_g1|Tdu_TRINITY_DN19995_c... -1.509561    ...    -0.741504\n",
       "Tpr_TRINITY_DN10516_c1_g3|Tdu_TRINITY_DN19561_c...  0.735129    ...    -1.617311\n",
       "\n",
       "[5 rows x 6 columns]"
      ]
     },
     "execution_count": 15,
     "metadata": {},
     "output_type": "execute_result"
    }
   ],
   "source": [
    "For_Tms_sig.head()"
   ]
  },
  {
   "cell_type": "code",
   "execution_count": 16,
   "metadata": {},
   "outputs": [
    {
     "data": {
      "text/plain": [
       "(1083, 6)"
      ]
     },
     "execution_count": 16,
     "metadata": {},
     "output_type": "execute_result"
    }
   ],
   "source": [
    "For_Tms_sig.shape"
   ]
  },
  {
   "cell_type": "code",
   "execution_count": 17,
   "metadata": {},
   "outputs": [],
   "source": [
    "For_Tms_sig.to_csv(\"DE_Tdu_Tpr_sig_loci.txt\")"
   ]
  },
  {
   "cell_type": "markdown",
   "metadata": {},
   "source": [
    "## For Tdu_Tpr_for_Tms, 6,938 loci are not signigicantly expressed between Tdu and Tpr; 1,083 loci showed differential expression between Tdu and Tpr"
   ]
  },
  {
   "cell_type": "markdown",
   "metadata": {},
   "source": [
    "# Second, let's work on DE_Tdu_Tpr for long-liguled T. miscellus (Tml)"
   ]
  },
  {
   "cell_type": "code",
   "execution_count": 18,
   "metadata": {},
   "outputs": [],
   "source": [
    "os.chdir(\"/ufrc/soltis/shan158538/TragFL_NewAnalysis/OutPut/DE_analysis/Tdu_Tpr_voom_Tml/\")"
   ]
  },
  {
   "cell_type": "code",
   "execution_count": 19,
   "metadata": {},
   "outputs": [],
   "source": [
    "df_for_Tml = pd.read_table(\"DE_Tdu_Tpr_min10_3rep.txt\")"
   ]
  },
  {
   "cell_type": "code",
   "execution_count": 20,
   "metadata": {},
   "outputs": [
    {
     "data": {
      "text/plain": [
       "(8248, 6)"
      ]
     },
     "execution_count": 20,
     "metadata": {},
     "output_type": "execute_result"
    }
   ],
   "source": [
    "df_for_Tml.shape"
   ]
  },
  {
   "cell_type": "code",
   "execution_count": 21,
   "metadata": {},
   "outputs": [],
   "source": [
    "For_Tml_not_sig = df_for_Tml[df_for_Tml[\"adj.P.Val\"] >= 0.05]"
   ]
  },
  {
   "cell_type": "code",
   "execution_count": 22,
   "metadata": {},
   "outputs": [
    {
     "data": {
      "text/plain": [
       "(6886, 6)"
      ]
     },
     "execution_count": 22,
     "metadata": {},
     "output_type": "execute_result"
    }
   ],
   "source": [
    "For_Tml_not_sig.shape"
   ]
  },
  {
   "cell_type": "code",
   "execution_count": 23,
   "metadata": {},
   "outputs": [],
   "source": [
    "For_Tml_not_sig.to_csv(\"DE_Tdu_Tpr_not_sig_loci.txt\")"
   ]
  },
  {
   "cell_type": "code",
   "execution_count": 24,
   "metadata": {},
   "outputs": [],
   "source": [
    "For_Tml_sig = df_for_Tml[df_for_Tml[\"adj.P.Val\"] < 0.05]"
   ]
  },
  {
   "cell_type": "code",
   "execution_count": 25,
   "metadata": {},
   "outputs": [
    {
     "data": {
      "text/plain": [
       "(1362, 6)"
      ]
     },
     "execution_count": 25,
     "metadata": {},
     "output_type": "execute_result"
    }
   ],
   "source": [
    "For_Tml_sig.shape"
   ]
  },
  {
   "cell_type": "code",
   "execution_count": 26,
   "metadata": {},
   "outputs": [],
   "source": [
    "For_Tml_sig.to_csv(\"DE_Tdu_Tpr_sig_loci.txt\")"
   ]
  },
  {
   "cell_type": "markdown",
   "metadata": {},
   "source": [
    "## For Tdu_Tpr_for_Tml, 6,886 loci are not signigicantly expressed between Tdu and Tpr; 1,362 loci showed differential expression between Tdu and Tpr"
   ]
  },
  {
   "cell_type": "code",
   "execution_count": null,
   "metadata": {},
   "outputs": [],
   "source": []
  }
 ],
 "metadata": {
  "kernelspec": {
   "display_name": "Python 3.6. (full)",
   "language": "python",
   "name": "python3-3.6-ufrc"
  },
  "language_info": {
   "codemirror_mode": {
    "name": "ipython",
    "version": 3
   },
   "file_extension": ".py",
   "mimetype": "text/x-python",
   "name": "python",
   "nbconvert_exporter": "python",
   "pygments_lexer": "ipython3",
   "version": "3.6.5"
  }
 },
 "nbformat": 4,
 "nbformat_minor": 4
}
