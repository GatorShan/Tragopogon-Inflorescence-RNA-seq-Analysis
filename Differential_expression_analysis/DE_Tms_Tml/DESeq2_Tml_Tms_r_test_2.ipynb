{
 "cells": [
  {
   "cell_type": "code",
   "execution_count": 1,
   "metadata": {},
   "outputs": [
    {
     "name": "stderr",
     "output_type": "stream",
     "text": [
      "Loading required package: S4Vectors\n",
      "\n",
      "Loading required package: stats4\n",
      "\n",
      "Loading required package: BiocGenerics\n",
      "\n",
      "Loading required package: parallel\n",
      "\n",
      "\n",
      "Attaching package: ‘BiocGenerics’\n",
      "\n",
      "\n",
      "The following objects are masked from ‘package:parallel’:\n",
      "\n",
      "    clusterApply, clusterApplyLB, clusterCall, clusterEvalQ,\n",
      "    clusterExport, clusterMap, parApply, parCapply, parLapply,\n",
      "    parLapplyLB, parRapply, parSapply, parSapplyLB\n",
      "\n",
      "\n",
      "The following objects are masked from ‘package:stats’:\n",
      "\n",
      "    IQR, mad, sd, var, xtabs\n",
      "\n",
      "\n",
      "The following objects are masked from ‘package:base’:\n",
      "\n",
      "    anyDuplicated, append, as.data.frame, basename, cbind, colnames,\n",
      "    dirname, do.call, duplicated, eval, evalq, Filter, Find, get, grep,\n",
      "    grepl, intersect, is.unsorted, lapply, Map, mapply, match, mget,\n",
      "    order, paste, pmax, pmax.int, pmin, pmin.int, Position, rank,\n",
      "    rbind, Reduce, rownames, sapply, setdiff, sort, table, tapply,\n",
      "    union, unique, unsplit, which, which.max, which.min\n",
      "\n",
      "\n",
      "\n",
      "Attaching package: ‘S4Vectors’\n",
      "\n",
      "\n",
      "The following object is masked from ‘package:base’:\n",
      "\n",
      "    expand.grid\n",
      "\n",
      "\n",
      "Loading required package: IRanges\n",
      "\n",
      "Loading required package: GenomicRanges\n",
      "\n",
      "Loading required package: GenomeInfoDb\n",
      "\n",
      "Loading required package: SummarizedExperiment\n",
      "\n",
      "Loading required package: Biobase\n",
      "\n",
      "Welcome to Bioconductor\n",
      "\n",
      "    Vignettes contain introductory material; view with\n",
      "    'browseVignettes()'. To cite Bioconductor, see\n",
      "    'citation(\"Biobase\")', and for packages 'citation(\"pkgname\")'.\n",
      "\n",
      "\n",
      "Loading required package: DelayedArray\n",
      "\n",
      "Loading required package: matrixStats\n",
      "\n",
      "\n",
      "Attaching package: ‘matrixStats’\n",
      "\n",
      "\n",
      "The following objects are masked from ‘package:Biobase’:\n",
      "\n",
      "    anyMissing, rowMedians\n",
      "\n",
      "\n",
      "Loading required package: BiocParallel\n",
      "\n",
      "\n",
      "Attaching package: ‘DelayedArray’\n",
      "\n",
      "\n",
      "The following objects are masked from ‘package:matrixStats’:\n",
      "\n",
      "    colMaxs, colMins, colRanges, rowMaxs, rowMins, rowRanges\n",
      "\n",
      "\n",
      "The following objects are masked from ‘package:base’:\n",
      "\n",
      "    aperm, apply, rowsum\n",
      "\n",
      "\n"
     ]
    }
   ],
   "source": [
    "library(\"DESeq2\")"
   ]
  },
  {
   "cell_type": "code",
   "execution_count": 2,
   "metadata": {},
   "outputs": [],
   "source": [
    "setwd('/ufrc/soltis/shan158538/TragFL_NewAnalysis/OutPut/DE_analysis/DE_Tms_Tml')"
   ]
  },
  {
   "cell_type": "code",
   "execution_count": 3,
   "metadata": {},
   "outputs": [],
   "source": [
    "cts <- read.csv(\"DESeq2_count_matrix_Tml_Tms.csv\", row.name = \"FUSION_ID\")"
   ]
  },
  {
   "cell_type": "code",
   "execution_count": 4,
   "metadata": {},
   "outputs": [
    {
     "data": {
      "text/html": [
       "<table>\n",
       "<caption>A data.frame: 6 × 6</caption>\n",
       "<thead>\n",
       "\t<tr><th></th><th scope=col>Tml_1</th><th scope=col>Tml_2</th><th scope=col>Tml_3</th><th scope=col>Tms_1</th><th scope=col>Tms_2</th><th scope=col>Tms_3</th></tr>\n",
       "\t<tr><th></th><th scope=col>&lt;int&gt;</th><th scope=col>&lt;int&gt;</th><th scope=col>&lt;int&gt;</th><th scope=col>&lt;int&gt;</th><th scope=col>&lt;int&gt;</th><th scope=col>&lt;int&gt;</th></tr>\n",
       "</thead>\n",
       "<tbody>\n",
       "\t<tr><th scope=row>Tpr_TRINITY_DN11257_c2_g1|Tdu_TRINITY_DN16696_c0_g1</th><td> 71</td><td> 58</td><td> 79</td><td> 63</td><td> 65</td><td> 63</td></tr>\n",
       "\t<tr><th scope=row>Tpr_TRINITY_DN10844_c2_g7|Tdu_TRINITY_DN25328_c2_g5</th><td>135</td><td>137</td><td>111</td><td>130</td><td>154</td><td>195</td></tr>\n",
       "\t<tr><th scope=row>Tpr_TRINITY_DN15383_c4_g16|Tdu_TRINITY_DN14160_c0_g1</th><td> 26</td><td> 20</td><td>  9</td><td> 11</td><td> 30</td><td> 21</td></tr>\n",
       "\t<tr><th scope=row>Tpr_TRINITY_DN1451_c0_g1|Tdu_TRINITY_DN16990_c3_g1</th><td> 71</td><td> 38</td><td> 47</td><td> 32</td><td> 43</td><td> 76</td></tr>\n",
       "\t<tr><th scope=row>Tpr_TRINITY_DN10853_c1_g4|Tdu_TRINITY_DN21860_c3_g3</th><td>437</td><td>337</td><td>388</td><td>362</td><td>405</td><td>497</td></tr>\n",
       "\t<tr><th scope=row>Tpr_TRINITY_DN12798_c2_g2|Tdu_TRINITY_DN24179_c2_g3</th><td>  7</td><td> 49</td><td> 58</td><td> 84</td><td> 40</td><td> 93</td></tr>\n",
       "</tbody>\n",
       "</table>\n"
      ],
      "text/latex": [
       "A data.frame: 6 × 6\n",
       "\\begin{tabular}{r|llllll}\n",
       "  & Tml\\_1 & Tml\\_2 & Tml\\_3 & Tms\\_1 & Tms\\_2 & Tms\\_3\\\\\n",
       "  & <int> & <int> & <int> & <int> & <int> & <int>\\\\\n",
       "\\hline\n",
       "\tTpr\\_TRINITY\\_DN11257\\_c2\\_g1\\textbar{}Tdu\\_TRINITY\\_DN16696\\_c0\\_g1 &  71 &  58 &  79 &  63 &  65 &  63\\\\\n",
       "\tTpr\\_TRINITY\\_DN10844\\_c2\\_g7\\textbar{}Tdu\\_TRINITY\\_DN25328\\_c2\\_g5 & 135 & 137 & 111 & 130 & 154 & 195\\\\\n",
       "\tTpr\\_TRINITY\\_DN15383\\_c4\\_g16\\textbar{}Tdu\\_TRINITY\\_DN14160\\_c0\\_g1 &  26 &  20 &   9 &  11 &  30 &  21\\\\\n",
       "\tTpr\\_TRINITY\\_DN1451\\_c0\\_g1\\textbar{}Tdu\\_TRINITY\\_DN16990\\_c3\\_g1 &  71 &  38 &  47 &  32 &  43 &  76\\\\\n",
       "\tTpr\\_TRINITY\\_DN10853\\_c1\\_g4\\textbar{}Tdu\\_TRINITY\\_DN21860\\_c3\\_g3 & 437 & 337 & 388 & 362 & 405 & 497\\\\\n",
       "\tTpr\\_TRINITY\\_DN12798\\_c2\\_g2\\textbar{}Tdu\\_TRINITY\\_DN24179\\_c2\\_g3 &   7 &  49 &  58 &  84 &  40 &  93\\\\\n",
       "\\end{tabular}\n"
      ],
      "text/markdown": [
       "\n",
       "A data.frame: 6 × 6\n",
       "\n",
       "| <!--/--> | Tml_1 &lt;int&gt; | Tml_2 &lt;int&gt; | Tml_3 &lt;int&gt; | Tms_1 &lt;int&gt; | Tms_2 &lt;int&gt; | Tms_3 &lt;int&gt; |\n",
       "|---|---|---|---|---|---|---|\n",
       "| Tpr_TRINITY_DN11257_c2_g1|Tdu_TRINITY_DN16696_c0_g1 |  71 |  58 |  79 |  63 |  65 |  63 |\n",
       "| Tpr_TRINITY_DN10844_c2_g7|Tdu_TRINITY_DN25328_c2_g5 | 135 | 137 | 111 | 130 | 154 | 195 |\n",
       "| Tpr_TRINITY_DN15383_c4_g16|Tdu_TRINITY_DN14160_c0_g1 |  26 |  20 |   9 |  11 |  30 |  21 |\n",
       "| Tpr_TRINITY_DN1451_c0_g1|Tdu_TRINITY_DN16990_c3_g1 |  71 |  38 |  47 |  32 |  43 |  76 |\n",
       "| Tpr_TRINITY_DN10853_c1_g4|Tdu_TRINITY_DN21860_c3_g3 | 437 | 337 | 388 | 362 | 405 | 497 |\n",
       "| Tpr_TRINITY_DN12798_c2_g2|Tdu_TRINITY_DN24179_c2_g3 |   7 |  49 |  58 |  84 |  40 |  93 |\n",
       "\n"
      ],
      "text/plain": [
       "                                                     Tml_1 Tml_2 Tml_3 Tms_1\n",
       "Tpr_TRINITY_DN11257_c2_g1|Tdu_TRINITY_DN16696_c0_g1   71    58    79    63  \n",
       "Tpr_TRINITY_DN10844_c2_g7|Tdu_TRINITY_DN25328_c2_g5  135   137   111   130  \n",
       "Tpr_TRINITY_DN15383_c4_g16|Tdu_TRINITY_DN14160_c0_g1  26    20     9    11  \n",
       "Tpr_TRINITY_DN1451_c0_g1|Tdu_TRINITY_DN16990_c3_g1    71    38    47    32  \n",
       "Tpr_TRINITY_DN10853_c1_g4|Tdu_TRINITY_DN21860_c3_g3  437   337   388   362  \n",
       "Tpr_TRINITY_DN12798_c2_g2|Tdu_TRINITY_DN24179_c2_g3    7    49    58    84  \n",
       "                                                     Tms_2 Tms_3\n",
       "Tpr_TRINITY_DN11257_c2_g1|Tdu_TRINITY_DN16696_c0_g1   65    63  \n",
       "Tpr_TRINITY_DN10844_c2_g7|Tdu_TRINITY_DN25328_c2_g5  154   195  \n",
       "Tpr_TRINITY_DN15383_c4_g16|Tdu_TRINITY_DN14160_c0_g1  30    21  \n",
       "Tpr_TRINITY_DN1451_c0_g1|Tdu_TRINITY_DN16990_c3_g1    43    76  \n",
       "Tpr_TRINITY_DN10853_c1_g4|Tdu_TRINITY_DN21860_c3_g3  405   497  \n",
       "Tpr_TRINITY_DN12798_c2_g2|Tdu_TRINITY_DN24179_c2_g3   40    93  "
      ]
     },
     "metadata": {},
     "output_type": "display_data"
    }
   ],
   "source": [
    "head(cts)"
   ]
  },
  {
   "cell_type": "code",
   "execution_count": 5,
   "metadata": {},
   "outputs": [],
   "source": [
    "coldata <- read.csv(\"DESeq2_Tml_Tms_sample_annotation.tsv\", sep = \"\\t\", row.names=\"sample\")"
   ]
  },
  {
   "cell_type": "code",
   "execution_count": 6,
   "metadata": {},
   "outputs": [
    {
     "data": {
      "text/html": [
       "<table>\n",
       "<caption>A data.frame: 6 × 1</caption>\n",
       "<thead>\n",
       "\t<tr><th></th><th scope=col>species</th></tr>\n",
       "\t<tr><th></th><th scope=col>&lt;fct&gt;</th></tr>\n",
       "</thead>\n",
       "<tbody>\n",
       "\t<tr><th scope=row>Tml_1</th><td>Tml</td></tr>\n",
       "\t<tr><th scope=row>Tml_2</th><td>Tml</td></tr>\n",
       "\t<tr><th scope=row>Tml_3</th><td>Tml</td></tr>\n",
       "\t<tr><th scope=row>Tms_1</th><td>Tms</td></tr>\n",
       "\t<tr><th scope=row>Tms_2</th><td>Tms</td></tr>\n",
       "\t<tr><th scope=row>Tms_3</th><td>Tms</td></tr>\n",
       "</tbody>\n",
       "</table>\n"
      ],
      "text/latex": [
       "A data.frame: 6 × 1\n",
       "\\begin{tabular}{r|l}\n",
       "  & species\\\\\n",
       "  & <fct>\\\\\n",
       "\\hline\n",
       "\tTml\\_1 & Tml\\\\\n",
       "\tTml\\_2 & Tml\\\\\n",
       "\tTml\\_3 & Tml\\\\\n",
       "\tTms\\_1 & Tms\\\\\n",
       "\tTms\\_2 & Tms\\\\\n",
       "\tTms\\_3 & Tms\\\\\n",
       "\\end{tabular}\n"
      ],
      "text/markdown": [
       "\n",
       "A data.frame: 6 × 1\n",
       "\n",
       "| <!--/--> | species &lt;fct&gt; |\n",
       "|---|---|\n",
       "| Tml_1 | Tml |\n",
       "| Tml_2 | Tml |\n",
       "| Tml_3 | Tml |\n",
       "| Tms_1 | Tms |\n",
       "| Tms_2 | Tms |\n",
       "| Tms_3 | Tms |\n",
       "\n"
      ],
      "text/plain": [
       "      species\n",
       "Tml_1 Tml    \n",
       "Tml_2 Tml    \n",
       "Tml_3 Tml    \n",
       "Tms_1 Tms    \n",
       "Tms_2 Tms    \n",
       "Tms_3 Tms    "
      ]
     },
     "metadata": {},
     "output_type": "display_data"
    }
   ],
   "source": [
    "coldata"
   ]
  },
  {
   "cell_type": "code",
   "execution_count": 7,
   "metadata": {},
   "outputs": [
    {
     "data": {
      "text/html": [
       "TRUE"
      ],
      "text/latex": [
       "TRUE"
      ],
      "text/markdown": [
       "TRUE"
      ],
      "text/plain": [
       "[1] TRUE"
      ]
     },
     "metadata": {},
     "output_type": "display_data"
    }
   ],
   "source": [
    "all(rownames(coldata) == colnames(cts))"
   ]
  },
  {
   "cell_type": "code",
   "execution_count": 8,
   "metadata": {},
   "outputs": [],
   "source": [
    "dds <- DESeqDataSetFromMatrix(countData = cts, colData = coldata, design = ~ species)"
   ]
  },
  {
   "cell_type": "code",
   "execution_count": 9,
   "metadata": {},
   "outputs": [
    {
     "data": {
      "text/plain": [
       "class: DESeqDataSet \n",
       "dim: 11864 6 \n",
       "metadata(1): version\n",
       "assays(1): counts\n",
       "rownames(11864): Tpr_TRINITY_DN11257_c2_g1|Tdu_TRINITY_DN16696_c0_g1\n",
       "  Tpr_TRINITY_DN10844_c2_g7|Tdu_TRINITY_DN25328_c2_g5 ...\n",
       "  Tpr_TRINITY_DN13433_c0_g3|Tdu_TRINITY_DN18599_c0_g3\n",
       "  Tpr_TRINITY_DN13123_c0_g1|Tdu_TRINITY_DN19979_c3_g2\n",
       "rowData names(0):\n",
       "colnames(6): Tml_1 Tml_2 ... Tms_2 Tms_3\n",
       "colData names(1): species"
      ]
     },
     "metadata": {},
     "output_type": "display_data"
    }
   ],
   "source": [
    "dds"
   ]
  },
  {
   "cell_type": "markdown",
   "metadata": {},
   "source": [
    "# Pre-filtering\n",
    "## keep only rows that have at least 10 reads total"
   ]
  },
  {
   "cell_type": "code",
   "execution_count": 10,
   "metadata": {},
   "outputs": [],
   "source": [
    "keep <- rowSums(counts(dds)) >= 10"
   ]
  },
  {
   "cell_type": "code",
   "execution_count": 11,
   "metadata": {},
   "outputs": [],
   "source": [
    "dds <- dds[keep,]"
   ]
  },
  {
   "cell_type": "code",
   "execution_count": 12,
   "metadata": {},
   "outputs": [
    {
     "data": {
      "text/plain": [
       "class: DESeqDataSet \n",
       "dim: 9868 6 \n",
       "metadata(1): version\n",
       "assays(1): counts\n",
       "rownames(9868): Tpr_TRINITY_DN11257_c2_g1|Tdu_TRINITY_DN16696_c0_g1\n",
       "  Tpr_TRINITY_DN10844_c2_g7|Tdu_TRINITY_DN25328_c2_g5 ...\n",
       "  Tpr_TRINITY_DN14278_c2_g13|Tdu_TRINITY_DN22920_c2_g6\n",
       "  Tpr_TRINITY_DN13123_c0_g1|Tdu_TRINITY_DN19979_c3_g2\n",
       "rowData names(0):\n",
       "colnames(6): Tml_1 Tml_2 ... Tms_2 Tms_3\n",
       "colData names(1): species"
      ]
     },
     "metadata": {},
     "output_type": "display_data"
    }
   ],
   "source": [
    "dds"
   ]
  },
  {
   "cell_type": "markdown",
   "metadata": {},
   "source": [
    "# Data transformation and visualization"
   ]
  },
  {
   "cell_type": "code",
   "execution_count": 13,
   "metadata": {},
   "outputs": [],
   "source": [
    "#vsd <- vst(dds, blind=FALSE)\n",
    "rld <- rlog(dds, blind=TRUE)"
   ]
  },
  {
   "cell_type": "code",
   "execution_count": 14,
   "metadata": {},
   "outputs": [
    {
     "data": {
      "text/html": [
       "<table>\n",
       "<caption>A matrix: 3 × 6 of type dbl</caption>\n",
       "<thead>\n",
       "\t<tr><th></th><th scope=col>Tml_1</th><th scope=col>Tml_2</th><th scope=col>Tml_3</th><th scope=col>Tms_1</th><th scope=col>Tms_2</th><th scope=col>Tms_3</th></tr>\n",
       "</thead>\n",
       "<tbody>\n",
       "\t<tr><th scope=row>Tpr_TRINITY_DN11257_c2_g1|Tdu_TRINITY_DN16696_c0_g1</th><td>6.360293</td><td>5.951013</td><td>6.222257</td><td>5.920675</td><td>6.049777</td><td>5.621061</td></tr>\n",
       "\t<tr><th scope=row>Tpr_TRINITY_DN10844_c2_g7|Tdu_TRINITY_DN25328_c2_g5</th><td>7.356449</td><td>7.135809</td><td>6.928914</td><td>6.976555</td><td>7.244641</td><td>7.031699</td></tr>\n",
       "\t<tr><th scope=row>Tpr_TRINITY_DN15383_c4_g16|Tdu_TRINITY_DN14160_c0_g1</th><td>4.676636</td><td>4.278591</td><td>3.759319</td><td>3.806120</td><td>4.596180</td><td>3.983442</td></tr>\n",
       "</tbody>\n",
       "</table>\n"
      ],
      "text/latex": [
       "A matrix: 3 × 6 of type dbl\n",
       "\\begin{tabular}{r|llllll}\n",
       "  & Tml\\_1 & Tml\\_2 & Tml\\_3 & Tms\\_1 & Tms\\_2 & Tms\\_3\\\\\n",
       "\\hline\n",
       "\tTpr\\_TRINITY\\_DN11257\\_c2\\_g1\\textbar{}Tdu\\_TRINITY\\_DN16696\\_c0\\_g1 & 6.360293 & 5.951013 & 6.222257 & 5.920675 & 6.049777 & 5.621061\\\\\n",
       "\tTpr\\_TRINITY\\_DN10844\\_c2\\_g7\\textbar{}Tdu\\_TRINITY\\_DN25328\\_c2\\_g5 & 7.356449 & 7.135809 & 6.928914 & 6.976555 & 7.244641 & 7.031699\\\\\n",
       "\tTpr\\_TRINITY\\_DN15383\\_c4\\_g16\\textbar{}Tdu\\_TRINITY\\_DN14160\\_c0\\_g1 & 4.676636 & 4.278591 & 3.759319 & 3.806120 & 4.596180 & 3.983442\\\\\n",
       "\\end{tabular}\n"
      ],
      "text/markdown": [
       "\n",
       "A matrix: 3 × 6 of type dbl\n",
       "\n",
       "| <!--/--> | Tml_1 | Tml_2 | Tml_3 | Tms_1 | Tms_2 | Tms_3 |\n",
       "|---|---|---|---|---|---|---|\n",
       "| Tpr_TRINITY_DN11257_c2_g1|Tdu_TRINITY_DN16696_c0_g1 | 6.360293 | 5.951013 | 6.222257 | 5.920675 | 6.049777 | 5.621061 |\n",
       "| Tpr_TRINITY_DN10844_c2_g7|Tdu_TRINITY_DN25328_c2_g5 | 7.356449 | 7.135809 | 6.928914 | 6.976555 | 7.244641 | 7.031699 |\n",
       "| Tpr_TRINITY_DN15383_c4_g16|Tdu_TRINITY_DN14160_c0_g1 | 4.676636 | 4.278591 | 3.759319 | 3.806120 | 4.596180 | 3.983442 |\n",
       "\n"
      ],
      "text/plain": [
       "                                                     Tml_1    Tml_2    Tml_3   \n",
       "Tpr_TRINITY_DN11257_c2_g1|Tdu_TRINITY_DN16696_c0_g1  6.360293 5.951013 6.222257\n",
       "Tpr_TRINITY_DN10844_c2_g7|Tdu_TRINITY_DN25328_c2_g5  7.356449 7.135809 6.928914\n",
       "Tpr_TRINITY_DN15383_c4_g16|Tdu_TRINITY_DN14160_c0_g1 4.676636 4.278591 3.759319\n",
       "                                                     Tms_1    Tms_2    Tms_3   \n",
       "Tpr_TRINITY_DN11257_c2_g1|Tdu_TRINITY_DN16696_c0_g1  5.920675 6.049777 5.621061\n",
       "Tpr_TRINITY_DN10844_c2_g7|Tdu_TRINITY_DN25328_c2_g5  6.976555 7.244641 7.031699\n",
       "Tpr_TRINITY_DN15383_c4_g16|Tdu_TRINITY_DN14160_c0_g1 3.806120 4.596180 3.983442"
      ]
     },
     "metadata": {},
     "output_type": "display_data"
    }
   ],
   "source": [
    "#head(assay(vsd),3)\n",
    "head(assay(rld),3)"
   ]
  },
  {
   "cell_type": "code",
   "execution_count": 23,
   "metadata": {},
   "outputs": [
    {
     "data": {
      "image/png": "[encoded data removed]",
      "text/plain": [
       "plot without title"
      ]
     },
     "metadata": {
      "image/png": {
       "height": 420,
       "width": 420
      },
      "text/plain": {
       "height": 420,
       "width": 420
      }
     },
     "output_type": "display_data"
    }
   ],
   "source": [
    "library(ggplot2)\n",
    "plotPCA(rld, intgroup=c(\"species\"), ntop=1000) + geom_text(aes(label=name),vjust=2)"
   ]
  },
  {
   "cell_type": "code",
   "execution_count": 16,
   "metadata": {},
   "outputs": [
    {
     "data": {
      "text/html": [
       "<table>\n",
       "<caption>A matrix: 6 × 6 of type dbl</caption>\n",
       "<thead>\n",
       "\t<tr><th></th><th scope=col>Tml_1</th><th scope=col>Tml_2</th><th scope=col>Tml_3</th><th scope=col>Tms_1</th><th scope=col>Tms_2</th><th scope=col>Tms_3</th></tr>\n",
       "</thead>\n",
       "<tbody>\n",
       "\t<tr><th scope=row>Tml_1</th><td>1.0000000</td><td>0.9455369</td><td>0.9484231</td><td>0.9516409</td><td>0.9642986</td><td>0.9492368</td></tr>\n",
       "\t<tr><th scope=row>Tml_2</th><td>0.9455369</td><td>1.0000000</td><td>0.9715320</td><td>0.9705737</td><td>0.9634603</td><td>0.9680641</td></tr>\n",
       "\t<tr><th scope=row>Tml_3</th><td>0.9484231</td><td>0.9715320</td><td>1.0000000</td><td>0.9877275</td><td>0.9708258</td><td>0.9831088</td></tr>\n",
       "\t<tr><th scope=row>Tms_1</th><td>0.9516409</td><td>0.9705737</td><td>0.9877275</td><td>1.0000000</td><td>0.9801899</td><td>0.9847805</td></tr>\n",
       "\t<tr><th scope=row>Tms_2</th><td>0.9642986</td><td>0.9634603</td><td>0.9708258</td><td>0.9801899</td><td>1.0000000</td><td>0.9736946</td></tr>\n",
       "\t<tr><th scope=row>Tms_3</th><td>0.9492368</td><td>0.9680641</td><td>0.9831088</td><td>0.9847805</td><td>0.9736946</td><td>1.0000000</td></tr>\n",
       "</tbody>\n",
       "</table>\n"
      ],
      "text/latex": [
       "A matrix: 6 × 6 of type dbl\n",
       "\\begin{tabular}{r|llllll}\n",
       "  & Tml\\_1 & Tml\\_2 & Tml\\_3 & Tms\\_1 & Tms\\_2 & Tms\\_3\\\\\n",
       "\\hline\n",
       "\tTml\\_1 & 1.0000000 & 0.9455369 & 0.9484231 & 0.9516409 & 0.9642986 & 0.9492368\\\\\n",
       "\tTml\\_2 & 0.9455369 & 1.0000000 & 0.9715320 & 0.9705737 & 0.9634603 & 0.9680641\\\\\n",
       "\tTml\\_3 & 0.9484231 & 0.9715320 & 1.0000000 & 0.9877275 & 0.9708258 & 0.9831088\\\\\n",
       "\tTms\\_1 & 0.9516409 & 0.9705737 & 0.9877275 & 1.0000000 & 0.9801899 & 0.9847805\\\\\n",
       "\tTms\\_2 & 0.9642986 & 0.9634603 & 0.9708258 & 0.9801899 & 1.0000000 & 0.9736946\\\\\n",
       "\tTms\\_3 & 0.9492368 & 0.9680641 & 0.9831088 & 0.9847805 & 0.9736946 & 1.0000000\\\\\n",
       "\\end{tabular}\n"
      ],
      "text/markdown": [
       "\n",
       "A matrix: 6 × 6 of type dbl\n",
       "\n",
       "| <!--/--> | Tml_1 | Tml_2 | Tml_3 | Tms_1 | Tms_2 | Tms_3 |\n",
       "|---|---|---|---|---|---|---|\n",
       "| Tml_1 | 1.0000000 | 0.9455369 | 0.9484231 | 0.9516409 | 0.9642986 | 0.9492368 |\n",
       "| Tml_2 | 0.9455369 | 1.0000000 | 0.9715320 | 0.9705737 | 0.9634603 | 0.9680641 |\n",
       "| Tml_3 | 0.9484231 | 0.9715320 | 1.0000000 | 0.9877275 | 0.9708258 | 0.9831088 |\n",
       "| Tms_1 | 0.9516409 | 0.9705737 | 0.9877275 | 1.0000000 | 0.9801899 | 0.9847805 |\n",
       "| Tms_2 | 0.9642986 | 0.9634603 | 0.9708258 | 0.9801899 | 1.0000000 | 0.9736946 |\n",
       "| Tms_3 | 0.9492368 | 0.9680641 | 0.9831088 | 0.9847805 | 0.9736946 | 1.0000000 |\n",
       "\n"
      ],
      "text/plain": [
       "      Tml_1     Tml_2     Tml_3     Tms_1     Tms_2     Tms_3    \n",
       "Tml_1 1.0000000 0.9455369 0.9484231 0.9516409 0.9642986 0.9492368\n",
       "Tml_2 0.9455369 1.0000000 0.9715320 0.9705737 0.9634603 0.9680641\n",
       "Tml_3 0.9484231 0.9715320 1.0000000 0.9877275 0.9708258 0.9831088\n",
       "Tms_1 0.9516409 0.9705737 0.9877275 1.0000000 0.9801899 0.9847805\n",
       "Tms_2 0.9642986 0.9634603 0.9708258 0.9801899 1.0000000 0.9736946\n",
       "Tms_3 0.9492368 0.9680641 0.9831088 0.9847805 0.9736946 1.0000000"
      ]
     },
     "metadata": {},
     "output_type": "display_data"
    }
   ],
   "source": [
    "rld_mat <- assay(rld)\n",
    "rld_cor <- cor(rld_mat)\n",
    "head(rld_cor)"
   ]
  },
  {
   "cell_type": "code",
   "execution_count": 17,
   "metadata": {},
   "outputs": [
    {
     "data": {
      "image/png": "[encoded data removed]",
      "text/plain": [
       "plot without title"
      ]
     },
     "metadata": {
      "image/png": {
       "height": 420,
       "width": 420
      },
      "text/plain": {
       "height": 420,
       "width": 420
      }
     },
     "output_type": "display_data"
    }
   ],
   "source": [
    "library(\"pheatmap\")\n",
    "pheatmap(rld_cor)"
   ]
  }
 ],
 "metadata": {
  "kernelspec": {
   "display_name": "R 3.6 (full)",
   "language": "R",
   "name": "ir-ufrc-3.6"
  },
  "language_info": {
   "codemirror_mode": "r",
   "file_extension": ".r",
   "mimetype": "text/x-r-source",
   "name": "R",
   "pygments_lexer": "r",
   "version": "3.6.1"
  }
 },
 "nbformat": 4,
 "nbformat_minor": 4
}
