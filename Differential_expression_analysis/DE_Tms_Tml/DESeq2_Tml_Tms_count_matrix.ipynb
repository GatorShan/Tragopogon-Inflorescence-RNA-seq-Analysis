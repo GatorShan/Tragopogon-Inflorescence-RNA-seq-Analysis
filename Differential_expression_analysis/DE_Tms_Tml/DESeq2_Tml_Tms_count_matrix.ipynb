{
 "cells": [
  {
   "cell_type": "code",
   "execution_count": 4,
   "metadata": {},
   "outputs": [],
   "source": [
    "import pandas as pd\n",
    "import os\n",
    "import glob"
   ]
  },
  {
   "cell_type": "code",
   "execution_count": 5,
   "metadata": {},
   "outputs": [],
   "source": [
    "os.chdir(\"/ufrc/soltis/shan158538/TragFL_NewAnalysis/OutPut/DE_analysis/DE_Tms_Tml/\")"
   ]
  },
  {
   "cell_type": "code",
   "execution_count": 6,
   "metadata": {},
   "outputs": [],
   "source": [
    "FileList = glob.glob(\"*_tdu_tpr.csv\")"
   ]
  },
  {
   "cell_type": "code",
   "execution_count": 11,
   "metadata": {},
   "outputs": [],
   "source": [
    "FileList = sorted(FileList)"
   ]
  },
  {
   "cell_type": "code",
   "execution_count": 12,
   "metadata": {},
   "outputs": [
    {
     "data": {
      "text/plain": [
       "['both_counts_new_Tml_1_2_tdu_tpr.csv',\n",
       " 'both_counts_new_Tml_2_2_tdu_tpr.csv',\n",
       " 'both_counts_new_Tml_3_2_tdu_tpr.csv',\n",
       " 'both_counts_new_Tms_1_2_tdu_tpr.csv',\n",
       " 'both_counts_new_Tms_2_2_tdu_tpr.csv',\n",
       " 'both_counts_new_Tms_3_2_tdu_tpr.csv']"
      ]
     },
     "execution_count": 12,
     "metadata": {},
     "output_type": "execute_result"
    }
   ],
   "source": [
    "FileList"
   ]
  },
  {
   "cell_type": "code",
   "execution_count": 13,
   "metadata": {},
   "outputs": [],
   "source": [
    "col_name = \"_\".join(FileList[0].split(\"_\")[3:5])"
   ]
  },
  {
   "cell_type": "code",
   "execution_count": 14,
   "metadata": {},
   "outputs": [
    {
     "data": {
      "text/plain": [
       "'Tml_1'"
      ]
     },
     "execution_count": 14,
     "metadata": {},
     "output_type": "execute_result"
    }
   ],
   "source": [
    "col_name"
   ]
  },
  {
   "cell_type": "code",
   "execution_count": 15,
   "metadata": {},
   "outputs": [],
   "source": [
    "df = pd.read_csv(FileList[0])"
   ]
  },
  {
   "cell_type": "code",
   "execution_count": 16,
   "metadata": {},
   "outputs": [
    {
     "data": {
      "text/html": [
       "<div>\n",
       "<style scoped>\n",
       "    .dataframe tbody tr th:only-of-type {\n",
       "        vertical-align: middle;\n",
       "    }\n",
       "\n",
       "    .dataframe tbody tr th {\n",
       "        vertical-align: top;\n",
       "    }\n",
       "\n",
       "    .dataframe thead th {\n",
       "        text-align: right;\n",
       "    }\n",
       "</style>\n",
       "<table border=\"1\" class=\"dataframe\">\n",
       "  <thead>\n",
       "    <tr style=\"text-align: right;\">\n",
       "      <th></th>\n",
       "      <th>FUSION_ID</th>\n",
       "      <th>Count</th>\n",
       "    </tr>\n",
       "  </thead>\n",
       "  <tbody>\n",
       "    <tr>\n",
       "      <th>0</th>\n",
       "      <td>Tpr_TRINITY_DN11257_c2_g1|Tdu_TRINITY_DN16696_...</td>\n",
       "      <td>71</td>\n",
       "    </tr>\n",
       "    <tr>\n",
       "      <th>1</th>\n",
       "      <td>Tpr_TRINITY_DN10844_c2_g7|Tdu_TRINITY_DN25328_...</td>\n",
       "      <td>135</td>\n",
       "    </tr>\n",
       "    <tr>\n",
       "      <th>2</th>\n",
       "      <td>Tpr_TRINITY_DN15383_c4_g16|Tdu_TRINITY_DN14160...</td>\n",
       "      <td>26</td>\n",
       "    </tr>\n",
       "    <tr>\n",
       "      <th>3</th>\n",
       "      <td>Tpr_TRINITY_DN1451_c0_g1|Tdu_TRINITY_DN16990_c...</td>\n",
       "      <td>71</td>\n",
       "    </tr>\n",
       "    <tr>\n",
       "      <th>4</th>\n",
       "      <td>Tpr_TRINITY_DN10853_c1_g4|Tdu_TRINITY_DN21860_...</td>\n",
       "      <td>437</td>\n",
       "    </tr>\n",
       "  </tbody>\n",
       "</table>\n",
       "</div>"
      ],
      "text/plain": [
       "                                           FUSION_ID  Count\n",
       "0  Tpr_TRINITY_DN11257_c2_g1|Tdu_TRINITY_DN16696_...     71\n",
       "1  Tpr_TRINITY_DN10844_c2_g7|Tdu_TRINITY_DN25328_...    135\n",
       "2  Tpr_TRINITY_DN15383_c4_g16|Tdu_TRINITY_DN14160...     26\n",
       "3  Tpr_TRINITY_DN1451_c0_g1|Tdu_TRINITY_DN16990_c...     71\n",
       "4  Tpr_TRINITY_DN10853_c1_g4|Tdu_TRINITY_DN21860_...    437"
      ]
     },
     "execution_count": 16,
     "metadata": {},
     "output_type": "execute_result"
    }
   ],
   "source": [
    "df.head()"
   ]
  },
  {
   "cell_type": "code",
   "execution_count": 17,
   "metadata": {},
   "outputs": [],
   "source": [
    "df.rename(columns={\"FUSION_ID\":\"FUSION_ID\",\"Count\":col_name}, inplace=True)"
   ]
  },
  {
   "cell_type": "code",
   "execution_count": 18,
   "metadata": {},
   "outputs": [
    {
     "data": {
      "text/html": [
       "<div>\n",
       "<style scoped>\n",
       "    .dataframe tbody tr th:only-of-type {\n",
       "        vertical-align: middle;\n",
       "    }\n",
       "\n",
       "    .dataframe tbody tr th {\n",
       "        vertical-align: top;\n",
       "    }\n",
       "\n",
       "    .dataframe thead th {\n",
       "        text-align: right;\n",
       "    }\n",
       "</style>\n",
       "<table border=\"1\" class=\"dataframe\">\n",
       "  <thead>\n",
       "    <tr style=\"text-align: right;\">\n",
       "      <th></th>\n",
       "      <th>FUSION_ID</th>\n",
       "      <th>Tml_1</th>\n",
       "    </tr>\n",
       "  </thead>\n",
       "  <tbody>\n",
       "    <tr>\n",
       "      <th>0</th>\n",
       "      <td>Tpr_TRINITY_DN11257_c2_g1|Tdu_TRINITY_DN16696_...</td>\n",
       "      <td>71</td>\n",
       "    </tr>\n",
       "    <tr>\n",
       "      <th>1</th>\n",
       "      <td>Tpr_TRINITY_DN10844_c2_g7|Tdu_TRINITY_DN25328_...</td>\n",
       "      <td>135</td>\n",
       "    </tr>\n",
       "    <tr>\n",
       "      <th>2</th>\n",
       "      <td>Tpr_TRINITY_DN15383_c4_g16|Tdu_TRINITY_DN14160...</td>\n",
       "      <td>26</td>\n",
       "    </tr>\n",
       "    <tr>\n",
       "      <th>3</th>\n",
       "      <td>Tpr_TRINITY_DN1451_c0_g1|Tdu_TRINITY_DN16990_c...</td>\n",
       "      <td>71</td>\n",
       "    </tr>\n",
       "    <tr>\n",
       "      <th>4</th>\n",
       "      <td>Tpr_TRINITY_DN10853_c1_g4|Tdu_TRINITY_DN21860_...</td>\n",
       "      <td>437</td>\n",
       "    </tr>\n",
       "  </tbody>\n",
       "</table>\n",
       "</div>"
      ],
      "text/plain": [
       "                                           FUSION_ID  Tml_1\n",
       "0  Tpr_TRINITY_DN11257_c2_g1|Tdu_TRINITY_DN16696_...     71\n",
       "1  Tpr_TRINITY_DN10844_c2_g7|Tdu_TRINITY_DN25328_...    135\n",
       "2  Tpr_TRINITY_DN15383_c4_g16|Tdu_TRINITY_DN14160...     26\n",
       "3  Tpr_TRINITY_DN1451_c0_g1|Tdu_TRINITY_DN16990_c...     71\n",
       "4  Tpr_TRINITY_DN10853_c1_g4|Tdu_TRINITY_DN21860_...    437"
      ]
     },
     "execution_count": 18,
     "metadata": {},
     "output_type": "execute_result"
    }
   ],
   "source": [
    "df.head()"
   ]
  },
  {
   "cell_type": "code",
   "execution_count": 19,
   "metadata": {},
   "outputs": [],
   "source": [
    "for file in FileList[1:]:\n",
    "    col_name = \"_\".join(file.split(\"_\")[3:5])\n",
    "    temp_df = pd.read_csv(file)\n",
    "    temp_df.rename(columns={\"FUSION_ID\":\"FUSION_ID\",\"Count\":col_name}, inplace=True)\n",
    "    df = pd.merge(df, temp_df)"
   ]
  },
  {
   "cell_type": "code",
   "execution_count": 20,
   "metadata": {},
   "outputs": [
    {
     "data": {
      "text/html": [
       "<div>\n",
       "<style scoped>\n",
       "    .dataframe tbody tr th:only-of-type {\n",
       "        vertical-align: middle;\n",
       "    }\n",
       "\n",
       "    .dataframe tbody tr th {\n",
       "        vertical-align: top;\n",
       "    }\n",
       "\n",
       "    .dataframe thead th {\n",
       "        text-align: right;\n",
       "    }\n",
       "</style>\n",
       "<table border=\"1\" class=\"dataframe\">\n",
       "  <thead>\n",
       "    <tr style=\"text-align: right;\">\n",
       "      <th></th>\n",
       "      <th>FUSION_ID</th>\n",
       "      <th>Tml_1</th>\n",
       "      <th>Tml_2</th>\n",
       "      <th>Tml_3</th>\n",
       "      <th>Tms_1</th>\n",
       "      <th>Tms_2</th>\n",
       "      <th>Tms_3</th>\n",
       "    </tr>\n",
       "  </thead>\n",
       "  <tbody>\n",
       "    <tr>\n",
       "      <th>0</th>\n",
       "      <td>Tpr_TRINITY_DN11257_c2_g1|Tdu_TRINITY_DN16696_...</td>\n",
       "      <td>71</td>\n",
       "      <td>58</td>\n",
       "      <td>79</td>\n",
       "      <td>63</td>\n",
       "      <td>65</td>\n",
       "      <td>63</td>\n",
       "    </tr>\n",
       "    <tr>\n",
       "      <th>1</th>\n",
       "      <td>Tpr_TRINITY_DN10844_c2_g7|Tdu_TRINITY_DN25328_...</td>\n",
       "      <td>135</td>\n",
       "      <td>137</td>\n",
       "      <td>111</td>\n",
       "      <td>130</td>\n",
       "      <td>154</td>\n",
       "      <td>195</td>\n",
       "    </tr>\n",
       "    <tr>\n",
       "      <th>2</th>\n",
       "      <td>Tpr_TRINITY_DN15383_c4_g16|Tdu_TRINITY_DN14160...</td>\n",
       "      <td>26</td>\n",
       "      <td>20</td>\n",
       "      <td>9</td>\n",
       "      <td>11</td>\n",
       "      <td>30</td>\n",
       "      <td>21</td>\n",
       "    </tr>\n",
       "    <tr>\n",
       "      <th>3</th>\n",
       "      <td>Tpr_TRINITY_DN1451_c0_g1|Tdu_TRINITY_DN16990_c...</td>\n",
       "      <td>71</td>\n",
       "      <td>38</td>\n",
       "      <td>47</td>\n",
       "      <td>32</td>\n",
       "      <td>43</td>\n",
       "      <td>76</td>\n",
       "    </tr>\n",
       "    <tr>\n",
       "      <th>4</th>\n",
       "      <td>Tpr_TRINITY_DN10853_c1_g4|Tdu_TRINITY_DN21860_...</td>\n",
       "      <td>437</td>\n",
       "      <td>337</td>\n",
       "      <td>388</td>\n",
       "      <td>362</td>\n",
       "      <td>405</td>\n",
       "      <td>497</td>\n",
       "    </tr>\n",
       "  </tbody>\n",
       "</table>\n",
       "</div>"
      ],
      "text/plain": [
       "                                           FUSION_ID  Tml_1  ...    Tms_2  Tms_3\n",
       "0  Tpr_TRINITY_DN11257_c2_g1|Tdu_TRINITY_DN16696_...     71  ...       65     63\n",
       "1  Tpr_TRINITY_DN10844_c2_g7|Tdu_TRINITY_DN25328_...    135  ...      154    195\n",
       "2  Tpr_TRINITY_DN15383_c4_g16|Tdu_TRINITY_DN14160...     26  ...       30     21\n",
       "3  Tpr_TRINITY_DN1451_c0_g1|Tdu_TRINITY_DN16990_c...     71  ...       43     76\n",
       "4  Tpr_TRINITY_DN10853_c1_g4|Tdu_TRINITY_DN21860_...    437  ...      405    497\n",
       "\n",
       "[5 rows x 7 columns]"
      ]
     },
     "execution_count": 20,
     "metadata": {},
     "output_type": "execute_result"
    }
   ],
   "source": [
    "df.head()"
   ]
  },
  {
   "cell_type": "code",
   "execution_count": 23,
   "metadata": {},
   "outputs": [],
   "source": [
    "df.to_csv(\"DESeq2_count_matrix_Tml_Tms.csv\", index=False)"
   ]
  },
  {
   "cell_type": "code",
   "execution_count": null,
   "metadata": {},
   "outputs": [],
   "source": []
  }
 ],
 "metadata": {
  "kernelspec": {
   "display_name": "Python 3.6. (full)",
   "language": "python",
   "name": "python3-3.6-ufrc"
  },
  "language_info": {
   "codemirror_mode": {
    "name": "ipython",
    "version": 3
   },
   "file_extension": ".py",
   "mimetype": "text/x-python",
   "name": "python",
   "nbconvert_exporter": "python",
   "pygments_lexer": "ipython3",
   "version": "3.6.5"
  }
 },
 "nbformat": 4,
 "nbformat_minor": 4
}
