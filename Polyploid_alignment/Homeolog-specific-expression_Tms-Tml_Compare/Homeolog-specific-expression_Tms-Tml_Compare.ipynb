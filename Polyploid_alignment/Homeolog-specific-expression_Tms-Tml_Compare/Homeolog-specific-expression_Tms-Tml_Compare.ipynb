{
 "cells": [
  {
   "cell_type": "code",
   "execution_count": 1,
   "metadata": {},
   "outputs": [],
   "source": [
    "import pandas as pd\n",
    "import os"
   ]
  },
  {
   "cell_type": "code",
   "execution_count": 2,
   "metadata": {},
   "outputs": [],
   "source": [
    "os.chdir(\"/ufrc/soltis/shan158538/TragFL_NewAnalysis/OutPut/Polyploid_alignment/Homeolog-specific-expression_Tms-Tml_Compare/\")"
   ]
  },
  {
   "cell_type": "code",
   "execution_count": 3,
   "metadata": {},
   "outputs": [],
   "source": [
    "## Input files from Tms\n",
    "Tms_unbias = pd.read_table(\"bayes_flag_sig_Tms_for_UR_unbias.csv\", sep = \",\", header = None, index_col = False)\n",
    "Tms_biasTdu = pd.read_table(\"bayes_flag_sig_Tms_for_UR_bias_Tdu.csv\", sep = \",\", header = None, index_col = False)\n",
    "Tms_biasTpr = pd.read_table(\"bayes_flag_sig_Tms_for_UR_bias_Tpr.csv\", sep = \",\", header = None, index_col = False)"
   ]
  },
  {
   "cell_type": "code",
   "execution_count": 4,
   "metadata": {},
   "outputs": [],
   "source": [
    "## Input files from Tml\n",
    "Tml_unbias = pd.read_table(\"bayes_flag_sig_Tml_for_UR_unbias.csv\", sep = \",\", header = None, index_col = False)\n",
    "Tml_biasTdu = pd.read_table(\"bayes_flag_sig_Tml_for_UR_bias_Tdu.csv\", sep = \",\", header = None, index_col = False)\n",
    "Tml_biasTpr = pd.read_table(\"bayes_flag_sig_Tml_for_UR_bias_Tpr.csv\", sep = \",\", header = None, index_col = False)"
   ]
  },
  {
   "cell_type": "code",
   "execution_count": 5,
   "metadata": {},
   "outputs": [],
   "source": [
    "## Find intersections for Tms unbias\n",
    "Intersection_Tms_unbias_Tml_unbias = pd.merge(Tms_unbias, Tml_unbias, how='inner', on=[0])\n",
    "Intersection_Tms_unbias_Tml_biasTdu = pd.merge(Tms_unbias, Tml_biasTdu, how='inner', on=[0])\n",
    "Intersection_Tms_unbias_Tml_biasTpr = pd.merge(Tms_unbias, Tml_biasTpr, how='inner', on=[0])"
   ]
  },
  {
   "cell_type": "code",
   "execution_count": 6,
   "metadata": {},
   "outputs": [],
   "source": [
    "## Find intersections for Tms_biasTdu\n",
    "Intersection_Tms_biasTdu_Tml_unbias = pd.merge(Tms_biasTdu, Tml_unbias, how='inner', on=[0])\n",
    "Intersection_Tms_biasTdu_Tml_biasTdu = pd.merge(Tms_biasTdu, Tml_biasTdu, how='inner', on=[0])\n",
    "Intersection_Tms_biasTdu_Tml_biasTpr = pd.merge(Tms_biasTdu, Tml_biasTpr, how='inner', on=[0])"
   ]
  },
  {
   "cell_type": "code",
   "execution_count": 7,
   "metadata": {},
   "outputs": [],
   "source": [
    "## Find intersections for Tms_biasTpr\n",
    "Intersection_Tms_biasTpr_Tml_unbias = pd.merge(Tms_biasTpr, Tml_unbias, how='inner', on=[0])\n",
    "Intersection_Tms_biasTpr_Tml_biasTdu = pd.merge(Tms_biasTpr, Tml_biasTdu, how='inner', on=[0])\n",
    "Intersection_Tms_biasTpr_Tml_biasTpr = pd.merge(Tms_biasTpr, Tml_biasTpr, how='inner', on=[0])"
   ]
  },
  {
   "cell_type": "code",
   "execution_count": 8,
   "metadata": {},
   "outputs": [],
   "source": [
    "## Output csv files\n",
    "Intersection_Tms_unbias_Tml_unbias[0].to_csv(\"Intersection_Tms_unbias_Tml_unbias.csv\", index=False)\n",
    "Intersection_Tms_unbias_Tml_biasTdu[0].to_csv(\"Intersection_Tms_unbias_Tml_biasTdu.csv\", index=False)\n",
    "Intersection_Tms_unbias_Tml_biasTpr[0].to_csv(\"Intersection_Tms_unbias_Tml_biasTpr.csv\", index=False)\n",
    "\n",
    "Intersection_Tms_biasTdu_Tml_unbias[0].to_csv(\"Intersection_Tms_biasTdu_Tml_unbias.csv\", index=False)\n",
    "Intersection_Tms_biasTdu_Tml_biasTdu[0].to_csv(\"Intersection_Tms_biasTdu_Tml_biasTdu.csv\", index=False)\n",
    "Intersection_Tms_biasTdu_Tml_biasTpr[0].to_csv(\"Intersection_Tms_biasTdu_Tml_biasTpr.csv\", index=False)\n",
    "\n",
    "Intersection_Tms_biasTpr_Tml_unbias[0].to_csv(\"Intersection_Tms_biasTpr_Tml_unbias.csv\", index=False)\n",
    "Intersection_Tms_biasTpr_Tml_biasTdu[0].to_csv(\"Intersection_Tms_biasTpr_Tml_biasTdu.csv\", index=False)\n",
    "Intersection_Tms_biasTpr_Tml_biasTpr[0].to_csv(\"Intersection_Tms_biasTpr_Tml_biasTpr.csv\", index=False)"
   ]
  },
  {
   "cell_type": "code",
   "execution_count": null,
   "metadata": {},
   "outputs": [],
   "source": []
  }
 ],
 "metadata": {
  "kernelspec": {
   "display_name": "Python 3.6. (full)",
   "language": "python",
   "name": "python3-3.6-ufrc"
  },
  "language_info": {
   "codemirror_mode": {
    "name": "ipython",
    "version": 3
   },
   "file_extension": ".py",
   "mimetype": "text/x-python",
   "name": "python",
   "nbconvert_exporter": "python",
   "pygments_lexer": "ipython3",
   "version": "3.6.5"
  }
 },
 "nbformat": 4,
 "nbformat_minor": 4
}
