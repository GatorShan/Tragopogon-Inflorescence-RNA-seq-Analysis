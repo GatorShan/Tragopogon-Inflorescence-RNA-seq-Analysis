{
 "cells": [
  {
   "cell_type": "markdown",
   "metadata": {},
   "source": [
    "## Fisher's exact test of the percentage of organelle-targeted loci\n",
    "### 449 loci with lineage-specific biased homeolog expression toward the maternal parent\n",
    "  - 32 loci are organelle-targeted\n",
    "  - 417 loci are not organelle-targeted\n",
    "\n",
    "### Background\n",
    "  - 458 loci are organelle-targeted\n",
    "  - 4,517 loci are not organelle-targeted"
   ]
  },
  {
   "cell_type": "code",
   "execution_count": 1,
   "metadata": {},
   "outputs": [
    {
     "data": {
      "text/html": [
       "<table>\n",
       "<caption>A matrix: 2 × 2 of type dbl</caption>\n",
       "<thead>\n",
       "\t<tr><th></th><th scope=col>449 loci</th><th scope=col>Background</th></tr>\n",
       "</thead>\n",
       "<tbody>\n",
       "\t<tr><th scope=row>Organelle-targeted</th><td> 32</td><td> 458</td></tr>\n",
       "\t<tr><th scope=row>Not organelle-targeted</th><td>417</td><td>4517</td></tr>\n",
       "</tbody>\n",
       "</table>\n"
      ],
      "text/latex": [
       "A matrix: 2 × 2 of type dbl\n",
       "\\begin{tabular}{r|ll}\n",
       "  & 449 loci & Background\\\\\n",
       "\\hline\n",
       "\tOrganelle-targeted &  32 &  458\\\\\n",
       "\tNot organelle-targeted & 417 & 4517\\\\\n",
       "\\end{tabular}\n"
      ],
      "text/markdown": [
       "\n",
       "A matrix: 2 × 2 of type dbl\n",
       "\n",
       "| <!--/--> | 449 loci | Background |\n",
       "|---|---|---|\n",
       "| Organelle-targeted |  32 |  458 |\n",
       "| Not organelle-targeted | 417 | 4517 |\n",
       "\n"
      ],
      "text/plain": [
       "                       449 loci Background\n",
       "Organelle-targeted      32       458      \n",
       "Not organelle-targeted 417      4517      "
      ]
     },
     "metadata": {},
     "output_type": "display_data"
    },
    {
     "data": {
      "text/plain": [
       "\n",
       "\tFisher's Exact Test for Count Data\n",
       "\n",
       "data:  data\n",
       "p-value = 0.1684\n",
       "alternative hypothesis: true odds ratio is not equal to 1\n",
       "95 percent confidence interval:\n",
       " 0.5045066 1.1014866\n",
       "sample estimates:\n",
       "odds ratio \n",
       " 0.7568664 \n"
      ]
     },
     "metadata": {},
     "output_type": "display_data"
    }
   ],
   "source": [
    "data<-matrix(c(32,417,458,4517),ncol=2)\n",
    "colnames(data) <- c(\"449 loci\", \"Background\")\n",
    "rownames(data) <- c(\"Organelle-targeted\", \"Not organelle-targeted\")\n",
    "data\n",
    "fisher.test(data,alternative=\"two.sided\")"
   ]
  },
  {
   "cell_type": "code",
   "execution_count": null,
   "metadata": {},
   "outputs": [],
   "source": []
  }
 ],
 "metadata": {
  "kernelspec": {
   "display_name": "R 3.6 (full)",
   "language": "R",
   "name": "ir-ufrc-3.6"
  },
  "language_info": {
   "codemirror_mode": "r",
   "file_extension": ".r",
   "mimetype": "text/x-r-source",
   "name": "R",
   "pygments_lexer": "r",
   "version": "3.6.3"
  }
 },
 "nbformat": 4,
 "nbformat_minor": 4
}
