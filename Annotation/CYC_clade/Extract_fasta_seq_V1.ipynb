{
 "cells": [
  {
   "cell_type": "code",
   "execution_count": 1,
   "metadata": {},
   "outputs": [],
   "source": [
    "from Bio import SeqIO\n",
    "import os"
   ]
  },
  {
   "cell_type": "code",
   "execution_count": 2,
   "metadata": {},
   "outputs": [],
   "source": [
    "os.chdir(\"/ufrc/soltis/shan158538/TragFL_NewAnalysis/OutPut/CYC2_TB1/\")"
   ]
  },
  {
   "cell_type": "code",
   "execution_count": 3,
   "metadata": {},
   "outputs": [],
   "source": [
    "fasta_file = \"SuperTranscript_Tdu.fasta\" # Input fasta file\n",
    "wanted_file = \"OrthologousPair_11863_Tdu.txt\" # Input interesting sequence IDs, one per line\n",
    "result_file = \"SuperTranscript_Tdu_11863.fasta\" # Output fasta file\n",
    "\n",
    "wanted = set()\n",
    "with open(wanted_file) as f:\n",
    "    for line in f:\n",
    "        line = line.strip()\n",
    "        if line != \"\":\n",
    "            wanted.add(line)\n",
    "\n",
    "fasta_sequences = SeqIO.parse(open(fasta_file),'fasta')\n",
    "with open(result_file, \"w\") as f:\n",
    "    for seq in fasta_sequences:\n",
    "        if seq.id in wanted:\n",
    "            SeqIO.write([seq], f, \"fasta\")"
   ]
  },
  {
   "cell_type": "code",
   "execution_count": null,
   "metadata": {},
   "outputs": [],
   "source": []
  }
 ],
 "metadata": {
  "kernelspec": {
   "display_name": "Python 3.6. (full)",
   "language": "python",
   "name": "python3-3.6-ufrc"
  },
  "language_info": {
   "codemirror_mode": {
    "name": "ipython",
    "version": 3
   },
   "file_extension": ".py",
   "mimetype": "text/x-python",
   "name": "python",
   "nbconvert_exporter": "python",
   "pygments_lexer": "ipython3",
   "version": "3.6.5"
  }
 },
 "nbformat": 4,
 "nbformat_minor": 4
}
